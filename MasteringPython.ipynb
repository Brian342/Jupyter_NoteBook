{
 "cells": [
  {
   "cell_type": "code",
   "execution_count": null,
   "id": "622cf7a6-1198-49fd-a1c5-794742e79b34",
   "metadata": {},
   "outputs": [],
   "source": [
    "# This is python tutorial"
   ]
  },
  {
   "cell_type": "markdown",
   "id": "50509736-a05c-4727-9be9-7976679aa91a",
   "metadata": {},
   "source": [
    "This is our first program in python: it is just started here"
   ]
  },
  {
   "cell_type": "code",
   "execution_count": 1,
   "id": "46b406e9-e574-441f-b853-480ad1dadc08",
   "metadata": {},
   "outputs": [
    {
     "name": "stdout",
     "output_type": "stream",
     "text": [
      "Hello Brian I believe you are the best\n"
     ]
    }
   ],
   "source": [
    "print(\"Hello Brian I believe you are the best\")"
   ]
  },
  {
   "cell_type": "markdown",
   "id": "f64fc8b7-a625-446c-88f2-70eaeaaba710",
   "metadata": {},
   "source": [
    "$a=b+c$"
   ]
  },
  {
   "cell_type": "code",
   "execution_count": 2,
   "id": "89e0a44e-ede2-4bc0-b0ab-bf0cd87b85e3",
   "metadata": {},
   "outputs": [
    {
     "ename": "SyntaxError",
     "evalue": "invalid syntax (943913250.py, line 1)",
     "output_type": "error",
     "traceback": [
      "\u001b[0;36m  Cell \u001b[0;32mIn[2], line 1\u001b[0;36m\u001b[0m\n\u001b[0;31m    $a=b+$c\u001b[0m\n\u001b[0m    ^\u001b[0m\n\u001b[0;31mSyntaxError\u001b[0m\u001b[0;31m:\u001b[0m invalid syntax\n"
     ]
    }
   ],
   "source": [
    " $a=b+$c"
   ]
  },
  {
   "cell_type": "code",
   "execution_count": 3,
   "id": "60ee5583-05a9-475e-b768-dd700121174a",
   "metadata": {},
   "outputs": [
    {
     "ename": "SyntaxError",
     "evalue": "invalid syntax (500255100.py, line 1)",
     "output_type": "error",
     "traceback": [
      "\u001b[0;36m  Cell \u001b[0;32mIn[3], line 1\u001b[0;36m\u001b[0m\n\u001b[0;31m    a$=b+$c\u001b[0m\n\u001b[0m     ^\u001b[0m\n\u001b[0;31mSyntaxError\u001b[0m\u001b[0;31m:\u001b[0m invalid syntax\n"
     ]
    }
   ],
   "source": [
    "a$=b+$c"
   ]
  },
  {
   "cell_type": "code",
   "execution_count": 4,
   "id": "1de03bf0-5ce0-4cbc-8525-8f1f1223bb92",
   "metadata": {},
   "outputs": [],
   "source": [
    "exit()"
   ]
  },
  {
   "cell_type": "code",
   "execution_count": 2,
   "id": "e066d647-d3ea-4144-ba64-63a0efe4a1c6",
   "metadata": {},
   "outputs": [],
   "source": [
    "# Variable \n"
   ]
  },
  {
   "cell_type": "code",
   "execution_count": 3,
   "id": "40540a0c-2b2e-4fc5-8846-c7f62f49389a",
   "metadata": {},
   "outputs": [],
   "source": [
    "x = 3"
   ]
  },
  {
   "cell_type": "code",
   "execution_count": 4,
   "id": "0785803b-6226-4043-9e76-63792e57edc0",
   "metadata": {},
   "outputs": [
    {
     "name": "stdout",
     "output_type": "stream",
     "text": [
      "Variable   Type    Data/Info\n",
      "----------------------------\n",
      "x          int     3\n"
     ]
    }
   ],
   "source": [
    "%whos"
   ]
  },
  {
   "cell_type": "code",
   "execution_count": 5,
   "id": "1f8378bf-c1d6-4ae9-aae9-758c60534650",
   "metadata": {},
   "outputs": [
    {
     "name": "stdout",
     "output_type": "stream",
     "text": [
      "<class 'int'>\n"
     ]
    }
   ],
   "source": [
    "print(type(x))"
   ]
  },
  {
   "cell_type": "code",
   "execution_count": 6,
   "id": "98dbdd27-06c6-466a-9f6c-b79fe3c020f5",
   "metadata": {},
   "outputs": [],
   "source": [
    "x = 5.7"
   ]
  },
  {
   "cell_type": "code",
   "execution_count": 7,
   "id": "4f44075b-d9c8-4d13-bf6f-9d7658e1853e",
   "metadata": {},
   "outputs": [
    {
     "name": "stdout",
     "output_type": "stream",
     "text": [
      "Variable   Type     Data/Info\n",
      "-----------------------------\n",
      "x          float    5.7\n"
     ]
    }
   ],
   "source": [
    "%whos"
   ]
  },
  {
   "cell_type": "code",
   "execution_count": 8,
   "id": "967562e1-0b17-45c1-9029-f01f1885d5fc",
   "metadata": {},
   "outputs": [
    {
     "name": "stdout",
     "output_type": "stream",
     "text": [
      "<class 'float'>\n"
     ]
    }
   ],
   "source": [
    "print(type(x))"
   ]
  },
  {
   "cell_type": "code",
   "execution_count": 9,
   "id": "6d91e52d-4b21-4147-be1e-b4849bf0a17b",
   "metadata": {},
   "outputs": [],
   "source": [
    "a,b,c,d,f = 3,5,6,7,8.6"
   ]
  },
  {
   "cell_type": "code",
   "execution_count": 10,
   "id": "e919b36c-2633-4403-935e-a9c97075cf0c",
   "metadata": {},
   "outputs": [
    {
     "ename": "TypeError",
     "evalue": "type() takes 1 or 3 arguments",
     "output_type": "error",
     "traceback": [
      "\u001b[0;31m---------------------------------------------------------------------------\u001b[0m",
      "\u001b[0;31mTypeError\u001b[0m                                 Traceback (most recent call last)",
      "Cell \u001b[0;32mIn[10], line 1\u001b[0m\n\u001b[0;32m----> 1\u001b[0m \u001b[38;5;28mprint\u001b[39m(\u001b[38;5;28;43mtype\u001b[39;49m\u001b[43m(\u001b[49m\u001b[43ma\u001b[49m\u001b[43m,\u001b[49m\u001b[43mb\u001b[49m\u001b[43m,\u001b[49m\u001b[43mc\u001b[49m\u001b[43m,\u001b[49m\u001b[43md\u001b[49m\u001b[43m,\u001b[49m\u001b[43mf\u001b[49m\u001b[43m)\u001b[49m)\n",
      "\u001b[0;31mTypeError\u001b[0m: type() takes 1 or 3 arguments"
     ]
    }
   ],
   "source": [
    "print(type(a,b,c,d,f))"
   ]
  },
  {
   "cell_type": "code",
   "execution_count": 11,
   "id": "a8b80af8-a8b9-4d9a-8627-9b99d0c3794b",
   "metadata": {},
   "outputs": [
    {
     "ename": "TypeError",
     "evalue": "type.__new__() argument 1 must be str, not int",
     "output_type": "error",
     "traceback": [
      "\u001b[0;31m---------------------------------------------------------------------------\u001b[0m",
      "\u001b[0;31mTypeError\u001b[0m                                 Traceback (most recent call last)",
      "Cell \u001b[0;32mIn[11], line 1\u001b[0m\n\u001b[0;32m----> 1\u001b[0m \u001b[38;5;28mprint\u001b[39m(\u001b[38;5;28;43mtype\u001b[39;49m\u001b[43m(\u001b[49m\u001b[43ma\u001b[49m\u001b[43m,\u001b[49m\u001b[43mb\u001b[49m\u001b[43m,\u001b[49m\u001b[43mc\u001b[49m\u001b[43m)\u001b[49m)\n",
      "\u001b[0;31mTypeError\u001b[0m: type.__new__() argument 1 must be str, not int"
     ]
    }
   ],
   "source": [
    "print(type(a,b,c))"
   ]
  },
  {
   "cell_type": "code",
   "execution_count": 12,
   "id": "7f5900f9-804a-400b-ae1e-5f17f4d4d775",
   "metadata": {},
   "outputs": [
    {
     "name": "stdout",
     "output_type": "stream",
     "text": [
      "Variable   Type     Data/Info\n",
      "-----------------------------\n",
      "a          int      3\n",
      "b          int      5\n",
      "c          int      6\n",
      "d          int      7\n",
      "f          float    8.6\n",
      "x          float    5.7\n"
     ]
    }
   ],
   "source": [
    "%whos"
   ]
  },
  {
   "cell_type": "code",
   "execution_count": 13,
   "id": "e56e3d41-8830-4f40-b6f9-d6b5c1526466",
   "metadata": {},
   "outputs": [
    {
     "name": "stdout",
     "output_type": "stream",
     "text": [
      "<class 'int'>\n"
     ]
    }
   ],
   "source": [
    "print(type(a))"
   ]
  },
  {
   "cell_type": "code",
   "execution_count": 14,
   "id": "c8913a91-cf04-46f8-9176-abb2b0aed3a9",
   "metadata": {},
   "outputs": [
    {
     "name": "stdout",
     "output_type": "stream",
     "text": [
      "<class 'float'>\n"
     ]
    }
   ],
   "source": [
    "print(type(f))"
   ]
  },
  {
   "cell_type": "code",
   "execution_count": 15,
   "id": "26c6e676-38a0-48b1-aad6-f2c0e60868f1",
   "metadata": {},
   "outputs": [],
   "source": [
    "del a,b,c"
   ]
  },
  {
   "cell_type": "code",
   "execution_count": 16,
   "id": "781394ae-2e25-4a45-9374-91a3f46eea51",
   "metadata": {},
   "outputs": [],
   "source": [
    "c = 2 + 4j"
   ]
  },
  {
   "cell_type": "code",
   "execution_count": 17,
   "id": "8853a00f-ae92-4387-8f0a-70c7e7454bcb",
   "metadata": {},
   "outputs": [
    {
     "name": "stdout",
     "output_type": "stream",
     "text": [
      "<class 'complex'>\n"
     ]
    }
   ],
   "source": [
    "print(type(c))"
   ]
  },
  {
   "cell_type": "markdown",
   "id": "855616a1-8bc4-437e-bdab-7d3df9c3dd72",
   "metadata": {},
   "source": [
    "# Operators "
   ]
  },
  {
   "cell_type": "code",
   "execution_count": 18,
   "id": "570404a1-d79d-46ab-b576-9a373318edb8",
   "metadata": {},
   "outputs": [
    {
     "name": "stdout",
     "output_type": "stream",
     "text": [
      "Variable   Type       Data/Info\n",
      "-------------------------------\n",
      "c          complex    (2+4j)\n",
      "d          int        7\n",
      "f          float      8.6\n",
      "x          float      5.7\n"
     ]
    }
   ],
   "source": [
    "%whos"
   ]
  },
  {
   "cell_type": "code",
   "execution_count": 20,
   "id": "765dc128-3a22-46c9-81da-66001a7caea1",
   "metadata": {},
   "outputs": [
    {
     "name": "stdout",
     "output_type": "stream",
     "text": [
      "(9+4j)\n"
     ]
    }
   ],
   "source": [
    "sum_cd = c + d\n",
    "print(sum_cd)"
   ]
  },
  {
   "cell_type": "code",
   "execution_count": 21,
   "id": "57a542f1-ceac-4e96-a242-5a56af7abb6c",
   "metadata": {},
   "outputs": [
    {
     "name": "stdout",
     "output_type": "stream",
     "text": [
      "(9+4j)\n"
     ]
    }
   ],
   "source": [
    "print(sum_cd)"
   ]
  },
  {
   "cell_type": "code",
   "execution_count": 23,
   "id": "bff5c1ea-057e-4b36-bf06-c0d4f5498be9",
   "metadata": {},
   "outputs": [
    {
     "name": "stdout",
     "output_type": "stream",
     "text": [
      "Brian Hello\n"
     ]
    }
   ],
   "source": [
    "s1 = \"Hello\"\n",
    "s2 = \"Brian \"\n",
    "s = s2 + s1\n",
    "print(s)"
   ]
  },
  {
   "cell_type": "markdown",
   "id": "1efe3f61-49b1-4ca8-bbff-fd15c5735100",
   "metadata": {},
   "source": [
    "# Bool"
   ]
  },
  {
   "cell_type": "code",
   "execution_count": 34,
   "id": "a641dd63-3715-4167-80c5-6b3ba7f61d47",
   "metadata": {},
   "outputs": [],
   "source": [
    "a = True\n",
    "b = True\n",
    "c = False"
   ]
  },
  {
   "cell_type": "code",
   "execution_count": 32,
   "id": "00a31560-d9e6-405a-8489-bafd6aba36da",
   "metadata": {},
   "outputs": [
    {
     "name": "stdout",
     "output_type": "stream",
     "text": [
      "Variable   Type       Data/Info\n",
      "-------------------------------\n",
      "a          bool       True\n",
      "b          bool       True\n",
      "c          bool       True\n",
      "d          int        7\n",
      "f          float      8.6\n",
      "s          str        Brian Hello\n",
      "s1         str        Hello\n",
      "s2         str        Brian \n",
      "sum_cd     complex    (9+4j)\n",
      "x          float      5.7\n"
     ]
    }
   ],
   "source": [
    "%whos"
   ]
  },
  {
   "cell_type": "code",
   "execution_count": 35,
   "id": "c9403632-aead-4d27-ba7b-5c81933ae40a",
   "metadata": {},
   "outputs": [
    {
     "name": "stdout",
     "output_type": "stream",
     "text": [
      "True\n",
      "False\n",
      "False\n"
     ]
    }
   ],
   "source": [
    "print (a and b)\n",
    "print(a and c)\n",
    "print(c and b)"
   ]
  },
  {
   "cell_type": "code",
   "execution_count": 36,
   "id": "2cab5490-ee5b-4617-a5a4-c5a05e9ecae4",
   "metadata": {},
   "outputs": [
    {
     "name": "stdout",
     "output_type": "stream",
     "text": [
      "True\n"
     ]
    }
   ],
   "source": [
    "d = a or c\n",
    "print(d)"
   ]
  },
  {
   "cell_type": "code",
   "execution_count": 37,
   "id": "aceb298b-37a2-43b7-87c5-89583dee75e0",
   "metadata": {},
   "outputs": [
    {
     "ename": "SyntaxError",
     "evalue": "invalid syntax (2613738821.py, line 1)",
     "output_type": "error",
     "traceback": [
      "\u001b[0;36m  Cell \u001b[0;32mIn[37], line 1\u001b[0;36m\u001b[0m\n\u001b[0;31m    or(a)\u001b[0m\n\u001b[0m    ^\u001b[0m\n\u001b[0;31mSyntaxError\u001b[0m\u001b[0;31m:\u001b[0m invalid syntax\n"
     ]
    }
   ],
   "source": [
    "or(a)"
   ]
  },
  {
   "cell_type": "code",
   "execution_count": 38,
   "id": "f09aa558-3318-4717-b395-9766e3fc8ec7",
   "metadata": {},
   "outputs": [
    {
     "data": {
      "text/plain": [
       "False"
      ]
     },
     "execution_count": 38,
     "metadata": {},
     "output_type": "execute_result"
    }
   ],
   "source": [
    "not(a)"
   ]
  },
  {
   "cell_type": "code",
   "execution_count": 39,
   "id": "434760c0-eac0-4284-89b3-fd77597b9c29",
   "metadata": {},
   "outputs": [
    {
     "data": {
      "text/plain": [
       "False"
      ]
     },
     "execution_count": 39,
     "metadata": {},
     "output_type": "execute_result"
    }
   ],
   "source": [
    "not((a and b) or (c or d))"
   ]
  },
  {
   "cell_type": "markdown",
   "id": "174a71db-82d1-43e5-8b7d-8ed77c96f719",
   "metadata": {},
   "source": [
    "# Comparisons"
   ]
  },
  {
   "cell_type": "code",
   "execution_count": 40,
   "id": "205227f3-429d-48d0-856e-9ad493cd2071",
   "metadata": {},
   "outputs": [
    {
     "name": "stdout",
     "output_type": "stream",
     "text": [
      "True\n"
     ]
    }
   ],
   "source": [
    "print(2<3)"
   ]
  },
  {
   "cell_type": "code",
   "execution_count": 42,
   "id": "15439ddd-5986-47a8-81e6-fed42f4316d6",
   "metadata": {},
   "outputs": [
    {
     "data": {
      "text/plain": [
       "True"
      ]
     },
     "execution_count": 42,
     "metadata": {},
     "output_type": "execute_result"
    }
   ],
   "source": [
    "False and False or True"
   ]
  },
  {
   "cell_type": "code",
   "execution_count": 43,
   "id": "f4d39bfb-12d2-4a60-b4bc-6d54f19467b0",
   "metadata": {},
   "outputs": [
    {
     "name": "stdout",
     "output_type": "stream",
     "text": [
      "False\n"
     ]
    }
   ],
   "source": [
    "print((not(2!=3)and True)or(False and True))"
   ]
  },
  {
   "cell_type": "code",
   "execution_count": 44,
   "id": "8e31d64d-9c1a-4095-aeea-9e0360c630fa",
   "metadata": {},
   "outputs": [
    {
     "name": "stdout",
     "output_type": "stream",
     "text": [
      "4\n"
     ]
    }
   ],
   "source": [
    "print(round(4.345))"
   ]
  },
  {
   "cell_type": "code",
   "execution_count": 50,
   "id": "5f799ec4-daa4-4900-863f-51e4220d0af0",
   "metadata": {},
   "outputs": [
    {
     "name": "stdout",
     "output_type": "stream",
     "text": [
      "4.6\n"
     ]
    }
   ],
   "source": [
    "print(round(4.556789,\n",
    "            1))"
   ]
  },
  {
   "cell_type": "code",
   "execution_count": 51,
   "id": "25714a2e-4b9c-49a8-8dee-0a0c5ab4e51f",
   "metadata": {},
   "outputs": [
    {
     "data": {
      "text/plain": [
       "'divmod(x,y) outputs the quatient and the remainder in a tuple()divmod(27,5)'"
      ]
     },
     "execution_count": 51,
     "metadata": {},
     "output_type": "execute_result"
    }
   ],
   "source": [
    "\"\"\"divmod(x,y) outputs the quatient and the remainder in a tuple()divmod(27,5)\"\"\" "
   ]
  },
  {
   "cell_type": "code",
   "execution_count": 53,
   "id": "844b0efb-28bf-48fd-ac04-45b61bffd6b4",
   "metadata": {},
   "outputs": [
    {
     "name": "stdout",
     "output_type": "stream",
     "text": [
      "(3, 7)\n"
     ]
    }
   ],
   "source": [
    "g = divmod(34,9)\n",
    "print(g)"
   ]
  },
  {
   "cell_type": "code",
   "execution_count": 57,
   "id": "6cf88417-127b-4867-8e83-1f028820e8e1",
   "metadata": {},
   "outputs": [
    {
     "name": "stdout",
     "output_type": "stream",
     "text": [
      "the value of g is 3\n",
      "the value of f is 7\n"
     ]
    }
   ],
   "source": [
    "g = 34//9\n",
    "f = 34 % 9\n",
    "print(f'the value of g is {g}')\n",
    "print(f'the value of f is {f}')"
   ]
  },
  {
   "cell_type": "code",
   "execution_count": 58,
   "id": "5838b0f7-f193-4681-8b0f-2e3f34aa65bb",
   "metadata": {},
   "outputs": [
    {
     "data": {
      "text/plain": [
       "'Isinstane()returns true, if the first argument is an instance of that class. Multiple classes can also be checked at once'"
      ]
     },
     "execution_count": 58,
     "metadata": {},
     "output_type": "execute_result"
    }
   ],
   "source": [
    "\"\"\"Isinstane()returns true, if the first argument is an instance of that class.\n",
    "Multiple classes can also be checked at once\"\"\""
   ]
  },
  {
   "cell_type": "code",
   "execution_count": 64,
   "id": "b03df46c-6b09-40d3-b718-9442856deec5",
   "metadata": {},
   "outputs": [
    {
     "name": "stdout",
     "output_type": "stream",
     "text": [
      "True\n"
     ]
    }
   ],
   "source": [
    "d = isinstance(3,int)\n",
    "print(d)"
   ]
  },
  {
   "cell_type": "code",
   "execution_count": 67,
   "id": "5bf7715b-9f13-4a95-92e0-3276311e1031",
   "metadata": {},
   "outputs": [
    {
     "data": {
      "text/plain": [
       "True"
      ]
     },
     "execution_count": 67,
     "metadata": {},
     "output_type": "execute_result"
    }
   ],
   "source": [
    "isinstance(2+3j,(int,float,complex))"
   ]
  },
  {
   "cell_type": "code",
   "execution_count": 66,
   "id": "42745a13-e152-4205-a5da-1867b4a13274",
   "metadata": {},
   "outputs": [
    {
     "data": {
      "text/plain": [
       "False"
      ]
     },
     "execution_count": 66,
     "metadata": {},
     "output_type": "execute_result"
    }
   ],
   "source": [
    "isinstance(3.4,int)"
   ]
  },
  {
   "cell_type": "code",
   "execution_count": 71,
   "id": "86aeaac1-3761-41b3-b7f4-46f6104a6049",
   "metadata": {},
   "outputs": [
    {
     "data": {
      "text/plain": [
       "'pow(x,y,z) a raise to the power y and remainder by z'"
      ]
     },
     "execution_count": 71,
     "metadata": {},
     "output_type": "execute_result"
    }
   ],
   "source": [
    "\"\"\"pow(x,y,z) a raise to the power y and remainder by z\"\"\""
   ]
  },
  {
   "cell_type": "code",
   "execution_count": 74,
   "id": "ac50b4e3-1957-4436-b7f3-51ac9c709db5",
   "metadata": {},
   "outputs": [
    {
     "data": {
      "text/plain": [
       "2"
      ]
     },
     "execution_count": 74,
     "metadata": {},
     "output_type": "execute_result"
    }
   ],
   "source": [
    "pow(2,4,7)"
   ]
  },
  {
   "cell_type": "code",
   "execution_count": 73,
   "id": "9abbdc90-d5df-45da-9680-9e68e1bee235",
   "metadata": {},
   "outputs": [
    {
     "data": {
      "text/plain": [
       "16"
      ]
     },
     "execution_count": 73,
     "metadata": {},
     "output_type": "execute_result"
    }
   ],
   "source": [
    "2**4"
   ]
  },
  {
   "cell_type": "code",
   "execution_count": 75,
   "id": "19c51555-ed60-4e08-bac3-b8a8aedc39ad",
   "metadata": {},
   "outputs": [
    {
     "name": "stdin",
     "output_type": "stream",
     "text": [
      "Enter a number 45\n"
     ]
    }
   ],
   "source": [
    "x = int(input(\"Enter a number\"))"
   ]
  },
  {
   "cell_type": "code",
   "execution_count": 76,
   "id": "7ac27c41-d011-4816-8388-2f434e5e5156",
   "metadata": {},
   "outputs": [
    {
     "name": "stdout",
     "output_type": "stream",
     "text": [
      "<class 'int'>\n"
     ]
    }
   ],
   "source": [
    "print(type(x))"
   ]
  },
  {
   "cell_type": "code",
   "execution_count": 79,
   "id": "6cbdead9-7566-4c99-b5ee-e7ca9b2a29e8",
   "metadata": {},
   "outputs": [
    {
     "data": {
      "text/plain": [
       "\u001b[0;31mSignature:\u001b[0m \u001b[0mpow\u001b[0m\u001b[0;34m(\u001b[0m\u001b[0mbase\u001b[0m\u001b[0;34m,\u001b[0m \u001b[0mexp\u001b[0m\u001b[0;34m,\u001b[0m \u001b[0mmod\u001b[0m\u001b[0;34m=\u001b[0m\u001b[0;32mNone\u001b[0m\u001b[0;34m)\u001b[0m\u001b[0;34m\u001b[0m\u001b[0;34m\u001b[0m\u001b[0m\n",
       "\u001b[0;31mDocstring:\u001b[0m\n",
       "Equivalent to base**exp with 2 arguments or base**exp % mod with 3 arguments\n",
       "\n",
       "Some types, such as ints, are able to use a more efficient algorithm when\n",
       "invoked using the three argument form.\n",
       "\u001b[0;31mType:\u001b[0m      builtin_function_or_method"
      ]
     },
     "metadata": {},
     "output_type": "display_data"
    }
   ],
   "source": [
    "pow?"
   ]
  },
  {
   "cell_type": "code",
   "execution_count": 81,
   "id": "78fcee48-8e57-44b5-84cb-87ff013a5909",
   "metadata": {},
   "outputs": [
    {
     "name": "stdout",
     "output_type": "stream",
     "text": [
      "Help on method raw_input in module ipykernel.kernelbase:\n",
      "\n",
      "raw_input(prompt='') method of ipykernel.ipkernel.IPythonKernel instance\n",
      "    Forward raw_input to frontends\n",
      "\n",
      "    Raises\n",
      "    ------\n",
      "    StdinNotImplementedError if active frontend doesn't support stdin.\n",
      "\n"
     ]
    }
   ],
   "source": [
    "help(input)"
   ]
  },
  {
   "cell_type": "code",
   "execution_count": 5,
   "id": "9e732c3c-581b-4c01-af7e-351f609f6e4b",
   "metadata": {},
   "outputs": [
    {
     "name": "stdin",
     "output_type": "stream",
     "text": [
      "Enter the first value:  3\n",
      "Enter the second value:  1\n"
     ]
    },
    {
     "name": "stdout",
     "output_type": "stream",
     "text": [
      "The biggest number 3\n"
     ]
    }
   ],
   "source": [
    "try:\n",
    "    a = int(input(\"Enter the first value: \"))\n",
    "    b = int(input(\"Enter the second value: \"))\n",
    "    if a > b:\n",
    "        print(f'The biggest number {a}')\n",
    "    else:\n",
    "        print(f'The biggest number {b}')\n",
    "except Exception as e:\n",
    "    print(e)\n",
    "    "
   ]
  },
  {
   "cell_type": "code",
   "execution_count": 7,
   "id": "7233a35f-8ab7-42e2-bf45-b3e1b6fc9e80",
   "metadata": {},
   "outputs": [
    {
     "name": "stdout",
     "output_type": "stream",
     "text": [
      "else part\n"
     ]
    }
   ],
   "source": [
    "a = 3\n",
    "if a > 10:\n",
    "    print(\">10\")\n",
    "elif not(a>10):\n",
    "    print(\"else part\")"
   ]
  },
  {
   "cell_type": "code",
   "execution_count": 9,
   "id": "7c1ba09a-8bf4-4e1f-8c20-7938b382a3da",
   "metadata": {},
   "outputs": [
    {
     "name": "stdin",
     "output_type": "stream",
     "text": [
      " 11\n"
     ]
    },
    {
     "name": "stdout",
     "output_type": "stream",
     "text": [
      ">10\n",
      "Inside the top if\n",
      "<=20\n",
      "Inside the else part of nested If\n",
      "Outside all Ifs\n"
     ]
    }
   ],
   "source": [
    "a = int(input())\n",
    "if a > 10:\n",
    "    print(\">10\")\n",
    "    print(\"Inside the top if\")\n",
    "    if a > 20:\n",
    "        print(\">20\")\n",
    "        print(\"Inside the Nested If\")\n",
    "    else:\n",
    "        print(\"<=20\")\n",
    "        print(\"Inside the else part of nested If\")\n",
    "print(\"Outside all Ifs\")\n",
    "            "
   ]
  },
  {
   "cell_type": "code",
   "execution_count": 21,
   "id": "ad03050c-da6b-4f36-9b4f-a48efbb9b87c",
   "metadata": {},
   "outputs": [
    {
     "name": "stdin",
     "output_type": "stream",
     "text": [
      "Enter a float point number:  45.8\n"
     ]
    },
    {
     "name": "stdout",
     "output_type": "stream",
     "text": [
      "45\n",
      " ODD\n"
     ]
    }
   ],
   "source": [
    "# single line comment\n",
    "\"\"\"\n",
    "user will enter a floating point number let say 238.915. your task is\n",
    "to find out the integer portion before the point (in this case 238) and \n",
    "then check if that integer portion is an even number or not\n",
    "\"\"\"\n",
    "import math\n",
    "x = float(input(\"Enter a float point number: \"))\n",
    "y = math.floor(x)\n",
    "var = \" Even Number \" if y % 2 == 0 else\" ODD\"\n",
    "print(var)\n"
   ]
  },
  {
   "cell_type": "markdown",
   "id": "f54f27f2-4e90-4c3d-b5d9-c7662858cc97",
   "metadata": {},
   "source": [
    "# while loops"
   ]
  },
  {
   "cell_type": "code",
   "execution_count": 1,
   "id": "fc793051-f819-412e-9d91-c460365f000c",
   "metadata": {},
   "outputs": [
    {
     "name": "stdin",
     "output_type": "stream",
     "text": [
      " 5\n"
     ]
    },
    {
     "name": "stdout",
     "output_type": "stream",
     "text": [
      "1\n",
      "This is iteration number : 1\n",
      "4\n",
      "This is iteration number : 2\n",
      "9\n",
      "This is iteration number : 3\n",
      "16\n",
      "This is iteration number : 4\n",
      "Loop Done\n"
     ]
    }
   ],
   "source": [
    "n = int(input())\n",
    "i = 1\n",
    "while i < n:\n",
    "    print(i**2)\n",
    "    print(\"This is iteration number :\", i)\n",
    "    i += 1\n",
    "print(\"Loop Done\")"
   ]
  },
  {
   "cell_type": "code",
   "execution_count": 4,
   "id": "6509722b-e5be-40c2-bb8f-1ace4e325c42",
   "metadata": {},
   "outputs": [
    {
     "name": "stdout",
     "output_type": "stream",
     "text": [
      "Inside Else\n",
      "Inside Else\n",
      "Inside Else\n",
      "Inside Else\n",
      "Inside Else\n",
      "Inside Else\n",
      "Inside Else\n",
      "Inside Else\n",
      "Inside if\n",
      "done\n"
     ]
    }
   ],
   "source": [
    "n = 10\n",
    "i = 1\n",
    "while True:\n",
    "    if i % 9 == 0:\n",
    "        print(\"Inside if\")\n",
    "        break\n",
    "    else:\n",
    "        print(\"Inside Else\")\n",
    "        i +=1\n",
    "print('done')"
   ]
  },
  {
   "cell_type": "code",
   "execution_count": 17,
   "id": "4cb0f9a2-c7aa-40e2-8121-7e632fe6ce44",
   "metadata": {},
   "outputs": [
    {
     "name": "stdout",
     "output_type": "stream",
     "text": [
      "Inside if\n",
      "Inside if\n",
      "Inside if\n",
      "Inside if\n",
      "Inside if\n",
      "Inside if\n",
      "Inside if\n",
      "Inside if\n",
      "something\n",
      "SomethingElse\n",
      "done\n"
     ]
    }
   ],
   "source": [
    "n = 10\n",
    "i = 1\n",
    "while True:\n",
    "   if i%9 != 0:\n",
    "       print('Inside if')\n",
    "       i += 1\n",
    "       continue\n",
    "   print('something')\n",
    "   print('SomethingElse')\n",
    "   break\n",
    "print('done')"
   ]
  },
  {
   "cell_type": "code",
   "execution_count": 4,
   "id": "4e4d04af-1287-4677-bde9-c41ceac95424",
   "metadata": {},
   "outputs": [
    {
     "name": "stdin",
     "output_type": "stream",
     "text": [
      "Max Iteration : 5\n"
     ]
    },
    {
     "name": "stdout",
     "output_type": "stream",
     "text": [
      "1\n",
      "This is iteration number : 1\n",
      "4\n",
      "This is iteration number : 2\n",
      "9\n",
      "This is iteration number : 3\n",
      "16\n",
      "This is iteration number : 4\n",
      "done\n"
     ]
    }
   ],
   "source": []
  },
  {
   "cell_type": "code",
   "execution_count": 13,
   "id": "7920f188-e76c-4be1-8179-176ad23bf5e6",
   "metadata": {},
   "outputs": [
    {
     "name": "stdin",
     "output_type": "stream",
     "text": [
      "max Iteration:  10\n"
     ]
    },
    {
     "name": "stdout",
     "output_type": "stream",
     "text": [
      "1, Odd number\n",
      "2, Even number\n",
      "3, Odd number\n",
      "4, Even number\n",
      "5, Odd number\n",
      "6, Even number\n",
      "7, Odd number\n",
      "8, Even number\n",
      "9, Odd number\n",
      "Done\n"
     ]
    }
   ],
   "source": [
    "n = int(input('max Iteration: '))\n",
    "i = 1\n",
    "while i < n:\n",
    "    if i % 2 ==0:\n",
    "        print(f'{i}, Even number')\n",
    "    else:\n",
    "        print(f'{i}, Odd number')\n",
    "    i += 1\n",
    "print('Done')"
   ]
  },
  {
   "cell_type": "code",
   "execution_count": 23,
   "id": "04436b04-069f-4c16-9867-f0e141fc27f6",
   "metadata": {},
   "outputs": [
    {
     "name": "stdout",
     "output_type": "stream",
     "text": [
      "0\n",
      "2\n",
      "4\n",
      "6\n",
      "8\n",
      "[0, 4, 16, 36, 64]\n"
     ]
    }
   ],
   "source": [
    "l = []\n",
    "for i in range(0,10,2):\n",
    "    print(i)\n",
    "    l.append(i ** 2)\n",
    "print(l)"
   ]
  },
  {
   "cell_type": "code",
   "execution_count": 24,
   "id": "88809fd2-da0b-447e-a76f-5811a157e94c",
   "metadata": {},
   "outputs": [
    {
     "name": "stdout",
     "output_type": "stream",
     "text": [
      "Apple\n",
      "Cherry\n",
      "4.9\n",
      "Loop terminates with success\n"
     ]
    }
   ],
   "source": [
    "s = {'Apple',4.9,'Cherry'}\n",
    "\n",
    "for x in s:\n",
    "    print(x)\n",
    "else:\n",
    "    print('Loop terminates with success')\n",
    "    "
   ]
  },
  {
   "cell_type": "code",
   "execution_count": 25,
   "id": "890166a9-9317-4d88-96b2-a7b78a6b0930",
   "metadata": {},
   "outputs": [
    {
     "name": "stdout",
     "output_type": "stream",
     "text": [
      "Apple 44\n",
      "Cherry Game\n"
     ]
    }
   ],
   "source": [
    "\"\"\"Dictionary\"\"\"\n",
    "D = {\"Apple\":44, \"Cherry\":\"Game\"}\n",
    "for x in D:\n",
    "    print(x,D[x])"
   ]
  },
  {
   "cell_type": "code",
   "execution_count": 4,
   "id": "04e69339-a9b2-4701-a51b-8d2a2f17d75a",
   "metadata": {},
   "outputs": [
    {
     "name": "stdout",
     "output_type": "stream",
     "text": [
      "[-5, 1, 2, 2, 3, 4, 7, 9]\n"
     ]
    }
   ],
   "source": [
    "\"\"\"Given a list of numbers i.e. [1,2,4,-5,7,9,3,2], make another list that contains all the \n",
    "items in sorted order from min to max . i.e .your \n",
    "result will be another list like [-5,1,2,2,3,7,9]\n",
    "\"\"\"\n",
    "l = [1,2,4,-5,7,9,3,2]\n",
    "for j  in range(len(l)):\n",
    "    min = l[j]\n",
    "    index = j\n",
    "    counter = j\n",
    "    for i in range(j,len(l)):\n",
    "        if l[i] < min:\n",
    "            min = l[i]\n",
    "            index = counter\n",
    "        counter+=1\n",
    "    tmp = l[j]\n",
    "    l[j] = min\n",
    "    l[index] = tmp\n",
    "print(l)"
   ]
  },
  {
   "cell_type": "code",
   "execution_count": 5,
   "id": "1047d478-10e0-466c-b1b0-503f5edc33bf",
   "metadata": {},
   "outputs": [],
   "source": [
    "\"\"\"Functions\"\"\"\n",
    "def printSuccess():\n",
    "    print('I am Done')\n",
    "    print('Send me another task')\n",
    "    \n"
   ]
  },
  {
   "cell_type": "code",
   "execution_count": 6,
   "id": "390a2912-1e3d-4ef6-bf8f-bc9281b512cc",
   "metadata": {},
   "outputs": [
    {
     "name": "stdout",
     "output_type": "stream",
     "text": [
      "I am Done\n",
      "Send me another task\n"
     ]
    }
   ],
   "source": [
    "printSuccess()"
   ]
  },
  {
   "cell_type": "code",
   "execution_count": 1,
   "id": "e0c1c75b-e9fe-40ab-901b-58c08d32737e",
   "metadata": {},
   "outputs": [],
   "source": [
    "def printSuccess2():\n",
    "    \"\"\"This function is doing nothing except printing a message.\n",
    "    That message is hellow\n",
    "    \"\"\"\n",
    "    print('Hello')"
   ]
  },
  {
   "cell_type": "code",
   "execution_count": 2,
   "id": "a7096b6e-0a03-4ce8-8b81-a7bb6088b8fb",
   "metadata": {},
   "outputs": [],
   "source": [
    "# Function(input arguments)\n"
   ]
  },
  {
   "cell_type": "code",
   "execution_count": 3,
   "id": "c9963791-0f17-415a-aaab-86a7609cb2ec",
   "metadata": {},
   "outputs": [
    {
     "name": "stdout",
     "output_type": "stream",
     "text": [
      "This is the function\n"
     ]
    }
   ],
   "source": []
  },
  {
   "cell_type": "code",
   "execution_count": 5,
   "id": "de4c2960-2eaf-449f-9c35-229fcf05c1e5",
   "metadata": {},
   "outputs": [
    {
     "name": "stdout",
     "output_type": "stream",
     "text": [
      "Help on function printSuccess2 in module __main__:\n",
      "\n",
      "printSuccess2()\n",
      "    This function is doing nothing except printing a message.\n",
      "    That message is hellow\n",
      "\n"
     ]
    }
   ],
   "source": [
    "help(printSuccess2)"
   ]
  },
  {
   "cell_type": "code",
   "execution_count": 15,
   "id": "3262272e-3a82-4e84-9b62-149610573e99",
   "metadata": {},
   "outputs": [
    {
     "ename": "SyntaxError",
     "evalue": "unterminated string literal (detected at line 9) (1920989413.py, line 9)",
     "output_type": "error",
     "traceback": [
      "\u001b[0;36m  Cell \u001b[0;32mIn[15], line 9\u001b[0;36m\u001b[0m\n\u001b[0;31m    print(print(msg) if isinstance(msg,str) else \"your input argument is not a string\" \"Here is the type of what you have supplied :\", type(msg)\")\u001b[0m\n\u001b[0m                                                                                                                                                ^\u001b[0m\n\u001b[0;31mSyntaxError\u001b[0m\u001b[0;31m:\u001b[0m unterminated string literal (detected at line 9)\n"
     ]
    }
   ],
   "source": [
    "def printMsg(msg):\n",
    "    \"\"\" The function prints the message supplied by the user\n",
    "    or prints that msg is not in the form of string\"\"\"\n",
    "    if isinstance(msg, str):\n",
    "        print(msg)\n",
    "    else:\n",
    "        print(\"Your input argument is not a string\")\n",
    "        print(\"Here is the type of what you have supplied :\", type(msg))"
   ]
  },
  {
   "cell_type": "code",
   "execution_count": 7,
   "id": "d8df596a-1417-44d3-90b4-72efc500efb5",
   "metadata": {},
   "outputs": [
    {
     "name": "stdout",
     "output_type": "stream",
     "text": [
      "Help on function printMsg in module __main__:\n",
      "\n",
      "printMsg(msg)\n",
      "    The function prints the message supplied by the user\n",
      "    or prints that msg is not in the form of string\n",
      "\n"
     ]
    }
   ],
   "source": []
  },
  {
   "cell_type": "code",
   "execution_count": 8,
   "id": "dabc7213-05ae-4839-bacf-76fda0b82772",
   "metadata": {},
   "outputs": [
    {
     "data": {
      "text/plain": [
       "\u001b[0;31mSignature:\u001b[0m \u001b[0mprintMsg\u001b[0m\u001b[0;34m(\u001b[0m\u001b[0mmsg\u001b[0m\u001b[0;34m)\u001b[0m\u001b[0;34m\u001b[0m\u001b[0;34m\u001b[0m\u001b[0m\n",
       "\u001b[0;31mSource:\u001b[0m   \n",
       "\u001b[0;32mdef\u001b[0m \u001b[0mprintMsg\u001b[0m\u001b[0;34m(\u001b[0m\u001b[0mmsg\u001b[0m\u001b[0;34m)\u001b[0m\u001b[0;34m:\u001b[0m\u001b[0;34m\u001b[0m\n",
       "\u001b[0;34m\u001b[0m    \u001b[0;34m\"\"\" The function prints the message supplied by the user\u001b[0m\n",
       "\u001b[0;34m    or prints that msg is not in the form of string\"\"\"\u001b[0m\u001b[0;34m\u001b[0m\n",
       "\u001b[0;34m\u001b[0m    \u001b[0;32mif\u001b[0m \u001b[0misinstance\u001b[0m\u001b[0;34m(\u001b[0m\u001b[0mmsg\u001b[0m\u001b[0;34m,\u001b[0m\u001b[0;34m'str'\u001b[0m\u001b[0;34m)\u001b[0m\u001b[0;34m:\u001b[0m\u001b[0;34m\u001b[0m\n",
       "\u001b[0;34m\u001b[0m        \u001b[0mprint\u001b[0m\u001b[0;34m(\u001b[0m\u001b[0mmsg\u001b[0m\u001b[0;34m)\u001b[0m\u001b[0;34m\u001b[0m\n",
       "\u001b[0;34m\u001b[0m    \u001b[0;32melse\u001b[0m\u001b[0;34m:\u001b[0m\u001b[0;34m\u001b[0m\n",
       "\u001b[0;34m\u001b[0m        \u001b[0mprint\u001b[0m\u001b[0;34m(\u001b[0m\u001b[0;34m\"Your input argument is not a string\"\u001b[0m\u001b[0;34m)\u001b[0m\u001b[0;34m\u001b[0m\n",
       "\u001b[0;34m\u001b[0m        \u001b[0mprint\u001b[0m\u001b[0;34m(\u001b[0m\u001b[0;34m\"Here is the type of what you have supplied :\"\u001b[0m\u001b[0;34m,\u001b[0m \u001b[0mtype\u001b[0m\u001b[0;34m(\u001b[0m\u001b[0mmsg\u001b[0m\u001b[0;34m)\u001b[0m\u001b[0;34m)\u001b[0m\u001b[0;34m\u001b[0m\u001b[0;34m\u001b[0m\u001b[0m\n",
       "\u001b[0;31mFile:\u001b[0m      /var/folders/6w/_1xx55992tqfg37yz_8bt5v80000gn/T/ipykernel_5471/332925104.py\n",
       "\u001b[0;31mType:\u001b[0m      function"
      ]
     },
     "metadata": {},
     "output_type": "display_data"
    }
   ],
   "source": [
    "printMsg??"
   ]
  },
  {
   "cell_type": "code",
   "execution_count": 38,
   "id": "fe5707cb-e74a-4733-8099-c3f9e16a6d27",
   "metadata": {},
   "outputs": [
    {
     "name": "stdout",
     "output_type": "stream",
     "text": [
      "This is the message\n"
     ]
    }
   ],
   "source": [
    "printMsg(\"This is the message\")"
   ]
  },
  {
   "cell_type": "code",
   "execution_count": 13,
   "id": "c06bf006-ae31-47fc-aae9-8694aaae0a2d",
   "metadata": {},
   "outputs": [
    {
     "name": "stdout",
     "output_type": "stream",
     "text": [
      "Your input argument is not a string\n",
      "Here is the type of what you have supplied : <class 'int'>\n"
     ]
    }
   ],
   "source": [
    "printMsg(23)"
   ]
  },
  {
   "cell_type": "code",
   "execution_count": 39,
   "id": "f65b65f2-6bc0-4807-994f-1ab861d2c4c7",
   "metadata": {},
   "outputs": [
    {
     "name": "stdout",
     "output_type": "stream",
     "text": [
      "Hello Brian\n"
     ]
    }
   ],
   "source": [
    "y = \"Hello Brian\"\n",
    "printMsg(y)"
   ]
  },
  {
   "cell_type": "code",
   "execution_count": 16,
   "id": "7da2d046-7064-4099-b8ff-618cf9dba8dc",
   "metadata": {},
   "outputs": [],
   "source": [
    "def mypow(a,b):\n",
    "    \"\"\"This function computes power just like builtin pow function\"\"\"\n",
    "    c = a**b\n",
    "    print(c)"
   ]
  },
  {
   "cell_type": "code",
   "execution_count": 17,
   "id": "f25e6bda-62ff-48eb-a10b-e02259f58321",
   "metadata": {},
   "outputs": [
    {
     "name": "stdout",
     "output_type": "stream",
     "text": [
      "81\n"
     ]
    }
   ],
   "source": [
    "mypow(3,4)"
   ]
  },
  {
   "cell_type": "code",
   "execution_count": 24,
   "id": "0b18cabe-50d6-4e28-99ee-5774415c4045",
   "metadata": {},
   "outputs": [],
   "source": [
    "def checkArgs(a,b,c):\n",
    "    \"\"\"This function check for the input arguments if there are of the same class\"\"\"\n",
    "    if isinstance(a,(int,float)) and isinstance(b,(int,float)) and isinstance(c,(int,float)):\n",
    "        print((a+b+c)**2)\n",
    "    else:\n",
    "        print(\"Error : The input argument are not of the expected types\")\n"
   ]
  },
  {
   "cell_type": "code",
   "execution_count": 25,
   "id": "bf54ec66-b7a6-4590-97ac-54185338603f",
   "metadata": {},
   "outputs": [
    {
     "name": "stdout",
     "output_type": "stream",
     "text": [
      "144\n"
     ]
    }
   ],
   "source": [
    "checkArgs(3,4,5)"
   ]
  },
  {
   "cell_type": "code",
   "execution_count": 31,
   "id": "b8a096fe-9fd8-45d6-a2fd-63e0df07d538",
   "metadata": {},
   "outputs": [
    {
     "name": "stdout",
     "output_type": "stream",
     "text": [
      "Error : The input argument are not of the expected types\n"
     ]
    }
   ],
   "source": [
    "checkArgs(a =3,b=4,c=\"g\")"
   ]
  },
  {
   "cell_type": "code",
   "execution_count": 40,
   "id": "cd706ed7-de9c-45ac-8f06-8a9e19074f01",
   "metadata": {},
   "outputs": [
    {
     "name": "stdout",
     "output_type": "stream",
     "text": [
      "144\n"
     ]
    }
   ],
   "source": [
    "checkArgs(3,4,5)"
   ]
  },
  {
   "cell_type": "code",
   "execution_count": 41,
   "id": "5bff3474-c7e0-469f-80dc-68b8ef94ebaa",
   "metadata": {},
   "outputs": [],
   "source": [
    "#functions(Order of input arguments)\n",
    "def f(a,b,c):\n",
    "    print(\"A is :\",a)\n",
    "    print(\"B is :\",b)\n",
    "    print(\"C is :\",c)"
   ]
  },
  {
   "cell_type": "code",
   "execution_count": 43,
   "id": "b4ae479f-cfcd-4ec2-9a8c-a4607db1a8c9",
   "metadata": {},
   "outputs": [
    {
     "name": "stdout",
     "output_type": "stream",
     "text": [
      "A is : 3\n",
      "B is : game\n",
      "C is : 4\n"
     ]
    }
   ],
   "source": [
    "# f(2,3,\"game\")\n",
    "f(3,\"game\",4)"
   ]
  },
  {
   "cell_type": "code",
   "execution_count": 46,
   "id": "19bebdb8-f5a2-4709-bb99-8ddf3ba06b1c",
   "metadata": {},
   "outputs": [
    {
     "name": "stdout",
     "output_type": "stream",
     "text": [
      "A is : 2\n",
      "B is : 3\n",
      "C is : game\n"
     ]
    }
   ],
   "source": [
    "# f(a = 2, b= 3, c= \"game\")\n",
    "f(a = 2,c= \"game\",b= 3)"
   ]
  },
  {
   "cell_type": "code",
   "execution_count": 50,
   "id": "bd3542bb-7538-4a61-a9c9-7c23de470e99",
   "metadata": {},
   "outputs": [],
   "source": [
    "# Functions(return inside)\n",
    "def add(x,y):\n",
    "    c = x + y\n",
    "    return c"
   ]
  },
  {
   "cell_type": "code",
   "execution_count": 52,
   "id": "38fc6b83-9df0-411e-9751-7bebb95cf7f6",
   "metadata": {},
   "outputs": [
    {
     "name": "stdout",
     "output_type": "stream",
     "text": [
      "5\n"
     ]
    }
   ],
   "source": [
    "d =add(2,3)\n",
    "print(d)"
   ]
  },
  {
   "cell_type": "code",
   "execution_count": 53,
   "id": "24b1518a-d766-429b-aa56-988a1b0433de",
   "metadata": {},
   "outputs": [],
   "source": [
    "GlobalVariable = 5"
   ]
  },
  {
   "cell_type": "code",
   "execution_count": 61,
   "id": "7482a696-2c1b-40f6-98c1-21c981028202",
   "metadata": {},
   "outputs": [],
   "source": [
    "def g():\n",
    "    GlobalVariable = 4\n",
    "    #print(GlobalVariable)"
   ]
  },
  {
   "cell_type": "code",
   "execution_count": 64,
   "id": "bf8028a4-3e9f-47b8-a83d-7c52715be813",
   "metadata": {},
   "outputs": [
    {
     "name": "stdout",
     "output_type": "stream",
     "text": [
      "<class 'NoneType'>\n"
     ]
    }
   ],
   "source": [
    "print(type(g()))"
   ]
  },
  {
   "cell_type": "code",
   "execution_count": 63,
   "id": "458b3943-498b-4d82-8f36-34dcbc07adca",
   "metadata": {},
   "outputs": [
    {
     "name": "stdout",
     "output_type": "stream",
     "text": [
      "5\n"
     ]
    }
   ],
   "source": [
    "print(GlobalVariable)"
   ]
  },
  {
   "cell_type": "code",
   "execution_count": 67,
   "id": "eb683a74-e7be-45f3-a360-7e5b29be8807",
   "metadata": {},
   "outputs": [],
   "source": [
    "def h():\n",
    "    print(\"A\")\n",
    "    a = 3\n",
    "    b = 5\n",
    "    c = a + b \n",
    "    print(\"Something\")\n",
    "    return c\n",
    "    print(\"B\")\n",
    "    print(\"C\")"
   ]
  },
  {
   "cell_type": "code",
   "execution_count": 69,
   "id": "64b13895-1097-4ccc-b177-7fae62d6dc0d",
   "metadata": {},
   "outputs": [
    {
     "name": "stdout",
     "output_type": "stream",
     "text": [
      "A\n",
      "Something\n",
      "<class 'int'>\n"
     ]
    }
   ],
   "source": [
    "print(type(h()))\n"
   ]
  },
  {
   "cell_type": "code",
   "execution_count": 70,
   "id": "ac560ff0-496a-41d4-aa93-8ff3e8bbbb94",
   "metadata": {},
   "outputs": [],
   "source": [
    "def r():\n",
    "    a = 5\n",
    "    b = 7\n",
    "    d = \"something\"\n",
    "    return a,b,d"
   ]
  },
  {
   "cell_type": "code",
   "execution_count": 74,
   "id": "04828427-3045-4a9c-8c40-53391f4f2354",
   "metadata": {},
   "outputs": [
    {
     "name": "stdout",
     "output_type": "stream",
     "text": [
      "5 7 something\n"
     ]
    }
   ],
   "source": [
    "x,y,z = r()\n",
    "print(x,y,z)"
   ]
  },
  {
   "cell_type": "code",
   "execution_count": 2,
   "id": "4861e9e4-b6d8-452e-a536-ddd279186606",
   "metadata": {},
   "outputs": [
    {
     "name": "stderr",
     "output_type": "stream",
     "text": [
      "Downloading data from 'https://github.com/danielgatis/rembg/releases/download/v0.0.0/u2net.onnx' to file '/Users/briankimanzi/.u2net/u2net.onnx'.\n",
      "100%|███████████████████████████████████████| 176M/176M [00:00<00:00, 32.3GB/s]\n",
      "Context leak detected, CoreAnalytics returned false\n",
      "Context leak detected, CoreAnalytics returned false\n"
     ]
    },
    {
     "data": {
      "image/png": "[encoded data removed]",
      "text/plain": [
       "<PIL.PngImagePlugin.PngImageFile image mode=RGBA size=288x372>"
      ]
     },
     "execution_count": 2,
     "metadata": {},
     "output_type": "execute_result"
    }
   ],
   "source": [
    "#out of context \n",
    "from rembg import remove\n",
    "from PIL import Image\n",
    "input_path = \"/Users/briankimanzi/Documents/html-doc/Portfolio/Kim.png\"\n",
    "output_path =\"/Users/briankimanzi/Documents/html-doc/Portfolio/Kim.png\"\n",
    "inp = Image.open(input_path)\n",
    "output = remove(inp)\n",
    "output.save(output_path)\n",
    "Image.open(\"/Users/briankimanzi/Documents/html-doc/Portfolio/Kim.png\")"
   ]
  },
  {
   "cell_type": "code",
   "execution_count": 4,
   "id": "5c51f86b-9f78-4006-a2b9-b9c748b2203c",
   "metadata": {},
   "outputs": [],
   "source": [
    "# Functions(Variable number of input arguments)\n",
    "def myAdduniversal(*args):\n",
    "    sum = 0\n",
    "    for i in range(len(args)):\n",
    "        sum += args[i]\n",
    "    return sum"
   ]
  },
  {
   "cell_type": "code",
   "execution_count": 5,
   "id": "07ebfc46-ced5-4ef9-900f-1a59eb6b48b5",
   "metadata": {},
   "outputs": [
    {
     "name": "stdout",
     "output_type": "stream",
     "text": [
      "45\n"
     ]
    }
   ],
   "source": [
    "print(myAdduniversal(2,3,4,5,6,7,8,9,1))"
   ]
  },
  {
   "cell_type": "code",
   "execution_count": 6,
   "id": "04090e4b-0fa9-47bd-b681-9570a02b7b81",
   "metadata": {},
   "outputs": [],
   "source": [
    "# Functions(variable number of input arguments)\n",
    "\"\"\"A function that uses the concept of key-values \n",
    "by representation of double Asterics\"\"\"\n",
    "def printAllKeyvalues(**kwaagrs):\n",
    "    for x in kwaagrs:\n",
    "        print(f\"Variable Name is :{x} And value is : {kwaagrs[x]}\" )"
   ]
  },
  {
   "cell_type": "code",
   "execution_count": 7,
   "id": "0cc7806e-6569-4009-bf68-fef09be155e6",
   "metadata": {},
   "outputs": [
    {
     "name": "stdout",
     "output_type": "stream",
     "text": [
      "Variable Name is :a And value is : 3\n",
      "Variable Name is :b And value is : b\n",
      "Variable Name is :c And value is : hello\n",
      "Variable Name is :y And value is : 6.7\n"
     ]
    }
   ],
   "source": [
    "printAllKeyvalues(a = 3, b = \"b\",c=\"hello\",y=6.7)"
   ]
  },
  {
   "cell_type": "code",
   "execution_count": 13,
   "id": "2ff93fe8-ab19-4bca-92c8-24e5814f8515",
   "metadata": {},
   "outputs": [],
   "source": [
    "# Functions(Default Values)\n",
    "def gg(s=4):\n",
    "    print(s)\n",
    "    "
   ]
  },
  {
   "cell_type": "code",
   "execution_count": 16,
   "id": "58bdf9b1-8c37-4afa-a2e1-87658bf263ae",
   "metadata": {},
   "outputs": [
    {
     "name": "stdout",
     "output_type": "stream",
     "text": [
      "[-9, 2, 3]\n"
     ]
    }
   ],
   "source": [
    "l = [1,2,3]\n",
    "l2 =l\n",
    "l2[0]=-9\n",
    "print(l)"
   ]
  },
  {
   "cell_type": "code",
   "execution_count": 17,
   "id": "f09854b1-da21-495c-9e77-395bf7cf3a4f",
   "metadata": {},
   "outputs": [],
   "source": [
    "def ff(l=[1,2]):\n",
    "    for i in l:\n",
    "        print(i)\n",
    "        "
   ]
  },
  {
   "cell_type": "code",
   "execution_count": 21,
   "id": "218f8f4a-beb9-4031-9da5-400a2597bbd0",
   "metadata": {},
   "outputs": [
    {
     "name": "stdout",
     "output_type": "stream",
     "text": [
      "1\n",
      "2\n",
      "\n",
      "12\n",
      "3\n",
      "4\n"
     ]
    }
   ],
   "source": [
    "l2 =[12,3,4]\n",
    "ff()\n",
    "print()\n",
    "ff(l2)"
   ]
  },
  {
   "cell_type": "code",
   "execution_count": 10,
   "id": "bbccaa98-efc4-4af9-955b-907dcc192b79",
   "metadata": {},
   "outputs": [],
   "source": [
    "import sys\n",
    "sys.path.append('/Users/briankimanzi/Documents/myfolder')"
   ]
  },
  {
   "cell_type": "code",
   "execution_count": 12,
   "id": "bc31ec2f-658d-4627-959f-78133c34fff5",
   "metadata": {},
   "outputs": [
    {
     "ename": "ModuleNotFoundError",
     "evalue": "No module named 'my_Universal_function'",
     "output_type": "error",
     "traceback": [
      "\u001b[0;31m---------------------------------------------------------------------------\u001b[0m",
      "\u001b[0;31mModuleNotFoundError\u001b[0m                       Traceback (most recent call last)",
      "Cell \u001b[0;32mIn[12], line 1\u001b[0m\n\u001b[0;32m----> 1\u001b[0m \u001b[38;5;28;01mfrom\u001b[39;00m \u001b[38;5;21;01mmy_Universal_function\u001b[39;00m\u001b[38;5;21;01m.\u001b[39;00m\u001b[38;5;21;01mipynb\u001b[39;00m \u001b[38;5;28;01mimport\u001b[39;00m checkaddArgs\n",
      "\u001b[0;31mModuleNotFoundError\u001b[0m: No module named 'my_Universal_function'"
     ]
    }
   ],
   "source": [
    "from my_Universal_function.ipynb import checkaddArgs"
   ]
  },
  {
   "cell_type": "code",
   "execution_count": 47,
   "id": "93bd44d5-92b2-415b-b9b1-cc70ba10c545",
   "metadata": {},
   "outputs": [],
   "source": [
    "# practice functions\n",
    "\"\"\"Given a list of numbers i.e , make another list \n",
    "that contains all the items in sorted oredr from min to max. i.e your \n",
    "result will be another list like [-1,1,2,3,3,4,5,6,7,9]\"\"\"\n",
    "def findMin(l,startindex):\n",
    "    m = l[startindex]\n",
    "    index = startindex\n",
    "    for i in range(startindex,len(l)):\n",
    "        x = l[i]\n",
    "        if x<m:\n",
    "            m = x\n",
    "            index = i\n",
    "        else:\n",
    "            pass\n",
    "    return m,index"
   ]
  },
  {
   "cell_type": "code",
   "execution_count": 48,
   "id": "0f93e1f7-7a26-457a-9f6a-a2e70c65401f",
   "metadata": {},
   "outputs": [
    {
     "ename": "TypeError",
     "evalue": "findMin() missing 1 required positional argument: 'startindex'",
     "output_type": "error",
     "traceback": [
      "\u001b[0;31m---------------------------------------------------------------------------\u001b[0m",
      "\u001b[0;31mTypeError\u001b[0m                                 Traceback (most recent call last)",
      "Cell \u001b[0;32mIn[48], line 1\u001b[0m\n\u001b[0;32m----> 1\u001b[0m a,b \u001b[38;5;241m=\u001b[39m \u001b[43mfindMin\u001b[49m\u001b[43m(\u001b[49m\u001b[43m[\u001b[49m\u001b[38;5;241;43m2\u001b[39;49m\u001b[43m,\u001b[49m\u001b[38;5;241;43m3\u001b[39;49m\u001b[43m,\u001b[49m\u001b[38;5;241;43m4\u001b[39;49m\u001b[43m,\u001b[49m\u001b[38;5;241;43m0\u001b[39;49m\u001b[43m,\u001b[49m\u001b[38;5;241;43m9\u001b[39;49m\u001b[43m]\u001b[49m\u001b[43m)\u001b[49m\n",
      "\u001b[0;31mTypeError\u001b[0m: findMin() missing 1 required positional argument: 'startindex'"
     ]
    }
   ],
   "source": [
    "a,b = findMin([2,3,4,0,9])"
   ]
  },
  {
   "cell_type": "code",
   "execution_count": 49,
   "id": "8abedcdf-e55f-4f07-b618-e8a03f34f53f",
   "metadata": {},
   "outputs": [
    {
     "name": "stdout",
     "output_type": "stream",
     "text": [
      "1 0\n"
     ]
    }
   ],
   "source": [
    "print(a,b)"
   ]
  },
  {
   "cell_type": "code",
   "execution_count": 24,
   "id": "b730928f-be9b-4839-a5e9-5c9905a43e96",
   "metadata": {},
   "outputs": [],
   "source": [
    "def swapValues(l,index1,index2):\n",
    "    tmp = l[index1]\n",
    "    l[index1] = l[index2]\n",
    "    l[index2] = tmp\n",
    "    return l"
   ]
  },
  {
   "cell_type": "code",
   "execution_count": 25,
   "id": "37e182c5-960d-4d61-8573-04d64190e2c6",
   "metadata": {},
   "outputs": [
    {
     "name": "stdout",
     "output_type": "stream",
     "text": [
      "[4, 2, 6, 5]\n"
     ]
    }
   ],
   "source": [
    "l = [4,5,6,2]\n",
    "l2 = swapValues(l,1,3)\n",
    "print(l2)"
   ]
  },
  {
   "cell_type": "code",
   "execution_count": 33,
   "id": "4703c96f-ac63-47f6-a747-c6c95b50db9e",
   "metadata": {},
   "outputs": [],
   "source": [
    "# from my_Universal_function import checkaddArgs\n",
    "def sortlist(l):\n",
    "    if not(checkifNotNumeric2(l)):\n",
    "        print(\"Error: List does not contain numeric values\")\n",
    "        return\n",
    "    else:\n",
    "        c = 0\n",
    "        for x in l:\n",
    "            m,index = findMin(l,c)\n",
    "            l = swapValues(l,c,index)\n",
    "            c+=1\n",
    "    return l   "
   ]
  },
  {
   "cell_type": "code",
   "execution_count": 34,
   "id": "f99e6243-e192-42e6-a06c-2952cb01416c",
   "metadata": {},
   "outputs": [],
   "source": [
    "def checkifNotNumeric2(l):\n",
    "    for x in l:\n",
    "        if not (isinstance(x,(int,float))):\n",
    "            return false\n",
    "        return True"
   ]
  },
  {
   "cell_type": "code",
   "execution_count": 35,
   "id": "594dde4e-7dbd-4b5a-bccf-8098a2e649c5",
   "metadata": {},
   "outputs": [
    {
     "name": "stdout",
     "output_type": "stream",
     "text": [
      "[1, 5, 3, 2, 17, -8]\n"
     ]
    }
   ],
   "source": [
    "l2 = sortlist([2,1,5,3,-8,17])\n",
    "print(l2)"
   ]
  },
  {
   "cell_type": "code",
   "execution_count": 2,
   "id": "bc8e2365-ef04-4980-9363-bb9d1f94b5e0",
   "metadata": {},
   "outputs": [],
   "source": [
    "# String data type\n",
    "s = \"Python is a good language\"\n",
    "t = 'Its good for data science'\n",
    "\n"
   ]
  },
  {
   "cell_type": "code",
   "execution_count": 3,
   "id": "46d68b69-7f1e-43bd-8688-b722077da6c7",
   "metadata": {},
   "outputs": [
    {
     "data": {
      "text/plain": [
       "str"
      ]
     },
     "execution_count": 3,
     "metadata": {},
     "output_type": "execute_result"
    }
   ],
   "source": [
    "type(s)"
   ]
  },
  {
   "cell_type": "code",
   "execution_count": 4,
   "id": "0c106df5-cddb-4902-a9bc-0d6a8846b84a",
   "metadata": {},
   "outputs": [
    {
     "name": "stdout",
     "output_type": "stream",
     "text": [
      "Python is a good language Its good for data science\n"
     ]
    }
   ],
   "source": [
    "v = s + \" \" +t\n",
    "print(v)"
   ]
  },
  {
   "cell_type": "code",
   "execution_count": 6,
   "id": "6ffc0538-a1e1-495e-b178-32bad65ef79f",
   "metadata": {},
   "outputs": [
    {
     "name": "stdout",
     "output_type": "stream",
     "text": [
      "The price of this book is: 12\n"
     ]
    }
   ],
   "source": [
    "price = 12\n",
    "s = \"The price of this book\"\n",
    "v = s + ' is: ' + str(price)\n",
    "print(v)\n"
   ]
  },
  {
   "cell_type": "code",
   "execution_count": 7,
   "id": "59dab1b8-47af-4102-b453-ef83b87e7953",
   "metadata": {},
   "outputs": [
    {
     "name": "stdout",
     "output_type": "stream",
     "text": [
      "This is line 1\n",
      "This is line 2\n",
      "This is the last line and this is line 3\n"
     ]
    }
   ],
   "source": [
    "# String(Multi line string)\n",
    "a = \"\"\"This is line 1\n",
    "This is line 2\n",
    "This is the last line and this line is 3\"\"\"\n",
    "print(a)"
   ]
  },
  {
   "cell_type": "markdown",
   "id": "fc660fa8-44af-4539-9505-2dd6e1b8ba04",
   "metadata": {},
   "source": []
  },
  {
   "cell_type": "code",
   "execution_count": 9,
   "id": "2b5533c5-68f4-4a2b-8937-b91a91e8fbff",
   "metadata": {},
   "outputs": [
    {
     "name": "stdout",
     "output_type": "stream",
     "text": [
      " The following options are available:\n",
      "            -a      : Does nothing\n",
      "            -b      : Also does nothing\n"
     ]
    }
   ],
   "source": [
    "print(\"\"\" The following options are available:\n",
    "            -a      : Does nothing\n",
    "            -b      : Also does nothing\"\"\")"
   ]
  },
  {
   "cell_type": "code",
   "execution_count": 3,
   "id": "e74c6db5-8d2f-4ef3-b7d6-73d75036deeb",
   "metadata": {},
   "outputs": [
    {
     "name": "stdout",
     "output_type": "stream",
     "text": [
      "are \n"
     ]
    }
   ],
   "source": [
    "# Indexing and slicing\n",
    "a = \"How are you and who are you\"\n",
    "print(a[4:8])"
   ]
  },
  {
   "cell_type": "code",
   "execution_count": 4,
   "id": "1303f814-6ca4-4f1d-9a63-8099243a08d1",
   "metadata": {},
   "outputs": [
    {
     "data": {
      "text/plain": [
       "str"
      ]
     },
     "execution_count": 4,
     "metadata": {},
     "output_type": "execute_result"
    }
   ],
   "source": [
    "type(a[5:3])"
   ]
  },
  {
   "cell_type": "code",
   "execution_count": 5,
   "id": "b2308732-1a16-46e4-80dd-93a600c5726b",
   "metadata": {},
   "outputs": [
    {
     "data": {
      "text/plain": [
       "'How are yo'"
      ]
     },
     "execution_count": 5,
     "metadata": {},
     "output_type": "execute_result"
    }
   ],
   "source": [
    "a[0:10]"
   ]
  },
  {
   "cell_type": "code",
   "execution_count": 6,
   "id": "1df9bc2d-8e63-4338-b89e-ec6226fe3f1c",
   "metadata": {},
   "outputs": [
    {
     "data": {
      "text/plain": [
       "' who are '"
      ]
     },
     "execution_count": 6,
     "metadata": {},
     "output_type": "execute_result"
    }
   ],
   "source": [
    "a[-12:-3]"
   ]
  },
  {
   "cell_type": "code",
   "execution_count": 7,
   "id": "04f44a0a-46db-42ee-94a9-b6920294b618",
   "metadata": {},
   "outputs": [
    {
     "data": {
      "text/plain": [
       "'uoy era ohw dna uoy era woH'"
      ]
     },
     "execution_count": 7,
     "metadata": {},
     "output_type": "execute_result"
    }
   ],
   "source": [
    "# reverse the string\n",
    "a[::-1]"
   ]
  },
  {
   "cell_type": "code",
   "execution_count": 19,
   "id": "b0bb2d52-9d5a-4d97-ad0a-1e398419d2bd",
   "metadata": {},
   "outputs": [
    {
     "name": "stdout",
     "output_type": "stream",
     "text": [
      "abc    def     higk  lmnnop\n"
     ]
    }
   ],
   "source": [
    "# functions available in strings\n",
    "#.strip() removes all the spaces at the beggining and at the end\n",
    "a = \"       abc    def     higk  lmnnop\"\n",
    "print(a.strip())"
   ]
  },
  {
   "cell_type": "code",
   "execution_count": 13,
   "id": "451d4fd7-8a3e-4b00-85f5-96032eb64717",
   "metadata": {},
   "outputs": [
    {
     "name": "stdout",
     "output_type": "stream",
     "text": [
      "abc def ghijklman\n"
     ]
    }
   ],
   "source": [
    "# the lower function changes the upper letters to lower case \n",
    "a = \"ABC DEF GHIjklman\"\n",
    "print(a.lower())"
   ]
  },
  {
   "cell_type": "code",
   "execution_count": 20,
   "id": "ee53e5aa-151e-4ee0-bee9-cd4aed12ede4",
   "metadata": {},
   "outputs": [
    {
     "name": "stdout",
     "output_type": "stream",
     "text": [
      "ABC DEF :: GHIJKLMAN\n"
     ]
    }
   ],
   "source": [
    "# The upper function changes the lower letters to upper case letters\n",
    "a = \"abc def :: ghijklman\"\n",
    "print(a.upper())"
   ]
  },
  {
   "cell_type": "code",
   "execution_count": 21,
   "id": "0c722e88-29e3-4460-9658-2e8ee5734ae5",
   "metadata": {},
   "outputs": [
    {
     "name": "stdout",
     "output_type": "stream",
     "text": [
      "abc def ** ghijklman\n"
     ]
    }
   ],
   "source": [
    "# replace function alters the function by replacing a certain value\n",
    "d = a.replace(\":\",\"*\")\n",
    "print(d)"
   ]
  },
  {
   "cell_type": "code",
   "execution_count": 22,
   "id": "32b1fc75-5006-4ecc-8e07-f6f7428aa849",
   "metadata": {},
   "outputs": [
    {
     "name": "stdout",
     "output_type": "stream",
     "text": [
      "['abc', 'def', 'ghijkl', 'mnop']\n"
     ]
    }
   ],
   "source": [
    "# split function returns a list of strings and also the slpit function is used to separate values in a string\n",
    "a = \"abc;def;ghijkl;mnop\"\n",
    "print(a.split(\";\"))"
   ]
  },
  {
   "cell_type": "code",
   "execution_count": 25,
   "id": "ce6df5d2-1321-447d-bdb8-59c447481547",
   "metadata": {},
   "outputs": [
    {
     "name": "stdout",
     "output_type": "stream",
     "text": [
      "Abc;def;ghijkl;mnop\n"
     ]
    }
   ],
   "source": [
    "print(a.capitalize())\n",
    "# changes only the first index on a string"
   ]
  },
  {
   "cell_type": "code",
   "execution_count": 29,
   "id": "e77f4bd8-f66b-4cb1-afb8-c87f2462dbaa",
   "metadata": {},
   "outputs": [
    {
     "data": {
      "text/plain": [
       "False"
      ]
     },
     "execution_count": 29,
     "metadata": {},
     "output_type": "execute_result"
    }
   ],
   "source": [
    "# the in keyword always returns true or false if a ceratin string is available in the list\n",
    "\"abc\" in \"cdefghiajksl\""
   ]
  },
  {
   "cell_type": "code",
   "execution_count": 28,
   "id": "6b59c94f-7a2b-41ad-a32d-704eead3e032",
   "metadata": {},
   "outputs": [
    {
     "data": {
      "text/plain": [
       "True"
      ]
     },
     "execution_count": 28,
     "metadata": {},
     "output_type": "execute_result"
    }
   ],
   "source": [
    "\"abc\" in \"vrgvfgfcabc\""
   ]
  },
  {
   "cell_type": "code",
   "execution_count": 38,
   "id": "764b07be-59aa-47d9-ad35-83d966d745a4",
   "metadata": {},
   "outputs": [
    {
     "data": {
      "text/plain": [
       "True"
      ]
     },
     "execution_count": 38,
     "metadata": {},
     "output_type": "execute_result"
    }
   ],
   "source": [
    "\"abcdefghiz\"<=\"def\""
   ]
  },
  {
   "cell_type": "code",
   "execution_count": 39,
   "id": "0fb8f0db-008f-4e2c-a1bb-328efc13f3ec",
   "metadata": {},
   "outputs": [
    {
     "name": "stdout",
     "output_type": "stream",
     "text": [
      "we are learning \"string\" here\n"
     ]
    }
   ],
   "source": [
    "print(\"we are learning \\\"string\\\" here\")"
   ]
  },
  {
   "cell_type": "code",
   "execution_count": 40,
   "id": "bbf3d59c-4f1f-4a0b-b505-20666b70096d",
   "metadata": {},
   "outputs": [
    {
     "name": "stdout",
     "output_type": "stream",
     "text": [
      "we are \n",
      " now in a new tab\n"
     ]
    }
   ],
   "source": [
    "print(\"we are \\n now in a new tab\") #\\t for a tab"
   ]
  },
  {
   "cell_type": "code",
   "execution_count": 42,
   "id": "3a164e4f-ddd7-4427-988a-91e8f4a0e070",
   "metadata": {},
   "outputs": [
    {
     "name": "stdout",
     "output_type": "stream",
     "text": [
      "c:\\name\\drive\n"
     ]
    }
   ],
   "source": [
    "# print(\"c:\\name\\drive\")\n",
    "print(r\"c:\\name\\drive\") # the r is for telling python this is a raw string so ignore it"
   ]
  },
  {
   "cell_type": "code",
   "execution_count": 2,
   "id": "bf6b866a-ff7a-4db4-8d36-a4358a7e3b6d",
   "metadata": {},
   "outputs": [],
   "source": [
    "# list,tuples,sets,dictionary\n",
    "# data set collection of heterogenous type(one value can be integer, string, float)\n",
    "# 1. list are ordered = it is indexible(elements are ordered)\n",
    "#         are mutable = they can be changed\n",
    "#         are duplicates = list can contain same items on the list\n",
    "# 2. tuple are ordered = the elements are in a ceratin order\n",
    "#          are unmutable = they cannot be changed\n",
    "#          are duplicates = they can contain more than one element\n",
    "# 3. sets  are unordered = the elements are not arranged in an order\n",
    "#          are addable/removable = the elements can both be removed and added to the list\n",
    "#          are no duplicates = the sets does not allow duplicates of values\n",
    "# 4. dictionary are unordered = they are not ordered in any manner\n",
    "#          are changeable = the elements can be changed. \n",
    "#          are no duplicates = does not contain duplicate values\n",
    "# Each item in a dictionary is in pair one value is called key and another is value\n",
    "l = [1,3,4.9,\"name\",3]\n",
    "t = (1,3,4.9,\"name\",3)\n",
    "s = {1,3,4.9,\"name\",3}\n",
    "d = {23:\"age\",\"name\":\"brian\",'B':43,'c':'ccd'}"
   ]
  },
  {
   "cell_type": "code",
   "execution_count": 3,
   "id": "d43b3601-b895-49d7-889a-04265477169c",
   "metadata": {},
   "outputs": [
    {
     "name": "stdout",
     "output_type": "stream",
     "text": [
      "The type of l is <class 'list'>\n",
      "The type of l is <class 'set'>\n",
      "The type of l is <class 'tuple'>\n",
      "The type of l is <class 'dict'>\n"
     ]
    }
   ],
   "source": [
    "print(f\"The type of l is {type(l)}\")\n",
    "print(f\"The type of l is {type(s)}\")\n",
    "print(f\"The type of l is {type(t)}\")\n",
    "print(f\"The type of l is {type(d)}\")"
   ]
  },
  {
   "cell_type": "code",
   "execution_count": 4,
   "id": "459bdd18-b9cb-4de1-9810-9c32c313091c",
   "metadata": {},
   "outputs": [
    {
     "name": "stdout",
     "output_type": "stream",
     "text": [
      "The value of the element in the list is name\n",
      "The value of the element in the tuple is 4.9\n",
      "The value of the element in the set is True\n",
      "The value of the element in the dictionary is age\n"
     ]
    }
   ],
   "source": [
    "# To access elements in a list\n",
    "print(f\"The value of the element in the list is {l[3]}\")\n",
    "# To access elements in a tuple\n",
    "print(f\"The value of the element in the tuple is {t[2]}\")\n",
    "# To access elements in a set\n",
    "print(f\"The value of the element in the set is {3 in s}\")\n",
    "# To access the value in a dictionary\n",
    "print(f\"The value of the element in the dictionary is {d[23]}\")"
   ]
  },
  {
   "cell_type": "code",
   "execution_count": 5,
   "id": "a9a5812a-5ec8-47e2-bc03-b8794eb3e877",
   "metadata": {},
   "outputs": [
    {
     "data": {
      "text/plain": [
       "{1, 3, 4.9, 'name'}"
      ]
     },
     "execution_count": 5,
     "metadata": {},
     "output_type": "execute_result"
    }
   ],
   "source": [
    "s"
   ]
  },
  {
   "cell_type": "code",
   "execution_count": 6,
   "id": "02fe564f-3c0d-4ae6-9f7d-3f73844b7df3",
   "metadata": {},
   "outputs": [
    {
     "data": {
      "text/plain": [
       "[1, 3, 4.9, 'name', 3]"
      ]
     },
     "execution_count": 6,
     "metadata": {},
     "output_type": "execute_result"
    }
   ],
   "source": [
    "l"
   ]
  },
  {
   "cell_type": "code",
   "execution_count": 7,
   "id": "edb97b66-5755-4c32-9738-3bb158939def",
   "metadata": {},
   "outputs": [
    {
     "data": {
      "text/plain": [
       "[3, 4.9]"
      ]
     },
     "execution_count": 7,
     "metadata": {},
     "output_type": "execute_result"
    }
   ],
   "source": [
    "l[1:3]"
   ]
  },
  {
   "cell_type": "code",
   "execution_count": 8,
   "id": "81a03f35-e904-4182-b7f4-b551f6805e1e",
   "metadata": {},
   "outputs": [
    {
     "data": {
      "text/plain": [
       "[3, 'name', 4.9, 3, 1]"
      ]
     },
     "execution_count": 8,
     "metadata": {},
     "output_type": "execute_result"
    }
   ],
   "source": [
    "l[::-1]"
   ]
  },
  {
   "cell_type": "code",
   "execution_count": 9,
   "id": "9927c047-4e30-4275-b6df-2d1e9de13980",
   "metadata": {},
   "outputs": [
    {
     "data": {
      "text/plain": [
       "(1, 3, 4.9)"
      ]
     },
     "execution_count": 9,
     "metadata": {},
     "output_type": "execute_result"
    }
   ],
   "source": [
    "t[:3]"
   ]
  },
  {
   "cell_type": "code",
   "execution_count": 10,
   "id": "10a31727-8bdc-48ed-a221-19b1a6594b8f",
   "metadata": {},
   "outputs": [],
   "source": [
    "# The append is used to add elements in a list\n",
    "# The x.add() fnct is used to add elements in a set\n",
    "# The x.update is used to update a set list\n",
    "# The x.remove() fnct is used to remove elements in a set data structure\n",
    "# The del x fnct is used to delete values in list,Tuple,set and dictionary\n",
    "# The copy() fnct is used to make a duplicate of the data structure\n",
    "l = l + [\"how\",\"are\",6,\"you\"]"
   ]
  },
  {
   "cell_type": "code",
   "execution_count": 11,
   "id": "2d275a41-0800-4c87-9f45-7e64358430c9",
   "metadata": {},
   "outputs": [
    {
     "data": {
      "text/plain": [
       "[1, 3, 4.9, 'name', 3, 'how', 'are', 6, 'you']"
      ]
     },
     "execution_count": 11,
     "metadata": {},
     "output_type": "execute_result"
    }
   ],
   "source": [
    "l"
   ]
  },
  {
   "cell_type": "code",
   "execution_count": 12,
   "id": "7ca2ddb9-9b6d-4fcb-9b27-54000b547002",
   "metadata": {},
   "outputs": [],
   "source": [
    "l.append(6.8)"
   ]
  },
  {
   "cell_type": "code",
   "execution_count": 13,
   "id": "ac74ff9f-622a-4c8b-b300-20996286f5d2",
   "metadata": {},
   "outputs": [],
   "source": [
    "del l[9] # To remove a value in a certain index."
   ]
  },
  {
   "cell_type": "code",
   "execution_count": 14,
   "id": "156aa20b-125f-47c2-bc57-ff2c7d164fc7",
   "metadata": {},
   "outputs": [
    {
     "data": {
      "text/plain": [
       "[1, 3, 4.9, 'name', 3, 'how', 'are', 6, 'you']"
      ]
     },
     "execution_count": 14,
     "metadata": {},
     "output_type": "execute_result"
    }
   ],
   "source": [
    "l"
   ]
  },
  {
   "cell_type": "code",
   "execution_count": 15,
   "id": "453288ba-24a2-4f48-91fc-c46a33d323e5",
   "metadata": {},
   "outputs": [],
   "source": [
    "# creating a new tuple and joining the first tuple with the new created tuple\n",
    "t2 = ('a','b',45)\n",
    "t3 = t + t2"
   ]
  },
  {
   "cell_type": "code",
   "execution_count": 16,
   "id": "c5bc2b93-ed1b-49cf-894c-33e73baec0b9",
   "metadata": {},
   "outputs": [
    {
     "data": {
      "text/plain": [
       "(1, 3, 4.9, 'name', 3, 'a', 'b', 45)"
      ]
     },
     "execution_count": 16,
     "metadata": {},
     "output_type": "execute_result"
    }
   ],
   "source": [
    "t3"
   ]
  },
  {
   "cell_type": "code",
   "execution_count": 17,
   "id": "689d5c65-b64b-41ee-8ffc-11139b5ce2b1",
   "metadata": {},
   "outputs": [
    {
     "data": {
      "text/plain": [
       "{1, 3, 4.9, 'name'}"
      ]
     },
     "execution_count": 17,
     "metadata": {},
     "output_type": "execute_result"
    }
   ],
   "source": [
    "s"
   ]
  },
  {
   "cell_type": "code",
   "execution_count": 18,
   "id": "32220f73-cf90-4e17-935b-dfff24b70e94",
   "metadata": {},
   "outputs": [],
   "source": [
    "# s.add(56)\n",
    "s.update({23,\"game\",1})"
   ]
  },
  {
   "cell_type": "code",
   "execution_count": 19,
   "id": "b0e466b8-69f9-4f92-936e-fcd0e02610d1",
   "metadata": {},
   "outputs": [
    {
     "data": {
      "text/plain": [
       "{1, 23, 3, 4.9, 'game', 'name'}"
      ]
     },
     "execution_count": 19,
     "metadata": {},
     "output_type": "execute_result"
    }
   ],
   "source": [
    "s"
   ]
  },
  {
   "cell_type": "code",
   "execution_count": 20,
   "id": "1e3a982e-c438-403d-91d8-74cb37eeb0c4",
   "metadata": {},
   "outputs": [],
   "source": [
    "d ['newkey'] = \"newValue\""
   ]
  },
  {
   "cell_type": "code",
   "execution_count": 21,
   "id": "d15273f3-b6dc-44a1-9f36-f233127b6200",
   "metadata": {},
   "outputs": [
    {
     "data": {
      "text/plain": [
       "{23: 'age', 'name': 'brian', 'B': 43, 'c': 'ccd', 'newkey': 'newValue'}"
      ]
     },
     "execution_count": 21,
     "metadata": {},
     "output_type": "execute_result"
    }
   ],
   "source": [
    "d"
   ]
  },
  {
   "cell_type": "code",
   "execution_count": 22,
   "id": "0293cf15-e537-469c-b102-4484a1b3560f",
   "metadata": {},
   "outputs": [],
   "source": [
    "# concatinating 2 dictionary together\n",
    "d2 = {\"y\":\"yy\",\"z\":10}\n",
    "# d3 = d + d2\n",
    "d.update(d2)"
   ]
  },
  {
   "cell_type": "code",
   "execution_count": 23,
   "id": "42dc54b9-825b-44b0-bd87-b1a43a710417",
   "metadata": {},
   "outputs": [],
   "source": [
    "del d['c']"
   ]
  },
  {
   "cell_type": "code",
   "execution_count": 24,
   "id": "45318949-e9a4-4ff7-b9ad-b5d4ee9d5dba",
   "metadata": {},
   "outputs": [
    {
     "data": {
      "text/plain": [
       "{23: 'age', 'name': 'brian', 'B': 43, 'newkey': 'newValue', 'y': 'yy', 'z': 10}"
      ]
     },
     "execution_count": 24,
     "metadata": {},
     "output_type": "execute_result"
    }
   ],
   "source": [
    "d"
   ]
  },
  {
   "cell_type": "code",
   "execution_count": 39,
   "id": "504dc372-c353-4736-8604-dff931f22534",
   "metadata": {},
   "outputs": [
    {
     "name": "stdout",
     "output_type": "stream",
     "text": [
      "[1, 3, 4.9, 'name', 3, 'how', 'are', 6, 'you']\n",
      "[1, 3, 4.9, 'name', 3, 'how', 'are', 6, 'you']\n"
     ]
    }
   ],
   "source": [
    "l2 = l\n",
    "print(l2)\n",
    "print(l)"
   ]
  },
  {
   "cell_type": "code",
   "execution_count": 40,
   "id": "90d1a35c-66ae-4e2e-b8b9-224bcde8f351",
   "metadata": {},
   "outputs": [
    {
     "name": "stdout",
     "output_type": "stream",
     "text": [
      "[1, 3, 'four point nine', 'name', 3, 'how', 'are', 6, 'you']\n",
      "[1, 3, 'four point nine', 'name', 3, 'how', 'are', 6, 'you']\n"
     ]
    }
   ],
   "source": [
    "l2[2] = \"four point nine\"\n",
    "print(l2)\n",
    "print(l)"
   ]
  },
  {
   "cell_type": "code",
   "execution_count": 41,
   "id": "0b7dfbdd-4c86-4ff5-a0d9-6f0eb1c92c7b",
   "metadata": {},
   "outputs": [
    {
     "name": "stdout",
     "output_type": "stream",
     "text": [
      "[1, 3, 'four point nine', 'name', 3, 'how', 'are', 6, 'you']\n",
      "[1, 3, 4.9, 'name', 3, 'how', 'are', 6, 'you']\n"
     ]
    }
   ],
   "source": [
    "l2 = l.copy()\n",
    "print(l)\n",
    "l2[2] = 4.9\n",
    "print(l2)"
   ]
  },
  {
   "cell_type": "code",
   "execution_count": 31,
   "id": "6aa96d57-4cd4-47c9-8eb3-cd2c68204eed",
   "metadata": {},
   "outputs": [
    {
     "name": "stdout",
     "output_type": "stream",
     "text": [
      "[3, 4.9, 'name', 3]\n"
     ]
    }
   ],
   "source": [
    "l3 = l[1:5]\n",
    "print(l3)"
   ]
  },
  {
   "cell_type": "code",
   "execution_count": 32,
   "id": "07284a17-ccee-4be0-8e44-c08941056fc0",
   "metadata": {},
   "outputs": [
    {
     "name": "stdout",
     "output_type": "stream",
     "text": [
      "['three', 4.9, 'name', 3]\n"
     ]
    }
   ],
   "source": [
    "l3[0] = \"three\"\n",
    "print(l3)"
   ]
  },
  {
   "cell_type": "code",
   "execution_count": 33,
   "id": "44699ca0-56f7-42c4-a630-a44c50018dfb",
   "metadata": {},
   "outputs": [
    {
     "data": {
      "text/plain": [
       "[1, 3, 4.9, 'name', 3, 'how', 'are', 6, 'you']"
      ]
     },
     "execution_count": 33,
     "metadata": {},
     "output_type": "execute_result"
    }
   ],
   "source": [
    "l"
   ]
  },
  {
   "cell_type": "code",
   "execution_count": 34,
   "id": "6b2d70c4-5f8b-438b-8b25-8b17b36c1f66",
   "metadata": {},
   "outputs": [
    {
     "name": "stdout",
     "output_type": "stream",
     "text": [
      "Help on built-in function append:\n",
      "\n",
      "append(object, /) method of builtins.list instance\n",
      "    Append object to the end of the list.\n",
      "\n"
     ]
    }
   ],
   "source": [
    "help(l.append)"
   ]
  },
  {
   "cell_type": "code",
   "execution_count": 44,
   "id": "5ded98d2-ca2a-45ab-90fa-08f1ffdc60c3",
   "metadata": {},
   "outputs": [
    {
     "data": {
      "text/plain": [
       "\u001b[0;31mSignature:\u001b[0m \u001b[0ml\u001b[0m\u001b[0;34m.\u001b[0m\u001b[0mreverse\u001b[0m\u001b[0;34m(\u001b[0m\u001b[0;34m)\u001b[0m\u001b[0;34m\u001b[0m\u001b[0;34m\u001b[0m\u001b[0m\n",
       "\u001b[0;31mDocstring:\u001b[0m Reverse *IN PLACE*.\n",
       "\u001b[0;31mType:\u001b[0m      builtin_function_or_method"
      ]
     },
     "metadata": {},
     "output_type": "display_data"
    }
   ],
   "source": [
    "# l.clear?\n",
    "# l.pop?\n",
    "l.reverse?"
   ]
  },
  {
   "cell_type": "code",
   "execution_count": 46,
   "id": "da551c70-a0b0-423f-b3c5-d5d9353d1811",
   "metadata": {},
   "outputs": [
    {
     "data": {
      "text/plain": [
       "\u001b[0;31mDocstring:\u001b[0m\n",
       "Return the intersection of two sets as a new set.\n",
       "\n",
       "(i.e. all elements that are in both sets.)\n",
       "\u001b[0;31mType:\u001b[0m      builtin_function_or_method"
      ]
     },
     "metadata": {},
     "output_type": "display_data"
    }
   ],
   "source": [
    "# s.intersection??"
   ]
  },
  {
   "cell_type": "code",
   "execution_count": 48,
   "id": "9fdf0272-81a1-4ca1-90b2-62c6fd1f1e8f",
   "metadata": {},
   "outputs": [
    {
     "data": {
      "text/plain": [
       "dict_items([(23, 'age'), ('name', 'brian'), ('B', 43), ('newkey', 'newValue'), ('y', 'yy'), ('z', 10)])"
      ]
     },
     "execution_count": 48,
     "metadata": {},
     "output_type": "execute_result"
    }
   ],
   "source": [
    "d.items()"
   ]
  },
  {
   "cell_type": "code",
   "execution_count": 49,
   "id": "a0ec9588-ccbf-4989-b55b-ffd2f4b0d07e",
   "metadata": {},
   "outputs": [
    {
     "data": {
      "text/plain": [
       "[1, 3, 'four point nine', 'name', 3, 'how', 'are', 6, 'you']"
      ]
     },
     "execution_count": 49,
     "metadata": {},
     "output_type": "execute_result"
    }
   ],
   "source": [
    "l"
   ]
  },
  {
   "cell_type": "code",
   "execution_count": 50,
   "id": "65e4442a-e54c-45ce-82a6-a4aaf291f316",
   "metadata": {},
   "outputs": [
    {
     "data": {
      "text/plain": [
       "(1, 3, 4.9, 'name', 3)"
      ]
     },
     "execution_count": 50,
     "metadata": {},
     "output_type": "execute_result"
    }
   ],
   "source": [
    "t"
   ]
  },
  {
   "cell_type": "code",
   "execution_count": 51,
   "id": "7daf00a6-6fc7-4bc3-9ffd-4aadd125e723",
   "metadata": {},
   "outputs": [
    {
     "data": {
      "text/plain": [
       "{1, 23, 3, 4.9, 'game', 'name'}"
      ]
     },
     "execution_count": 51,
     "metadata": {},
     "output_type": "execute_result"
    }
   ],
   "source": [
    "s"
   ]
  },
  {
   "cell_type": "code",
   "execution_count": 52,
   "id": "960b1eb0-a866-40e5-9028-dc3df34c2462",
   "metadata": {},
   "outputs": [
    {
     "data": {
      "text/plain": [
       "{23: 'age', 'name': 'brian', 'B': 43, 'newkey': 'newValue', 'y': 'yy', 'z': 10}"
      ]
     },
     "execution_count": 52,
     "metadata": {},
     "output_type": "execute_result"
    }
   ],
   "source": [
    "d"
   ]
  },
  {
   "cell_type": "code",
   "execution_count": 55,
   "id": "d964395a-bc0f-4612-b758-5f63638d41c6",
   "metadata": {},
   "outputs": [
    {
     "name": "stdout",
     "output_type": "stream",
     "text": [
      "name\n"
     ]
    }
   ],
   "source": [
    "d2 = {'A':l,'B':t,'C':s,'D':d}\n",
    "print(d2['A'][3])"
   ]
  },
  {
   "cell_type": "code",
   "execution_count": 57,
   "id": "d6b1572c-5ceb-4f57-86c2-0039d86fcdfd",
   "metadata": {},
   "outputs": [
    {
     "name": "stdout",
     "output_type": "stream",
     "text": [
      "{23: 'age', 'name': 'brian', 'B': 43, 'newkey': 'newValue', 'y': 'yy', 'z': 10}\n"
     ]
    }
   ],
   "source": [
    "k = d2['D']\n",
    "print(k)"
   ]
  },
  {
   "cell_type": "code",
   "execution_count": 58,
   "id": "e9910403-c612-411f-a462-aece15d54333",
   "metadata": {},
   "outputs": [
    {
     "name": "stdout",
     "output_type": "stream",
     "text": [
      "23 age\n",
      "name brian\n",
      "B 43\n",
      "newkey newValue\n",
      "y yy\n",
      "z 10\n"
     ]
    }
   ],
   "source": [
    "for x in k:\n",
    "    print(x,k[x])"
   ]
  },
  {
   "cell_type": "code",
   "execution_count": 59,
   "id": "657da6ea-623f-4ab2-96d8-71262baea673",
   "metadata": {},
   "outputs": [
    {
     "name": "stdout",
     "output_type": "stream",
     "text": [
      "[0, 1, 4, 9, 16, 25, 36, 49, 64, 81]\n"
     ]
    }
   ],
   "source": [
    "l3 = [x**2 for x in range(10)]\n",
    "print(l3)"
   ]
  },
  {
   "cell_type": "code",
   "execution_count": 60,
   "id": "f4998ea8-665a-432b-ac8a-56238781e88b",
   "metadata": {},
   "outputs": [
    {
     "name": "stdout",
     "output_type": "stream",
     "text": [
      "{64, 121, 289, 196, 4, 25}\n"
     ]
    }
   ],
   "source": [
    "s3 = {x**2 for x in range(2,20,3)}\n",
    "print(s3)"
   ]
  },
  {
   "cell_type": "code",
   "execution_count": 61,
   "id": "fbad7559-39c0-447d-9aae-8ef0b7928dfd",
   "metadata": {},
   "outputs": [
    {
     "data": {
      "text/plain": [
       "False"
      ]
     },
     "execution_count": 61,
     "metadata": {},
     "output_type": "execute_result"
    }
   ],
   "source": [
    "43 in d"
   ]
  },
  {
   "cell_type": "code",
   "execution_count": 62,
   "id": "be08b7ec-cff9-4852-a858-c964bc75b49e",
   "metadata": {},
   "outputs": [
    {
     "data": {
      "text/plain": [
       "True"
      ]
     },
     "execution_count": 62,
     "metadata": {},
     "output_type": "execute_result"
    }
   ],
   "source": [
    "23 in d"
   ]
  },
  {
   "cell_type": "code",
   "execution_count": 2,
   "id": "0dbca206-206d-4cbe-a341-745686abf5dd",
   "metadata": {},
   "outputs": [],
   "source": [
    "\"\"\"Let say you are a teacher and you have different student records containing \n",
    "id of a student and the marks list in each subject where different students have taken \n",
    "different number of subjects. All these records are in hard copy. you want to enter\n",
    "all the data in computer and want to compute the average marks of each student\n",
    "and display.\"\"\"\n",
    "\n",
    "def getData():\n",
    "    d = {}\n",
    "    while True:\n",
    "        studentId = int(input(\"Enter student Id :\"))\n",
    "        marks  = input(\"Enter the marks by comma separated values :\")\n",
    "        morestudents = input('Enter \"no\" to quit insertion : ')\n",
    "        if studentId in d:\n",
    "            print(f\"{studentId} is already on the list\")\n",
    "        else:\n",
    "            d[studentId] = marks.split(\",\")\n",
    "        if morestudents.lower() == \"no\":\n",
    "            return d\n",
    "    \n",
    "\n",
    "def getAveragemarks(d):\n",
    "    avgmarksdict = {}\n",
    "    for x in d:\n",
    "        l = d[x]\n",
    "        sum = 0\n",
    "        for marks in l:\n",
    "            sum += int(marks)\n",
    "        avgmarksdict[x] = sum/len(l)\n",
    "        if 0 <= avgmarksdict[x] <= 40:\n",
    "            print(f\"Student : {x} got grade E\")\n",
    "        elif 40 <= avgmarksdict[x] <=60:      \n",
    "            return avgmarksdict\n",
    "\n",
    "    "
   ]
  },
  {
   "cell_type": "code",
   "execution_count": 3,
   "id": "0d2a83b7-8858-491f-b9e1-6c24c66155ff",
   "metadata": {},
   "outputs": [
    {
     "name": "stdin",
     "output_type": "stream",
     "text": [
      "Enter student Id : 2\n",
      "Enter the marks by comma separated values : 12, 3, 4, 5\n",
      "Enter \"no\" to quit insertion :  no\n"
     ]
    }
   ],
   "source": [
    "studentData = getData()"
   ]
  },
  {
   "cell_type": "code",
   "execution_count": 122,
   "id": "610e064e-5957-49b9-98b7-5aae5663a9d4",
   "metadata": {},
   "outputs": [
    {
     "data": {
      "text/plain": [
       "{12: ['56', '45', '13'], 45: ['44', '55', '66', '77', '4'], 4: ['5', '6', '7']}"
      ]
     },
     "execution_count": 122,
     "metadata": {},
     "output_type": "execute_result"
    }
   ],
   "source": [
    "studentData"
   ]
  },
  {
   "cell_type": "code",
   "execution_count": 124,
   "id": "49ca8bf2-d675-4e90-8910-f207e378b773",
   "metadata": {},
   "outputs": [
    {
     "name": "stdout",
     "output_type": "stream",
     "text": [
      "Student : 12 got grade E\n",
      "Student : 4 got grade E\n",
      "Student : 12 got avg marks as 38.0\n",
      "Student : 45 got avg marks as 49.2\n",
      "Student : 4 got avg marks as 6.0\n"
     ]
    }
   ],
   "source": [
    "avgm = getAveragemarks(studentData)\n",
    "for x in avgm:\n",
    "    print(f\"Student : {x} got avg marks as {avgm[x]}\")\n",
    "    "
   ]
  },
  {
   "cell_type": "code",
   "execution_count": 2,
   "id": "00a0b179-6a85-4218-9760-028f45dc91f3",
   "metadata": {},
   "outputs": [
    {
     "name": "stdout",
     "output_type": "stream",
     "text": [
      "Collecting WordCloud\n",
      "  Using cached wordcloud-1.9.3-cp312-cp312-macosx_10_9_x86_64.whl.metadata (3.4 kB)\n",
      "Requirement already satisfied: numpy>=1.6.1 in /usr/local/Cellar/jupyterlab/4.2.3/libexec/lib/python3.12/site-packages (from WordCloud) (2.1.1)\n",
      "Requirement already satisfied: pillow in /usr/local/Cellar/jupyterlab/4.2.3/libexec/lib/python3.12/site-packages (from WordCloud) (10.4.0)\n",
      "Requirement already satisfied: matplotlib in /usr/local/Cellar/jupyterlab/4.2.3/libexec/lib/python3.12/site-packages (from WordCloud) (3.9.1)\n",
      "Requirement already satisfied: contourpy>=1.0.1 in /usr/local/Cellar/jupyterlab/4.2.3/libexec/lib/python3.12/site-packages (from matplotlib->WordCloud) (1.2.1)\n",
      "Requirement already satisfied: cycler>=0.10 in /usr/local/Cellar/jupyterlab/4.2.3/libexec/lib/python3.12/site-packages (from matplotlib->WordCloud) (0.12.1)\n",
      "Requirement already satisfied: fonttools>=4.22.0 in /usr/local/Cellar/jupyterlab/4.2.3/libexec/lib/python3.12/site-packages (from matplotlib->WordCloud) (4.53.1)\n",
      "Requirement already satisfied: kiwisolver>=1.3.1 in /usr/local/Cellar/jupyterlab/4.2.3/libexec/lib/python3.12/site-packages (from matplotlib->WordCloud) (1.4.5)\n",
      "Requirement already satisfied: packaging>=20.0 in /usr/local/Cellar/jupyterlab/4.2.3/libexec/lib/python3.12/site-packages (from matplotlib->WordCloud) (24.1)\n",
      "Requirement already satisfied: pyparsing>=2.3.1 in /usr/local/Cellar/jupyterlab/4.2.3/libexec/lib/python3.12/site-packages (from matplotlib->WordCloud) (3.1.2)\n",
      "Requirement already satisfied: python-dateutil>=2.7 in /usr/local/Cellar/jupyterlab/4.2.3/libexec/lib/python3.12/site-packages (from matplotlib->WordCloud) (2.9.0.post0)\n",
      "Requirement already satisfied: six>=1.5 in /usr/local/Cellar/jupyterlab/4.2.3/libexec/lib/python3.12/site-packages (from python-dateutil>=2.7->matplotlib->WordCloud) (1.16.0)\n",
      "Using cached wordcloud-1.9.3-cp312-cp312-macosx_10_9_x86_64.whl (174 kB)\n",
      "Installing collected packages: WordCloud\n",
      "Successfully installed WordCloud-1.9.3\n",
      "Note: you may need to restart the kernel to use updated packages.\n"
     ]
    }
   ],
   "source": [
    "pip install WordCloud"
   ]
  },
  {
   "cell_type": "code",
   "execution_count": 4,
   "id": "5e1c95c8-0aac-45b1-ab6f-247dc5a3a9fe",
   "metadata": {},
   "outputs": [
    {
     "data": {
      "image/png": "[encoded data removed]",
      "text/plain": [
       "<Figure size 640x480 with 1 Axes>"
      ]
     },
     "metadata": {},
     "output_type": "display_data"
    }
   ],
   "source": [
    "import matplotlib.pyplot as plt\n",
    "from wordcloud import WordCloud\n",
    "text = \"I love Programming with python because it's simple and easy to learn\"\n",
    "wordcloud = WordCloud(width=800, height=400).generate(text)\n",
    "plt.imshow(wordcloud, interpolation='bilinear')\n",
    "plt.axis('off')\n",
    "plt.title('Word Tree')\n",
    "plt.show()"
   ]
  },
  {
   "cell_type": "code",
   "execution_count": 3,
   "id": "f36be841-69b4-46c7-915c-60c338e64714",
   "metadata": {},
   "outputs": [],
   "source": [
    "# nested for loops in python\n",
    "Drinks = [\"Juice\", \"Passion\", \"Mango\", \"Passion\"]\n",
    "food = [\"Pizza\", \"Buns\", \"Smocha\", \"Pilau\"]\n",
    "for one in Drinks:\n",
    "    for two in food:\n",
    "        \n",
    "        print(f\"{one} and {two} are the best combo for fast foods\")"
   ]
  },
  {
   "cell_type": "code",
   "execution_count": 4,
   "id": "e54a605c-2b27-4947-8375-ad14b36cdd80",
   "metadata": {},
   "outputs": [],
   "source": [
    "# Automatic File sorter with file Explorer \n",
    "import os, shutil"
   ]
  },
  {
   "cell_type": "code",
   "execution_count": 6,
   "id": "57e72a43-643c-435f-b64b-d35e86339d4a",
   "metadata": {},
   "outputs": [],
   "source": [
    "path = r'/Users/briankimanzi/Desktop/FileSorting/'"
   ]
  },
  {
   "cell_type": "code",
   "execution_count": 27,
   "id": "d953186a-9016-425e-a040-333992f2ccb2",
   "metadata": {},
   "outputs": [
    {
     "name": "stdout",
     "output_type": "stream",
     "text": [
      "There are more files that were not moved\n",
      "There are more files that were not moved\n",
      "There are more files that were not moved\n",
      "There are more files that were not moved\n",
      "There are more files that were not moved\n",
      "There are more files that were not moved\n",
      "There are more files that were not moved\n",
      "There are more files that were not moved\n"
     ]
    }
   ],
   "source": [
    "file_name = os.listdir(path) # lists all the files in the directory\n",
    "print(file_name)\n",
    "\n",
    "\n",
    "# checks if the path exist\n",
    "folder_names  = ['xlsx files', 'Image files', 'text files']\n",
    "for loop in range(0,3):\n",
    "    if not os.path.exists(path + folder_names[loop]):\n",
    "        os.makedirs(path + folder_names[loop])\n",
    "\n",
    "\n",
    "# A script to read the files and place them on each folder\n",
    "for file in file_name:\n",
    "    if \".xlsx\" in file and not os.path.exists(path + \"xlsx files/\" + file):\n",
    "        shutil.move(path + file, path + \"xlsx files/\" + file)\n",
    "    elif \".png\" in file and not os.path.exists(path + \"Image files/\" + file):\n",
    "        shutil.move(path + file, path + \"Image files/\" + file)\n",
    "    elif \".txt\" in file and not os.path.exists(path + \"text files/\" + file):\n",
    "        shutil.move(path + file, path + \"text files/\" + file)\n",
    "    else:\n",
    "        print(\"There are more files that were not moved\")\n",
    "        "
   ]
  },
  {
   "cell_type": "code",
   "execution_count": null,
   "id": "88a93596-f69b-4476-97b0-006fcc30b34f",
   "metadata": {},
   "outputs": [],
   "source": []
  }
 ],
 "metadata": {
  "kernelspec": {
   "display_name": "Python 3 (ipykernel)",
   "language": "python",
   "name": "python3"
  },
  "language_info": {
   "codemirror_mode": {
    "name": "ipython",
    "version": 3
   },
   "file_extension": ".py",
   "mimetype": "text/x-python",
   "name": "python",
   "nbconvert_exporter": "python",
   "pygments_lexer": "ipython3",
   "version": "3.12.6"
  }
 },
 "nbformat": 4,
 "nbformat_minor": 5
}
