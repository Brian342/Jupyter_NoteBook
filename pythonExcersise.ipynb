{
 "cells": [
  {
   "cell_type": "code",
   "execution_count": 3,
   "id": "f6b04979-f58f-4355-a3d3-e33a19a0b2d6",
   "metadata": {},
   "outputs": [
    {
     "name": "stdout",
     "output_type": "stream",
     "text": [
      "The area is 157.1\n",
      "The circumference is 78.55\n"
     ]
    }
   ],
   "source": [
    "# Practice Exercise\n",
    "\"\"\"Write a function that computes both the area and circumference of a circle using function\"\"\"\n",
    "import math\n",
    "pi = 3.142\n",
    "def computeArea(r):\n",
    "    return 2 * pi * math.pow(r,2)\n",
    "\n",
    "def computerCircumference(r):\n",
    "    return  pi * r * r\n",
    "\n",
    "r = 5\n",
    "print(f\"The area is {computeArea(r)}\")\n",
    "print(f\"The circumference is {computerCircumference(r)}\")\n"
   ]
  },
  {
   "cell_type": "code",
   "execution_count": 21,
   "id": "aad479f4-1e88-4e9c-a814-b95b7931a472",
   "metadata": {},
   "outputs": [],
   "source": [
    "\"\"\"A program is required that accepts marks in three subjects and calculates\n",
    "the average mark. The program then assigns the students a grade based on the average \n",
    "mark using the grading system below\"\"\"\n",
    "def obtainMarks():\n",
    "    subj1  = int(input(\"Enter your first subject marks: \"))\n",
    "    subj2  = int(input(\"Enter your second subject marks: \"))\n",
    "    subj3  = int(input(\"Enter your third subject marks: \"))\n",
    "    sum = subj1 + subj2 + subj3\n",
    "    return sum\n",
    "\n",
    "def AverageMark(sum):\n",
    "    avg = sum /3\n",
    "    if 80 < avg <= 100:\n",
    "        return \"A\"\n",
    "    elif 70 < avg <= 80:\n",
    "        return \"B\"\n",
    "    elif 60 < avg <= 70:\n",
    "        return \"C\"\n",
    "    elif 50 < avg <= 60:\n",
    "        return \"D\"\n",
    "    elif 0 <= avg <= 50:\n",
    "        return \"E\"\n",
    "    return avg"
   ]
  },
  {
   "cell_type": "code",
   "execution_count": 22,
   "id": "fcdd6afa-8c1d-4b46-8ab3-ab9de7318090",
   "metadata": {},
   "outputs": [
    {
     "name": "stdin",
     "output_type": "stream",
     "text": [
      "Enter your first subject marks:  90\n",
      "Enter your second subject marks:  80\n",
      "Enter your third subject marks:  70\n"
     ]
    },
    {
     "name": "stdout",
     "output_type": "stream",
     "text": [
      "Your average marks are 80.0 You have obtained B\n"
     ]
    }
   ],
   "source": [
    "marks = obtainMarks()\n",
    "grade = AverageMark(marks)\n",
    "\n",
    "print(f\"Your average marks are {marks/3} You have obtained {grade}\")\n"
   ]
  },
  {
   "cell_type": "code",
   "execution_count": 26,
   "id": "a49b2503-4fc6-412e-8811-37a898948b83",
   "metadata": {},
   "outputs": [],
   "source": [
    "\"\"\"A program is required that accepts three integers and finds the smallest\n",
    "Write a program with a function called small which accepts the 3 integers entered via \n",
    "the main function and returns the smallest. the main function should output the 3 numbers entered\n",
    "together with the smallest\"\"\"\n",
    "def smallestValue(int1,int2,int3):\n",
    "    if int1 <= int2 and int1 <= int3:\n",
    "        print(f\"int1 = {int1} is the smallest value\")\n",
    "    elif int2 <= int1 and int2 <= int3:\n",
    "        print(f\"int2 = {int2} is the smallest value\")\n",
    "    else:\n",
    "        print(f\"int3  = {int3} is the smallest value\")\n",
    "    return int1,int2,int3\n"
   ]
  },
  {
   "cell_type": "code",
   "execution_count": 27,
   "id": "79cafaf2-c9a2-4138-8bbd-b731dd197bc4",
   "metadata": {},
   "outputs": [
    {
     "name": "stdin",
     "output_type": "stream",
     "text": [
      "Enter the first integer 5\n",
      "Enter the second integer -9\n",
      "Enter the third integer 6\n"
     ]
    },
    {
     "name": "stdout",
     "output_type": "stream",
     "text": [
      "int2 = -9 is the smallest value\n",
      "(5, -9, 6)\n"
     ]
    }
   ],
   "source": [
    "# def smallest(lists):\n",
    "#     small = lists[0]\n",
    "#     for num in range(lists):\n",
    "#         if num < small:\n",
    "#             small = num\n",
    "#     print(f'The smallest value in the range is {small}')\n",
    "#     return small\n",
    "int1 = int(input(\"Enter the first integer\"))\n",
    "int2 = int(input(\"Enter the second integer\"))\n",
    "int3 = int(input(\"Enter the third integer\"))\n",
    "print(smallestValue(int1,int2,int3))"
   ]
  },
  {
   "cell_type": "code",
   "execution_count": 69,
   "id": "18e500a1-a870-4357-b6c2-fab5cb0b8b5a",
   "metadata": {},
   "outputs": [],
   "source": [
    "# function definition\n",
    "\"\"\"Write a function definition for a function called even which accepts an integer \n",
    "and returns 1 to the calling function if the integer is even and 0 if it is odd\"\"\"\n",
    "def evenNUmber(num):\n",
    "    \"\"\"A function that 1st checks if number entered is integer \n",
    "    then calculates the num and returns 1 for even and 0 for odd\"\"\" \n",
    "    if not isinstance(num,int):\n",
    "        print(\"Error : value not an integer\")\n",
    "    print(\"1\" if num % 2 == 0 else \"0\")\n",
    "    # elif num % 2 == 0:\n",
    "    #     return 1\n",
    "    # else:\n",
    "    #     return 0\n",
    "    return num"
   ]
  },
  {
   "cell_type": "code",
   "execution_count": 70,
   "id": "725b7442-f607-4ee5-8c40-f7ac9e59aa9c",
   "metadata": {},
   "outputs": [
    {
     "name": "stdout",
     "output_type": "stream",
     "text": [
      " Solution \n",
      "          A value of one indicates the value is even\n",
      "          A value of zero indicates the value is odd \n"
     ]
    },
    {
     "name": "stdin",
     "output_type": "stream",
     "text": [
      "Enter a value 1\n"
     ]
    },
    {
     "name": "stdout",
     "output_type": "stream",
     "text": [
      "0\n",
      "The value entered is = 1\n"
     ]
    }
   ],
   "source": [
    "print(\"\"\" Solution \n",
    "          A value of one indicates the value is even\n",
    "          A value of zero indicates the value is odd \"\"\")\n",
    "output = int(input(\"Enter a value\"))\n",
    "print(f\"The value entered is = {evenNUmber(output)}\")"
   ]
  },
  {
   "cell_type": "code",
   "execution_count": 61,
   "id": "5430f4eb-09b7-4c7d-b23d-b56f076ebe9f",
   "metadata": {},
   "outputs": [],
   "source": [
    "\"\"\"Write a program that accepts 3 floating-point numbers and outputs the biggest.\n",
    "The program should make use of a (user-defined) function called get_big, which accepts\n",
    "the three numbers entered from main and then returns the biggest. The main function should\n",
    "then output the three numbers entered together with the biggest\"\"\"\n",
    "def get_big(num1,num2,num3):\n",
    "    \"\"\"A function that checks if values entered are float if not error is raised else\n",
    "    it checks the biggest value and returns it to main function\"\"\"\n",
    "    output = num1,num2,num3\n",
    "    if not isinstance (output,float):\n",
    "        return \"Error: Values are not float\"\n",
    "    if num2 <= num1 >= num3:\n",
    "        print(f\"num1 = {num1} is the biggest\")\n",
    "    elif num1 <= num2 >= num3:\n",
    "        print(f\"num2 = {num2} is the biggest\")\n",
    "    else:\n",
    "        print(f\"num3 = {num3} is the biggest\")\n",
    "    return num1,num2,num3"
   ]
  },
  {
   "cell_type": "code",
   "execution_count": 62,
   "id": "a698db69-acf0-4a2e-a66d-e35476c6392f",
   "metadata": {},
   "outputs": [
    {
     "name": "stdin",
     "output_type": "stream",
     "text": [
      "Enter the first number:  4\n",
      "Enter the second number:  5\n",
      "Enter the third number:  6.9\n"
     ]
    },
    {
     "name": "stdout",
     "output_type": "stream",
     "text": [
      "Error: Values are not float\n"
     ]
    }
   ],
   "source": [
    "num1 = float(input(\"Enter the first number: \"))\n",
    "num2 = float(input(\"Enter the second number: \"))\n",
    "num3 = float(input(\"Enter the third number: \"))\n",
    "print(get_big(num1,num2,num3))"
   ]
  },
  {
   "cell_type": "code",
   "execution_count": 77,
   "id": "de127814-95d5-49da-9a6f-bbe288c9c16c",
   "metadata": {},
   "outputs": [],
   "source": [
    "\"\"\"Write a program that uses a function called calc_vol to compute the volume of a\n",
    "cube as vol = height*length*breadth. the program should output both the dimensions\n",
    "and result\"\"\"\n",
    "def calc_vol():\n",
    "    height = int(input(\"Enter the height: \"))\n",
    "    length = int(input(\"Enter the length: \"))\n",
    "    breadth = int(input(\"Enter the breadth: \"))\n",
    "    print(f\"The height is = {height}\")\n",
    "    print(f\"The length is = {length}\")\n",
    "    print(f\"The breadth is = {breadth}\")\n",
    "    return height*length*breadth"
   ]
  },
  {
   "cell_type": "code",
   "execution_count": 78,
   "id": "db2649b1-f3ff-44ea-9134-4362e10ab444",
   "metadata": {},
   "outputs": [
    {
     "name": "stdin",
     "output_type": "stream",
     "text": [
      "Enter the height:  4\n",
      "Enter the length:  5\n",
      "Enter the breadth:  6\n"
     ]
    },
    {
     "name": "stdout",
     "output_type": "stream",
     "text": [
      "The height is = 4\n",
      "The length is = 5\n",
      "The breadth is = 6\n",
      "The volume is 120\n"
     ]
    }
   ],
   "source": [
    "print(f\"The volume is {calc_vol()}\")    "
   ]
  },
  {
   "cell_type": "code",
   "execution_count": 115,
   "id": "6c223246-6a95-4fb7-8974-fd88387e4f31",
   "metadata": {},
   "outputs": [],
   "source": [
    "\"\"\"Write a program that computes the area of either a rectangle, \n",
    "a circle or a right-angled triangle. The program should display a menu \n",
    "that enables the user to select the type of figure whose area he/she wants \n",
    "to compute. Depending on the users choice, the program should prompt for the \n",
    "dimensions and perform the computations. The output should be: - The type of figure, \n",
    "the dimensions and the area. Define three functions: - one to compute the area of a \n",
    "rectangle, one the area of a circle and one the area of a triangle. \n",
    "(NB: 1. The calculation should be for only one figure at any one time. \n",
    "2. Computations should be done in the user-defined functions.)\"\"\"\n",
    "def compute_rect():\n",
    "    length = int(input(\"Enter the length: \"))\n",
    "    width = int(input(\"Enter the width: \"))\n",
    "    height = int(input(\"Enter the height\"))\n",
    "    print(f\"The length = {length}\")\n",
    "    print(f\"The width = {width}\")\n",
    "    print(f\"The height = {height}\")\n",
    "    area = length + width + height\n",
    "    perimeter = 2*(length+width+height)\n",
    "    output = print(f\"The area is {area}, the perimeter is {perimeter}\")\n",
    "    return output\n",
    "\n",
    "def compute_circle():\n",
    "    import math\n",
    "    pi = 3.145\n",
    "    radius = int(input(\"Enter your Radius: \"))\n",
    "    area = pi * math.pow(radius,2)\n",
    "    circumference = pi * radius \n",
    "    output = print(f\"The area is {area}, the circumference is {circumference}\")\n",
    "    return output\n",
    "    \n",
    "def compute_rightAngle():\n",
    "    import math\n",
    "    base = int(input(\"Enter your base :\"))\n",
    "    height = int(input(\"Enter the height :\"))\n",
    "    area = 1/2 * (base * height)\n",
    "    perimeter = base + height + math.sqrt(math.pow(base,2) + math.pow(height,2))\n",
    "    output = print(f\"The area is {area}, the perimeter is {round(perimeter,2)}\")\n",
    "    return output\n"
   ]
  },
  {
   "cell_type": "code",
   "execution_count": 116,
   "id": "b0aaf839-a982-41f6-83f9-3dd27decaf20",
   "metadata": {},
   "outputs": [
    {
     "name": "stdout",
     "output_type": "stream",
     "text": [
      "Welcome programmer\n",
      "        Below is a program that will compute area and perimeter of 3 figures\n",
      "        1. circle\n",
      "        2. Rectangle\n",
      "        3. RightAngle Triangle\n",
      "        Select a figure in order to do the calculation \n",
      "        (Select the number for computation that is if circle select 1)\n"
     ]
    },
    {
     "name": "stdin",
     "output_type": "stream",
     "text": [
      "Enter the figure(number) : 3\n",
      "Enter your base : 4\n",
      "Enter the height : 5\n"
     ]
    },
    {
     "name": "stdout",
     "output_type": "stream",
     "text": [
      "The area is 10.0, the perimeter is 15.4\n",
      "None\n"
     ]
    }
   ],
   "source": [
    "print(\"\"\"Welcome programmer\n",
    "        Below is a program that will compute area and perimeter of 3 figures\n",
    "        1. circle\n",
    "        2. Rectangle\n",
    "        3. RightAngle Triangle\n",
    "        Select a figure in order to do the calculation \n",
    "        (Select the number for computation that is if circle select 1)\"\"\")\n",
    "def selection():\n",
    "    select_figure = int(input(\"Enter the figure(number) :\"))\n",
    "    match select_figure:\n",
    "        case 1:\n",
    "            return compute_circle()\n",
    "        case 2:\n",
    "            return compute_rect()\n",
    "        case 3:\n",
    "            return compute_rightAngle()\n",
    "        case _:\n",
    "            raise Exception(\"Invalid figure number\")     \n",
    "print(selection())"
   ]
  },
  {
   "cell_type": "code",
   "execution_count": 12,
   "id": "e6f1c35c-511f-4a95-923e-1f4c75f2f8af",
   "metadata": {},
   "outputs": [
    {
     "name": "stdin",
     "output_type": "stream",
     "text": [
      "Enter the gross pay : 500001\n",
      "Enter the tax_amount : 2\n"
     ]
    },
    {
     "name": "stdout",
     "output_type": "stream",
     "text": [
      "The gross percentage is 35%\n",
      "The gross is 500001\n",
      "The Tax_amount is 2\n",
      "The net_pay is 499999\n"
     ]
    }
   ],
   "source": [
    "# Write a program using the tax information below:\n",
    "\"\"\"Gross pay                                Tax Rate\n",
    "    over 50,000                              35%\n",
    "    >=40,000 but below 50,000                30%\n",
    "    >=20,000 but below 40,000                25%\n",
    "    >-12,000 but below 20,000                15%\n",
    "    Below 12,000\n",
    "Write a program that accepts the gross pay and outputs both the tax amount and the\n",
    "net pay (Assume the net pay is gross pay - tax amount).Define a function calc_tax\n",
    "that accepts the gross from main and then computes and returns the tax amount. \n",
    "Main should  then output both the tax amount and the net pay\"\"\"\n",
    "def calc_tax(gross):\n",
    "    if gross > 50000:\n",
    "        return \"35%\"\n",
    "    elif 40000 <= gross < 50000:\n",
    "        return \"30%\"\n",
    "    elif 20000 <= gross < 40000:\n",
    "        return \"25%\"\n",
    "    elif 12000 <= gross < 20000:\n",
    "        return \"15%\"\n",
    "    elif gross < 12000:\n",
    "        return \"Null\"\n",
    "    else:\n",
    "        print(\"Not On the Merit\")\n",
    "\n",
    "        \n",
    "    \n",
    "gross = int(input(\"Enter the gross pay :\"))\n",
    "tax_amount = int(input(\"Enter the tax_amount :\"))\n",
    "net_pay = gross - tax_amount\n",
    "\n",
    "print(f\"The gross percentage is {calc_tax(gross)}\")\n",
    "print(f\"The gross is {gross}\")\n",
    "print(f\"The Tax_amount is {tax_amount}\")\n",
    "print(f\"The net_pay is {net_pay}\")\n",
    "\n",
    "    \n"
   ]
  },
  {
   "cell_type": "code",
   "execution_count": 135,
   "id": "2d904863-80f8-4846-8a56-bb4fb2367d12",
   "metadata": {},
   "outputs": [
    {
     "name": "stdout",
     "output_type": "stream",
     "text": [
      "The sum of all whole numbers between 20 and 70 is: 2295\n"
     ]
    }
   ],
   "source": [
    "\"\"\"Write a program that computes the sum of all whole numbers between 20 and 70\n",
    "using a loop. The program should use a function called calculate_total to compute\n",
    "the sum and return it to the main function, which then outputs it\"\"\"\n",
    "def calculate_total(x):\n",
    "    # count = 0\n",
    "    # for i in range(20,70+1):\n",
    "    #     # print(i)\n",
    "    #     count += i\n",
    "    # print(f\"The sum of the whole numbers between 20 and 70 is {count}\")\n",
    "# recursive function \n",
    "    if x == 70:\n",
    "        return x\n",
    "    else:\n",
    "        return x + calculate_total(x+1)\n",
    "print(f\"The sum of all whole numbers between 20 and 70 is: {calculate_total(20)}\")"
   ]
  },
  {
   "cell_type": "code",
   "execution_count": 5,
   "id": "447d7a48-dcf5-4e09-a75e-1c3ef88f0b1c",
   "metadata": {},
   "outputs": [
    {
     "ename": "SyntaxError",
     "evalue": "invalid syntax (2797575582.py, line 2)",
     "output_type": "error",
     "traceback": [
      "\u001b[0;36m  Cell \u001b[0;32mIn[5], line 2\u001b[0;36m\u001b[0m\n\u001b[0;31m    pip install openpyxl sqlalchemy pyodbc\u001b[0m\n\u001b[0m        ^\u001b[0m\n\u001b[0;31mSyntaxError\u001b[0m\u001b[0;31m:\u001b[0m invalid syntax\n"
     ]
    }
   ],
   "source": [
    "# Class"
   ]
  },
  {
   "cell_type": "code",
   "execution_count": null,
   "id": "9d2759b0-7314-4920-a8b7-86943ebc991e",
   "metadata": {},
   "outputs": [],
   "source": [
    "from textblob import TextBlob\n",
    "def correct_grammar(Text):\n",
    "    \"\"\"A function that checks if a sentence\n",
    "    is grammatically correct or wrong\n",
    "    \"\"\"\n",
    "    blob = TextBlob(text)\n",
    "    corrected_text = str(blob.correct())\n",
    "    return corrected_text\n",
    "text = input(\"Enter your sentence: \")\n",
    "corrected_text = correct_grammar(text)\n",
    "print(f\"corrected: {corrected_text}\")"
   ]
  },
  {
   "cell_type": "code",
   "execution_count": 49,
   "id": "2b662132-bf9e-4b77-9bc2-159f926ccf60",
   "metadata": {},
   "outputs": [],
   "source": [
    "def validate_pin(pin):\n",
    "    if len(pin) == 4 or len(pin) == 6:\n",
    "        if pin.isdigit():\n",
    "            return True\n",
    "    return False"
   ]
  },
  {
   "cell_type": "code",
   "execution_count": 48,
   "id": "7a5cadbf-aa92-4b0a-9447-a181ea100039",
   "metadata": {},
   "outputs": [
    {
     "data": {
      "text/plain": [
       "False"
      ]
     },
     "execution_count": 48,
     "metadata": {},
     "output_type": "execute_result"
    }
   ],
   "source": [
    "validate_pin(\"123def reverse_words(text):\")"
   ]
  },
  {
   "cell_type": "code",
   "execution_count": 38,
   "id": "791c94f9-0216-4c4f-b29e-5779dcfe1259",
   "metadata": {},
   "outputs": [],
   "source": [
    "def is_triangle(a, b, c):\n",
    "    # sum = a + b\n",
    "    if a + b > c:\n",
    "        return True\n",
    "    return False"
   ]
  },
  {
   "cell_type": "code",
   "execution_count": 45,
   "id": "3f010dc8-c760-4789-be08-34eaecfa9dc4",
   "metadata": {},
   "outputs": [],
   "source": [
    "def reverse_words(text):\n",
    "    return text[::-1]"
   ]
  },
  {
   "cell_type": "code",
   "execution_count": 46,
   "id": "ca729d59-7c89-490f-840c-b47da3db884e",
   "metadata": {},
   "outputs": [
    {
     "data": {
      "text/plain": [
       "'ti ni gnivil era ew dlrow wen a si sihT'"
      ]
     },
     "execution_count": 46,
     "metadata": {},
     "output_type": "execute_result"
    }
   ],
   "source": [
    "reverse_words(text=\"This is a new world we are living in it\")"
   ]
  },
  {
   "cell_type": "code",
   "execution_count": 110,
   "id": "56461c3e-8c55-4a33-b95c-efb3158b0efd",
   "metadata": {},
   "outputs": [],
   "source": [
    "def friendly(x):\n",
    "    value = [friend for friend in x if len(friend) == 4]\n",
    "    return value"
   ]
  },
  {
   "cell_type": "code",
   "execution_count": 113,
   "id": "b13a3dc2-68e1-4c42-9863-7ce6bda5c8f4",
   "metadata": {},
   "outputs": [
    {
     "name": "stdout",
     "output_type": "stream",
     "text": [
      "['sean']\n"
     ]
    }
   ],
   "source": [
    "x = [\"leo\", \"passion\", \"fread\",\"sean\"]\n",
    "value = friendly(x)\n",
    "print(value)"
   ]
  },
  {
   "cell_type": "code",
   "execution_count": 7,
   "id": "1f0fdebc-0e50-4468-90e9-f3a1f0e67557",
   "metadata": {},
   "outputs": [],
   "source": [
    "def calculate_sum():\n",
    "    sum = 0\n",
    "    i = 1\n",
    "    for i in range (1000000000000):\n",
    "        sum += i\n",
    "    return sum\n",
    "    "
   ]
  },
  {
   "cell_type": "code",
   "execution_count": 8,
   "id": "900b6654-18bd-4a59-b1d7-2c216388abe5",
   "metadata": {},
   "outputs": [
    {
     "ename": "KeyboardInterrupt",
     "evalue": "",
     "output_type": "error",
     "traceback": [
      "\u001b[0;31m---------------------------------------------------------------------------\u001b[0m",
      "\u001b[0;31mKeyboardInterrupt\u001b[0m                         Traceback (most recent call last)",
      "Cell \u001b[0;32mIn[8], line 1\u001b[0m\n\u001b[0;32m----> 1\u001b[0m output \u001b[38;5;241m=\u001b[39m \u001b[43mcalculate_sum\u001b[49m\u001b[43m(\u001b[49m\u001b[43m)\u001b[49m\n\u001b[1;32m      2\u001b[0m \u001b[38;5;28mprint\u001b[39m(output)\n",
      "Cell \u001b[0;32mIn[7], line 5\u001b[0m, in \u001b[0;36mcalculate_sum\u001b[0;34m()\u001b[0m\n\u001b[1;32m      3\u001b[0m i \u001b[38;5;241m=\u001b[39m \u001b[38;5;241m1\u001b[39m\n\u001b[1;32m      4\u001b[0m \u001b[38;5;28;01mfor\u001b[39;00m i \u001b[38;5;129;01min\u001b[39;00m \u001b[38;5;28mrange\u001b[39m (\u001b[38;5;241m1000000000000\u001b[39m):\n\u001b[0;32m----> 5\u001b[0m     \u001b[38;5;28msum\u001b[39m \u001b[38;5;241m+\u001b[39m\u001b[38;5;241m=\u001b[39m i\n\u001b[1;32m      6\u001b[0m \u001b[38;5;28;01mreturn\u001b[39;00m \u001b[38;5;28msum\u001b[39m\n",
      "\u001b[0;31mKeyboardInterrupt\u001b[0m: "
     ]
    }
   ],
   "source": [
    "output = calculate_sum()\n",
    "print(output)"
   ]
  },
  {
   "cell_type": "code",
   "execution_count": 1,
   "id": "81be40e3-38f6-477e-8aca-d76ceda8d219",
   "metadata": {},
   "outputs": [],
   "source": [
    "def calculate_sum2():\n",
    "    n = 1000000000000\n",
    "    sum = (n * (n + 1)) / 2\n",
    "    return sum"
   ]
  },
  {
   "cell_type": "code",
   "execution_count": 2,
   "id": "387ad9bd-e771-451f-9da5-eb3213496c99",
   "metadata": {},
   "outputs": [
    {
     "name": "stdout",
     "output_type": "stream",
     "text": [
      "5.000000000005e+23\n"
     ]
    }
   ],
   "source": [
    "output2 = calculate_sum2()\n",
    "print(output2)"
   ]
  },
  {
   "cell_type": "code",
   "execution_count": 3,
   "id": "fc012b59-6eb5-4095-ae1f-d0cdc849ee41",
   "metadata": {},
   "outputs": [
    {
     "name": "stdout",
     "output_type": "stream",
     "text": [
      "7\n"
     ]
    }
   ],
   "source": [
    "print(2^5)"
   ]
  },
  {
   "cell_type": "code",
   "execution_count": null,
   "id": "2db733b5-9921-4b13-9107-6454acafa4c6",
   "metadata": {},
   "outputs": [],
   "source": []
  }
 ],
 "metadata": {
  "kernelspec": {
   "display_name": "Python 3 (ipykernel)",
   "language": "python",
   "name": "python3"
  },
  "language_info": {
   "codemirror_mode": {
    "name": "ipython",
    "version": 3
   },
   "file_extension": ".py",
   "mimetype": "text/x-python",
   "name": "python",
   "nbconvert_exporter": "python",
   "pygments_lexer": "ipython3",
   "version": "3.12.6"
  }
 },
 "nbformat": 4,
 "nbformat_minor": 5
}
