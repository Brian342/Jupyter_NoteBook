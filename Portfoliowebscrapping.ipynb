{
 "cells": [
  {
   "cell_type": "markdown",
   "id": "53b9e36b-60eb-4141-8105-72bb8187788e",
   "metadata": {},
   "source": [
    "# Web scrapping using Beautifulsoup"
   ]
  },
  {
   "cell_type": "code",
   "execution_count": 5,
   "id": "3fff2d54-3042-4ee8-b5c4-a4ba58c359c3",
   "metadata": {},
   "outputs": [],
   "source": [
    "from bs4 import BeautifulSoup\n",
    "import requests"
   ]
  },
  {
   "cell_type": "code",
   "execution_count": 8,
   "id": "f29322aa-c75b-4402-ae46-bf91ef030aa0",
   "metadata": {},
   "outputs": [
    {
     "data": {
      "text/plain": [
       "<Response [200]>"
      ]
     },
     "execution_count": 8,
     "metadata": {},
     "output_type": "execute_result"
    }
   ],
   "source": [
    "url = \"https://en.wikipedia.org/wiki/List_of_largest_companies_in_the_United_States_by_revenue\"\n",
    "page = requests.get(url)\n",
    "page"
   ]
  },
  {
   "cell_type": "code",
   "execution_count": null,
   "id": "ab0e4b68-a113-4cbd-9fe7-c607169eac3e",
   "metadata": {},
   "outputs": [],
   "source": [
    "soup = BeautifulSoup(page.text, 'html')\n",
    "soup"
   ]
  },
  {
   "cell_type": "code",
   "execution_count": null,
   "id": "2418c245-c454-4337-a74f-58cc3eef7e93",
   "metadata": {},
   "outputs": [],
   "source": [
    "soup.find('table', class_ = \"wikitable sortable\")"
   ]
  },
  {
   "cell_type": "code",
   "execution_count": null,
   "id": "f4193dd8-4819-4a8c-9b3d-5f5c0dfd0b12",
   "metadata": {},
   "outputs": [],
   "source": [
    "table = soup.find_all('table')[1]\n",
    "print(table)"
   ]
  },
  {
   "cell_type": "code",
   "execution_count": null,
   "id": "fe693f0a-b619-41fe-8acf-2cdaf3f83ceb",
   "metadata": {},
   "outputs": [],
   "source": [
    "header_titles = table.find_all('th')\n",
    "print(header_titles)"
   ]
  },
  {
   "cell_type": "code",
   "execution_count": 23,
   "id": "6f22fa40-bd1f-4cac-b829-df4dbe27ea3d",
   "metadata": {},
   "outputs": [
    {
     "name": "stdout",
     "output_type": "stream",
     "text": [
      "['Rank', 'Name', 'Industry', 'Revenue (USD billions)', 'Employees', 'Headquarters']\n"
     ]
    }
   ],
   "source": [
    "find_header_titles = [header.text.strip() for header in header_titles]\n",
    "print(find_header_titles)"
   ]
  },
  {
   "cell_type": "code",
   "execution_count": 24,
   "id": "a0d85ae5-77f2-4041-84be-11087399a153",
   "metadata": {},
   "outputs": [],
   "source": [
    "import pandas as pd"
   ]
  },
  {
   "cell_type": "code",
   "execution_count": 28,
   "id": "28da71b0-0c37-4041-9ffb-6eeb671c0afa",
   "metadata": {},
   "outputs": [
    {
     "data": {
      "text/html": [
       "<div>\n",
       "<style scoped>\n",
       "    .dataframe tbody tr th:only-of-type {\n",
       "        vertical-align: middle;\n",
       "    }\n",
       "\n",
       "    .dataframe tbody tr th {\n",
       "        vertical-align: top;\n",
       "    }\n",
       "\n",
       "    .dataframe thead th {\n",
       "        text-align: right;\n",
       "    }\n",
       "</style>\n",
       "<table border=\"1\" class=\"dataframe\">\n",
       "  <thead>\n",
       "    <tr style=\"text-align: right;\">\n",
       "      <th></th>\n",
       "      <th>Rank</th>\n",
       "      <th>Name</th>\n",
       "      <th>Industry</th>\n",
       "      <th>Revenue (USD billions)</th>\n",
       "      <th>Employees</th>\n",
       "      <th>Headquarters</th>\n",
       "    </tr>\n",
       "  </thead>\n",
       "  <tbody>\n",
       "  </tbody>\n",
       "</table>\n",
       "</div>"
      ],
      "text/plain": [
       "Empty DataFrame\n",
       "Columns: [Rank, Name, Industry, Revenue (USD billions), Employees, Headquarters]\n",
       "Index: []"
      ]
     },
     "execution_count": 28,
     "metadata": {},
     "output_type": "execute_result"
    }
   ],
   "source": [
    "df = pd.DataFrame(columns=find_header_titles)\n",
    "df"
   ]
  },
  {
   "cell_type": "code",
   "execution_count": null,
   "id": "53ca6776-5522-4f6f-8729-35b0f6a6ef6c",
   "metadata": {},
   "outputs": [],
   "source": [
    "columns_data = table.find_all('tr')\n",
    "columns_data"
   ]
  },
  {
   "cell_type": "code",
   "execution_count": null,
   "id": "768c5c56-7bc2-4f17-a1cc-b91c0147de2e",
   "metadata": {},
   "outputs": [],
   "source": [
    "for row in columns_data[1:]:\n",
    "    row_data = row.find_all('td')\n",
    "    row_info = [row_details.text.strip() for row_details in row_data]\n",
    "    \n",
    "    # print(row_info)\n",
    "    \n",
    "    length = len(df)\n",
    "    df.loc[length] = row_info"
   ]
  },
  {
   "cell_type": "code",
   "execution_count": 38,
   "id": "f2e8af60-9b8a-421e-a825-d54dc3544106",
   "metadata": {},
   "outputs": [],
   "source": [
    "df.to_csv('/Users/briankimanzi/Documents/programming Languages/PythonProgramming/webscrapping/Private_companies.csv', index=False)"
   ]
  },
  {
   "cell_type": "code",
   "execution_count": null,
   "id": "19f4fef9-11e2-479c-a2b3-8614b073c980",
   "metadata": {},
   "outputs": [],
   "source": []
  },
  {
   "cell_type": "markdown",
   "id": "cba7035e-5077-4286-8738-3d755fe371ff",
   "metadata": {},
   "source": [
    "# Webscrapping Table 3"
   ]
  },
  {
   "cell_type": "code",
   "execution_count": 41,
   "id": "a6426fd7-18df-4fde-95d3-cab5f2235521",
   "metadata": {},
   "outputs": [],
   "source": [
    "from bs4 import BeautifulSoup\n",
    "import requests"
   ]
  },
  {
   "cell_type": "code",
   "execution_count": 43,
   "id": "8197eb31-0d29-4af4-bda2-872c67e88af9",
   "metadata": {},
   "outputs": [
    {
     "data": {
      "text/plain": [
       "<Response [200]>"
      ]
     },
     "execution_count": 43,
     "metadata": {},
     "output_type": "execute_result"
    }
   ],
   "source": [
    "url = 'https://en.wikipedia.org/wiki/List_of_largest_companies_in_the_United_States_by_revenue'\n",
    "page = requests.get(url) # checks if the page is up and runnning\n",
    "page"
   ]
  },
  {
   "cell_type": "code",
   "execution_count": null,
   "id": "51145097-88d6-458b-9eb5-51efcb979caa",
   "metadata": {},
   "outputs": [],
   "source": [
    "soup = BeautifulSoup(page.text, 'html') # displays the html page on jupyter notebook\n",
    "soup"
   ]
  },
  {
   "cell_type": "code",
   "execution_count": null,
   "id": "b80cba30-e83a-4fe2-aeb0-cb0a1cfa51f6",
   "metadata": {},
   "outputs": [],
   "source": [
    "soup.find('table', class_ = 'wikitable sortable')"
   ]
  },
  {
   "cell_type": "code",
   "execution_count": null,
   "id": "a2fb0435-304c-4297-b2e4-6cec034c7efc",
   "metadata": {},
   "outputs": [],
   "source": [
    "table3 = soup.find_all('table')[2]\n",
    "print(table3)"
   ]
  },
  {
   "cell_type": "code",
   "execution_count": null,
   "id": "7f8cae49-8d9d-4ac1-843a-dde6e9b662b9",
   "metadata": {},
   "outputs": [],
   "source": [
    "header_table3 = table3.find_all('th')\n",
    "print(header_table3)"
   ]
  },
  {
   "cell_type": "code",
   "execution_count": null,
   "id": "2740fe58-ace6-4338-9784-5b5aa979f519",
   "metadata": {},
   "outputs": [],
   "source": [
    "list_header_table3 = [header.text.strip() for header in header_table3]\n",
    "print(list_header_table3)"
   ]
  },
  {
   "cell_type": "code",
   "execution_count": 54,
   "id": "91ecdd8b-f87c-4b5a-883c-5efa249c786f",
   "metadata": {},
   "outputs": [],
   "source": [
    "import pandas as pd"
   ]
  },
  {
   "cell_type": "code",
   "execution_count": null,
   "id": "9d3a1a70-733c-4f45-ad4a-ce3af7f2e650",
   "metadata": {},
   "outputs": [],
   "source": [
    "data = pd.DataFrame(columns=list_header_table3)\n",
    "data"
   ]
  },
  {
   "cell_type": "code",
   "execution_count": null,
   "id": "2e5ba74c-80f5-478d-8ba3-93701a5fafc7",
   "metadata": {},
   "outputs": [],
   "source": [
    "columns_data3 = table3.find_all('tr')\n",
    "columns_data3"
   ]
  },
  {
   "cell_type": "code",
   "execution_count": null,
   "id": "25df8567-2dfb-4351-a7e9-a102790ccdb9",
   "metadata": {},
   "outputs": [],
   "source": [
    "for row in columns_data3[1:]:\n",
    "    row_data3 = row.find_all('td')\n",
    "    row_information3 = [data3.text.strip() for data3 in row_data3]\n",
    "    # print(row_information3)\n",
    "\n",
    "    length = len(data)\n",
    "    data.loc[length] = row_information3"
   ]
  },
  {
   "cell_type": "code",
   "execution_count": 75,
   "id": "3eddf7f4-87cb-4bae-a4a2-92d93cf59ca6",
   "metadata": {},
   "outputs": [],
   "source": [
    "df.to_csv('/Users/briankimanzi/Documents/programming Languages/PythonProgramming/webscrapping/Companies_by_profit.csv', index=False)"
   ]
  },
  {
   "cell_type": "code",
   "execution_count": null,
   "id": "2eb26121-bb27-4731-800c-c518ca016262",
   "metadata": {},
   "outputs": [],
   "source": []
  }
 ],
 "metadata": {
  "kernelspec": {
   "display_name": "Python 3 (ipykernel)",
   "language": "python",
   "name": "python3"
  },
  "language_info": {
   "codemirror_mode": {
    "name": "ipython",
    "version": 3
   },
   "file_extension": ".py",
   "mimetype": "text/x-python",
   "name": "python",
   "nbconvert_exporter": "python",
   "pygments_lexer": "ipython3",
   "version": "3.12.6"
  }
 },
 "nbformat": 4,
 "nbformat_minor": 5
}
