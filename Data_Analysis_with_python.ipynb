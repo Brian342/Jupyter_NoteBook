{
 "cells": [
  {
   "cell_type": "code",
   "execution_count": null,
   "id": "dec9079b-3161-46a5-9d4e-340958130b3c",
   "metadata": {},
   "outputs": [],
   "source": [
    "import numpy as np\n",
    "import pandas as pd\n",
    "pd.options.display.max_columns = 20\n",
    "pd.options.display.max_rows = 20\n",
    "pd.options.display.max_colwidth = 80\n",
    "np.set_printoptions(precision=4,suppress=True)"
   ]
  },
  {
   "cell_type": "code",
   "execution_count": 2,
   "id": "da02a335-143d-41ae-aa96-f2fff62f345c",
   "metadata": {},
   "outputs": [
    {
     "data": {
      "text/plain": [
       "np.__loader__\n",
       "np.load\n",
       "np.loadtxt"
      ]
     },
     "metadata": {},
     "output_type": "display_data"
    }
   ],
   "source": [
    "import numpy as np\n",
    "np.*load*?"
   ]
  },
  {
   "cell_type": "code",
   "execution_count": 1,
   "id": "a5b6ec93-d9fd-4b16-9c6a-fa232ad0644d",
   "metadata": {},
   "outputs": [],
   "source": [
    "def add_numbers(a, b):\n",
    "    \"\"\"Add two numbers together\n",
    "        Returns\n",
    "        --------\n",
    "        the sum : type of argumants\n",
    "        \"\"\"\n",
    "    return a + b"
   ]
  },
  {
   "cell_type": "code",
   "execution_count": 4,
   "id": "1fd5bc32-1a97-4107-a98b-617aece49136",
   "metadata": {},
   "outputs": [
    {
     "data": {
      "text/plain": [
       "\u001b[0;31mSignature:\u001b[0m \u001b[0madd_numbers\u001b[0m\u001b[0;34m(\u001b[0m\u001b[0ma\u001b[0m\u001b[0;34m,\u001b[0m \u001b[0mb\u001b[0m\u001b[0;34m)\u001b[0m\u001b[0;34m\u001b[0m\u001b[0;34m\u001b[0m\u001b[0m\n",
       "\u001b[0;31mSource:\u001b[0m   \n",
       "\u001b[0;32mdef\u001b[0m \u001b[0madd_numbers\u001b[0m\u001b[0;34m(\u001b[0m\u001b[0ma\u001b[0m\u001b[0;34m,\u001b[0m \u001b[0mb\u001b[0m\u001b[0;34m)\u001b[0m\u001b[0;34m:\u001b[0m\u001b[0;34m\u001b[0m\n",
       "\u001b[0;34m\u001b[0m    \u001b[0;34m\"\"\"Add two numbers together\u001b[0m\n",
       "\u001b[0;34m        Returns\u001b[0m\n",
       "\u001b[0;34m        --------\u001b[0m\n",
       "\u001b[0;34m        the sum : type of argumants\u001b[0m\n",
       "\u001b[0;34m        \"\"\"\u001b[0m\u001b[0;34m\u001b[0m\n",
       "\u001b[0;34m\u001b[0m    \u001b[0;32mreturn\u001b[0m \u001b[0ma\u001b[0m \u001b[0;34m+\u001b[0m \u001b[0mb\u001b[0m\u001b[0;34m\u001b[0m\u001b[0;34m\u001b[0m\u001b[0m\n",
       "\u001b[0;31mFile:\u001b[0m      /var/folders/6w/_1xx55992tqfg37yz_8bt5v80000gn/T/ipykernel_71861/3480559872.py\n",
       "\u001b[0;31mType:\u001b[0m      function"
      ]
     },
     "metadata": {},
     "output_type": "display_data"
    }
   ],
   "source": [
    "add_numbers??"
   ]
  },
  {
   "cell_type": "code",
   "execution_count": 8,
   "id": "63ad698e-b7c9-4913-8920-fb6e420616cf",
   "metadata": {},
   "outputs": [
    {
     "data": {
      "text/plain": [
       "[1, 2, 3, 4]"
      ]
     },
     "execution_count": 8,
     "metadata": {},
     "output_type": "execute_result"
    }
   ],
   "source": [
    "def append_element(some_list, element):\n",
    "    some_list.append(element)\n",
    "\n",
    "data = [1, 2, 3]\n",
    "append_element(data, 4)\n",
    "data"
   ]
  },
  {
   "cell_type": "code",
   "execution_count": 12,
   "id": "bcf6d6c0-32f9-403c-b2e2-c71d02acbbbb",
   "metadata": {},
   "outputs": [
    {
     "data": {
      "text/plain": [
       "<function str.split(sep=None, maxsplit=-1)>"
      ]
     },
     "execution_count": 12,
     "metadata": {},
     "output_type": "execute_result"
    }
   ],
   "source": [
    "a = \"foo\"\n",
    "getattr(a, \"split\")\n"
   ]
  },
  {
   "cell_type": "code",
   "execution_count": 20,
   "id": "c772ecbd-2002-4ccd-beac-b53b81aa7da7",
   "metadata": {},
   "outputs": [
    {
     "data": {
      "text/plain": [
       "True"
      ]
     },
     "execution_count": 20,
     "metadata": {},
     "output_type": "execute_result"
    }
   ],
   "source": [
    "def isiterable(obj):\n",
    "    try:\n",
    "        iter(obj)\n",
    "        return True\n",
    "    except TypeError: # not iterable\n",
    "        return False\n",
    "\n",
    "isiterable(\"A string\")"
   ]
  },
  {
   "cell_type": "code",
   "execution_count": 19,
   "id": "cad9975d-46dc-43a1-9257-95d74842c289",
   "metadata": {},
   "outputs": [
    {
     "name": "stdout",
     "output_type": "stream",
     "text": [
      "5.14159\n",
      "9.14159\n",
      "3.14159\n"
     ]
    }
   ],
   "source": [
    "import some_module as sm\n",
    "from some_module import PI as pi, g as gf\n",
    "r1 = sm.f(pi)\n",
    "r2 = gf(6, pi)\n",
    "\n",
    "print(r1)\n",
    "print(r2)\n",
    "print(pi)"
   ]
  },
  {
   "cell_type": "code",
   "execution_count": 24,
   "id": "c19c623f-aac3-43d5-9965-b21ef06e8a63",
   "metadata": {},
   "outputs": [
    {
     "name": "stdout",
     "output_type": "stream",
     "text": [
      "[1, 2, 3]\n"
     ]
    }
   ],
   "source": [
    "a = [1, 2, 3]\n",
    "b = a\n",
    "c = list(a)\n",
    "a is b\n",
    "type(c)"
   ]
  },
  {
   "cell_type": "code",
   "execution_count": 26,
   "id": "4f5de4bb-f75b-40ae-be31-8c835f73dd1c",
   "metadata": {},
   "outputs": [
    {
     "ename": "TypeError",
     "evalue": "'tuple' object does not support item assignment",
     "output_type": "error",
     "traceback": [
      "\u001b[0;31m---------------------------------------------------------------------------\u001b[0m",
      "\u001b[0;31mTypeError\u001b[0m                                 Traceback (most recent call last)",
      "Cell \u001b[0;32mIn[26], line 7\u001b[0m\n\u001b[1;32m      5\u001b[0m \u001b[38;5;66;03m# immutable objects(strings, tuples Their internal data cannot be changed)\u001b[39;00m\n\u001b[1;32m      6\u001b[0m a_tuple \u001b[38;5;241m=\u001b[39m (\u001b[38;5;241m3\u001b[39m, \u001b[38;5;241m5\u001b[39m, (\u001b[38;5;241m4\u001b[39m, \u001b[38;5;241m5\u001b[39m))\n\u001b[0;32m----> 7\u001b[0m \u001b[43ma_tuple\u001b[49m\u001b[43m[\u001b[49m\u001b[38;5;241;43m1\u001b[39;49m\u001b[43m]\u001b[49m \u001b[38;5;241m=\u001b[39m \u001b[38;5;124m\"\u001b[39m\u001b[38;5;124mfour\u001b[39m\u001b[38;5;124m\"\u001b[39m\n",
      "\u001b[0;31mTypeError\u001b[0m: 'tuple' object does not support item assignment"
     ]
    }
   ],
   "source": [
    "# Mutable(objects and values that they contained can be modified eg lists and dictionaries)\n",
    "a_list = [\"foo\", 2, [4, 5]]\n",
    "a_list[2] = (3, 4)\n",
    "a_list\n",
    "# immutable objects(strings, tuples Their internal data cannot be changed)\n",
    "a_tuple = (3, 5, (4, 5))\n",
    "a_tuple[1] = \"four\""
   ]
  },
  {
   "cell_type": "code",
   "execution_count": 30,
   "id": "7f296adb-14ef-4169-87f7-b737d2b4e0bd",
   "metadata": {},
   "outputs": [
    {
     "data": {
      "text/plain": [
       "'this\\\\has\\\\no\\\\special\\\\characters'"
      ]
     },
     "execution_count": 30,
     "metadata": {},
     "output_type": "execute_result"
    }
   ],
   "source": [
    "s = r\"this\\has\\no\\special\\characters\"\n",
    "s"
   ]
  },
  {
   "cell_type": "code",
   "execution_count": 2,
   "id": "a0f9fdbf-ad6a-4912-9c25-d046243a06ab",
   "metadata": {},
   "outputs": [
    {
     "data": {
      "text/plain": [
       "'88.46 Argentine pesos are worth us$1'"
      ]
     },
     "execution_count": 2,
     "metadata": {},
     "output_type": "execute_result"
    }
   ],
   "source": [
    "template = \"{0:.2f} {1:s} are worth us${2:d}\"\n",
    "template.format(88.46, \"Argentine pesos\", 1)"
   ]
  },
  {
   "cell_type": "code",
   "execution_count": 3,
   "id": "5488320f-dd4b-4d87-9a5c-6ee7c9690a37",
   "metadata": {},
   "outputs": [
    {
     "data": {
      "text/plain": [
       "'espanol'"
      ]
     },
     "execution_count": 3,
     "metadata": {},
     "output_type": "execute_result"
    }
   ],
   "source": [
    "val = \"espanol\"\n",
    "val"
   ]
  },
  {
   "cell_type": "code",
   "execution_count": 16,
   "id": "404f4834-1886-4d9b-afa0-2c7ce248ca30",
   "metadata": {},
   "outputs": [
    {
     "data": {
      "text/plain": [
       "6"
      ]
     },
     "execution_count": 16,
     "metadata": {},
     "output_type": "execute_result"
    }
   ],
   "source": [
    "def add_and_maybe_multiply(a, b, c=None):\n",
    "    result = a + b\n",
    "    if c is not None:\n",
    "        result = result * c\n",
    "    return result\n",
    "add_and_maybe_multiply(a=2, b=4)"
   ]
  },
  {
   "cell_type": "code",
   "execution_count": 20,
   "id": "28ea1bec-7614-4fd8-9a46-79dd6cc09de1",
   "metadata": {},
   "outputs": [
    {
     "data": {
      "text/plain": [
       "datetime.datetime(2024, 7, 31, 1, 0)"
      ]
     },
     "execution_count": 20,
     "metadata": {},
     "output_type": "execute_result"
    }
   ],
   "source": [
    "# Dates and times\n",
    "from datetime import datetime, date, time\n",
    "dt = datetime(year=2024, month=7, day=31, hour=1, minute=22, second=20)\n",
    "# dt.date()\n",
    "# dt.time()\n",
    "# dt.strftime(\"%Y-%m-%d %H:%M:%S\") # strftime method formats a datetime as a string\n",
    "# datetime.strptime(\"20151031\", \"%Y%m%d\") # Strings convert(parsed) into datetime objects with the strptime function\n",
    "dt_hour = dt.replace(minute=0, second=0) # checking if datetime are immutable or not \n",
    "dt_hour"
   ]
  },
  {
   "cell_type": "code",
   "execution_count": 25,
   "id": "222b094d-1fe5-4957-8ada-7ce99e94d4b4",
   "metadata": {},
   "outputs": [
    {
     "data": {
      "text/plain": [
       "datetime.timedelta"
      ]
     },
     "execution_count": 25,
     "metadata": {},
     "output_type": "execute_result"
    }
   ],
   "source": [
    "# datetime.timedelter\n",
    "dt2 = datetime(2011, 11, 15, 22, 30)\n",
    "delta = dt - dt2\n",
    "delta\n",
    "type(delta)"
   ]
  },
  {
   "cell_type": "code",
   "execution_count": 27,
   "id": "28f0f05f-4e7f-4f41-953f-dba8d2705530",
   "metadata": {},
   "outputs": [
    {
     "data": {
      "text/plain": [
       "datetime.datetime(2037, 4, 15, 4, 14, 40)"
      ]
     },
     "execution_count": 27,
     "metadata": {},
     "output_type": "execute_result"
    }
   ],
   "source": [
    "dt + delta"
   ]
  },
  {
   "cell_type": "code",
   "execution_count": 33,
   "id": "a454a57e-ed05-4654-9411-cec8d81e9ebf",
   "metadata": {},
   "outputs": [
    {
     "name": "stdout",
     "output_type": "stream",
     "text": [
      "it's negative\n"
     ]
    }
   ],
   "source": [
    "# control flow\n",
    "x = -5\n",
    "if x < 0:\n",
    "    print(\"it's negative\")\n",
    "elif x == 0:\n",
    "    print(\"Equal to zero\")\n",
    "elif 0 < x < 5:\n",
    "    print(\"Positive but smaller than 5\")\n",
    "else:\n",
    "    print(\"Positive and larger than or equal to 5\")"
   ]
  },
  {
   "cell_type": "code",
   "execution_count": 42,
   "id": "866f5e1e-5fde-4e3d-b378-350c2ee13d13",
   "metadata": {},
   "outputs": [
    {
     "name": "stdout",
     "output_type": "stream",
     "text": [
      "1\n",
      "2\n",
      "4\n",
      "5\n",
      "[1, 2, None, 4, None, 5]\n"
     ]
    }
   ],
   "source": [
    "# for loop\n",
    "sequence = [1, 2, None, 4, None, 5]\n",
    "total = 0\n",
    "for value in sequence:\n",
    "    if value is None:\n",
    "        continue\n",
    "    total += value\n",
    "    print(value)"
   ]
  },
  {
   "cell_type": "code",
   "execution_count": 46,
   "id": "ae13de3d-86aa-468b-8abb-eb32d0ef63dc",
   "metadata": {},
   "outputs": [
    {
     "name": "stdout",
     "output_type": "stream",
     "text": [
      "1\n",
      "2\n",
      "0\n",
      "4\n",
      "6\n"
     ]
    }
   ],
   "source": [
    "# a for loop with break keyword\n",
    "sequence = [1, 2, 0, 4, 6, 5, 2, 1]\n",
    "total_until_5 = 0\n",
    "for value in sequence:\n",
    "    if value == 5:\n",
    "        break\n",
    "    total_until_5 += value\n",
    "    print(value)"
   ]
  },
  {
   "cell_type": "code",
   "execution_count": 54,
   "id": "74710ac7-1538-4bc7-bc55-4b940440c6e8",
   "metadata": {},
   "outputs": [
    {
     "name": "stdout",
     "output_type": "stream",
     "text": [
      "(0, 1)\n",
      "(0, 2)\n",
      "(0, 3)\n",
      "(1, 2)\n",
      "(1, 3)\n",
      "(2, 3)\n"
     ]
    }
   ],
   "source": [
    "for i in range(4):\n",
    "    for j in range(4):\n",
    "        if j > i:\n",
    "            break\n",
    "        print((i, j))"
   ]
  },
  {
   "cell_type": "code",
   "execution_count": 61,
   "id": "88709bae-74d0-498c-a2c5-daa34b400d8b",
   "metadata": {},
   "outputs": [
    {
     "name": "stdout",
     "output_type": "stream",
     "text": [
      "The value of x is: 128\n",
      "The value of total is:256\n",
      "The value of x is: 64\n",
      "The value of total is:384\n",
      "The value of x is: 32\n",
      "The value of total is:448\n",
      "The value of x is: 16\n",
      "The value of total is:480\n",
      "The value of x is: 8\n",
      "The value of total is:496\n",
      "The value of x is: 4\n",
      "The value of total is:504\n"
     ]
    }
   ],
   "source": [
    "# while loops\n",
    "x = 256\n",
    "total = 0\n",
    "while x > 0:\n",
    "    if total > 500:\n",
    "        break\n",
    "    total += x\n",
    "    x = x // 2\n",
    "    print(f\"The value of x is: {x}\")\n",
    "    print(f\"The value of total is:{total}\")"
   ]
  },
  {
   "cell_type": "code",
   "execution_count": null,
   "id": "30e907ef-cb5e-4bbd-928c-f61038c03dc2",
   "metadata": {},
   "outputs": [],
   "source": [
    "# pass\n",
    "if x < 0:\n",
    "    print(\"Negative!\")\n",
    "elif x == 0:\n",
    "    # TODO : put something smart here\n",
    "    pass\n",
    "else:\n",
    "    print(\"Positive\")"
   ]
  },
  {
   "cell_type": "code",
   "execution_count": 4,
   "id": "c62b2d2a-07f7-4d33-8fee-0f6d7222af62",
   "metadata": {},
   "outputs": [
    {
     "name": "stdout",
     "output_type": "stream",
     "text": [
      "2333316668\n"
     ]
    }
   ],
   "source": [
    "# A code that sums all numbers from 0 to 99999\n",
    "total = 0\n",
    "for i in range(100_000):\n",
    "    # % is the module operator\n",
    "    if i % 3 == 0 or i % 5 == 0:\n",
    "        total += i\n",
    "print(total)"
   ]
  },
  {
   "cell_type": "code",
   "execution_count": 1,
   "id": "8f647b78-64f9-4d21-b4dc-0a191f5af30c",
   "metadata": {},
   "outputs": [
    {
     "name": "stdout",
     "output_type": "stream",
     "text": [
      "Element 0: 1\n",
      "Element 1: 2\n",
      "Element 2: 3\n",
      "Element 3: 4\n"
     ]
    }
   ],
   "source": [
    "# Range\n",
    "# range(10)\n",
    "# list(range(10))\n",
    "# list(range(0, 20, 2))\n",
    "# list(range(5, 0, -1))\n",
    "seq = [1, 2, 3, 4]\n",
    "for i in range(len(seq)):\n",
    "    print(f\"Element {i}: {seq[i]}\")"
   ]
  },
  {
   "cell_type": "markdown",
   "id": "1a397c4e-08d0-4618-9ac4-5b7bce0efdd0",
   "metadata": {},
   "source": [
    "A tuple is a fixed-length, immutable sequence of Python objects which, once assigned, cannot be changed. The easiest way to create one is with a comma-separated sequence of values wrapped in parentheses:"
   ]
  },
  {
   "cell_type": "code",
   "execution_count": 26,
   "id": "af22977d-79df-4262-afaf-85bad88d07d5",
   "metadata": {},
   "outputs": [
    {
     "data": {
      "text/plain": [
       "{1, 2, 3, 4}"
      ]
     },
     "execution_count": 26,
     "metadata": {},
     "output_type": "execute_result"
    }
   ],
   "source": [
    "# tuples - a fixed-length immutable sequence of python objects which, o\n",
    "# once assigned, connot be changed.\n",
    "# tup = 4, 5, 6\n",
    "# type(tup)\n",
    "# tuple([1, 2, 3, 5])\n",
    "# tup = tuple('string')\n",
    "# tup[0]\n",
    "# nested_tup = (4, 5, 6) , (7, 8)\n",
    "# nested_tup [0][1]\n",
    "# tup = tuple(['foo', [1, 2], True])\n",
    "# tup[1].append(True)\n",
    "# tup\n",
    "# out = (4, None, 'foo') + (6, 0) + ('bar',)\n",
    "# out\n",
    "# ('foo', 'bar') * 4\n",
    "# Unpacking tuples\n",
    "# tup = (4, 5, 6)\n",
    "# a, b, c = tup\n",
    "# c\n",
    "# swap\n",
    "# a, b = 1, 2\n",
    "# b, a =a, b\n",
    "# iterating through a seq of tuples\n",
    "# seq = [(1,2,3), (4,5,6), (7,8,9)]\n",
    "# for a, b, c in seq:\n",
    "#     print(f\"a={a}, b={b}, c={c}\")\n",
    "# values = 1, 2, 3, 4, 5\n",
    "# a, b, *_ = values\n",
    "# _\n",
    "# Tuple methods\n",
    "a = (1,2,2,2,3,4,2)\n",
    "a.count(2)\n",
    "a"
   ]
  },
  {
   "cell_type": "markdown",
   "id": "8d5936c8-a5c7-4faa-bda5-879b3005a12d",
   "metadata": {},
   "source": [
    "lists - They are variable length and their contents can be modified in place. \n",
    "Lists are mutable. You can define them using square brackets [] or using the list type function"
   ]
  },
  {
   "cell_type": "code",
   "execution_count": 18,
   "id": "dd070f71-be32-476c-8973-d0be10725cd2",
   "metadata": {},
   "outputs": [
    {
     "data": {
      "text/plain": [
       "[1, 0, 6, 3, 6, 3, 2, 7]"
      ]
     },
     "execution_count": 18,
     "metadata": {},
     "output_type": "execute_result"
    }
   ],
   "source": [
    "# a_list = [2, 3, 7, None] # first method of defining a list\n",
    "# tup = (\"foo\", \"bar\", \"baz\")\n",
    "# b_list = list(tup) # second method of defining a list \n",
    "# b_list[1] = 'peekaboo'\n",
    "# b_list\n",
    "# gen = range(10)\n",
    "# list(gen)\n",
    "# Adding and removing elements\n",
    "# b_list.append(\"dwarf\") # used to add elements to a list\n",
    "# b_list\n",
    "# b_list.insert(1, \"red\") # Insert can be used to insert elements at a specific location in the list\n",
    "# b_list\n",
    "# b_list.pop(2)\n",
    "# (b_list)\n",
    "# b_list.append(\"foo\")\n",
    "# b_list\n",
    "# b_list.remove(\"foo\") # used to locate the first such value and eremoves it from the list\n",
    "# b_list\n",
    "# \"dwarf\" in b_list # checks if a list contains a value using the in keyword\n",
    "# \"dwarf\" not in b_list # keyword not used to negate in\n",
    "# [4, None, \"foo\"] + [7, 8, (2, 3)] # concatenating two lists\n",
    "# x = [4, None, \"foo\"]\n",
    "# x.extend([7,8,(2,3)]) # using the extend method to concatenate an existing list\n",
    "# x\n",
    "# a = [7, 2, 5, 1, 3]\n",
    "# a.sort() # sort a list in place withiout creating a new object by calling its sort function\n",
    "# a\n",
    "# b = [\"saw\", \"small\", \"He\", \"Foxes\", \"Six\"]\n",
    "# b.sort(key=len) # sort key- a function that produces a value to use to sort the objects. e.g sort a collection of strings by their lengths\n",
    "# b\n",
    "# seq = [7, 2, 3, 6, 3, 6, 0, 1]\n",
    "# seq[1:5] # select sections of most sequence types by using slice notation\n",
    "# seq[3:5]= [6, 3] # slices being assigned with a sequence\n",
    "# seq\n",
    "# seq[-4:]\n",
    "# seq[-6:-2]\n",
    "seq[::-1] # a clever use of this is to pass -1 which has the useful effects of reversing a list or tuple"
   ]
  },
  {
   "cell_type": "markdown",
   "id": "2fef84d6-c099-4aee-bf1f-2dfc7128ae7a",
   "metadata": {},
   "source": [
    "The dictionary or dict may be the most important built-in python data structure. In other programming languages, dictionaries are sometimes called Hash maps or associative arrays. A dictionary stores a collects of key-value pairs, where key and value can be conveniently Retrieved, Inserted, Modified, or Deleted given a particular key. One approach for creating a dictionary is to use curly braces {} and colons to separate keys and values"
   ]
  },
  {
   "cell_type": "code",
   "execution_count": 74,
   "id": "40dd6e79-4f89-4cca-962a-ebcc07e48acb",
   "metadata": {},
   "outputs": [
    {
     "data": {
      "text/plain": [
       "{(1, 2, 3): 5}"
      ]
     },
     "execution_count": 74,
     "metadata": {},
     "output_type": "execute_result"
    }
   ],
   "source": [
    "# empty_dict = {}\n",
    "# d1 = {\"a\": \"some value\", \"b\": [1, 2, 3, 4]}\n",
    "# d1[7] = \"an integer\"\n",
    "# d1\n",
    "# 'b' in d1 # check if a dictionary contains a key using the same syntax used fro checking whether a list or tuple contains a value\n",
    "# d1[\"dummy\"] = \"another value\"\n",
    "# d1\n",
    "# del d1[5] # del used to delete a key- value on dictionaries\n",
    "# ret = d1.pop(\"dummy\")\n",
    "# ret\n",
    "# list(d1.keys()) # displays the keys in the dictionary\n",
    "# list(d1.values()) # displays the values in the dictionary\n",
    "# list(d1.items()) # items method used to iterate over the keys and values as 2-tuples\n",
    "# d1.update({\"b\":\"foo\", \"c\":12}) # update method used to merge one dictionary into another\n",
    "# d1\n",
    "# mapping = {}\n",
    "# for key, value in zip(key_list, value_list):\n",
    "#     mapping[key] = value\n",
    "# tuples = zip(range(5), reversed(range(5)))\n",
    "# tuples\n",
    "# mapping = dict(tuples)\n",
    "# mapping\n",
    "# words = [\"apple\", \"bat\", \"bar\", \"atom\", \"book\"]\n",
    "# by_letter = {}\n",
    "# for word in words:\n",
    "#     letter = word[0]\n",
    "#     by_letter.setdefault(letter, []).append(word)\n",
    "# by_letter\n",
    "# from collections import defaultdict\n",
    "# \"\"\"A simple method for deafult values in dictionaries\"\"\"\n",
    "# by_list = defaultdict(list)\n",
    "# for word in words:\n",
    "#     by_letter[word[0]].append(word)\n",
    "# by_letter\n",
    "# hash(\"String\")\n",
    "# hash((1, 2, (2, 3))) #valid dictionary types\n",
    "# hast((1, 2, [2, 3])) # false because lists are mutable\n",
    "# d = {}\n",
    "# d[tuple([1, 2, 3])] = 5\n",
    "# d"
   ]
  },
  {
   "cell_type": "markdown",
   "id": "9d966854-4efb-4595-b68c-87edefd54689",
   "metadata": {},
   "source": [
    "Set\n",
    "A set is an unordered collection of unique elements. A set can be created in two ways: via the set function or via a set literal with curly braces"
   ]
  },
  {
   "cell_type": "code",
   "execution_count": 19,
   "id": "2bfe189b-43f5-4ce3-8b2d-02ab0dc7e74c",
   "metadata": {},
   "outputs": [],
   "source": [
    "# set([2, 2, 2, 1, 3, 3])\n",
    "# a = {1, 2, 3, 4, 5}\n",
    "# b = {3, 4, 5, 6, 7, 8}\n",
    "# a.union(b)\n",
    "# a | b\n",
    "# a.intersection(b)\n",
    "# a & b\n",
    "# c = a.copy()\n",
    "# c |= b\n",
    "# c\n",
    "# d = a.copy()\n",
    "# d &= b\n",
    "# d\n",
    "# my_data = [1, 2, 3, 4]\n",
    "# my_set = {tuple(my_data)}\n",
    "# my_set\n",
    "# a_set = {1, 2, 3, 4, 5}\n",
    "# {1, 2, 3}.issubset(a_set)\n",
    "# a_set.issuperset({1, 2, 3})\n",
    "# {1, 2, 3} == {3, 2, 1}"
   ]
  },
  {
   "cell_type": "markdown",
   "id": "971e080e-3c83-4f69-91b3-da26ec91c27d",
   "metadata": {},
   "source": []
  },
  {
   "cell_type": "code",
   "execution_count": null,
   "id": "13554a3d-711d-4eb8-ac0a-4c9e7e0c4a4e",
   "metadata": {},
   "outputs": [],
   "source": [
    "# enumerate - it's common when iterating over a sequence to want to keep track of the \n",
    "# index of the current item. A do-it- yourself approch would look like\n",
    "# index = 0\n",
    "# for value in collection:\n",
    "#     # do something with value\n",
    "#     index += 1\n",
    "# Since this is so common, python has a built-in function, enumerate, which returns a sequence\n",
    "# of (i, value)tuples:\n",
    "# collection = range(10)\n",
    "# for index, value in enumerate(collection):\n",
    "#     print(f\"Index: {index}  value {value}\")"
   ]
  },
  {
   "cell_type": "code",
   "execution_count": 16,
   "id": "a60d0847-36d1-49b5-8a11-f0e2f39c8617",
   "metadata": {},
   "outputs": [
    {
     "data": {
      "text/plain": [
       "[' ', 'a', 'c', 'e', 'e', 'h', 'o', 'r', 'r', 's']"
      ]
     },
     "execution_count": 16,
     "metadata": {},
     "output_type": "execute_result"
    }
   ],
   "source": [
    "# sorted - this function returns a new sorted list from the elements of any sequnce\n",
    "# sorted([7, 1, 2, 6, 0, 3, 2])\n",
    "# sorted(\"horse race\")\n",
    "# The sorted function accepts the same arguments as the sort method on lists\n"
   ]
  },
  {
   "cell_type": "code",
   "execution_count": null,
   "id": "3a82b9ae-a65f-4dd1-a5b2-277ab080296d",
   "metadata": {},
   "outputs": [],
   "source": []
  },
  {
   "cell_type": "code",
   "execution_count": 27,
   "id": "bb64a2b4-4be6-4b6e-9371-71481c8a05f7",
   "metadata": {},
   "outputs": [
    {
     "name": "stdout",
     "output_type": "stream",
     "text": [
      "0: foo, one\n",
      "1: bar, two\n",
      "2: baz, three\n"
     ]
    }
   ],
   "source": [
    "# Zip - \"pairs\" up the elements of a number of lists, tuples, \n",
    "# or other sequence to create a list a list of tuples\n",
    "# seq1 = [\"foo\", \"bar\", \"baz\"]\n",
    "# seq2 = [\"one\", \"two\", \"three\"]\n",
    "\n",
    "# zipped  = zip(seq1, seq2)\n",
    "# list(zipped)\n",
    "# seq3 = [False, True]\n",
    "# list(zip(seq1, seq2, seq3))\n",
    "for index, (a, b) in enumerate(zip(seq1, seq2)):\n",
    "    print(f\"{index}: {a}, {b}\")"
   ]
  },
  {
   "cell_type": "code",
   "execution_count": 28,
   "id": "7faf6bb2-93c2-4b08-94f6-3fe4606b76ac",
   "metadata": {},
   "outputs": [
    {
     "data": {
      "text/plain": [
       "[9, 8, 7, 6, 5, 4, 3, 2, 1, 0]"
      ]
     },
     "execution_count": 28,
     "metadata": {},
     "output_type": "execute_result"
    }
   ],
   "source": [
    "# Reversed - iterates over the elements of a sequence in reverse order\n",
    "list(reversed(range(10)))"
   ]
  },
  {
   "cell_type": "markdown",
   "id": "69e46da4-d864-4940-aba3-29728686628e",
   "metadata": {},
   "source": [
    "list, set and Dictionary comprehensions\n",
    "list comprehensions are a convenient and widely used python language feature. They allow you to concisely form a new list by filtering the elements of a collection, transforming the elements passing the filter into one concise expression. They take the basic form\n",
    "[expr for value in collection if condition]"
   ]
  },
  {
   "cell_type": "code",
   "execution_count": 42,
   "id": "83065c7d-1ddd-4176-9e75-51a531a899ed",
   "metadata": {},
   "outputs": [
    {
     "data": {
      "text/plain": [
       "['Maria', 'Natalia']"
      ]
     },
     "execution_count": 42,
     "metadata": {},
     "output_type": "execute_result"
    }
   ],
   "source": [
    "# strings = [\"a\", \"as\", \"bat\", \"car\", \"dove\", \"python\"]\n",
    "# [x.upper() for x in strings if len(x) > 2]\n",
    "# unique_lengths = {len(x) for x in strings} # a set containing just the lengths of the strings contained in the collections.\n",
    "# unique_lengths\n",
    "# set(map(len, strings)) # A map function\n",
    "# loc_mapping = {value: index for index, value in enumerate(strings)}\n",
    "# loc_mapping # creating a lookup map of the strings and their locations in the list\n",
    "# all_data = [[\"John\", \"Emily\", \"Michael\", \"Mary\", \"Steven\"],\n",
    "#             [\"Maria\", \"Juan\", \"Javier\", \"Natalia\", \"Pilar\"]]\n",
    "# all_data\n",
    "# result = [name for names in all_data for name in names if name.count(\"a\") >= 2]\n",
    "# result\n",
    "# names_of_interest = []\n",
    "\n",
    "# for names in all_data:\n",
    "#     enough_as = [name for name in names if name.count(\"a\") >= 2]\n",
    "#     names_of_interest.extend(enough_as)\n",
    "# names_of_interest"
   ]
  },
  {
   "cell_type": "markdown",
   "id": "14de2bae-fd64-492b-b338-5385a2c8fe22",
   "metadata": {},
   "source": [
    "Functions are the primary and most important method of code organization and reuse in python. As a rule of thumb, if you anticipate needing to repeat the same or very similar code more than once, it may be worth writing a reusable function. Functions can also help make your code more readable by giving a name to a group of python statements. Functions are decared with the def keyword. A function contains a block of code with an optional use of the return keyword"
   ]
  },
  {
   "cell_type": "code",
   "execution_count": 1,
   "id": "0a402523-dee9-4b18-b61a-6ee06367c0a2",
   "metadata": {},
   "outputs": [],
   "source": [
    "# def function_withiout_return(x):\n",
    "#     print(x)\n",
    "# result = function_withiout_return(\"Hello!\")\n",
    "# print(result)\n",
    "# def my_function(x, y, z=1.5):\n",
    "#     \"\"\"A function that contain a positional arguments and \n",
    "#         keyword arguments\n",
    "#         Keyword arguments are commony used to specify default \n",
    "#         values or optional arguments\"\"\"\n",
    "#     if z > 1:\n",
    "#         return z * (x + y)\n",
    "#     else:\n",
    "#         return z / (x + y)\n",
    "# my_function(y=5, x=6, z=0.7) # passing values to the z argument with the keyword provided\n",
    "# my_function(3.14, 7, 3.5) # Z argument withiout the keyword argument\n",
    "# def func():\n",
    "#     \"\"\"When func() is called, the empty list a is created, \n",
    "#         five elemnts are appended, and then a is destroyed \n",
    "#         when the function exits.\"\"\"\n",
    "#     a =[]\n",
    "#     for i in range(5):\n",
    "#         a.append(i)\n",
    "# func()\n",
    "# a\n",
    "# a =[]\n",
    "# def func():\n",
    "#     for i in range(5):\n",
    "#         a.append(i)\n",
    "# func()\n",
    "# a\n",
    "# a = None\n",
    "# def bind_a_variable():\n",
    "#     global a\n",
    "#     a =[]\n",
    "# bind_a_variable()\n",
    "# print(a)\n",
    "# def f():\n",
    "#     \"\"\"A multiple return functions using dictionary\"\"\"\n",
    "#     a = 1\n",
    "#     b = 2\n",
    "#     c = 3\n",
    "#     return {\"a\" : a, \"b\" : b, \"c\" : c}\n",
    "# f()\n",
    "# state = [\"   Alabama \", \"Georgia!\", \"Georgia\", \"georgia\",\"FlOrida\",\n",
    "         \n",
    "#         \"south   carolina##\", \"west virginia?\"]\n",
    "# import re\n",
    "# def clean_strings(strings):\n",
    "#     result = []\n",
    "#     for value in strings:\n",
    "#         value = value.strip()\n",
    "#         value = re.sub(\"[!#?]\", \"\", value)\n",
    "#         value = value.title()\n",
    "#         result.append(value)\n",
    "#     return result\n",
    "# clean_strings(state)\n",
    "# def remove_punctuation(value):\n",
    "#     return re.sub(\"[!#?]\", \"\", value)\n",
    "    \n",
    "# clean_ops = [str.strip, remove_punctuation,str.title]\n",
    "\n",
    "# def clean_strings(strings, ops):\n",
    "#     result = []\n",
    "#     for value in strings:\n",
    "#         for func in ops:\n",
    "#             value = func(value)\n",
    "#         result.append(value)\n",
    "#     return result\n",
    "# clean_strings(state, clean_ops)\n",
    "# for x in map(remove_punctuation, state):\n",
    "#     print(x)\n",
    "# def short_function(x):\n",
    "#     return x * 2\n",
    "# equiv_anon = lambda x: x * 2\n",
    "# print(equiv_anon(3))\n",
    "# def squares(n=10):  # Generators\n",
    "#     print(f\"Generating squares from 1 to {n ** 2}\")\n",
    "#     for i in range(1, n + 1):\n",
    "#         yield i ** 2\n",
    "\n",
    "# gen = squares()\n",
    "# gen\n",
    "# for x in gen:\n",
    "#     print(x, end= \" \")\n",
    "\n",
    "# gen = (x ** 2 for x in range(100)) # Generator expressions\n",
    "# gen\n",
    "# def _make_gen():\n",
    "#     for x in range(100):\n",
    "#         yield x ** 2\n",
    "# gen = _make_gen\n",
    "# sum(x ** 2 for x in range(100))\n",
    "# dict((i, i ** 2) for i in range(5))\n",
    "# import itertools\n",
    "# def first_letter(x):\n",
    "#     return x[0]\n",
    "# names = ['Alan', 'Adam', 'Wes', 'Will', 'Albert', 'Steven']\n",
    "# for letter, names in itertools.groupby(names, first_letter):\n",
    "#     print(letter, list(names)) # Names is a generator\n",
    "# float(\"1.234\")\n",
    "# def attempt_float(x):\n",
    "#     try:\n",
    "#         return float(x)\n",
    "#     except:\n",
    "#         return x\n",
    "# # attempt_float(\"1.2345\")\n",
    "# attempt_float(\"Something\")\n",
    "# def attempt_float(x):\n",
    "#     try:\n",
    "#         return float(x)\n",
    "#     except (ValueError, TypeError):\n",
    "#         return x\n",
    "# attempt_float((1, 2))\n",
    "# f = open(\"/Users/briankimanzi/Downloads/pg345.txt\", mode=\"w\")\n",
    "# try:\n",
    "#     write_to_file(f)\n",
    "# except:\n",
    "#     print(\"Failed\")\n",
    "# else:\n",
    "#     print(\"Succeeded\")\n",
    "# finally:\n",
    "#     f.close()\n",
    "# path = \"/Users/briankimanzi/Downloads/words.txt\" cx \n",
    "# f = open(path, encoding=\"utf-8\")\n",
    "# for line in f:\n",
    "#     print(line)\n",
    "# lines = [x.rstrip() for x in open(path, encoding=\"utf-8\")]\n",
    "# lines\n",
    "# f.close()\n",
    "with open('/Users/briankimanzi/Downloads/words.txt', encoding=\"utf-8\") as f:\n",
    "    lines=[x.rstrip() for x in f] # easier way to clean up open files is using the with statements\n"
   ]
  },
  {
   "cell_type": "code",
   "execution_count": null,
   "id": "b0d407df-2c40-4583-937c-f84a80140613",
   "metadata": {},
   "outputs": [],
   "source": []
  }
 ],
 "metadata": {
  "kernelspec": {
   "display_name": "Python 3 (ipykernel)",
   "language": "python",
   "name": "python3"
  },
  "language_info": {
   "codemirror_mode": {
    "name": "ipython",
    "version": 3
   },
   "file_extension": ".py",
   "mimetype": "text/x-python",
   "name": "python",
   "nbconvert_exporter": "python",
   "pygments_lexer": "ipython3",
   "version": "3.12.4"
  }
 },
 "nbformat": 4,
 "nbformat_minor": 5
}
