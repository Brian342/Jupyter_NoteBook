{
 "cells": [
  {
   "cell_type": "code",
   "execution_count": 1,
   "id": "dec9079b-3161-46a5-9d4e-340958130b3c",
   "metadata": {},
   "outputs": [],
   "source": [
    "import numpy as np\n",
    "import pandas as pd\n",
    "pd.options.display.max_columns = 20\n",
    "pd.options.display.max_rows = 20\n",
    "pd.options.display.max_colwidth = 80\n",
    "np.set_printoptions(precision=4,suppress=True)"
   ]
  },
  {
   "cell_type": "code",
   "execution_count": 2,
   "id": "da02a335-143d-41ae-aa96-f2fff62f345c",
   "metadata": {},
   "outputs": [
    {
     "data": {
      "text/plain": [
       "np.__loader__\n",
       "np.load\n",
       "np.loadtxt"
      ]
     },
     "metadata": {},
     "output_type": "display_data"
    }
   ],
   "source": [
    "import numpy as np\n",
    "np.*load*?"
   ]
  },
  {
   "cell_type": "code",
   "execution_count": 1,
   "id": "a5b6ec93-d9fd-4b16-9c6a-fa232ad0644d",
   "metadata": {},
   "outputs": [],
   "source": [
    "def add_numbers(a, b):\n",
    "    \"\"\"Add two numbers together\n",
    "        Returns\n",
    "        --------\n",
    "        the sum : type of argumants\n",
    "        \"\"\"\n",
    "    return a + b"
   ]
  },
  {
   "cell_type": "code",
   "execution_count": 4,
   "id": "1fd5bc32-1a97-4107-a98b-617aece49136",
   "metadata": {},
   "outputs": [
    {
     "data": {
      "text/plain": [
       "\u001b[0;31mSignature:\u001b[0m \u001b[0madd_numbers\u001b[0m\u001b[0;34m(\u001b[0m\u001b[0ma\u001b[0m\u001b[0;34m,\u001b[0m \u001b[0mb\u001b[0m\u001b[0;34m)\u001b[0m\u001b[0;34m\u001b[0m\u001b[0;34m\u001b[0m\u001b[0m\n",
       "\u001b[0;31mSource:\u001b[0m   \n",
       "\u001b[0;32mdef\u001b[0m \u001b[0madd_numbers\u001b[0m\u001b[0;34m(\u001b[0m\u001b[0ma\u001b[0m\u001b[0;34m,\u001b[0m \u001b[0mb\u001b[0m\u001b[0;34m)\u001b[0m\u001b[0;34m:\u001b[0m\u001b[0;34m\u001b[0m\n",
       "\u001b[0;34m\u001b[0m    \u001b[0;34m\"\"\"Add two numbers together\u001b[0m\n",
       "\u001b[0;34m        Returns\u001b[0m\n",
       "\u001b[0;34m        --------\u001b[0m\n",
       "\u001b[0;34m        the sum : type of argumants\u001b[0m\n",
       "\u001b[0;34m        \"\"\"\u001b[0m\u001b[0;34m\u001b[0m\n",
       "\u001b[0;34m\u001b[0m    \u001b[0;32mreturn\u001b[0m \u001b[0ma\u001b[0m \u001b[0;34m+\u001b[0m \u001b[0mb\u001b[0m\u001b[0;34m\u001b[0m\u001b[0;34m\u001b[0m\u001b[0m\n",
       "\u001b[0;31mFile:\u001b[0m      /var/folders/6w/_1xx55992tqfg37yz_8bt5v80000gn/T/ipykernel_71861/3480559872.py\n",
       "\u001b[0;31mType:\u001b[0m      function"
      ]
     },
     "metadata": {},
     "output_type": "display_data"
    }
   ],
   "source": [
    "add_numbers??"
   ]
  },
  {
   "cell_type": "code",
   "execution_count": 8,
   "id": "63ad698e-b7c9-4913-8920-fb6e420616cf",
   "metadata": {},
   "outputs": [
    {
     "data": {
      "text/plain": [
       "[1, 2, 3, 4]"
      ]
     },
     "execution_count": 8,
     "metadata": {},
     "output_type": "execute_result"
    }
   ],
   "source": [
    "def append_element(some_list, element):\n",
    "    some_list.append(element)\n",
    "\n",
    "data = [1, 2, 3]\n",
    "append_element(data, 4)\n",
    "data"
   ]
  },
  {
   "cell_type": "code",
   "execution_count": 12,
   "id": "bcf6d6c0-32f9-403c-b2e2-c71d02acbbbb",
   "metadata": {},
   "outputs": [
    {
     "data": {
      "text/plain": [
       "<function str.split(sep=None, maxsplit=-1)>"
      ]
     },
     "execution_count": 12,
     "metadata": {},
     "output_type": "execute_result"
    }
   ],
   "source": [
    "a = \"foo\"\n",
    "getattr(a, \"split\")\n"
   ]
  },
  {
   "cell_type": "code",
   "execution_count": 20,
   "id": "c772ecbd-2002-4ccd-beac-b53b81aa7da7",
   "metadata": {},
   "outputs": [
    {
     "data": {
      "text/plain": [
       "True"
      ]
     },
     "execution_count": 20,
     "metadata": {},
     "output_type": "execute_result"
    }
   ],
   "source": [
    "def isiterable(obj):\n",
    "    try:\n",
    "        iter(obj)\n",
    "        return True\n",
    "    except TypeError: # not iterable\n",
    "        return False\n",
    "\n",
    "isiterable(\"A string\")"
   ]
  },
  {
   "cell_type": "code",
   "execution_count": 19,
   "id": "cad9975d-46dc-43a1-9257-95d74842c289",
   "metadata": {},
   "outputs": [
    {
     "name": "stdout",
     "output_type": "stream",
     "text": [
      "5.14159\n",
      "9.14159\n",
      "3.14159\n"
     ]
    }
   ],
   "source": [
    "import some_module as sm\n",
    "from some_module import PI as pi, g as gf\n",
    "r1 = sm.f(pi)\n",
    "r2 = gf(6, pi)\n",
    "\n",
    "print(r1)\n",
    "print(r2)\n",
    "print(pi)"
   ]
  },
  {
   "cell_type": "code",
   "execution_count": 24,
   "id": "c19c623f-aac3-43d5-9965-b21ef06e8a63",
   "metadata": {},
   "outputs": [
    {
     "name": "stdout",
     "output_type": "stream",
     "text": [
      "[1, 2, 3]\n"
     ]
    }
   ],
   "source": [
    "a = [1, 2, 3]\n",
    "b = a\n",
    "c = list(a)\n",
    "a is b\n",
    "type(c)"
   ]
  },
  {
   "cell_type": "code",
   "execution_count": 26,
   "id": "4f5de4bb-f75b-40ae-be31-8c835f73dd1c",
   "metadata": {},
   "outputs": [
    {
     "ename": "TypeError",
     "evalue": "'tuple' object does not support item assignment",
     "output_type": "error",
     "traceback": [
      "\u001b[0;31m---------------------------------------------------------------------------\u001b[0m",
      "\u001b[0;31mTypeError\u001b[0m                                 Traceback (most recent call last)",
      "Cell \u001b[0;32mIn[26], line 7\u001b[0m\n\u001b[1;32m      5\u001b[0m \u001b[38;5;66;03m# immutable objects(strings, tuples Their internal data cannot be changed)\u001b[39;00m\n\u001b[1;32m      6\u001b[0m a_tuple \u001b[38;5;241m=\u001b[39m (\u001b[38;5;241m3\u001b[39m, \u001b[38;5;241m5\u001b[39m, (\u001b[38;5;241m4\u001b[39m, \u001b[38;5;241m5\u001b[39m))\n\u001b[0;32m----> 7\u001b[0m \u001b[43ma_tuple\u001b[49m\u001b[43m[\u001b[49m\u001b[38;5;241;43m1\u001b[39;49m\u001b[43m]\u001b[49m \u001b[38;5;241m=\u001b[39m \u001b[38;5;124m\"\u001b[39m\u001b[38;5;124mfour\u001b[39m\u001b[38;5;124m\"\u001b[39m\n",
      "\u001b[0;31mTypeError\u001b[0m: 'tuple' object does not support item assignment"
     ]
    }
   ],
   "source": [
    "# Mutable(objects and values that they contained can be modified eg lists and dictionaries)\n",
    "a_list = [\"foo\", 2, [4, 5]]\n",
    "a_list[2] = (3, 4)\n",
    "a_list\n",
    "# immutable objects(strings, tuples Their internal data cannot be changed)\n",
    "a_tuple = (3, 5, (4, 5))\n",
    "a_tuple[1] = \"four\""
   ]
  },
  {
   "cell_type": "code",
   "execution_count": 30,
   "id": "7f296adb-14ef-4169-87f7-b737d2b4e0bd",
   "metadata": {},
   "outputs": [
    {
     "data": {
      "text/plain": [
       "'this\\\\has\\\\no\\\\special\\\\characters'"
      ]
     },
     "execution_count": 30,
     "metadata": {},
     "output_type": "execute_result"
    }
   ],
   "source": [
    "s = r\"this\\has\\no\\special\\characters\"\n",
    "s"
   ]
  },
  {
   "cell_type": "code",
   "execution_count": 2,
   "id": "a0f9fdbf-ad6a-4912-9c25-d046243a06ab",
   "metadata": {},
   "outputs": [
    {
     "data": {
      "text/plain": [
       "'88.46 Argentine pesos are worth us$1'"
      ]
     },
     "execution_count": 2,
     "metadata": {},
     "output_type": "execute_result"
    }
   ],
   "source": [
    "template = \"{0:.2f} {1:s} are worth us${2:d}\"\n",
    "template.format(88.46, \"Argentine pesos\", 1)"
   ]
  },
  {
   "cell_type": "code",
   "execution_count": 3,
   "id": "5488320f-dd4b-4d87-9a5c-6ee7c9690a37",
   "metadata": {},
   "outputs": [
    {
     "data": {
      "text/plain": [
       "'espanol'"
      ]
     },
     "execution_count": 3,
     "metadata": {},
     "output_type": "execute_result"
    }
   ],
   "source": [
    "val = \"espanol\"\n",
    "val"
   ]
  },
  {
   "cell_type": "code",
   "execution_count": 16,
   "id": "404f4834-1886-4d9b-afa0-2c7ce248ca30",
   "metadata": {},
   "outputs": [
    {
     "data": {
      "text/plain": [
       "6"
      ]
     },
     "execution_count": 16,
     "metadata": {},
     "output_type": "execute_result"
    }
   ],
   "source": [
    "def add_and_maybe_multiply(a, b, c=None):\n",
    "    result = a + b\n",
    "    if c is not None:\n",
    "        result = result * c\n",
    "    return result\n",
    "add_and_maybe_multiply(a=2, b=4)"
   ]
  },
  {
   "cell_type": "code",
   "execution_count": 20,
   "id": "28ea1bec-7614-4fd8-9a46-79dd6cc09de1",
   "metadata": {},
   "outputs": [
    {
     "data": {
      "text/plain": [
       "datetime.datetime(2024, 7, 31, 1, 0)"
      ]
     },
     "execution_count": 20,
     "metadata": {},
     "output_type": "execute_result"
    }
   ],
   "source": [
    "# Dates and times\n",
    "from datetime import datetime, date, time\n",
    "dt = datetime(year=2024, month=7, day=31, hour=1, minute=22, second=20)\n",
    "# dt.date()\n",
    "# dt.time()\n",
    "# dt.strftime(\"%Y-%m-%d %H:%M:%S\") # strftime method formats a datetime as a string\n",
    "# datetime.strptime(\"20151031\", \"%Y%m%d\") # Strings convert(parsed) into datetime objects with the strptime function\n",
    "dt_hour = dt.replace(minute=0, second=0) # checking if datetime are immutable or not \n",
    "dt_hour"
   ]
  },
  {
   "cell_type": "code",
   "execution_count": 25,
   "id": "222b094d-1fe5-4957-8ada-7ce99e94d4b4",
   "metadata": {},
   "outputs": [
    {
     "data": {
      "text/plain": [
       "datetime.timedelta"
      ]
     },
     "execution_count": 25,
     "metadata": {},
     "output_type": "execute_result"
    }
   ],
   "source": [
    "# datetime.timedelter\n",
    "dt2 = datetime(2011, 11, 15, 22, 30)\n",
    "delta = dt - dt2\n",
    "delta\n",
    "type(delta)"
   ]
  },
  {
   "cell_type": "code",
   "execution_count": 27,
   "id": "28f0f05f-4e7f-4f41-953f-dba8d2705530",
   "metadata": {},
   "outputs": [
    {
     "data": {
      "text/plain": [
       "datetime.datetime(2037, 4, 15, 4, 14, 40)"
      ]
     },
     "execution_count": 27,
     "metadata": {},
     "output_type": "execute_result"
    }
   ],
   "source": [
    "dt + delta"
   ]
  },
  {
   "cell_type": "code",
   "execution_count": 33,
   "id": "a454a57e-ed05-4654-9411-cec8d81e9ebf",
   "metadata": {},
   "outputs": [
    {
     "name": "stdout",
     "output_type": "stream",
     "text": [
      "it's negative\n"
     ]
    }
   ],
   "source": [
    "# control flow\n",
    "x = -5\n",
    "if x < 0:\n",
    "    print(\"it's negative\")\n",
    "elif x == 0:\n",
    "    print(\"Equal to zero\")\n",
    "elif 0 < x < 5:\n",
    "    print(\"Positive but smaller than 5\")\n",
    "else:\n",
    "    print(\"Positive and larger than or equal to 5\")"
   ]
  },
  {
   "cell_type": "code",
   "execution_count": 42,
   "id": "866f5e1e-5fde-4e3d-b378-350c2ee13d13",
   "metadata": {},
   "outputs": [
    {
     "name": "stdout",
     "output_type": "stream",
     "text": [
      "1\n",
      "2\n",
      "4\n",
      "5\n",
      "[1, 2, None, 4, None, 5]\n"
     ]
    }
   ],
   "source": [
    "# for loop\n",
    "sequence = [1, 2, None, 4, None, 5]\n",
    "total = 0\n",
    "for value in sequence:\n",
    "    if value is None:\n",
    "        continue\n",
    "    total += value\n",
    "    print(value)"
   ]
  },
  {
   "cell_type": "code",
   "execution_count": 46,
   "id": "ae13de3d-86aa-468b-8abb-eb32d0ef63dc",
   "metadata": {},
   "outputs": [
    {
     "name": "stdout",
     "output_type": "stream",
     "text": [
      "1\n",
      "2\n",
      "0\n",
      "4\n",
      "6\n"
     ]
    }
   ],
   "source": [
    "# a for loop with break keyword\n",
    "sequence = [1, 2, 0, 4, 6, 5, 2, 1]\n",
    "total_until_5 = 0\n",
    "for value in sequence:\n",
    "    if value == 5:\n",
    "        break\n",
    "    total_until_5 += value\n",
    "    print(value)"
   ]
  },
  {
   "cell_type": "code",
   "execution_count": 54,
   "id": "74710ac7-1538-4bc7-bc55-4b940440c6e8",
   "metadata": {},
   "outputs": [
    {
     "name": "stdout",
     "output_type": "stream",
     "text": [
      "(0, 1)\n",
      "(0, 2)\n",
      "(0, 3)\n",
      "(1, 2)\n",
      "(1, 3)\n",
      "(2, 3)\n"
     ]
    }
   ],
   "source": [
    "for i in range(4):\n",
    "    for j in range(4):\n",
    "        if j > i:\n",
    "            break\n",
    "        print((i, j))"
   ]
  },
  {
   "cell_type": "code",
   "execution_count": 61,
   "id": "88709bae-74d0-498c-a2c5-daa34b400d8b",
   "metadata": {},
   "outputs": [
    {
     "name": "stdout",
     "output_type": "stream",
     "text": [
      "The value of x is: 128\n",
      "The value of total is:256\n",
      "The value of x is: 64\n",
      "The value of total is:384\n",
      "The value of x is: 32\n",
      "The value of total is:448\n",
      "The value of x is: 16\n",
      "The value of total is:480\n",
      "The value of x is: 8\n",
      "The value of total is:496\n",
      "The value of x is: 4\n",
      "The value of total is:504\n"
     ]
    }
   ],
   "source": [
    "# while loops\n",
    "x = 256\n",
    "total = 0\n",
    "while x > 0:\n",
    "    if total > 500:\n",
    "        break\n",
    "    total += x\n",
    "    x = x // 2\n",
    "    print(f\"The value of x is: {x}\")\n",
    "    print(f\"The value of total is:{total}\")"
   ]
  },
  {
   "cell_type": "code",
   "execution_count": null,
   "id": "30e907ef-cb5e-4bbd-928c-f61038c03dc2",
   "metadata": {},
   "outputs": [],
   "source": [
    "# pass\n",
    "if x < 0:\n",
    "    print(\"Negative!\")\n",
    "elif x == 0:\n",
    "    # TODO : put something smart here\n",
    "    pass\n",
    "else:\n",
    "    print(\"Positive\")"
   ]
  },
  {
   "cell_type": "code",
   "execution_count": 4,
   "id": "c62b2d2a-07f7-4d33-8fee-0f6d7222af62",
   "metadata": {},
   "outputs": [
    {
     "name": "stdout",
     "output_type": "stream",
     "text": [
      "2333316668\n"
     ]
    }
   ],
   "source": [
    "# A code that sums all numbers from 0 to 99999\n",
    "total = 0\n",
    "for i in range(100_000):\n",
    "    # % is the module operator\n",
    "    if i % 3 == 0 or i % 5 == 0:\n",
    "        total += i\n",
    "print(total)"
   ]
  },
  {
   "cell_type": "code",
   "execution_count": 1,
   "id": "8f647b78-64f9-4d21-b4dc-0a191f5af30c",
   "metadata": {},
   "outputs": [
    {
     "name": "stdout",
     "output_type": "stream",
     "text": [
      "Element 0: 1\n",
      "Element 1: 2\n",
      "Element 2: 3\n",
      "Element 3: 4\n"
     ]
    }
   ],
   "source": [
    "# Range\n",
    "# range(10)\n",
    "# list(range(10))\n",
    "# list(range(0, 20, 2))\n",
    "# list(range(5, 0, -1))\n",
    "seq = [1, 2, 3, 4]\n",
    "for i in range(len(seq)):\n",
    "    print(f\"Element {i}: {seq[i]}\")"
   ]
  },
  {
   "cell_type": "markdown",
   "id": "1a397c4e-08d0-4618-9ac4-5b7bce0efdd0",
   "metadata": {},
   "source": [
    "A tuple is a fixed-length, immutable sequence of Python objects which, once assigned, cannot be changed. The easiest way to create one is with a comma-separated sequence of values wrapped in parentheses:"
   ]
  },
  {
   "cell_type": "code",
   "execution_count": 26,
   "id": "af22977d-79df-4262-afaf-85bad88d07d5",
   "metadata": {},
   "outputs": [
    {
     "data": {
      "text/plain": [
       "{1, 2, 3, 4}"
      ]
     },
     "execution_count": 26,
     "metadata": {},
     "output_type": "execute_result"
    }
   ],
   "source": [
    "# tuples - a fixed-length immutable sequence of python objects which, o\n",
    "# once assigned, connot be changed.\n",
    "# tup = 4, 5, 6\n",
    "# type(tup)\n",
    "# tuple([1, 2, 3, 5])\n",
    "# tup = tuple('string')\n",
    "# tup[0]\n",
    "# nested_tup = (4, 5, 6) , (7, 8)\n",
    "# nested_tup [0][1]\n",
    "# tup = tuple(['foo', [1, 2], True])\n",
    "# tup[1].append(True)\n",
    "# tup\n",
    "# out = (4, None, 'foo') + (6, 0) + ('bar',)\n",
    "# out\n",
    "# ('foo', 'bar') * 4\n",
    "# Unpacking tuples\n",
    "# tup = (4, 5, 6)\n",
    "# a, b, c = tup\n",
    "# c\n",
    "# swap\n",
    "# a, b = 1, 2\n",
    "# b, a =a, b\n",
    "# iterating through a seq of tuples\n",
    "# seq = [(1,2,3), (4,5,6), (7,8,9)]\n",
    "# for a, b, c in seq:\n",
    "#     print(f\"a={a}, b={b}, c={c}\")\n",
    "# values = 1, 2, 3, 4, 5\n",
    "# a, b, *_ = values\n",
    "# _\n",
    "# Tuple methods\n",
    "a = (1,2,2,2,3,4,2)\n",
    "a.count(2)\n",
    "a"
   ]
  },
  {
   "cell_type": "markdown",
   "id": "8d5936c8-a5c7-4faa-bda5-879b3005a12d",
   "metadata": {},
   "source": [
    "lists - They are variable length and their contents can be modified in place. \n",
    "Lists are mutable. You can define them using square brackets [] or using the list type function"
   ]
  },
  {
   "cell_type": "code",
   "execution_count": 18,
   "id": "dd070f71-be32-476c-8973-d0be10725cd2",
   "metadata": {},
   "outputs": [
    {
     "data": {
      "text/plain": [
       "[1, 0, 6, 3, 6, 3, 2, 7]"
      ]
     },
     "execution_count": 18,
     "metadata": {},
     "output_type": "execute_result"
    }
   ],
   "source": [
    "# a_list = [2, 3, 7, None] # first method of defining a list\n",
    "# tup = (\"foo\", \"bar\", \"baz\")\n",
    "# b_list = list(tup) # second method of defining a list \n",
    "# b_list[1] = 'peekaboo'\n",
    "# b_list\n",
    "# gen = range(10)\n",
    "# list(gen)\n",
    "# Adding and removing elements\n",
    "# b_list.append(\"dwarf\") # used to add elements to a list\n",
    "# b_list\n",
    "# b_list.insert(1, \"red\") # Insert can be used to insert elements at a specific location in the list\n",
    "# b_list\n",
    "# b_list.pop(2)\n",
    "# (b_list)\n",
    "# b_list.append(\"foo\")\n",
    "# b_list\n",
    "# b_list.remove(\"foo\") # used to locate the first such value and eremoves it from the list\n",
    "# b_list\n",
    "# \"dwarf\" in b_list # checks if a list contains a value using the in keyword\n",
    "# \"dwarf\" not in b_list # keyword not used to negate in\n",
    "# [4, None, \"foo\"] + [7, 8, (2, 3)] # concatenating two lists\n",
    "# x = [4, None, \"foo\"]\n",
    "# x.extend([7,8,(2,3)]) # using the extend method to concatenate an existing list\n",
    "# x\n",
    "# a = [7, 2, 5, 1, 3]\n",
    "# a.sort() # sort a list in place withiout creating a new object by calling its sort function\n",
    "# a\n",
    "# b = [\"saw\", \"small\", \"He\", \"Foxes\", \"Six\"]\n",
    "# b.sort(key=len) # sort key- a function that produces a value to use to sort the objects. e.g sort a collection of strings by their lengths\n",
    "# b\n",
    "# seq = [7, 2, 3, 6, 3, 6, 0, 1]\n",
    "# seq[1:5] # select sections of most sequence types by using slice notation\n",
    "# seq[3:5]= [6, 3] # slices being assigned with a sequence\n",
    "# seq\n",
    "# seq[-4:]\n",
    "# seq[-6:-2]\n",
    "seq[::-1] # a clever use of this is to pass -1 which has the useful effects of reversing a list or tuple"
   ]
  },
  {
   "cell_type": "markdown",
   "id": "2fef84d6-c099-4aee-bf1f-2dfc7128ae7a",
   "metadata": {},
   "source": [
    "The dictionary or dict may be the most important built-in python data structure. In other programming languages, dictionaries are sometimes called Hash maps or associative arrays. A dictionary stores a collects of key-value pairs, where key and value can be conveniently Retrieved, Inserted, Modified, or Deleted given a particular key. One approach for creating a dictionary is to use curly braces {} and colons to separate keys and values"
   ]
  },
  {
   "cell_type": "code",
   "execution_count": 19,
   "id": "40dd6e79-4f89-4cca-962a-ebcc07e48acb",
   "metadata": {},
   "outputs": [
    {
     "data": {
      "text/plain": [
       "{'a': 'some value', 'b': [1, 2, 3, 4]}"
      ]
     },
     "execution_count": 19,
     "metadata": {},
     "output_type": "execute_result"
    }
   ],
   "source": [
    "empty_dict = {}\n",
    "d1 = {\"a\": \"some value\", \"b\": [1, 2, 3, 4]}\n",
    "d1"
   ]
  },
  {
   "cell_type": "code",
   "execution_count": null,
   "id": "d14ef8dc-5034-4f2d-9dd4-961a0481f7cf",
   "metadata": {},
   "outputs": [],
   "source": []
  },
  {
   "cell_type": "code",
   "execution_count": null,
   "id": "2bfe189b-43f5-4ce3-8b2d-02ab0dc7e74c",
   "metadata": {},
   "outputs": [],
   "source": []
  }
 ],
 "metadata": {
  "kernelspec": {
   "display_name": "Python 3 (ipykernel)",
   "language": "python",
   "name": "python3"
  },
  "language_info": {
   "codemirror_mode": {
    "name": "ipython",
    "version": 3
   },
   "file_extension": ".py",
   "mimetype": "text/x-python",
   "name": "python",
   "nbconvert_exporter": "python",
   "pygments_lexer": "ipython3",
   "version": "3.12.4"
  }
 },
 "nbformat": 4,
 "nbformat_minor": 5
}
