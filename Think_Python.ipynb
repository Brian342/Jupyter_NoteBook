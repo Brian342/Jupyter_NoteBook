{
 "cells": [
  {
   "cell_type": "code",
   "execution_count": 1,
   "id": "81aa129c-6f8b-4d25-94e0-f70fa0a8e030",
   "metadata": {},
   "outputs": [
    {
     "data": {
      "text/plain": [
       "42.0"
      ]
     },
     "execution_count": 1,
     "metadata": {},
     "output_type": "execute_result"
    }
   ],
   "source": [
    "int('126')/3"
   ]
  },
  {
   "cell_type": "code",
   "execution_count": 15,
   "id": "21c479a4-ccb9-4b98-aa98-4713a33caa6e",
   "metadata": {},
   "outputs": [
    {
     "data": {
      "text/plain": [
       "2562"
      ]
     },
     "execution_count": 15,
     "metadata": {},
     "output_type": "execute_result"
    }
   ],
   "source": [
    "(42*60) + 42"
   ]
  },
  {
   "cell_type": "code",
   "execution_count": 18,
   "id": "839458bd-c8ae-4cfe-8585-20145103c72c",
   "metadata": {},
   "outputs": [
    {
     "ename": "SyntaxError",
     "evalue": "invalid syntax (3950312347.py, line 1)",
     "output_type": "error",
     "traceback": [
      "\u001b[0;36m  Cell \u001b[0;32mIn[18], line 1\u001b[0;36m\u001b[0m\n\u001b[0;31m    n->17\u001b[0m\n\u001b[0m     ^\u001b[0m\n\u001b[0;31mSyntaxError\u001b[0m\u001b[0;31m:\u001b[0m invalid syntax\n"
     ]
    }
   ],
   "source": [
    "# A module is a collection of variables and function \n",
    "import math\n"
   ]
  },
  {
   "cell_type": "code",
   "execution_count": 17,
   "id": "9e8b1488-95be-4556-a120-b9749f86ab60",
   "metadata": {},
   "outputs": [
    {
     "data": {
      "text/plain": [
       "17"
      ]
     },
     "execution_count": 17,
     "metadata": {},
     "output_type": "execute_result"
    }
   ],
   "source": [
    "n\n"
   ]
  },
  {
   "cell_type": "code",
   "execution_count": null,
   "id": "48049bf2-898c-4cd8-bf4c-a4db3bb124c2",
   "metadata": {},
   "outputs": [],
   "source": []
  }
 ],
 "metadata": {
  "kernelspec": {
   "display_name": "Python 3 (ipykernel)",
   "language": "python",
   "name": "python3"
  },
  "language_info": {
   "codemirror_mode": {
    "name": "ipython",
    "version": 3
   },
   "file_extension": ".py",
   "mimetype": "text/x-python",
   "name": "python",
   "nbconvert_exporter": "python",
   "pygments_lexer": "ipython3",
   "version": "3.12.2"
  }
 },
 "nbformat": 4,
 "nbformat_minor": 5
}
