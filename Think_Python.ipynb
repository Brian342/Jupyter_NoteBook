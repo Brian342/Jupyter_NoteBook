{
 "cells": [
  {
   "cell_type": "code",
   "execution_count": 1,
   "id": "81aa129c-6f8b-4d25-94e0-f70fa0a8e030",
   "metadata": {},
   "outputs": [
    {
     "data": {
      "text/plain": [
       "42.0"
      ]
     },
     "execution_count": 1,
     "metadata": {},
     "output_type": "execute_result"
    }
   ],
   "source": [
    "int('126')/3"
   ]
  },
  {
   "cell_type": "code",
   "execution_count": 2,
   "id": "21c479a4-ccb9-4b98-aa98-4713a33caa6e",
   "metadata": {},
   "outputs": [
    {
     "data": {
      "text/plain": [
       "2562"
      ]
     },
     "execution_count": 2,
     "metadata": {},
     "output_type": "execute_result"
    }
   ],
   "source": [
    "# Number of seconds in 42:42\n",
    "(42*60) + 42"
   ]
  },
  {
   "cell_type": "code",
   "execution_count": 3,
   "id": "972a4b59-c2a3-4676-8726-30a3358f4525",
   "metadata": {},
   "outputs": [
    {
     "name": "stdout",
     "output_type": "stream",
     "text": [
      "6.211180124223602\n"
     ]
    }
   ],
   "source": [
    "# a program to determine how many kilometres are there in miles\n",
    "miles = 10/1.61\n",
    "print(miles)"
   ]
  },
  {
   "cell_type": "code",
   "execution_count": 4,
   "id": "839458bd-c8ae-4cfe-8585-20145103c72c",
   "metadata": {},
   "outputs": [],
   "source": [
    "# A module is a collection of variables and function \n",
    "import math\n"
   ]
  },
  {
   "cell_type": "code",
   "execution_count": 5,
   "id": "9e8b1488-95be-4556-a120-b9749f86ab60",
   "metadata": {},
   "outputs": [
    {
     "ename": "NameError",
     "evalue": "name 'n' is not defined",
     "output_type": "error",
     "traceback": [
      "\u001b[0;31m---------------------------------------------------------------------------\u001b[0m",
      "\u001b[0;31mNameError\u001b[0m                                 Traceback (most recent call last)",
      "Cell \u001b[0;32mIn[5], line 1\u001b[0m\n\u001b[0;32m----> 1\u001b[0m \u001b[43mn\u001b[49m\n",
      "\u001b[0;31mNameError\u001b[0m: name 'n' is not defined"
     ]
    }
   ],
   "source": [
    "n\n"
   ]
  },
  {
   "cell_type": "code",
   "execution_count": null,
   "id": "48049bf2-898c-4cd8-bf4c-a4db3bb124c2",
   "metadata": {},
   "outputs": [],
   "source": [
    "print(f'The value of pi is approximately {math.pi}')"
   ]
  },
  {
   "cell_type": "code",
   "execution_count": null,
   "id": "022b4260-8383-496f-9e85-fcfc2faebb6a",
   "metadata": {},
   "outputs": [],
   "source": [
    "# Argument is an Expression in parentheses\n",
    "int('101', 2) # The sequence of digit 101 in base 2 represents the number 5 in base 10\n"
   ]
  },
  {
   "cell_type": "code",
   "execution_count": 3,
   "id": "07f03698-3067-4f90-8d85-7594294414e5",
   "metadata": {},
   "outputs": [
    {
     "name": "stdout",
     "output_type": "stream",
     "text": [
      "523.5987755982989\n"
     ]
    }
   ],
   "source": [
    "# The volume of a sphere with radius r is 4/3pir3. what is the volume \n",
    "# of a sphere with radius 5? start with a variable named radius and then assign the result to a \n",
    "# variable named volume. Display the result. Add comments to indicate that radius is in \n",
    "# centimeters and volume is in cubic centimeters\n",
    "import math\n",
    "radius = r = 5 # centimeters\n",
    "volume = (4/3 * math.pi * (math.pow(r,3))) # cubic centimeters\n",
    "print(volume)"
   ]
  },
  {
   "cell_type": "code",
   "execution_count": 4,
   "id": "4669493a-94ff-45e9-800b-d389624a4f95",
   "metadata": {},
   "outputs": [
    {
     "name": "stdin",
     "output_type": "stream",
     "text": [
      "Enter any value!  3\n"
     ]
    },
    {
     "name": "stdout",
     "output_type": "stream",
     "text": [
      "0.9999999999999999\n"
     ]
    }
   ],
   "source": [
    "# A rule of trigometry says that any value of x, (cos x)2 + (sin x)2 = 1. \n",
    "# let's see if it's true for a specific value of x like 42 create a variable named x with \n",
    "# this value. then use math.cos and math.sin to compute the sine and cosine of x, \n",
    "# and the sum of their squires the result should be close to 1. it \n",
    "import cmath # complex math\n",
    "x = int(input(\"Enter any value! \"))\n",
    "output = math.pow(math.cos (x), 2) + math.pow(math.sin (x), 2)\n",
    "print(output)\n"
   ]
  },
  {
   "cell_type": "code",
   "execution_count": 5,
   "id": "4a83c7b8-116e-4098-b002-a2dd832455f9",
   "metadata": {},
   "outputs": [
    {
     "name": "stdin",
     "output_type": "stream",
     "text": [
      "Enter a value  4\n"
     ]
    },
    {
     "name": "stdout",
     "output_type": "stream",
     "text": [
      "54.598150033144236\n"
     ]
    }
   ],
   "source": [
    "# uses of math.e\n",
    "# import math\n",
    "# test1 = math.e ** 2\n",
    "# test2 = math.pow (math.e, 2)\n",
    "\n",
    "# print(test2)\n",
    "x = int(input(\"Enter a value \"))\n",
    "test3 = math.exp(x)\n",
    "print(test3)"
   ]
  },
  {
   "cell_type": "code",
   "execution_count": 7,
   "id": "b6f8343a-8365-473f-b4e1-6d7ecec2ff70",
   "metadata": {},
   "outputs": [
    {
     "name": "stdout",
     "output_type": "stream",
     "text": [
      "Spam, Spam, Spam, Spam, \n",
      "Spam, Spam, Spam, Spam, \n",
      "Spam, Spam, \n",
      "(Lovely spam, Wonderful spam!)\n",
      "Spam, Spam, \n",
      "\n",
      "Spam, Spam, Spam, Spam, \n",
      "Spam, Spam, Spam, Spam, \n",
      "Spam, Spam, \n",
      "(Lovely spam, Wonderful spam!)\n",
      "Spam, Spam, \n",
      "\n",
      "Spam, Spam, Spam, Spam, \n",
      "Spam, Spam, Spam, Spam, \n",
      "Spam, Spam, \n",
      "(Lovely spam, Wonderful spam!)\n",
      "Spam, Spam, \n",
      "\n",
      "Spam, Spam, Spam, Spam, \n",
      "Spam, Spam, Spam, Spam, \n",
      "Spam, Spam, \n",
      "(Lovely spam, Wonderful spam!)\n",
      "Spam, Spam, \n",
      "\n",
      "Spam, Spam, Spam, Spam, \n",
      "Spam, Spam, Spam, Spam, \n",
      "Spam, Spam, \n",
      "(Lovely spam, Wonderful spam!)\n",
      "Spam, Spam, \n",
      "\n"
     ]
    }
   ],
   "source": [
    "# functions definition - specifies the name of a new function and the sequence of statement\n",
    "# that run when the function is called\n",
    "\n",
    "# def print_twice(string):\n",
    "#     print(string)\n",
    "#     print(string)\n",
    "\n",
    "# print_twice(string='hello')\n",
    "def repeat(word, n):\n",
    "    \"\"\"A function that prints the lyrics of a song spam, The first line.\"\"\"\n",
    "    print(word * n)\n",
    "    \n",
    "def print_first_2_lines():\n",
    "    \"\"\"This function prints the 2 lines of the song spam.\"\"\"\n",
    "    repeat(word = 'Spam, ', n = 4)\n",
    "    repeat(word = 'Spam, ', n = 4)\n",
    "def last_3_lines():\n",
    "    \"This function prints the last 3 lines of the song spam\"\n",
    "    repeat(word = 'Spam, ', n = 2)\n",
    "    print('(Lovely spam, Wonderful spam!)')\n",
    "    repeat(word = 'Spam, ', n = 2)\n",
    "def print_verse():\n",
    "    \"\"\"This function prints the whole verse of the song spam\"\"\"\n",
    "    print_first_2_lines()\n",
    "    last_3_lines()\n",
    "\n",
    "# for i in range(2):\n",
    "#     print(\"Verse\", i)\n",
    "#     print_verse()\n",
    "#     print() # this creates a space between the first verse and the second one\n",
    "\n",
    "def print_n_verses(n):\n",
    "    \"\"\"This function prints a specified number of versers specified on the function argument\"\"\"\n",
    "    for i in range(n):\n",
    "        print_verse()\n",
    "        print() # this creates a space between the first verse and the second one\n",
    "\n",
    "print_n_verses(5)\n"
   ]
  },
  {
   "cell_type": "code",
   "execution_count": 9,
   "id": "46ef85f4-7bf5-45d2-b9a9-f63f3aa4bb3b",
   "metadata": {},
   "outputs": [
    {
     "name": "stdout",
     "output_type": "stream",
     "text": [
      "Always look on the bright side of life.\n",
      "Always look on the bright side of life.\n"
     ]
    }
   ],
   "source": [
    "# Variables and parameters are local when you create a variable inside a function, \n",
    "# it is local, which means that it only exists inside the function\n",
    "def cat_twice(part1, part2):\n",
    "    cat = part1 + part2\n",
    "    print_twice(cat)\n",
    "\n",
    "line1 = 'Always look on the '\n",
    "line2 = 'bright side of life.'\n",
    "cat_twice(line1, line2)\n",
    "\n"
   ]
  },
  {
   "cell_type": "code",
   "execution_count": 19,
   "id": "26f12596-90a9-4ac8-8949-a92c3ff94f51",
   "metadata": {},
   "outputs": [
    {
     "name": "stdout",
     "output_type": "stream",
     "text": [
      "Hey \n",
      "Hey \n",
      "Hey \n",
      "Hey \n",
      "\n"
     ]
    }
   ],
   "source": [
    "# A frame is a box with the name of a function on the outside \n",
    "# and the parameters and local variables of the function on the inside\n",
    "\n",
    "# Write a function called repeat that takes a string and an integer \n",
    "# and prints the string the given number of times\n",
    "\n",
    "# def repeat(n):\n",
    "#     \"\"\"Using 4 loop\"\"\"\n",
    "#     for i in range(n):\n",
    "#         print(\"Hello\")\n",
    "\n",
    "# repeat(4)\n",
    "\n",
    "# def repeat(n):\n",
    "#     print(\"Hey \\n\" * n)\n",
    "\n",
    "# repeat(4)\n",
    "\n",
    "# Write a function named print_right that takes a string named text as a \n",
    "# parameter and prints the string with enough leading spaces that the last letter\n",
    "# of the string is in the 40th column of the display\n",
    "def print_right(text):\n",
    "    print(text=\" \")\n",
    "    "
   ]
  },
  {
   "cell_type": "code",
   "execution_count": null,
   "id": "ccb91bf0-c05e-42e2-a8cc-93c681775aef",
   "metadata": {},
   "outputs": [],
   "source": [
    "pip install --force jupyturtle"
   ]
  },
  {
   "cell_type": "code",
   "execution_count": 32,
   "id": "6da61dca-5a9b-49f9-aa0d-eced9ec9b934",
   "metadata": {},
   "outputs": [
    {
     "ename": "SyntaxError",
     "evalue": "invalid syntax (2206971396.py, line 1)",
     "output_type": "error",
     "traceback": [
      "\u001b[0;36m  Cell \u001b[0;32mIn[32], line 1\u001b[0;36m\u001b[0m\n\u001b[0;31m    brew uninstall --force jupyturtle\u001b[0m\n\u001b[0m         ^\u001b[0m\n\u001b[0;31mSyntaxError\u001b[0m\u001b[0;31m:\u001b[0m invalid syntax\n"
     ]
    }
   ],
   "source": [
    " uninstall --force jupyturtle"
   ]
  },
  {
   "cell_type": "code",
   "execution_count": 8,
   "id": "c0b41306-8458-49c9-a682-f28148314a67",
   "metadata": {},
   "outputs": [
    {
     "data": {
      "text/html": [
       "<svg width=\"300\" height=\"150\" style=\"fill:none; stroke-linecap:round;\">\n",
       "    <rect width=\"100%\" height=\"100%\" fill=\"#F3F3F7\" />\n",
       "\n",
       "\n",
       "<path stroke=\"#663399\" stroke-width=\"2\" d=\"M 150,75 250,75\" />'\n",
       "\n",
       "<g transform=\"rotate(-90.0,250.0,75.0) translate(250.0, 75.0)\">\n",
       "    <circle stroke=\"#63A375\" stroke-width=\"2\" fill=\"transparent\" r=\"5.5\" cx=\"0\" cy=\"0\"/>\n",
       "    <polygon points=\"0,12 2,9 -2,9\" style=\"fill:#63A375;stroke:#63A375;stroke-width:2\"/>\n",
       "</g>\n",
       "\n",
       "</svg>"
      ],
      "text/plain": [
       "<IPython.core.display.HTML object>"
      ]
     },
     "metadata": {},
     "output_type": "display_data"
    }
   ],
   "source": [
    "# functions and interfaces\n",
    "from jupyturtle import make_turtle, forward \n",
    "\"\"\"The circle shows the location of the turtle and the triangle \n",
    "indicates the direction it is facing\"\"\"\n",
    "# jupyturtle.make_turtle() # canvas a space on the screen where we can draw\n",
    "# jupyturtle.forward(100) # moves the turtle a given distance in the \n",
    "# direction it's facing, drawing a line segment along the way\n",
    "\n",
    "make_turtle() \n",
    "forward(100)\n"
   ]
  },
  {
   "cell_type": "code",
   "execution_count": 3,
   "id": "496cab17-4292-4cea-a854-f7ae141f840c",
   "metadata": {},
   "outputs": [
    {
     "data": {
      "text/html": [
       "<svg width=\"300\" height=\"150\" style=\"fill:none; stroke-linecap:round;\">\n",
       "    <rect width=\"100%\" height=\"100%\" fill=\"#F3F3F7\" />\n",
       "\n",
       "\n",
       "<path stroke=\"#663399\" stroke-width=\"2\" d=\"M 150,75 200,75 200,25 150,25 150,75\" />'\n",
       "\n",
       "<g transform=\"rotate(-90.0,150.0,75.0) translate(150.0, 75.0)\">\n",
       "    <circle stroke=\"#63A375\" stroke-width=\"2\" fill=\"transparent\" r=\"5.5\" cx=\"0\" cy=\"0\"/>\n",
       "    <polygon points=\"0,12 2,9 -2,9\" style=\"fill:#63A375;stroke:#63A375;stroke-width:2\"/>\n",
       "</g>\n",
       "\n",
       "</svg>"
      ],
      "text/plain": [
       "<IPython.core.display.HTML object>"
      ]
     },
     "metadata": {},
     "output_type": "display_data"
    },
    {
     "name": "stdout",
     "output_type": "stream",
     "text": [
      "3\n"
     ]
    }
   ],
   "source": [
    "from jupyturtle import left, right,make_turtle, forward\n",
    "\"\"\"left causes the turtle to turn left. It takes one argument, which is the \n",
    "angle of the turn in degrees.\n",
    "This program moves the turtle east and then north, leaving 2 line segment behind.\"\"\"\n",
    "make_turtle()\n",
    "\n",
    "for i in range(4):\n",
    "    forward(50)\n",
    "    left(90)\n",
    "print(i)\n",
    "\n",
    "# forward(50)\n",
    "# left(90)\n",
    "\n",
    "# forward(50)\n",
    "# left(90)\n",
    "\n",
    "# forward(50)\n",
    "# left(90)\n",
    "\n",
    "# forward(50)\n",
    "# left(90)\n",
    "\n",
    "\n"
   ]
  },
  {
   "cell_type": "code",
   "execution_count": 4,
   "id": "07d506e0-8c47-40d9-996d-9fe492f9eb92",
   "metadata": {},
   "outputs": [
    {
     "data": {
      "text/html": [
       "<svg width=\"300\" height=\"150\" style=\"fill:none; stroke-linecap:round;\">\n",
       "    <rect width=\"100%\" height=\"100%\" fill=\"#F3F3F7\" />\n",
       "\n",
       "\n",
       "<path stroke=\"#663399\" stroke-width=\"2\" d=\"M 150,75 200,75 200,25 150,25 150,75\" />'\n",
       "\n",
       "<g transform=\"rotate(-90.0,150.0,75.0) translate(150.0, 75.0)\">\n",
       "    <circle stroke=\"#63A375\" stroke-width=\"2\" fill=\"transparent\" r=\"5.5\" cx=\"0\" cy=\"0\"/>\n",
       "    <polygon points=\"0,12 2,9 -2,9\" style=\"fill:#63A375;stroke:#63A375;stroke-width:2\"/>\n",
       "</g>\n",
       "\n",
       "</svg>"
      ],
      "text/plain": [
       "<IPython.core.display.HTML object>"
      ]
     },
     "metadata": {},
     "output_type": "display_data"
    }
   ],
   "source": [
    "# Encapsulation and generalization\n",
    "from jupyturtle import *\n",
    "\"\"\"Encapsulation - wrapping a piece of code up in a function\n",
    "Encapsulation attaches a name to the code, \n",
    "which serves as a kind of documentation.\"\"\"\n",
    "def square():\n",
    "    for i in range(4):\n",
    "        forward(50)\n",
    "        left(90)\n",
    "\n",
    "make_turtle()\n",
    "square()"
   ]
  },
  {
   "cell_type": "code",
   "execution_count": 5,
   "id": "d544a442-a7fb-467e-88fe-e75c7611e33a",
   "metadata": {},
   "outputs": [
    {
     "data": {
      "text/html": [
       "<svg width=\"300\" height=\"150\" style=\"fill:none; stroke-linecap:round;\">\n",
       "    <rect width=\"100%\" height=\"100%\" fill=\"#F3F3F7\" />\n",
       "\n",
       "\n",
       "<path stroke=\"#663399\" stroke-width=\"2\" d=\"M 150,75 180,75 180,45 150,45 150,75 210,75 210,15 150,15 150,75\" />'\n",
       "\n",
       "<g transform=\"rotate(-90.0,150.0,75.0) translate(150.0, 75.0)\">\n",
       "    <circle stroke=\"#63A375\" stroke-width=\"2\" fill=\"transparent\" r=\"5.5\" cx=\"0\" cy=\"0\"/>\n",
       "    <polygon points=\"0,12 2,9 -2,9\" style=\"fill:#63A375;stroke:#63A375;stroke-width:2\"/>\n",
       "</g>\n",
       "\n",
       "</svg>"
      ],
      "text/plain": [
       "<IPython.core.display.HTML object>"
      ]
     },
     "metadata": {},
     "output_type": "display_data"
    }
   ],
   "source": [
    "# drawing a square inside another square\n",
    "from jupyturtle import *\n",
    "# generalization - adding a parameter to a function. because it makes the function\n",
    "# more general\n",
    "def square(length):\n",
    "    for i in range(4):\n",
    "        forward(length)\n",
    "        left(90)\n",
    "\n",
    "make_turtle()\n",
    "square(30)\n",
    "square(60)"
   ]
  },
  {
   "cell_type": "code",
   "execution_count": 6,
   "id": "7f24a7ae-b312-4091-88eb-7c4bce7ecd0f",
   "metadata": {},
   "outputs": [
    {
     "data": {
      "text/html": [
       "<svg width=\"300\" height=\"150\" style=\"fill:none; stroke-linecap:round;\">\n",
       "    <rect width=\"100%\" height=\"100%\" fill=\"#F3F3F7\" />\n",
       "\n",
       "\n",
       "<path stroke=\"#663399\" stroke-width=\"2\" d=\"M 150,75 180,75 198.7,51.5 192,22.3 165,9.3 138,22.3 131.3,51.5 150,75\" />'\n",
       "\n",
       "<g transform=\"rotate(270.0,150.0,75.0) translate(150.0, 75.0)\">\n",
       "    <circle stroke=\"#63A375\" stroke-width=\"2\" fill=\"transparent\" r=\"5.5\" cx=\"0\" cy=\"0\"/>\n",
       "    <polygon points=\"0,12 2,9 -2,9\" style=\"fill:#63A375;stroke:#63A375;stroke-width:2\"/>\n",
       "</g>\n",
       "\n",
       "</svg>"
      ],
      "text/plain": [
       "<IPython.core.display.HTML object>"
      ]
     },
     "metadata": {},
     "output_type": "display_data"
    }
   ],
   "source": [
    "from jupyturtle import *\n",
    "def polygon(n, length):\n",
    "    angle = 360 / n\n",
    "    for i in range(n):\n",
    "        forward(length)\n",
    "        left(angle)\n",
    "\n",
    "make_turtle()\n",
    "polygon(n=7, length=30)"
   ]
  },
  {
   "cell_type": "code",
   "execution_count": 21,
   "id": "25e8a924-bdaa-4726-bda1-93de1d2a1279",
   "metadata": {},
   "outputs": [
    {
     "data": {
      "text/html": [
       "<svg width=\"300\" height=\"150\" style=\"fill:none; stroke-linecap:round;\">\n",
       "    <rect width=\"100%\" height=\"100%\" fill=\"#F3F3F7\" />\n",
       "\n",
       "\n",
       "<path stroke=\"#663399\" stroke-width=\"2\" d=\"M 150,75 156.3,75 162.4,73.7 168.2,71.1 173.3,67.4 177.5,62.8 180.6,57.3 182.5,51.4 183.2,45.1 182.5,38.9 180.6,32.9 177.5,27.4 173.3,22.8 168.2,19.1 162.4,16.5 156.3,15.2 150,15.2 143.9,16.5 138.1,19.1 133,22.8 128.8,27.4 125.7,32.9 123.7,38.9 123.1,45.1 123.7,51.4 125.7,57.3 128.8,62.8 133,67.4 138.1,71.1 143.9,73.7 150,75\" />'\n",
       "\n",
       "<g transform=\"rotate(-90.0,150.0,75.0) translate(150.0, 75.0)\">\n",
       "    <circle stroke=\"#63A375\" stroke-width=\"2\" fill=\"transparent\" r=\"5.5\" cx=\"0\" cy=\"0\"/>\n",
       "    <polygon points=\"0,12 2,9 -2,9\" style=\"fill:#63A375;stroke:#63A375;stroke-width:2\"/>\n",
       "</g>\n",
       "\n",
       "</svg>"
      ],
      "text/plain": [
       "<IPython.core.display.HTML object>"
      ]
     },
     "metadata": {},
     "output_type": "display_data"
    }
   ],
   "source": [
    "import math\n",
    "def circle(radius, n):\n",
    "    circumference = 2 * math.pi * radius\n",
    "    length = circumference / n\n",
    "    polygon(n, length)\n",
    "\n",
    "make_turtle(delay=0.02)\n",
    "circle(radius=30, n=30)"
   ]
  },
  {
   "cell_type": "code",
   "execution_count": 23,
   "id": "833abaf7-3f48-40f5-80c0-35f4874b501f",
   "metadata": {},
   "outputs": [
    {
     "data": {
      "text/html": [
       "<svg width=\"300\" height=\"150\" style=\"fill:none; stroke-linecap:round;\">\n",
       "    <rect width=\"100%\" height=\"100%\" fill=\"#F3F3F7\" />\n",
       "\n",
       "\n",
       "<path stroke=\"#663399\" stroke-width=\"2\" d=\"M 150,75 159,75 167.6,72.2 174.8,66.9 180.1,59.6 182.9,51.1 182.9,42.1 180.1,33.5 174.8,26.2 167.6,21 159,18.2 150,18.2 141.4,21 134.2,26.2 128.9,33.5 126.1,42.1 126.1,51.1 128.9,59.6 134.2,66.9 141.4,72.2 150,75 152.9,75 155.7,74.9 158.5,74.7 161.4,74.3 164.2,73.8 167,73.3 169.7,72.6 172.5,71.8 175.2,70.9 177.8,69.8 180.5,68.7 183,67.5 185.5,66.1 188,64.7 190.4,63.2 192.7,61.5 195,59.8 197.2,58 199.3,56.1 201.4,54.1 203.3,52 205.2,49.9 207,47.6 208.7,45.3 210.2,43 211.7,40.5 213.1,38.1 214.4,35.5 215.6,32.9 216.7,30.3 217.4,28.3 217.7,26.2 217.6,24.2 217,22.1 216,20.3 214.7,18.7 213,17.4 211.1,16.5 209.1,16 207,15.9 204.9,16.3 203,17 201.3,18.2 199.8,19.7 198.7,21.5 198,23.5 197.7,25.5 197.8,27.6 198.4,29.6 199.4,31.5 200.7,33.1 202.4,34.4 204.3,35.3 206.3,35.8 208.4,35.9 210.5,35.5 212.4,34.7 214.1,33.6 215.6,32.1 216.7,30.3\" />'\n",
       "\n",
       "<g transform=\"rotate(200.0,216.7,30.3) translate(216.7, 30.3)\">\n",
       "    <circle stroke=\"#63A375\" stroke-width=\"2\" fill=\"transparent\" r=\"5.5\" cx=\"0\" cy=\"0\"/>\n",
       "    <polygon points=\"0,12 2,9 -2,9\" style=\"fill:#63A375;stroke:#63A375;stroke-width:2\"/>\n",
       "</g>\n",
       "\n",
       "</svg>"
      ],
      "text/plain": [
       "<IPython.core.display.HTML object>"
      ]
     },
     "metadata": {},
     "output_type": "display_data"
    }
   ],
   "source": [
    "# Refactoring - changes that improves the code without changing its behavior\n",
    "def polyline(n, length, angle):\n",
    "    for i in range(n):\n",
    "        forward(length)\n",
    "        left(angle)\n",
    "\n",
    "def polygon(n, length):\n",
    "    angle = 360.0 /n\n",
    "    polyline(n, length, angle)\n",
    "\n",
    "def arc(radius, angle):\n",
    "    arc_length = 2 * math.pi * radius * angle / 360\n",
    "    n = 30\n",
    "    length = arc_length / n\n",
    "    step_angle = angle / n\n",
    "    polyline(n, length, step_angle)\n",
    "\n",
    "def circle(radius):\n",
    "    arc(radius, 360)\n",
    "\n",
    "make_turtle(delay=0)\n",
    "polygon(n=20, length=9)\n",
    "arc(radius=70, angle=70)\n",
    "circle(radius=10)"
   ]
  },
  {
   "cell_type": "code",
   "execution_count": null,
   "id": "635d2094-4eba-4420-8023-c5c2e3523fe5",
   "metadata": {},
   "outputs": [],
   "source": [
    "import pandas as pd\n",
    "\n",
    "data = pd.read_excel('/Users/briankimanzi/Documents/Excel/covid_deaths.xls')\n",
    "print(data)"
   ]
  },
  {
   "cell_type": "code",
   "execution_count": 7,
   "id": "de8964db-5487-4909-8448-2a476f0f5414",
   "metadata": {},
   "outputs": [],
   "source": [
    "from jupyturtle import penup, pendown,forward\n",
    "def jump(length):\n",
    "    \"\"\"Move forward length units withiout leaving\n",
    "    postcondition: Leaves the pen down\"\"\"\n",
    "    penup()\n",
    "    forward(length)\n",
    "    pendown()\n",
    "\n",
    "jump(30)"
   ]
  },
  {
   "cell_type": "code",
   "execution_count": 16,
   "id": "0525e66f-4cb2-40c1-96d7-da10885386fb",
   "metadata": {},
   "outputs": [
    {
     "data": {
      "text/html": [
       "<svg width=\"300\" height=\"150\" style=\"fill:none; stroke-linecap:round;\">\n",
       "    <rect width=\"100%\" height=\"100%\" fill=\"#F3F3F7\" />\n",
       "\n",
       "\n",
       "<path stroke=\"#663399\" stroke-width=\"2\" d=\"M 150,75 190,75 196.9,35.6 159.4,21.9 139.4,56.6\" />'\n",
       "\n",
       "<g transform=\"rotate(-50.0,139.4,56.6) translate(139.4, 56.6)\">\n",
       "    <circle stroke=\"#63A375\" stroke-width=\"2\" fill=\"transparent\" r=\"5.5\" cx=\"0\" cy=\"0\"/>\n",
       "    <polygon points=\"0,12 2,9 -2,9\" style=\"fill:#63A375;stroke:#63A375;stroke-width:2\"/>\n",
       "</g>\n",
       "\n",
       "</svg>"
      ],
      "text/plain": [
       "<IPython.core.display.HTML object>"
      ]
     },
     "metadata": {},
     "output_type": "display_data"
    },
    {
     "name": "stdout",
     "output_type": "stream",
     "text": [
      "3\n"
     ]
    }
   ],
   "source": [
    "from jupyturtle import forward, make_turtle\n",
    "def rectange(length, width):\n",
    "    \"\"\"A function that will draw a rectange using jupyturtle module\n",
    "    Dimensions: length 80 width 40\"\"\"\n",
    "    for i in range(4):\n",
    "        forward(width)\n",
    "        left(length)\n",
    "    print(i)\n",
    "  \n",
    "    \n",
    "make_turtle()\n",
    "rectange(length=80, width=40)"
   ]
  },
  {
   "cell_type": "code",
   "execution_count": 29,
   "id": "3cb8978e-c717-4eba-afc0-d81c01cd73be",
   "metadata": {},
   "outputs": [
    {
     "data": {
      "text/plain": [
       "6"
      ]
     },
     "execution_count": 29,
     "metadata": {},
     "output_type": "execute_result"
    }
   ],
   "source": [
    "x = 36\n",
    "x % 10"
   ]
  },
  {
   "cell_type": "code",
   "execution_count": 22,
   "id": "efa7cf18-9db2-4032-ae78-f38f483209e9",
   "metadata": {},
   "outputs": [
    {
     "data": {
      "text/plain": [
       "2"
      ]
     },
     "execution_count": 22,
     "metadata": {},
     "output_type": "execute_result"
    }
   ],
   "source": [
    "start = 11\n",
    "duration = 3\n",
    "end = (start + duration) % 12\n",
    "end"
   ]
  },
  {
   "cell_type": "code",
   "execution_count": 26,
   "id": "6f423937-7093-489f-bfa0-7a0cc03657f0",
   "metadata": {},
   "outputs": [
    {
     "data": {
      "text/plain": [
       "42"
      ]
     },
     "execution_count": 26,
     "metadata": {},
     "output_type": "execute_result"
    }
   ],
   "source": [
    "42 or False"
   ]
  },
  {
   "cell_type": "code",
   "execution_count": 32,
   "id": "892bff7b-034b-4778-826b-74441df29709",
   "metadata": {},
   "outputs": [
    {
     "data": {
      "text/plain": [
       "True"
      ]
     },
     "execution_count": 32,
     "metadata": {},
     "output_type": "execute_result"
    }
   ],
   "source": [
    "x = 5\n",
    "y = 7\n",
    "x % 2 == 0 or x % 3 == 0"
   ]
  },
  {
   "cell_type": "code",
   "execution_count": 33,
   "id": "7c12267a-134d-4bdb-8675-76dc56e85be4",
   "metadata": {},
   "outputs": [
    {
     "name": "stdout",
     "output_type": "stream",
     "text": [
      "x is positive\n"
     ]
    }
   ],
   "source": [
    "# if statements\n",
    "if x > 0:\n",
    "    print('x is positive')"
   ]
  },
  {
   "cell_type": "code",
   "execution_count": 35,
   "id": "c86fbad2-f46e-4126-b1ff-c200e88cb8bf",
   "metadata": {},
   "outputs": [
    {
     "name": "stdout",
     "output_type": "stream",
     "text": [
      "x is odd\n"
     ]
    }
   ],
   "source": [
    "# else clause\n",
    "if x % 2 == 0:\n",
    "    print ('x is even')\n",
    "else:\n",
    "    print ('x is odd')\n"
   ]
  },
  {
   "cell_type": "code",
   "execution_count": 36,
   "id": "8e257f85-69cb-4df2-8f3c-d26e268cdfa9",
   "metadata": {},
   "outputs": [
    {
     "name": "stdout",
     "output_type": "stream",
     "text": [
      "x is less than y\n"
     ]
    }
   ],
   "source": [
    "# chained conditionals\n",
    "if x < y:\n",
    "    print('x is less than y')\n",
    "elif x > y:\n",
    "    print('x is greater than y')\n",
    "else:\n",
    "    print('x and y are equal')"
   ]
  },
  {
   "cell_type": "code",
   "execution_count": 37,
   "id": "8dbfd19c-43f8-459b-85d5-efb08743ce6d",
   "metadata": {},
   "outputs": [
    {
     "name": "stdout",
     "output_type": "stream",
     "text": [
      "x is less than y\n"
     ]
    }
   ],
   "source": [
    "# Nested conditionals\n",
    "if x == y:\n",
    "    print('x and y are equal')\n",
    "else:\n",
    "    if x < y:\n",
    "        print('x is less than y')\n",
    "    else:\n",
    "        print('x is greater than y')"
   ]
  },
  {
   "cell_type": "code",
   "execution_count": 39,
   "id": "b749018a-354e-40df-a4e4-ae4de8ee7bec",
   "metadata": {},
   "outputs": [
    {
     "name": "stdout",
     "output_type": "stream",
     "text": [
      "x is a positive single-digit number\n"
     ]
    }
   ],
   "source": [
    "# and condition\n",
    "if 0 < x < 10:\n",
    "    print('x is a positive single-digit number')"
   ]
  },
  {
   "cell_type": "code",
   "execution_count": 41,
   "id": "4f3cb1fc-9279-41df-b183-906da77e25dc",
   "metadata": {},
   "outputs": [
    {
     "name": "stdout",
     "output_type": "stream",
     "text": [
      "10\n",
      "9\n",
      "8\n",
      "7\n",
      "6\n",
      "5\n",
      "4\n",
      "3\n",
      "2\n",
      "1\n",
      "Blastoff!\n"
     ]
    }
   ],
   "source": [
    "# Recursion-\n",
    "def countdown(n):\n",
    "    if n <= 0:\n",
    "        print('Blastoff!')\n",
    "    else:\n",
    "        print(n)\n",
    "        countdown(n-1)\n",
    "\n",
    "countdown(10)"
   ]
  },
  {
   "cell_type": "code",
   "execution_count": 42,
   "id": "9f145021-8ce9-4e95-9279-a002438c2356",
   "metadata": {},
   "outputs": [
    {
     "name": "stdout",
     "output_type": "stream",
     "text": [
      "spam\n",
      "spam\n",
      "spam\n",
      "spam\n"
     ]
    }
   ],
   "source": [
    "# recursion function with string\n",
    "def print_n_times(string, n):\n",
    "    \"\"\"A function that prints a \n",
    "        string n times\"\"\"\n",
    "    if n > 0:\n",
    "        print(string)\n",
    "        print_n_times(string, n-1)\n",
    "\n",
    "print_n_times(string ='spam', n=4)"
   ]
  },
  {
   "cell_type": "code",
   "execution_count": null,
   "id": "f871cbf3-e206-45a1-8347-efc98c6ff7ce",
   "metadata": {},
   "outputs": [],
   "source": [
    "# infinite recursion\n",
    "def recurse():\n",
    "    \"\"\"A function that calls \n",
    "        itself and never terminates\"\"\"\n",
    "    recurse()\n",
    "\n",
    "recurse()"
   ]
  },
  {
   "cell_type": "code",
   "execution_count": null,
   "id": "efb49276-c7f4-449c-a041-59ad585d31d9",
   "metadata": {},
   "outputs": [],
   "source": [
    "# Keyboard input\n",
    "name = input('what....is your name?\\n')\n",
    "name"
   ]
  },
  {
   "cell_type": "code",
   "execution_count": 46,
   "id": "60547add-25d7-4a15-8c95-c8127d89fce5",
   "metadata": {},
   "outputs": [
    {
     "name": "stdout",
     "output_type": "stream",
     "text": [
      "x is less than y\n"
     ]
    }
   ],
   "source": [
    "if x == y:\n",
    "    print('x and y are equal')\n",
    "elif x < y:\n",
    "    print('x is less than y')\n",
    "else:\n",
    "    print('x is greater than y')"
   ]
  },
  {
   "cell_type": "code",
   "execution_count": 48,
   "id": "c724f2b2-9235-4b0c-bffb-aaf1bc10d126",
   "metadata": {},
   "outputs": [
    {
     "name": "stdout",
     "output_type": "stream",
     "text": [
      "x is a positive single- digit number\n"
     ]
    }
   ],
   "source": [
    "# single condition\n",
    "if 0 < x < 10:\n",
    "    print('x is a positive single- digit number')"
   ]
  },
  {
   "cell_type": "code",
   "execution_count": 58,
   "id": "cba2a33e-1efd-4f0c-b4b6-1f8fa1278212",
   "metadata": {},
   "outputs": [
    {
     "data": {
      "text/html": [
       "<svg width=\"300\" height=\"150\" style=\"fill:none; stroke-linecap:round;\">\n",
       "    <rect width=\"100%\" height=\"100%\" fill=\"#F3F3F7\" />\n",
       "\n",
       "\n",
       "<path stroke=\"#663399\" stroke-width=\"2\" d=\"M 150,75 162,75 166.6,69.5 162,75 166.6,80.5 162,75 150,75\" />'\n",
       "\n",
       "<g transform=\"rotate(-90.0,150.0,75.0) translate(150.0, 75.0)\">\n",
       "    <circle stroke=\"#63A375\" stroke-width=\"2\" fill=\"transparent\" r=\"5.5\" cx=\"0\" cy=\"0\"/>\n",
       "    <polygon points=\"0,12 2,9 -2,9\" style=\"fill:#63A375;stroke:#63A375;stroke-width:2\"/>\n",
       "</g>\n",
       "\n",
       "</svg>"
      ],
      "text/plain": [
       "<IPython.core.display.HTML object>"
      ]
     },
     "metadata": {},
     "output_type": "display_data"
    }
   ],
   "source": []
  },
  {
   "cell_type": "code",
   "execution_count": null,
   "id": "da0ef190-6f62-4d48-b282-9d4f1aadbcc6",
   "metadata": {},
   "outputs": [],
   "source": []
  }
 ],
 "metadata": {
  "kernelspec": {
   "display_name": "Python 3 (ipykernel)",
   "language": "python",
   "name": "python3"
  },
  "language_info": {
   "codemirror_mode": {
    "name": "ipython",
    "version": 3
   },
   "file_extension": ".py",
   "mimetype": "text/x-python",
   "name": "python",
   "nbconvert_exporter": "python",
   "pygments_lexer": "ipython3",
   "version": "3.12.4"
  }
 },
 "nbformat": 4,
 "nbformat_minor": 5
}
