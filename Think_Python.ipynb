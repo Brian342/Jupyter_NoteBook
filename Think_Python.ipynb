{
 "cells": [
  {
   "cell_type": "code",
   "execution_count": 1,
   "id": "81aa129c-6f8b-4d25-94e0-f70fa0a8e030",
   "metadata": {},
   "outputs": [
    {
     "data": {
      "text/plain": [
       "42.0"
      ]
     },
     "execution_count": 1,
     "metadata": {},
     "output_type": "execute_result"
    }
   ],
   "source": [
    "int('126')/3"
   ]
  },
  {
   "cell_type": "code",
   "execution_count": 15,
   "id": "21c479a4-ccb9-4b98-aa98-4713a33caa6e",
   "metadata": {},
   "outputs": [
    {
     "data": {
      "text/plain": [
       "2562"
      ]
     },
     "execution_count": 15,
     "metadata": {},
     "output_type": "execute_result"
    }
   ],
   "source": [
    "# Number of seconds in 42:42\n",
    "(42*60) + 42"
   ]
  },
  {
   "cell_type": "code",
   "execution_count": 6,
   "id": "972a4b59-c2a3-4676-8726-30a3358f4525",
   "metadata": {},
   "outputs": [
    {
     "name": "stdout",
     "output_type": "stream",
     "text": [
      "6.211180124223602\n"
     ]
    }
   ],
   "source": [
    "# a program to determine how many kilometres are there in miles\n",
    "miles = 10/1.61\n",
    "print(miles)"
   ]
  },
  {
   "cell_type": "code",
   "execution_count": 1,
   "id": "839458bd-c8ae-4cfe-8585-20145103c72c",
   "metadata": {},
   "outputs": [],
   "source": [
    "# A module is a collection of variables and function \n",
    "import math\n"
   ]
  },
  {
   "cell_type": "code",
   "execution_count": 17,
   "id": "9e8b1488-95be-4556-a120-b9749f86ab60",
   "metadata": {},
   "outputs": [
    {
     "data": {
      "text/plain": [
       "17"
      ]
     },
     "execution_count": 17,
     "metadata": {},
     "output_type": "execute_result"
    }
   ],
   "source": [
    "n\n"
   ]
  },
  {
   "cell_type": "code",
   "execution_count": 2,
   "id": "48049bf2-898c-4cd8-bf4c-a4db3bb124c2",
   "metadata": {},
   "outputs": [
    {
     "name": "stdout",
     "output_type": "stream",
     "text": [
      "The value of pi is approximately 3.141592653589793\n"
     ]
    }
   ],
   "source": [
    "print(f'The value of pi is approximately {math.pi}')"
   ]
  },
  {
   "cell_type": "code",
   "execution_count": 4,
   "id": "022b4260-8383-496f-9e85-fcfc2faebb6a",
   "metadata": {},
   "outputs": [
    {
     "data": {
      "text/plain": [
       "5"
      ]
     },
     "execution_count": 4,
     "metadata": {},
     "output_type": "execute_result"
    }
   ],
   "source": [
    "# Argument is an Expression in parentheses\n",
    "int('101', 2) # The sequence of digit 101 in base 2 represents the number 5 in base 10\n"
   ]
  },
  {
   "cell_type": "code",
   "execution_count": 19,
   "id": "07f03698-3067-4f90-8d85-7594294414e5",
   "metadata": {},
   "outputs": [
    {
     "name": "stdout",
     "output_type": "stream",
     "text": [
      "523.5987755982989\n"
     ]
    }
   ],
   "source": [
    "# The volume of a sphere with radius r is 4/3pir3. what is the volume \n",
    "# of a sphere with radius 5? start with a variable named radius and then assign the result to a \n",
    "# variable named volume. Display the result. Add comments to indicate that radius is in \n",
    "# centimeters and volume is in cubic centimeters\n",
    "import math\n",
    "radius = r = 5 # centimeters\n",
    "volume = (4/3 * math.pi * (math.pow(r,3))) # cubic centimeters\n",
    "print(volume)"
   ]
  },
  {
   "cell_type": "code",
   "execution_count": 26,
   "id": "4669493a-94ff-45e9-800b-d389624a4f95",
   "metadata": {},
   "outputs": [
    {
     "name": "stdin",
     "output_type": "stream",
     "text": [
      "Enter any value!  42\n"
     ]
    },
    {
     "name": "stdout",
     "output_type": "stream",
     "text": [
      "1.0\n"
     ]
    }
   ],
   "source": [
    "# A rule of trigometry says that any value of x, (cos x)2 + (sin x)2 = 1. \n",
    "# let's see if it's true for a specific value of x like 42 create a variable named x with \n",
    "# this value. then use math.cos and math.sin to compute the sine and cosine of x, \n",
    "# and the sum of their squires the result should be close to 1. it \n",
    "import cmath # complex math\n",
    "x = int(input(\"Enter any value! \"))\n",
    "output = math.pow(math.cos (x), 2) + math.pow(math.sin (x), 2)\n",
    "print(output)\n"
   ]
  },
  {
   "cell_type": "code",
   "execution_count": 32,
   "id": "4a83c7b8-116e-4098-b002-a2dd832455f9",
   "metadata": {},
   "outputs": [
    {
     "data": {
      "text/plain": [
       "\u001b[0;31mSignature:\u001b[0m \u001b[0mmath\u001b[0m\u001b[0;34m.\u001b[0m\u001b[0mexp\u001b[0m\u001b[0;34m(\u001b[0m\u001b[0mx\u001b[0m\u001b[0;34m,\u001b[0m \u001b[0;34m/\u001b[0m\u001b[0;34m)\u001b[0m\u001b[0;34m\u001b[0m\u001b[0;34m\u001b[0m\u001b[0m\n",
       "\u001b[0;31mDocstring:\u001b[0m Return e raised to the power of x.\n",
       "\u001b[0;31mType:\u001b[0m      builtin_function_or_method"
      ]
     },
     "metadata": {},
     "output_type": "display_data"
    }
   ],
   "source": [
    "# uses of math.e\n",
    "# import math\n",
    "# test1 = math.e ** 2\n",
    "# test2 = math.pow (math.e, 2)\n",
    "\n",
    "# print(test2)\n",
    "x = int(input(\"En\"))\n",
    "math.exp(x)"
   ]
  },
  {
   "cell_type": "code",
   "execution_count": null,
   "id": "b6f8343a-8365-473f-b4e1-6d7ecec2ff70",
   "metadata": {},
   "outputs": [],
   "source": []
  }
 ],
 "metadata": {
  "kernelspec": {
   "display_name": "Python 3 (ipykernel)",
   "language": "python",
   "name": "python3"
  },
  "language_info": {
   "codemirror_mode": {
    "name": "ipython",
    "version": 3
   },
   "file_extension": ".py",
   "mimetype": "text/x-python",
   "name": "python",
   "nbconvert_exporter": "python",
   "pygments_lexer": "ipython3",
   "version": "3.12.2"
  }
 },
 "nbformat": 4,
 "nbformat_minor": 5
}
