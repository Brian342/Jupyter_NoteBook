{
 "cells": [
  {
   "cell_type": "code",
   "execution_count": 1,
   "id": "81aa129c-6f8b-4d25-94e0-f70fa0a8e030",
   "metadata": {},
   "outputs": [
    {
     "data": {
      "text/plain": [
       "42.0"
      ]
     },
     "execution_count": 1,
     "metadata": {},
     "output_type": "execute_result"
    }
   ],
   "source": [
    "int('126')/3"
   ]
  },
  {
   "cell_type": "code",
   "execution_count": 2,
   "id": "21c479a4-ccb9-4b98-aa98-4713a33caa6e",
   "metadata": {},
   "outputs": [
    {
     "data": {
      "text/plain": [
       "2562"
      ]
     },
     "execution_count": 2,
     "metadata": {},
     "output_type": "execute_result"
    }
   ],
   "source": [
    "# Number of seconds in 42:42\n",
    "(42*60) + 42"
   ]
  },
  {
   "cell_type": "code",
   "execution_count": 3,
   "id": "972a4b59-c2a3-4676-8726-30a3358f4525",
   "metadata": {},
   "outputs": [
    {
     "name": "stdout",
     "output_type": "stream",
     "text": [
      "6.211180124223602\n"
     ]
    }
   ],
   "source": [
    "# a program to determine how many kilometres are there in miles\n",
    "miles = 10/1.61\n",
    "print(miles)"
   ]
  },
  {
   "cell_type": "code",
   "execution_count": 4,
   "id": "839458bd-c8ae-4cfe-8585-20145103c72c",
   "metadata": {},
   "outputs": [],
   "source": [
    "# A module is a collection of variables and function \n",
    "import math\n"
   ]
  },
  {
   "cell_type": "code",
   "execution_count": 5,
   "id": "9e8b1488-95be-4556-a120-b9749f86ab60",
   "metadata": {},
   "outputs": [
    {
     "ename": "NameError",
     "evalue": "name 'n' is not defined",
     "output_type": "error",
     "traceback": [
      "\u001b[0;31m---------------------------------------------------------------------------\u001b[0m",
      "\u001b[0;31mNameError\u001b[0m                                 Traceback (most recent call last)",
      "Cell \u001b[0;32mIn[5], line 1\u001b[0m\n\u001b[0;32m----> 1\u001b[0m \u001b[43mn\u001b[49m\n",
      "\u001b[0;31mNameError\u001b[0m: name 'n' is not defined"
     ]
    }
   ],
   "source": [
    "n\n"
   ]
  },
  {
   "cell_type": "code",
   "execution_count": null,
   "id": "48049bf2-898c-4cd8-bf4c-a4db3bb124c2",
   "metadata": {},
   "outputs": [],
   "source": [
    "print(f'The value of pi is approximately {math.pi}')"
   ]
  },
  {
   "cell_type": "code",
   "execution_count": null,
   "id": "022b4260-8383-496f-9e85-fcfc2faebb6a",
   "metadata": {},
   "outputs": [],
   "source": [
    "# Argument is an Expression in parentheses\n",
    "int('101', 2) # The sequence of digit 101 in base 2 represents the number 5 in base 10\n"
   ]
  },
  {
   "cell_type": "code",
   "execution_count": null,
   "id": "07f03698-3067-4f90-8d85-7594294414e5",
   "metadata": {},
   "outputs": [],
   "source": [
    "# The volume of a sphere with radius r is 4/3pir3. what is the volume \n",
    "# of a sphere with radius 5? start with a variable named radius and then assign the result to a \n",
    "# variable named volume. Display the result. Add comments to indicate that radius is in \n",
    "# centimeters and volume is in cubic centimeters\n",
    "import math\n",
    "radius = r = 5 # centimeters\n",
    "volume = (4/3 * math.pi * (math.pow(r,3))) # cubic centimeters\n",
    "print(volume)"
   ]
  },
  {
   "cell_type": "code",
   "execution_count": null,
   "id": "4669493a-94ff-45e9-800b-d389624a4f95",
   "metadata": {},
   "outputs": [],
   "source": [
    "# A rule of trigometry says that any value of x, (cos x)2 + (sin x)2 = 1. \n",
    "# let's see if it's true for a specific value of x like 42 create a variable named x with \n",
    "# this value. then use math.cos and math.sin to compute the sine and cosine of x, \n",
    "# and the sum of their squires the result should be close to 1. it \n",
    "import cmath # complex math\n",
    "x = int(input(\"Enter any value! \"))\n",
    "output = math.pow(math.cos (x), 2) + math.pow(math.sin (x), 2)\n",
    "print(output)\n"
   ]
  },
  {
   "cell_type": "code",
   "execution_count": null,
   "id": "4a83c7b8-116e-4098-b002-a2dd832455f9",
   "metadata": {},
   "outputs": [],
   "source": [
    "# uses of math.e\n",
    "# import math\n",
    "# test1 = math.e ** 2\n",
    "# test2 = math.pow (math.e, 2)\n",
    "\n",
    "# print(test2)\n",
    "x = int(input(\"Enter a value \"))\n",
    "test3 = math.exp(x)\n",
    "print(test3)"
   ]
  },
  {
   "cell_type": "code",
   "execution_count": 27,
   "id": "b6f8343a-8365-473f-b4e1-6d7ecec2ff70",
   "metadata": {},
   "outputs": [
    {
     "name": "stdout",
     "output_type": "stream",
     "text": [
      "Spam, Spam, Spam, Spam, \n",
      "Spam, Spam, Spam, Spam, \n",
      "Spam, Spam, \n",
      "(Lovely spam, Wonderful spam!)\n",
      "Spam, Spam, \n",
      "\n",
      "Spam, Spam, Spam, Spam, \n",
      "Spam, Spam, Spam, Spam, \n",
      "Spam, Spam, \n",
      "(Lovely spam, Wonderful spam!)\n",
      "Spam, Spam, \n",
      "\n",
      "Spam, Spam, Spam, Spam, \n",
      "Spam, Spam, Spam, Spam, \n",
      "Spam, Spam, \n",
      "(Lovely spam, Wonderful spam!)\n",
      "Spam, Spam, \n",
      "\n",
      "Spam, Spam, Spam, Spam, \n",
      "Spam, Spam, Spam, Spam, \n",
      "Spam, Spam, \n",
      "(Lovely spam, Wonderful spam!)\n",
      "Spam, Spam, \n",
      "\n",
      "Spam, Spam, Spam, Spam, \n",
      "Spam, Spam, Spam, Spam, \n",
      "Spam, Spam, \n",
      "(Lovely spam, Wonderful spam!)\n",
      "Spam, Spam, \n",
      "\n"
     ]
    }
   ],
   "source": [
    "# functions definition - specifies the name of a new function and the sequence of statement\n",
    "# that run when the function is called\n",
    "\n",
    "# def print_twice(string):\n",
    "#     print(string)\n",
    "#     print(string)\n",
    "\n",
    "# print_twice(string='hello')\n",
    "def repeat(word, n):\n",
    "    \"\"\"A function that prints the lyrics of a song spam, The first line.\"\"\"\n",
    "    print(word * n)\n",
    "    \n",
    "def print_first_2_lines():\n",
    "    \"\"\"This function prints the 2 lines of the song spam.\"\"\"\n",
    "    repeat(word = 'Spam, ', n = 4)\n",
    "    repeat(word = 'Spam, ', n = 4)\n",
    "def last_3_lines():\n",
    "    \"This function prints the last 3 lines of the song spam\"\n",
    "    repeat(word = 'Spam, ', n = 2)\n",
    "    print('(Lovely spam, Wonderful spam!)')\n",
    "    repeat(word = 'Spam, ', n = 2)\n",
    "def print_verse():\n",
    "    \"\"\"This function prints the whole verse of the song spam\"\"\"\n",
    "    print_first_2_lines()\n",
    "    last_3_lines()\n",
    "\n",
    "# for i in range(2):\n",
    "#     print(\"Verse\", i)\n",
    "#     print_verse()\n",
    "#     print() # this creates a space between the first verse and the second one\n",
    "\n",
    "def print_n_verses(n):\n",
    "    \"\"\"This function prints a specified number of versers specified on the function argument\"\"\"\n",
    "    for i in range(n):\n",
    "        print_verse()\n",
    "        print() # this creates a space between the first verse and the second one\n",
    "\n",
    "print_n_verses(5)\n"
   ]
  },
  {
   "cell_type": "code",
   "execution_count": 30,
   "id": "46ef85f4-7bf5-45d2-b9a9-f63f3aa4bb3b",
   "metadata": {},
   "outputs": [
    {
     "name": "stdout",
     "output_type": "stream",
     "text": [
      "Always look on the bright side of life.\n",
      "Always look on the bright side of life.\n"
     ]
    }
   ],
   "source": [
    "# Variables and parameters are local when you create a variable inside a function, \n",
    "# it is local, which means that it only exists inside the function\n",
    "\n",
    "def cat_twice(part1, part2):\n",
    "    \"\"\"This function takes 2 arguments, concatenates them, and prints the result \n",
    "        twice\"\"\"\n",
    "    cat = part1 + part2\n",
    "    print_twice(cat)\n",
    "\n",
    "line1 ='Always look on the '\n",
    "line2 ='bright side of life.'\n",
    "cat_twice(line1, line2)\n"
   ]
  },
  {
   "cell_type": "code",
   "execution_count": 11,
   "id": "26f12596-90a9-4ac8-8949-a92c3ff94f51",
   "metadata": {},
   "outputs": [
    {
     "name": "stdout",
     "output_type": "stream",
     "text": [
      "Collecting jupyturtle\n",
      "  Using cached jupyturtle-2024.4.1-py3-none-any.whl.metadata (2.5 kB)\n",
      "Requirement already satisfied: ipython>=8 in /usr/local/Cellar/jupyterlab/4.1.5/libexec/lib/python3.12/site-packages (from jupyturtle) (8.22.2)\n",
      "Collecting jupyter (from jupyturtle)\n",
      "  Using cached jupyter-1.0.0-py2.py3-none-any.whl.metadata (995 bytes)\n",
      "Collecting pytest (from jupyturtle)\n",
      "  Using cached pytest-8.2.2-py3-none-any.whl.metadata (7.6 kB)\n",
      "Requirement already satisfied: decorator in /usr/local/Cellar/jupyterlab/4.1.5/libexec/lib/python3.12/site-packages (from ipython>=8->jupyturtle) (5.1.1)\n",
      "Requirement already satisfied: jedi>=0.16 in /usr/local/Cellar/jupyterlab/4.1.5/libexec/lib/python3.12/site-packages (from ipython>=8->jupyturtle) (0.19.1)\n",
      "Requirement already satisfied: matplotlib-inline in /usr/local/Cellar/jupyterlab/4.1.5/libexec/lib/python3.12/site-packages (from ipython>=8->jupyturtle) (0.1.6)\n",
      "Requirement already satisfied: prompt-toolkit<3.1.0,>=3.0.41 in /usr/local/Cellar/jupyterlab/4.1.5/libexec/lib/python3.12/site-packages (from ipython>=8->jupyturtle) (3.0.43)\n",
      "Requirement already satisfied: pygments>=2.4.0 in /usr/local/Cellar/jupyterlab/4.1.5/libexec/lib/python3.12/site-packages (from ipython>=8->jupyturtle) (2.17.2)\n",
      "Requirement already satisfied: stack-data in /usr/local/Cellar/jupyterlab/4.1.5/libexec/lib/python3.12/site-packages (from ipython>=8->jupyturtle) (0.6.3)\n",
      "Requirement already satisfied: traitlets>=5.13.0 in /usr/local/Cellar/jupyterlab/4.1.5/libexec/lib/python3.12/site-packages (from ipython>=8->jupyturtle) (5.14.2)\n",
      "Requirement already satisfied: pexpect>4.3 in /usr/local/Cellar/jupyterlab/4.1.5/libexec/lib/python3.12/site-packages (from ipython>=8->jupyturtle) (4.9.0)\n",
      "Requirement already satisfied: notebook in /usr/local/Cellar/jupyterlab/4.1.5/libexec/lib/python3.12/site-packages (from jupyter->jupyturtle) (7.1.1)\n",
      "Collecting qtconsole (from jupyter->jupyturtle)\n",
      "  Using cached qtconsole-5.5.2-py3-none-any.whl.metadata (5.1 kB)\n",
      "Requirement already satisfied: jupyter-console in /usr/local/Cellar/jupyterlab/4.1.5/libexec/lib/python3.12/site-packages (from jupyter->jupyturtle) (6.6.3)\n",
      "Requirement already satisfied: nbconvert in /usr/local/Cellar/jupyterlab/4.1.5/libexec/lib/python3.12/site-packages (from jupyter->jupyturtle) (7.16.2)\n",
      "Requirement already satisfied: ipykernel in /usr/local/Cellar/jupyterlab/4.1.5/libexec/lib/python3.12/site-packages (from jupyter->jupyturtle) (6.29.3)\n",
      "Collecting ipywidgets (from jupyter->jupyturtle)\n",
      "  Using cached ipywidgets-8.1.3-py3-none-any.whl.metadata (2.4 kB)\n",
      "Collecting iniconfig (from pytest->jupyturtle)\n",
      "  Using cached iniconfig-2.0.0-py3-none-any.whl.metadata (2.6 kB)\n",
      "Requirement already satisfied: packaging in /usr/local/Cellar/jupyterlab/4.1.5/libexec/lib/python3.12/site-packages (from pytest->jupyturtle) (24.0)\n",
      "Collecting pluggy<2.0,>=1.5 (from pytest->jupyturtle)\n",
      "  Using cached pluggy-1.5.0-py3-none-any.whl.metadata (4.8 kB)\n",
      "Requirement already satisfied: parso<0.9.0,>=0.8.3 in /usr/local/Cellar/jupyterlab/4.1.5/libexec/lib/python3.12/site-packages (from jedi>=0.16->ipython>=8->jupyturtle) (0.8.3)\n",
      "Requirement already satisfied: ptyprocess>=0.5 in /usr/local/Cellar/jupyterlab/4.1.5/libexec/lib/python3.12/site-packages (from pexpect>4.3->ipython>=8->jupyturtle) (0.7.0)\n",
      "Requirement already satisfied: wcwidth in /usr/local/Cellar/jupyterlab/4.1.5/libexec/lib/python3.12/site-packages (from prompt-toolkit<3.1.0,>=3.0.41->ipython>=8->jupyturtle) (0.2.13)\n",
      "Requirement already satisfied: appnope in /usr/local/Cellar/jupyterlab/4.1.5/libexec/lib/python3.12/site-packages (from ipykernel->jupyter->jupyturtle) (0.1.4)\n",
      "Requirement already satisfied: comm>=0.1.1 in /usr/local/Cellar/jupyterlab/4.1.5/libexec/lib/python3.12/site-packages (from ipykernel->jupyter->jupyturtle) (0.2.2)\n",
      "Requirement already satisfied: debugpy>=1.6.5 in /usr/local/Cellar/jupyterlab/4.1.5/libexec/lib/python3.12/site-packages (from ipykernel->jupyter->jupyturtle) (1.8.1)\n",
      "Requirement already satisfied: jupyter-client>=6.1.12 in /usr/local/Cellar/jupyterlab/4.1.5/libexec/lib/python3.12/site-packages (from ipykernel->jupyter->jupyturtle) (8.6.1)\n",
      "Requirement already satisfied: jupyter-core!=5.0.*,>=4.12 in /usr/local/Cellar/jupyterlab/4.1.5/libexec/lib/python3.12/site-packages (from ipykernel->jupyter->jupyturtle) (5.7.2)\n",
      "Requirement already satisfied: nest-asyncio in /usr/local/Cellar/jupyterlab/4.1.5/libexec/lib/python3.12/site-packages (from ipykernel->jupyter->jupyturtle) (1.6.0)\n",
      "Requirement already satisfied: psutil in /usr/local/Cellar/jupyterlab/4.1.5/libexec/lib/python3.12/site-packages (from ipykernel->jupyter->jupyturtle) (5.9.8)\n",
      "Requirement already satisfied: pyzmq>=24 in /usr/local/Cellar/jupyterlab/4.1.5/libexec/lib/python3.12/site-packages (from ipykernel->jupyter->jupyturtle) (25.1.2)\n",
      "Requirement already satisfied: tornado>=6.1 in /usr/local/Cellar/jupyterlab/4.1.5/libexec/lib/python3.12/site-packages (from ipykernel->jupyter->jupyturtle) (6.4)\n",
      "Requirement already satisfied: widgetsnbextension~=4.0.11 in /usr/local/Cellar/jupyterlab/4.1.5/libexec/lib/python3.12/site-packages (from ipywidgets->jupyter->jupyturtle) (4.0.11)\n",
      "Collecting jupyterlab-widgets~=3.0.11 (from ipywidgets->jupyter->jupyturtle)\n",
      "  Using cached jupyterlab_widgets-3.0.11-py3-none-any.whl.metadata (4.1 kB)\n",
      "Requirement already satisfied: beautifulsoup4 in /usr/local/Cellar/jupyterlab/4.1.5/libexec/lib/python3.12/site-packages (from nbconvert->jupyter->jupyturtle) (4.12.3)\n",
      "Requirement already satisfied: bleach!=5.0.0 in /usr/local/Cellar/jupyterlab/4.1.5/libexec/lib/python3.12/site-packages (from nbconvert->jupyter->jupyturtle) (6.1.0)\n",
      "Requirement already satisfied: defusedxml in /usr/local/Cellar/jupyterlab/4.1.5/libexec/lib/python3.12/site-packages (from nbconvert->jupyter->jupyturtle) (0.7.1)\n",
      "Requirement already satisfied: jinja2>=3.0 in /usr/local/Cellar/jupyterlab/4.1.5/libexec/lib/python3.12/site-packages (from nbconvert->jupyter->jupyturtle) (3.1.3)\n",
      "Requirement already satisfied: jupyterlab-pygments in /usr/local/Cellar/jupyterlab/4.1.5/libexec/lib/python3.12/site-packages (from nbconvert->jupyter->jupyturtle) (0.3.0)\n",
      "Requirement already satisfied: markupsafe>=2.0 in /usr/local/Cellar/jupyterlab/4.1.5/libexec/lib/python3.12/site-packages (from nbconvert->jupyter->jupyturtle) (2.1.5)\n",
      "Requirement already satisfied: mistune<4,>=2.0.3 in /usr/local/Cellar/jupyterlab/4.1.5/libexec/lib/python3.12/site-packages (from nbconvert->jupyter->jupyturtle) (3.0.2)\n",
      "Requirement already satisfied: nbclient>=0.5.0 in /usr/local/Cellar/jupyterlab/4.1.5/libexec/lib/python3.12/site-packages (from nbconvert->jupyter->jupyturtle) (0.10.0)\n",
      "Requirement already satisfied: nbformat>=5.7 in /usr/local/Cellar/jupyterlab/4.1.5/libexec/lib/python3.12/site-packages (from nbconvert->jupyter->jupyturtle) (5.10.2)\n",
      "Requirement already satisfied: pandocfilters>=1.4.1 in /usr/local/Cellar/jupyterlab/4.1.5/libexec/lib/python3.12/site-packages (from nbconvert->jupyter->jupyturtle) (1.5.1)\n",
      "Requirement already satisfied: tinycss2 in /usr/local/Cellar/jupyterlab/4.1.5/libexec/lib/python3.12/site-packages (from nbconvert->jupyter->jupyturtle) (1.2.1)\n",
      "Requirement already satisfied: jupyter-server<3,>=2.4.0 in /usr/local/Cellar/jupyterlab/4.1.5/libexec/lib/python3.12/site-packages (from notebook->jupyter->jupyturtle) (2.13.0)\n",
      "Requirement already satisfied: jupyterlab-server<3,>=2.22.1 in /usr/local/Cellar/jupyterlab/4.1.5/libexec/lib/python3.12/site-packages (from notebook->jupyter->jupyturtle) (2.25.4)\n",
      "Requirement already satisfied: jupyterlab<4.2,>=4.1.1 in /usr/local/Cellar/jupyterlab/4.1.5/libexec/lib/python3.12/site-packages (from notebook->jupyter->jupyturtle) (4.1.5)\n",
      "Requirement already satisfied: notebook-shim<0.3,>=0.2 in /usr/local/Cellar/jupyterlab/4.1.5/libexec/lib/python3.12/site-packages (from notebook->jupyter->jupyturtle) (0.2.4)\n",
      "Requirement already satisfied: qtpy>=2.4.0 in /usr/local/Cellar/jupyterlab/4.1.5/libexec/lib/python3.12/site-packages (from qtconsole->jupyter->jupyturtle) (2.4.1)\n",
      "Requirement already satisfied: executing>=1.2.0 in /usr/local/Cellar/jupyterlab/4.1.5/libexec/lib/python3.12/site-packages (from stack-data->ipython>=8->jupyturtle) (2.0.1)\n",
      "Requirement already satisfied: asttokens>=2.1.0 in /usr/local/Cellar/jupyterlab/4.1.5/libexec/lib/python3.12/site-packages (from stack-data->ipython>=8->jupyturtle) (2.4.1)\n",
      "Requirement already satisfied: pure-eval in /usr/local/Cellar/jupyterlab/4.1.5/libexec/lib/python3.12/site-packages (from stack-data->ipython>=8->jupyturtle) (0.2.2)\n",
      "Requirement already satisfied: six>=1.12.0 in /usr/local/Cellar/jupyterlab/4.1.5/libexec/lib/python3.12/site-packages (from asttokens>=2.1.0->stack-data->ipython>=8->jupyturtle) (1.16.0)\n",
      "Requirement already satisfied: webencodings in /usr/local/Cellar/jupyterlab/4.1.5/libexec/lib/python3.12/site-packages (from bleach!=5.0.0->nbconvert->jupyter->jupyturtle) (0.5.1)\n",
      "Requirement already satisfied: python-dateutil>=2.8.2 in /usr/local/Cellar/jupyterlab/4.1.5/libexec/lib/python3.12/site-packages (from jupyter-client>=6.1.12->ipykernel->jupyter->jupyturtle) (2.9.0.post0)\n",
      "Requirement already satisfied: platformdirs>=2.5 in /usr/local/Cellar/jupyterlab/4.1.5/libexec/lib/python3.12/site-packages (from jupyter-core!=5.0.*,>=4.12->ipykernel->jupyter->jupyturtle) (4.2.0)\n",
      "Requirement already satisfied: anyio>=3.1.0 in /usr/local/Cellar/jupyterlab/4.1.5/libexec/lib/python3.12/site-packages (from jupyter-server<3,>=2.4.0->notebook->jupyter->jupyturtle) (4.3.0)\n",
      "Requirement already satisfied: argon2-cffi in /usr/local/Cellar/jupyterlab/4.1.5/libexec/lib/python3.12/site-packages (from jupyter-server<3,>=2.4.0->notebook->jupyter->jupyturtle) (23.1.0)\n",
      "Requirement already satisfied: jupyter-events>=0.9.0 in /usr/local/Cellar/jupyterlab/4.1.5/libexec/lib/python3.12/site-packages (from jupyter-server<3,>=2.4.0->notebook->jupyter->jupyturtle) (0.9.1)\n",
      "Requirement already satisfied: jupyter-server-terminals in /usr/local/Cellar/jupyterlab/4.1.5/libexec/lib/python3.12/site-packages (from jupyter-server<3,>=2.4.0->notebook->jupyter->jupyturtle) (0.5.3)\n",
      "Requirement already satisfied: overrides in /usr/local/Cellar/jupyterlab/4.1.5/libexec/lib/python3.12/site-packages (from jupyter-server<3,>=2.4.0->notebook->jupyter->jupyturtle) (7.7.0)\n",
      "Requirement already satisfied: prometheus-client in /usr/local/Cellar/jupyterlab/4.1.5/libexec/lib/python3.12/site-packages (from jupyter-server<3,>=2.4.0->notebook->jupyter->jupyturtle) (0.20.0)\n",
      "Requirement already satisfied: send2trash>=1.8.2 in /usr/local/Cellar/jupyterlab/4.1.5/libexec/lib/python3.12/site-packages (from jupyter-server<3,>=2.4.0->notebook->jupyter->jupyturtle) (1.8.2)\n",
      "Requirement already satisfied: terminado>=0.8.3 in /usr/local/Cellar/jupyterlab/4.1.5/libexec/lib/python3.12/site-packages (from jupyter-server<3,>=2.4.0->notebook->jupyter->jupyturtle) (0.18.1)\n",
      "Requirement already satisfied: websocket-client in /usr/local/Cellar/jupyterlab/4.1.5/libexec/lib/python3.12/site-packages (from jupyter-server<3,>=2.4.0->notebook->jupyter->jupyturtle) (1.7.0)\n",
      "Requirement already satisfied: async-lru>=1.0.0 in /usr/local/Cellar/jupyterlab/4.1.5/libexec/lib/python3.12/site-packages (from jupyterlab<4.2,>=4.1.1->notebook->jupyter->jupyturtle) (2.0.4)\n",
      "Requirement already satisfied: httpx>=0.25.0 in /usr/local/Cellar/jupyterlab/4.1.5/libexec/lib/python3.12/site-packages (from jupyterlab<4.2,>=4.1.1->notebook->jupyter->jupyturtle) (0.27.0)\n",
      "Requirement already satisfied: jupyter-lsp>=2.0.0 in /usr/local/Cellar/jupyterlab/4.1.5/libexec/lib/python3.12/site-packages (from jupyterlab<4.2,>=4.1.1->notebook->jupyter->jupyturtle) (2.2.4)\n",
      "Requirement already satisfied: babel>=2.10 in /usr/local/Cellar/jupyterlab/4.1.5/libexec/lib/python3.12/site-packages (from jupyterlab-server<3,>=2.22.1->notebook->jupyter->jupyturtle) (2.14.0)\n",
      "Requirement already satisfied: json5>=0.9.0 in /usr/local/Cellar/jupyterlab/4.1.5/libexec/lib/python3.12/site-packages (from jupyterlab-server<3,>=2.22.1->notebook->jupyter->jupyturtle) (0.9.22)\n",
      "Requirement already satisfied: jsonschema>=4.18.0 in /usr/local/Cellar/jupyterlab/4.1.5/libexec/lib/python3.12/site-packages (from jupyterlab-server<3,>=2.22.1->notebook->jupyter->jupyturtle) (4.21.1)\n",
      "Requirement already satisfied: requests>=2.31 in /usr/local/Cellar/jupyterlab/4.1.5/libexec/lib/python3.12/site-packages (from jupyterlab-server<3,>=2.22.1->notebook->jupyter->jupyturtle) (2.31.0)\n",
      "Requirement already satisfied: fastjsonschema in /usr/local/Cellar/jupyterlab/4.1.5/libexec/lib/python3.12/site-packages (from nbformat>=5.7->nbconvert->jupyter->jupyturtle) (2.19.1)\n",
      "Requirement already satisfied: soupsieve>1.2 in /usr/local/Cellar/jupyterlab/4.1.5/libexec/lib/python3.12/site-packages (from beautifulsoup4->nbconvert->jupyter->jupyturtle) (2.5)\n",
      "Requirement already satisfied: idna>=2.8 in /usr/local/Cellar/jupyterlab/4.1.5/libexec/lib/python3.12/site-packages (from anyio>=3.1.0->jupyter-server<3,>=2.4.0->notebook->jupyter->jupyturtle) (3.6)\n",
      "Requirement already satisfied: sniffio>=1.1 in /usr/local/Cellar/jupyterlab/4.1.5/libexec/lib/python3.12/site-packages (from anyio>=3.1.0->jupyter-server<3,>=2.4.0->notebook->jupyter->jupyturtle) (1.3.1)\n",
      "Requirement already satisfied: certifi in /usr/local/opt/certifi/lib/python3.12/site-packages (from httpx>=0.25.0->jupyterlab<4.2,>=4.1.1->notebook->jupyter->jupyturtle) (2024.2.2)\n",
      "Requirement already satisfied: httpcore==1.* in /usr/local/Cellar/jupyterlab/4.1.5/libexec/lib/python3.12/site-packages (from httpx>=0.25.0->jupyterlab<4.2,>=4.1.1->notebook->jupyter->jupyturtle) (1.0.4)\n",
      "Requirement already satisfied: h11<0.15,>=0.13 in /usr/local/Cellar/jupyterlab/4.1.5/libexec/lib/python3.12/site-packages (from httpcore==1.*->httpx>=0.25.0->jupyterlab<4.2,>=4.1.1->notebook->jupyter->jupyturtle) (0.14.0)\n",
      "Requirement already satisfied: attrs>=22.2.0 in /usr/local/Cellar/jupyterlab/4.1.5/libexec/lib/python3.12/site-packages (from jsonschema>=4.18.0->jupyterlab-server<3,>=2.22.1->notebook->jupyter->jupyturtle) (23.2.0)\n",
      "Requirement already satisfied: jsonschema-specifications>=2023.03.6 in /usr/local/Cellar/jupyterlab/4.1.5/libexec/lib/python3.12/site-packages (from jsonschema>=4.18.0->jupyterlab-server<3,>=2.22.1->notebook->jupyter->jupyturtle) (2023.12.1)\n",
      "Requirement already satisfied: referencing>=0.28.4 in /usr/local/Cellar/jupyterlab/4.1.5/libexec/lib/python3.12/site-packages (from jsonschema>=4.18.0->jupyterlab-server<3,>=2.22.1->notebook->jupyter->jupyturtle) (0.33.0)\n",
      "Requirement already satisfied: rpds-py>=0.7.1 in /usr/local/Cellar/jupyterlab/4.1.5/libexec/lib/python3.12/site-packages (from jsonschema>=4.18.0->jupyterlab-server<3,>=2.22.1->notebook->jupyter->jupyturtle) (0.18.0)\n",
      "Requirement already satisfied: python-json-logger>=2.0.4 in /usr/local/Cellar/jupyterlab/4.1.5/libexec/lib/python3.12/site-packages (from jupyter-events>=0.9.0->jupyter-server<3,>=2.4.0->notebook->jupyter->jupyturtle) (2.0.7)\n",
      "Requirement already satisfied: pyyaml>=5.3 in /usr/local/Cellar/jupyterlab/4.1.5/libexec/lib/python3.12/site-packages (from jupyter-events>=0.9.0->jupyter-server<3,>=2.4.0->notebook->jupyter->jupyturtle) (6.0.1)\n",
      "Requirement already satisfied: rfc3339-validator in /usr/local/Cellar/jupyterlab/4.1.5/libexec/lib/python3.12/site-packages (from jupyter-events>=0.9.0->jupyter-server<3,>=2.4.0->notebook->jupyter->jupyturtle) (0.1.4)\n",
      "Requirement already satisfied: rfc3986-validator>=0.1.1 in /usr/local/Cellar/jupyterlab/4.1.5/libexec/lib/python3.12/site-packages (from jupyter-events>=0.9.0->jupyter-server<3,>=2.4.0->notebook->jupyter->jupyturtle) (0.1.1)\n",
      "Requirement already satisfied: charset-normalizer<4,>=2 in /usr/local/Cellar/jupyterlab/4.1.5/libexec/lib/python3.12/site-packages (from requests>=2.31->jupyterlab-server<3,>=2.22.1->notebook->jupyter->jupyturtle) (3.3.2)\n",
      "Requirement already satisfied: urllib3<3,>=1.21.1 in /usr/local/Cellar/jupyterlab/4.1.5/libexec/lib/python3.12/site-packages (from requests>=2.31->jupyterlab-server<3,>=2.22.1->notebook->jupyter->jupyturtle) (2.2.1)\n",
      "Requirement already satisfied: argon2-cffi-bindings in /usr/local/Cellar/jupyterlab/4.1.5/libexec/lib/python3.12/site-packages (from argon2-cffi->jupyter-server<3,>=2.4.0->notebook->jupyter->jupyturtle) (21.2.0)\n",
      "Requirement already satisfied: fqdn in /usr/local/Cellar/jupyterlab/4.1.5/libexec/lib/python3.12/site-packages (from jsonschema[format-nongpl]>=4.18.0->jupyter-events>=0.9.0->jupyter-server<3,>=2.4.0->notebook->jupyter->jupyturtle) (1.5.1)\n",
      "Requirement already satisfied: isoduration in /usr/local/Cellar/jupyterlab/4.1.5/libexec/lib/python3.12/site-packages (from jsonschema[format-nongpl]>=4.18.0->jupyter-events>=0.9.0->jupyter-server<3,>=2.4.0->notebook->jupyter->jupyturtle) (20.11.0)\n",
      "Requirement already satisfied: jsonpointer>1.13 in /usr/local/Cellar/jupyterlab/4.1.5/libexec/lib/python3.12/site-packages (from jsonschema[format-nongpl]>=4.18.0->jupyter-events>=0.9.0->jupyter-server<3,>=2.4.0->notebook->jupyter->jupyturtle) (2.4)\n",
      "Requirement already satisfied: uri-template in /usr/local/Cellar/jupyterlab/4.1.5/libexec/lib/python3.12/site-packages (from jsonschema[format-nongpl]>=4.18.0->jupyter-events>=0.9.0->jupyter-server<3,>=2.4.0->notebook->jupyter->jupyturtle) (1.3.0)\n",
      "Requirement already satisfied: webcolors>=1.11 in /usr/local/Cellar/jupyterlab/4.1.5/libexec/lib/python3.12/site-packages (from jsonschema[format-nongpl]>=4.18.0->jupyter-events>=0.9.0->jupyter-server<3,>=2.4.0->notebook->jupyter->jupyturtle) (1.13)\n",
      "Requirement already satisfied: cffi>=1.0.1 in /usr/local/Cellar/jupyterlab/4.1.5/libexec/lib/python3.12/site-packages (from argon2-cffi-bindings->argon2-cffi->jupyter-server<3,>=2.4.0->notebook->jupyter->jupyturtle) (1.16.0)\n",
      "Requirement already satisfied: pycparser in /usr/local/Cellar/jupyterlab/4.1.5/libexec/lib/python3.12/site-packages (from cffi>=1.0.1->argon2-cffi-bindings->argon2-cffi->jupyter-server<3,>=2.4.0->notebook->jupyter->jupyturtle) (2.21)\n",
      "Requirement already satisfied: arrow>=0.15.0 in /usr/local/Cellar/jupyterlab/4.1.5/libexec/lib/python3.12/site-packages (from isoduration->jsonschema[format-nongpl]>=4.18.0->jupyter-events>=0.9.0->jupyter-server<3,>=2.4.0->notebook->jupyter->jupyturtle) (1.3.0)\n",
      "Requirement already satisfied: types-python-dateutil>=2.8.10 in /usr/local/Cellar/jupyterlab/4.1.5/libexec/lib/python3.12/site-packages (from arrow>=0.15.0->isoduration->jsonschema[format-nongpl]>=4.18.0->jupyter-events>=0.9.0->jupyter-server<3,>=2.4.0->notebook->jupyter->jupyturtle) (2.8.19.20240311)\n",
      "Using cached jupyturtle-2024.4.1-py3-none-any.whl (7.5 kB)\n",
      "Using cached jupyter-1.0.0-py2.py3-none-any.whl (2.7 kB)\n",
      "Using cached pytest-8.2.2-py3-none-any.whl (339 kB)\n",
      "Using cached pluggy-1.5.0-py3-none-any.whl (20 kB)\n",
      "Using cached iniconfig-2.0.0-py3-none-any.whl (5.9 kB)\n",
      "Using cached ipywidgets-8.1.3-py3-none-any.whl (139 kB)\n",
      "Using cached qtconsole-5.5.2-py3-none-any.whl (123 kB)\n",
      "Using cached jupyterlab_widgets-3.0.11-py3-none-any.whl (214 kB)\n",
      "Installing collected packages: pluggy, jupyterlab-widgets, iniconfig, pytest, ipywidgets, qtconsole, jupyter, jupyturtle\n",
      "  Attempting uninstall: pluggy\n",
      "    Found existing installation: pluggy 1.4.0\n",
      "\u001b[1;31merror\u001b[0m: \u001b[1muninstall-no-record-file\u001b[0m\n",
      "\n",
      "\u001b[31m×\u001b[0m Cannot uninstall pluggy 1.4.0\n",
      "\u001b[31m╰─>\u001b[0m The package's contents are unknown: no RECORD file was found for pluggy.\n",
      "\n",
      "\u001b[1;36mhint\u001b[0m: The package was installed by brew. You should check if it can uninstall the package.\n",
      "Note: you may need to restart the kernel to use updated packages.\n"
     ]
    }
   ],
   "source": [
    "pip install jupyturtle"
   ]
  },
  {
   "cell_type": "code",
   "execution_count": null,
   "id": "ccb91bf0-c05e-42e2-a8cc-93c681775aef",
   "metadata": {},
   "outputs": [],
   "source": []
  }
 ],
 "metadata": {
  "kernelspec": {
   "display_name": "Python 3 (ipykernel)",
   "language": "python",
   "name": "python3"
  },
  "language_info": {
   "codemirror_mode": {
    "name": "ipython",
    "version": 3
   },
   "file_extension": ".py",
   "mimetype": "text/x-python",
   "name": "python",
   "nbconvert_exporter": "python",
   "pygments_lexer": "ipython3",
   "version": "3.12.2"
  }
 },
 "nbformat": 4,
 "nbformat_minor": 5
}
