{
 "cells": [
  {
   "cell_type": "markdown",
   "id": "91bf3830-2d03-4cbc-80fb-314a48060aaa",
   "metadata": {},
   "source": [
    "# BeautifulSoup and Requests"
   ]
  },
  {
   "cell_type": "code",
   "execution_count": 1,
   "id": "6a5b802b-f9d9-4a06-a2c4-9a6c8ea10ad1",
   "metadata": {},
   "outputs": [],
   "source": [
    "from bs4 import BeautifulSoup\n",
    "import requests"
   ]
  },
  {
   "cell_type": "code",
   "execution_count": 2,
   "id": "b794b08c-665f-4252-a4c6-5c3b278f3168",
   "metadata": {},
   "outputs": [],
   "source": [
    "url = \"https://www.scrapethissite.com/pages/forms/\""
   ]
  },
  {
   "cell_type": "code",
   "execution_count": 5,
   "id": "5ea90b7b-47f2-413d-8ad2-b2affa39e4c8",
   "metadata": {},
   "outputs": [],
   "source": [
    "page = requests.get(url)"
   ]
  },
  {
   "cell_type": "code",
   "execution_count": 7,
   "id": "1a3f4260-f592-437b-be6d-a1e62f0fc56f",
   "metadata": {},
   "outputs": [],
   "source": [
    "soup = BeautifulSoup(page.text, 'html') # retrieves the html code from the browser"
   ]
  },
  {
   "cell_type": "code",
   "execution_count": null,
   "id": "869f87a5-d31f-49bb-85c9-a1cbf381ee3b",
   "metadata": {},
   "outputs": [],
   "source": [
    "print(soup)"
   ]
  },
  {
   "cell_type": "code",
   "execution_count": null,
   "id": "5e57f1d1-2877-4422-b748-a36fea31dc4b",
   "metadata": {},
   "outputs": [],
   "source": [
    "print(soup.prettify())"
   ]
  },
  {
   "cell_type": "markdown",
   "id": "75706ced-a368-4f36-8788-cdf35b46a8f7",
   "metadata": {},
   "source": [
    "# Find and Find_all"
   ]
  },
  {
   "cell_type": "code",
   "execution_count": null,
   "id": "218cd53c-45f6-4a78-b21b-1e150eb1bfef",
   "metadata": {},
   "outputs": [],
   "source": [
    "soup.find('div')\n",
    "# clean = soup.find('div')\n",
    "# print(clean.prettify())"
   ]
  },
  {
   "cell_type": "code",
   "execution_count": null,
   "id": "a2896b26-4bf9-4ca8-b087-7d3b48bcfb78",
   "metadata": {},
   "outputs": [],
   "source": [
    "soup.find_all('p', class_ = 'lead')"
   ]
  },
  {
   "cell_type": "code",
   "execution_count": 21,
   "id": "163a8cbc-2df0-4c8e-89f1-c0c3b36425a1",
   "metadata": {},
   "outputs": [
    {
     "data": {
      "text/plain": [
       "'Browse through a database of NHL team stats since 1990. Practice building a scraper that handles common website interface components.\\n                            Take a look at how pagination and search elements change the URL as your browse. Build a web scraper that can conduct searches and paginate through the results.'"
      ]
     },
     "execution_count": 21,
     "metadata": {},
     "output_type": "execute_result"
    }
   ],
   "source": [
    "soup.find('p', class_ = 'lead').text.strip() # removes white spaces on a data"
   ]
  },
  {
   "cell_type": "code",
   "execution_count": 24,
   "id": "925333f1-e1c8-434e-ae54-2e78514458f8",
   "metadata": {},
   "outputs": [
    {
     "data": {
      "text/plain": [
       "[<th>\n",
       "                             Team Name\n",
       "                         </th>,\n",
       " <th>\n",
       "                             Year\n",
       "                         </th>,\n",
       " <th>\n",
       "                             Wins\n",
       "                         </th>,\n",
       " <th>\n",
       "                             Losses\n",
       "                         </th>,\n",
       " <th>\n",
       "                             OT Losses\n",
       "                         </th>,\n",
       " <th>\n",
       "                             Win %\n",
       "                         </th>,\n",
       " <th>\n",
       "                             Goals For (GF)\n",
       "                         </th>,\n",
       " <th>\n",
       "                             Goals Against (GA)\n",
       "                         </th>,\n",
       " <th>\n",
       "                             + / -\n",
       "                         </th>]"
      ]
     },
     "execution_count": 24,
     "metadata": {},
     "output_type": "execute_result"
    }
   ],
   "source": [
    "soup.find_all('th')"
   ]
  },
  {
   "cell_type": "code",
   "execution_count": 25,
   "id": "31f2f006-b912-4994-b61e-fc1530741366",
   "metadata": {},
   "outputs": [
    {
     "data": {
      "text/plain": [
       "'Team Name'"
      ]
     },
     "execution_count": 25,
     "metadata": {},
     "output_type": "execute_result"
    }
   ],
   "source": [
    "soup.find('th').text.strip()"
   ]
  },
  {
   "cell_type": "markdown",
   "id": "2de02e72-09e6-4ac5-bf95-db663ad43bdf",
   "metadata": {},
   "source": [
    "# Scraping Data from a Real Website(wikipedia) + pandas "
   ]
  },
  {
   "cell_type": "code",
   "execution_count": 1,
   "id": "bcf96d6c-7877-4560-b271-9605bcda491c",
   "metadata": {},
   "outputs": [],
   "source": [
    "from bs4 import BeautifulSoup\n",
    "import requests"
   ]
  },
  {
   "cell_type": "code",
   "execution_count": 81,
   "id": "c7685734-131f-4bb9-80ee-2dbaf23e06d0",
   "metadata": {},
   "outputs": [
    {
     "name": "stdout",
     "output_type": "stream",
     "text": [
      "<Response [200]>\n"
     ]
    }
   ],
   "source": [
    "url = \"https://en.wikipedia.org/wiki/List_of_largest_companies_in_the_United_States_by_revenue\"\n",
    "# url_Caused_Me_A_lot_of_pain = \"https://en.wikipedia.org/wiki/List_of_largest_companies_by_revenue\"\n",
    "page = requests.get(url)\n",
    "print(page)\n"
   ]
  },
  {
   "cell_type": "code",
   "execution_count": null,
   "id": "b649eca6-0129-4f30-ba27-1e4ad75f86df",
   "metadata": {},
   "outputs": [],
   "source": [
    "soup  = BeautifulSoup(page.text + 'html')\n",
    "print(soup)"
   ]
  },
  {
   "cell_type": "code",
   "execution_count": 110,
   "id": "95e8fb96-f5aa-4c67-8219-e210ff9d7faa",
   "metadata": {},
   "outputs": [],
   "source": [
    "# unwanted_things = {\"scope\":\"row\"}\n",
    "# for attr in unwanted_things.keys():\n",
    "#     table.attrs.pop(attr, None)\n",
    "# print(table)\n",
    "soup.find('table', class_ =\"wikitable sortable\")          "
   ]
  },
  {
   "cell_type": "code",
   "execution_count": null,
   "id": "ebb7a8b4-ff77-49bf-a500-bd095310a38b",
   "metadata": {},
   "outputs": [],
   "source": [
    "table = soup.find_all('table')[0]\n",
    "print(table)"
   ]
  },
  {
   "cell_type": "code",
   "execution_count": null,
   "id": "c20f84c4-ded3-44fd-8493-cb0e48290f42",
   "metadata": {},
   "outputs": [],
   "source": [
    "world_titles = table.find_all('th')\n",
    "world_titles"
   ]
  },
  {
   "cell_type": "code",
   "execution_count": 86,
   "id": "1e72e7a7-7053-4714-8c7b-9fad5b2f39ff",
   "metadata": {},
   "outputs": [
    {
     "name": "stdout",
     "output_type": "stream",
     "text": [
      "['Rank', 'Name', 'Industry', 'Revenue (USD millions)', 'Revenue growth', 'Employees', 'Headquarters']\n"
     ]
    }
   ],
   "source": [
    "world_tables_titles = [title.text.strip() for title in world_titles]\n",
    "print(world_tables_titles)\n"
   ]
  },
  {
   "cell_type": "code",
   "execution_count": 87,
   "id": "7a10a6f2-deb0-46bf-819f-28c176e2076d",
   "metadata": {},
   "outputs": [],
   "source": [
    "import pandas as pd"
   ]
  },
  {
   "cell_type": "code",
   "execution_count": 89,
   "id": "928d579a-314c-4767-b7a1-bb9583fcfad4",
   "metadata": {},
   "outputs": [
    {
     "data": {
      "text/html": [
       "<div>\n",
       "<style scoped>\n",
       "    .dataframe tbody tr th:only-of-type {\n",
       "        vertical-align: middle;\n",
       "    }\n",
       "\n",
       "    .dataframe tbody tr th {\n",
       "        vertical-align: top;\n",
       "    }\n",
       "\n",
       "    .dataframe thead th {\n",
       "        text-align: right;\n",
       "    }\n",
       "</style>\n",
       "<table border=\"1\" class=\"dataframe\">\n",
       "  <thead>\n",
       "    <tr style=\"text-align: right;\">\n",
       "      <th></th>\n",
       "      <th>Rank</th>\n",
       "      <th>Name</th>\n",
       "      <th>Industry</th>\n",
       "      <th>Revenue (USD millions)</th>\n",
       "      <th>Revenue growth</th>\n",
       "      <th>Employees</th>\n",
       "      <th>Headquarters</th>\n",
       "    </tr>\n",
       "  </thead>\n",
       "  <tbody>\n",
       "  </tbody>\n",
       "</table>\n",
       "</div>"
      ],
      "text/plain": [
       "Empty DataFrame\n",
       "Columns: [Rank, Name, Industry, Revenue (USD millions), Revenue growth, Employees, Headquarters]\n",
       "Index: []"
      ]
     },
     "execution_count": 89,
     "metadata": {},
     "output_type": "execute_result"
    }
   ],
   "source": [
    "df = pd.DataFrame(columns = world_tables_titles)\n",
    "df"
   ]
  },
  {
   "cell_type": "code",
   "execution_count": null,
   "id": "e0f61216-668f-495d-8453-c3eae5dafcf2",
   "metadata": {},
   "outputs": [],
   "source": [
    "columns_data = table.find_all('tr')"
   ]
  },
  {
   "cell_type": "code",
   "execution_count": 107,
   "id": "a03d04a9-124e-47fb-b3e2-a51adede825a",
   "metadata": {},
   "outputs": [],
   "source": [
    "for row in columns_data[1:]:\n",
    "    row_data = row.find_all('td')\n",
    "    individual_row_data = [data.text.strip() for data in row_data]\n",
    "\n",
    "    length = len(df)\n",
    "    df.loc[length] = individual_row_data"
   ]
  },
  {
   "cell_type": "code",
   "execution_count": 108,
   "id": "dab71536-6816-4f19-aaa0-9a7ea8767f77",
   "metadata": {},
   "outputs": [
    {
     "data": {
      "text/html": [
       "<div>\n",
       "<style scoped>\n",
       "    .dataframe tbody tr th:only-of-type {\n",
       "        vertical-align: middle;\n",
       "    }\n",
       "\n",
       "    .dataframe tbody tr th {\n",
       "        vertical-align: top;\n",
       "    }\n",
       "\n",
       "    .dataframe thead th {\n",
       "        text-align: right;\n",
       "    }\n",
       "</style>\n",
       "<table border=\"1\" class=\"dataframe\">\n",
       "  <thead>\n",
       "    <tr style=\"text-align: right;\">\n",
       "      <th></th>\n",
       "      <th>Rank</th>\n",
       "      <th>Name</th>\n",
       "      <th>Industry</th>\n",
       "      <th>Revenue (USD millions)</th>\n",
       "      <th>Revenue growth</th>\n",
       "      <th>Employees</th>\n",
       "      <th>Headquarters</th>\n",
       "    </tr>\n",
       "  </thead>\n",
       "  <tbody>\n",
       "    <tr>\n",
       "      <th>0</th>\n",
       "      <td>1</td>\n",
       "      <td>Walmart</td>\n",
       "      <td>Retail</td>\n",
       "      <td>648,125</td>\n",
       "      <td>6.0%</td>\n",
       "      <td>2,100,000</td>\n",
       "      <td>Bentonville, Arkansas</td>\n",
       "    </tr>\n",
       "    <tr>\n",
       "      <th>1</th>\n",
       "      <td>2</td>\n",
       "      <td>Amazon</td>\n",
       "      <td>Retail and cloud computing</td>\n",
       "      <td>574,785</td>\n",
       "      <td>11.9%</td>\n",
       "      <td>1,525,000</td>\n",
       "      <td>Seattle, Washington</td>\n",
       "    </tr>\n",
       "    <tr>\n",
       "      <th>2</th>\n",
       "      <td>3</td>\n",
       "      <td>Apple</td>\n",
       "      <td>Electronics industry</td>\n",
       "      <td>383,482</td>\n",
       "      <td>-2.8%</td>\n",
       "      <td>161,000</td>\n",
       "      <td>Cupertino, California</td>\n",
       "    </tr>\n",
       "    <tr>\n",
       "      <th>3</th>\n",
       "      <td>4</td>\n",
       "      <td>UnitedHealth Group</td>\n",
       "      <td>Healthcare</td>\n",
       "      <td>371,622</td>\n",
       "      <td>14.6%</td>\n",
       "      <td>440,000</td>\n",
       "      <td>Minnetonka, Minnesota</td>\n",
       "    </tr>\n",
       "    <tr>\n",
       "      <th>4</th>\n",
       "      <td>5</td>\n",
       "      <td>Berkshire Hathaway</td>\n",
       "      <td>Conglomerate</td>\n",
       "      <td>364,482</td>\n",
       "      <td>20.7%</td>\n",
       "      <td>396,500</td>\n",
       "      <td>Omaha, Nebraska</td>\n",
       "    </tr>\n",
       "    <tr>\n",
       "      <th>...</th>\n",
       "      <td>...</td>\n",
       "      <td>...</td>\n",
       "      <td>...</td>\n",
       "      <td>...</td>\n",
       "      <td>...</td>\n",
       "      <td>...</td>\n",
       "      <td>...</td>\n",
       "    </tr>\n",
       "    <tr>\n",
       "      <th>295</th>\n",
       "      <td>96</td>\n",
       "      <td>TIAA</td>\n",
       "      <td>Financials</td>\n",
       "      <td>45,735</td>\n",
       "      <td>11.8%</td>\n",
       "      <td>16,023</td>\n",
       "      <td>New York City, New York</td>\n",
       "    </tr>\n",
       "    <tr>\n",
       "      <th>296</th>\n",
       "      <td>97</td>\n",
       "      <td>CHS</td>\n",
       "      <td>Agriculture cooperative</td>\n",
       "      <td>45,590</td>\n",
       "      <td>-4.6%</td>\n",
       "      <td>10,609</td>\n",
       "      <td>Inver Grove Heights, Minnesota</td>\n",
       "    </tr>\n",
       "    <tr>\n",
       "      <th>297</th>\n",
       "      <td>98</td>\n",
       "      <td>Bristol-Myers Squibb</td>\n",
       "      <td>Pharmaceutical industry</td>\n",
       "      <td>45,006</td>\n",
       "      <td>-2.5%</td>\n",
       "      <td>34,100</td>\n",
       "      <td>New York City, New York</td>\n",
       "    </tr>\n",
       "    <tr>\n",
       "      <th>298</th>\n",
       "      <td>99</td>\n",
       "      <td>Dow Chemical Company</td>\n",
       "      <td>Chemical industry</td>\n",
       "      <td>44,622</td>\n",
       "      <td>-21.6%</td>\n",
       "      <td>35,900</td>\n",
       "      <td>Midland, Michigan</td>\n",
       "    </tr>\n",
       "    <tr>\n",
       "      <th>299</th>\n",
       "      <td>100</td>\n",
       "      <td>Best Buy</td>\n",
       "      <td>Retail</td>\n",
       "      <td>43,452</td>\n",
       "      <td>-6.1%</td>\n",
       "      <td>85,000</td>\n",
       "      <td>Richfield, Minnesota</td>\n",
       "    </tr>\n",
       "  </tbody>\n",
       "</table>\n",
       "<p>300 rows × 7 columns</p>\n",
       "</div>"
      ],
      "text/plain": [
       "    Rank                  Name                    Industry  \\\n",
       "0      1               Walmart                      Retail   \n",
       "1      2                Amazon  Retail and cloud computing   \n",
       "2      3                 Apple        Electronics industry   \n",
       "3      4    UnitedHealth Group                  Healthcare   \n",
       "4      5    Berkshire Hathaway                Conglomerate   \n",
       "..   ...                   ...                         ...   \n",
       "295   96                  TIAA                  Financials   \n",
       "296   97                   CHS     Agriculture cooperative   \n",
       "297   98  Bristol-Myers Squibb     Pharmaceutical industry   \n",
       "298   99  Dow Chemical Company           Chemical industry   \n",
       "299  100              Best Buy                      Retail   \n",
       "\n",
       "    Revenue (USD millions) Revenue growth  Employees  \\\n",
       "0                  648,125           6.0%  2,100,000   \n",
       "1                  574,785          11.9%  1,525,000   \n",
       "2                  383,482          -2.8%    161,000   \n",
       "3                  371,622          14.6%    440,000   \n",
       "4                  364,482          20.7%    396,500   \n",
       "..                     ...            ...        ...   \n",
       "295                 45,735          11.8%     16,023   \n",
       "296                 45,590          -4.6%     10,609   \n",
       "297                 45,006          -2.5%     34,100   \n",
       "298                 44,622         -21.6%     35,900   \n",
       "299                 43,452          -6.1%     85,000   \n",
       "\n",
       "                       Headquarters  \n",
       "0             Bentonville, Arkansas  \n",
       "1               Seattle, Washington  \n",
       "2             Cupertino, California  \n",
       "3             Minnetonka, Minnesota  \n",
       "4                   Omaha, Nebraska  \n",
       "..                              ...  \n",
       "295         New York City, New York  \n",
       "296  Inver Grove Heights, Minnesota  \n",
       "297         New York City, New York  \n",
       "298               Midland, Michigan  \n",
       "299            Richfield, Minnesota  \n",
       "\n",
       "[300 rows x 7 columns]"
      ]
     },
     "execution_count": 108,
     "metadata": {},
     "output_type": "execute_result"
    }
   ],
   "source": [
    "df"
   ]
  },
  {
   "cell_type": "code",
   "execution_count": 109,
   "id": "f0c0ca96-9fcb-490b-b4f5-747ce066fbda",
   "metadata": {},
   "outputs": [],
   "source": [
    "df.to_csv('/Users/briankimanzi/Documents/programming Languages/PythonProgramming/webscrapping/company.csv', index=False)\n"
   ]
  },
  {
   "cell_type": "code",
   "execution_count": null,
   "id": "d18e7553-6526-46a8-8b0d-0d43668b9862",
   "metadata": {},
   "outputs": [],
   "source": []
  }
 ],
 "metadata": {
  "kernelspec": {
   "display_name": "Python 3 (ipykernel)",
   "language": "python",
   "name": "python3"
  },
  "language_info": {
   "codemirror_mode": {
    "name": "ipython",
    "version": 3
   },
   "file_extension": ".py",
   "mimetype": "text/x-python",
   "name": "python",
   "nbconvert_exporter": "python",
   "pygments_lexer": "ipython3",
   "version": "3.12.6"
  }
 },
 "nbformat": 4,
 "nbformat_minor": 5
}
