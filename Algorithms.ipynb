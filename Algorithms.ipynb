{
 "cells": [
  {
   "cell_type": "code",
   "execution_count": 4,
   "id": "c1048052-ef5b-4421-964c-d719cbe62f65",
   "metadata": {},
   "outputs": [
    {
     "name": "stdout",
     "output_type": "stream",
     "text": [
      "Not on the list\n"
     ]
    }
   ],
   "source": [
    "def binary_search(arr, item): \n",
    "    low = 0 # A low keep track of which part of the list you'll search in\n",
    "    high = len(arr) - 1 # A high keep track of which part of the list you'll search in\n",
    "    while low <= high: # while you haven't narrowed it down to one element.\n",
    "        mid = (low + high) // 2 # check the middle element\n",
    "        guess = arr[mid] # declares a varible guess the will store the the mid element\n",
    "        if guess == item: # checks to see if the guess is equal to the item\n",
    "            return mid # if it is equal it returns the element\n",
    "        elif guess > item: # if the guess is too high\n",
    "            high = mid - 1 # the mid element is subtracted by one and the value is stored in varible high\n",
    "        else:\n",
    "             low = mid + 1 # the guess is too low\n",
    "    return \"Not on the list\" # the element does not exist\n",
    "my_list = [1,3,5,7,9] # the array list\n",
    "\n",
    "# print(binary_search(my_list, 9)) # list start at 0, the second slot has index 1\n",
    "print(binary_search(my_list, -1)) # indicates that the item wasn't found\n",
    "    "
   ]
  },
  {
   "cell_type": "code",
   "execution_count": 5,
   "id": "7a0957dd-38e0-4ba3-8377-dbf5eebba4f5",
   "metadata": {},
   "outputs": [
    {
     "name": "stdout",
     "output_type": "stream",
     "text": [
      "[-1, 2, 3, 5, 6, 10, 100]\n"
     ]
    }
   ],
   "source": [
    "# Sorting an Array from Smallest to largest\n",
    "def findSmallest(arr):\n",
    "    smallest = arr[0] # Stores the smallest value\n",
    "    smallest_index = 0 # Stores the index of the smallest value\n",
    "    for i in range(1, len(arr)):\n",
    "        if arr[i] < smallest:\n",
    "            smallest = arr[i]\n",
    "            smallest_index = i\n",
    "    return smallest_index\n",
    "\n",
    "def selectionSort(arr): # Sorts an Array\n",
    "    newArr = []\n",
    "    copiedArr = list(arr) # copy array before mutating\n",
    "    for i in range(len(copiedArr)):\n",
    "        smallest = findSmallest(copiedArr) # Finds the smallest element in the array, and adds it to the new array\n",
    "        newArr.append(copiedArr.pop(smallest))\n",
    "    return newArr\n",
    "print(selectionSort([5, 3, 6, 2, 10, -1, 100]))"
   ]
  },
  {
   "cell_type": "code",
   "execution_count": null,
   "id": "eda0b154-f0d3-46a0-bcc3-95f5ed558093",
   "metadata": {},
   "outputs": [],
   "source": [
    "def countdown(i):\n",
    "    \"\"\"An endless recursively function \"\"\"\n",
    "    print(i)\n",
    "    countdown(i - 1)\n",
    "countdown(3)"
   ]
  },
  {
   "cell_type": "code",
   "execution_count": 7,
   "id": "11a053da-458e-4cc3-88e7-8561f385524d",
   "metadata": {},
   "outputs": [
    {
     "name": "stdout",
     "output_type": "stream",
     "text": [
      "3\n",
      "2\n",
      "1\n"
     ]
    }
   ],
   "source": [
    "# When you're writing a recursive function involving an array, the base case is often\n",
    "# an empty array or an arry with one element. if you're stuck, try that first\n",
    "def countdown(i):\n",
    "    print(i)\n",
    "    if i <= 1: # base case\n",
    "        return\n",
    "    else:      # Recursive case\n",
    "        countdown(i-1)\n",
    "\n",
    "countdown(3)"
   ]
  },
  {
   "cell_type": "code",
   "execution_count": 8,
   "id": "313a0af9-395e-4574-a551-cad05d4843a9",
   "metadata": {},
   "outputs": [],
   "source": [
    "def greet(name):\n",
    "    print(f'Hello, {name} !')\n",
    "    greet2(name)\n",
    "    print('getting ready to say bye...')\n",
    "    bye()\n",
    "\n",
    "def greet2(name):\n",
    "    print(f'How are you {name} ?')\n",
    "\n",
    "def bye():\n",
    "    print(\"Ok bye!\")"
   ]
  },
  {
   "cell_type": "code",
   "execution_count": 9,
   "id": "955b7bb5-a96e-4983-a9f9-f1cc47cb0d09",
   "metadata": {},
   "outputs": [
    {
     "name": "stdout",
     "output_type": "stream",
     "text": [
      "Hello, Brian !\n",
      "How are you Brian ?\n",
      "getting ready to say bye...\n",
      "Ok bye!\n"
     ]
    }
   ],
   "source": [
    "greet('Brian')"
   ]
  },
  {
   "cell_type": "code",
   "execution_count": 10,
   "id": "cd38d7ad-3473-42e9-b662-66b6ba0acda3",
   "metadata": {},
   "outputs": [],
   "source": [
    "# The call stack recursion\n",
    "\"\"\"Recursive function to calculate the facorial of a number\"\"\"\n",
    "def fact(x):\n",
    "    if x == 1:\n",
    "        return 1\n",
    "    else:\n",
    "        return x * fact(x-1)"
   ]
  },
  {
   "cell_type": "code",
   "execution_count": 11,
   "id": "a5c53d8a-c9a0-4aa7-b993-bde643aecbd7",
   "metadata": {},
   "outputs": [
    {
     "data": {
      "text/plain": [
       "120"
      ]
     },
     "execution_count": 11,
     "metadata": {},
     "output_type": "execute_result"
    }
   ],
   "source": [
    "fact(5)"
   ]
  },
  {
   "cell_type": "code",
   "execution_count": 15,
   "id": "7b291c04-ea20-49db-b85f-deda02e3f92f",
   "metadata": {},
   "outputs": [],
   "source": [
    "# Using an array of numbers you have to add up all the numbers and return the total\n",
    "# def sum(arr):\n",
    "#     total = 0\n",
    "#     for x in arr:\n",
    "#         total += x\n",
    "#     return total\n",
    "\n",
    "# print(sum([1,2,3,4]))\n",
    "# using recursion\n",
    "def sum(arr):\n",
    "        if len(arr) == 0:\n",
    "            return 0\n",
    "        else:\n",
    "            return arr[0] + sum(arr[1:])\n",
    "\n",
    "    "
   ]
  },
  {
   "cell_type": "code",
   "execution_count": 16,
   "id": "7f243186-69bf-4755-b6aa-88c6d9ca4a0b",
   "metadata": {},
   "outputs": [
    {
     "name": "stdout",
     "output_type": "stream",
     "text": [
      "15\n"
     ]
    }
   ],
   "source": [
    "print(sum([1,2,3,4,5]))"
   ]
  },
  {
   "cell_type": "code",
   "execution_count": 17,
   "id": "55bfa145-c56c-4e00-9f66-ccdc02d0364c",
   "metadata": {},
   "outputs": [],
   "source": [
    "def quickSort(arr):\n",
    "    if len(arr) < 2: # checks if array is empty or the array contains one element\n",
    "        return arr # Base case: array with 0 or 1 element are already \"Sorted\"\n",
    "    else:\n",
    "        pivot = arr[0] # Recursive case\n",
    "        less = [i for i in arr[1:] if i <= pivot] # sub-arry of all the elements less than the pivot\n",
    "\n",
    "        greater = [i for i in arr[1:] if i > pivot] # sub-array of all elements greater than the pivot\n",
    "        return quickSort(less) + [pivot] + quickSort(greater)\n",
    "        "
   ]
  },
  {
   "cell_type": "code",
   "execution_count": 18,
   "id": "642c12d0-558f-44e1-955a-f50b07fb8f89",
   "metadata": {},
   "outputs": [
    {
     "name": "stdout",
     "output_type": "stream",
     "text": [
      "[-1, 2, 3, 3, 5, 5, 10]\n"
     ]
    }
   ],
   "source": [
    "print(quickSort([10,5,2,3,-1,3,5]))"
   ]
  },
  {
   "cell_type": "code",
   "execution_count": 19,
   "id": "a9f44ebb-4a78-4b70-bbf6-2e7e66154e40",
   "metadata": {},
   "outputs": [
    {
     "name": "stdout",
     "output_type": "stream",
     "text": [
      "1\n",
      "2\n",
      "3\n",
      "4\n",
      "5\n",
      "6\n",
      "7\n",
      "8\n",
      "9\n",
      "10\n"
     ]
    }
   ],
   "source": [
    "from time import sleep\n",
    "def print_items(myList):\n",
    "    for item in myList:\n",
    "        sleep(1)\n",
    "        print(item)\n",
    "\n",
    "myList = [1,2,3,4,5,6,7,8,9,10]\n",
    "print_items(myList)"
   ]
  },
  {
   "cell_type": "code",
   "execution_count": null,
   "id": "a5a5908f-0232-40a6-a72e-3b05c42c3cf8",
   "metadata": {},
   "outputs": [],
   "source": [
    "def multiplication_table(elements):\n",
    "    for items in elements:\n",
    "        for i in range(len(elements)):\n",
    "            items *= elements[i]\n",
    "            print(items)\n",
    "        \n",
    "elements = [2,3,7,8,10]\n",
    "multiplication_table(elements)\n",
    "        "
   ]
  },
  {
   "cell_type": "code",
   "execution_count": 21,
   "id": "911c827d-7096-4fee-9462-625b5513f360",
   "metadata": {},
   "outputs": [],
   "source": [
    "# Hash tables in python.\n",
    "book = {}"
   ]
  },
  {
   "cell_type": "code",
   "execution_count": 22,
   "id": "61386c07-2cb3-4d3b-9d33-1ff119e38f30",
   "metadata": {},
   "outputs": [],
   "source": [
    "# book is a new hash table. let's add some prices to book\n",
    "book [\"apple\"] = 0.67 # an apple costs 67 cents\n",
    "book [\"milk\"] = 1.49  # milk costs $1.49\n",
    "book [\"avocado\"] = 1.49 # \n",
    "# print(book)\n"
   ]
  },
  {
   "cell_type": "code",
   "execution_count": 23,
   "id": "bb7cc28c-9e43-4273-a6ef-201476e67b1d",
   "metadata": {},
   "outputs": [
    {
     "name": "stdin",
     "output_type": "stream",
     "text": [
      "Enter the item : apple\n"
     ]
    },
    {
     "name": "stdout",
     "output_type": "stream",
     "text": [
      "The price of the apple is 0.67\n"
     ]
    }
   ],
   "source": [
    "item = input(\"Enter the item :\")\n",
    "if item not in book:\n",
    "    print(\"Item is not on the Hash table\")\n",
    "print(f\"The price of the {item} is {book[item]}\") # The price of an avocado"
   ]
  },
  {
   "cell_type": "code",
   "execution_count": 24,
   "id": "a9aa117e-b33e-4603-97ae-29c6066fb83a",
   "metadata": {},
   "outputs": [
    {
     "name": "stdin",
     "output_type": "stream",
     "text": [
      "Enter the name : paul\n"
     ]
    },
    {
     "name": "stdout",
     "output_type": "stream",
     "text": [
      "The name is paul and the number is 254712345678\n"
     ]
    }
   ],
   "source": [
    "# A phonebook program\n",
    "phonebook = {}\n",
    "phonebook[\"Brian\"] = +254714361234\n",
    "phonebook[\"paul\"] = +254712345678\n",
    "phonebook[\"Bridgit\"] = +254720142015\n",
    "name = input(\"Enter the name :\")\n",
    "if name not in phonebook:\n",
    "    print(\"Not on the phonebook!!\")\n",
    "else:\n",
    "    print(f\"The name is {name} and the number is {phonebook[name]}\")"
   ]
  },
  {
   "cell_type": "code",
   "execution_count": null,
   "id": "dd47fc24-4ae3-4ba4-a237-1b28ab0d1cfd",
   "metadata": {},
   "outputs": [],
   "source": [
    "voted = {}\n",
    "def check_voter(name):\n",
    "    \"\"\"A function program that checks \n",
    "    if your name is in the voter list if not you can vote\"\"\"\n",
    "    if name in voted:\n",
    "        print(\"shame on you !! Get out\")\n",
    "    else:\n",
    "        voted[name] = True\n",
    "        print(\"Welcome you can vote!\")\n",
    "        \n"
   ]
  },
  {
   "cell_type": "code",
   "execution_count": null,
   "id": "09fc342f-a2ae-4215-903d-818f4f48cbbd",
   "metadata": {},
   "outputs": [],
   "source": [
    "check_voter(\"mike\")\n",
    "value = voted.get(\"mike\") # the get function returns the value if name is in the hash table. else it returns None.\n",
    "print(value)"
   ]
  },
  {
   "cell_type": "code",
   "execution_count": null,
   "id": "83b6920b-d42a-46e8-911d-a4e6deba7b96",
   "metadata": {},
   "outputs": [],
   "source": [
    "# cache pseudocode\n",
    "cache = {}\n",
    "def get_page(url):\n",
    "    \"\"\"A function that checks if a url is in the cache \n",
    "    if not it saves the url in the cache\"\"\"\n",
    "    if cache.get(url):\n",
    "        return cache[url] # Returns cached data\n",
    "    else:\n",
    "        data = get_data_from_server(url)\n",
    "        cache[url] = data # saves this data in your cache first\n",
    "        return data "
   ]
  },
  {
   "cell_type": "code",
   "execution_count": null,
   "id": "a07a21bf-aa5a-40a0-9d60-22b38f2e2798",
   "metadata": {},
   "outputs": [],
   "source": [
    "get_page(\"facebook.com\")"
   ]
  },
  {
   "cell_type": "code",
   "execution_count": 2,
   "id": "afa97ddb-4ba9-4e8c-a513-47ab2b5a208e",
   "metadata": {},
   "outputs": [],
   "source": [
    "# Breadth-first search\n",
    "# in hash table ordering does not matter \n",
    "graph = {}\n",
    "graph[\"You\"] = [\"alice\",\"bob\",\"claire\"]\n",
    "graph[\"bob\"] = [\"anuj\",\"peggy\"]\n",
    "graph[\"alice\"] = [\"peggy\"]\n",
    "graph[\"claire\"] = [\"thom\",\"jonny\"]\n",
    "graph[\"anuj\"] = []\n",
    "graph[\"peggy\"] = []\n",
    "graph[\"thom\"] = []\n",
    "graph[\"jonny\"] = []"
   ]
  },
  {
   "cell_type": "code",
   "execution_count": 14,
   "id": "565df4ea-2cec-4f70-aa3e-e0b47a4feb23",
   "metadata": {},
   "outputs": [],
   "source": [
    "from collections import deque\n",
    "# def search(name):\n",
    "#     search_queue = deque() # Creates a new queue\n",
    "#     search_queue += graph[\"You\"] # Adds all of your out-neighbors to the search queue\n",
    "#     while search_queue: # while the queue isn't empty\n",
    "#         person = search_queue.popleft() # grabs the first person off the queue\n",
    "#         if person_is_seller(person): #checks whether the person is a mango seller\n",
    "#             print(person + \" is a mango seller!\") # yes, they're a mango seller\n",
    "#             return True\n",
    "#         else:\n",
    "#             search_queue += graph[person] # No, they aren't Add all of this person's friends to the search queue\n",
    "# return False # If you reached here, no one in the queue was a mango seller\n",
    "\n"
   ]
  },
  {
   "cell_type": "code",
   "execution_count": 3,
   "id": "a4279cc1-260b-4d2b-a34c-674438634ea8",
   "metadata": {},
   "outputs": [
    {
     "data": {
      "text/plain": [
       "False"
      ]
     },
     "execution_count": 3,
     "metadata": {},
     "output_type": "execute_result"
    }
   ],
   "source": [
    "from collections import deque\n",
    "def search(name):\n",
    "    search_queue = deque()\n",
    "    search_queue += graph[name]\n",
    "    searched = set() # This SET is how you keep track of which people you've searched before\n",
    "    while search_queue:\n",
    "        person = search_queue.popleft()\n",
    "        if not person in searched:\n",
    "            if person_is_seller(person): # Only search this person if you haven't already searched them\n",
    "                print(person + \"Is a mango seller!\")\n",
    "                return True\n",
    "        else:\n",
    "            search_queue += graph[person]\n",
    "            searched.add(person)  # Marks this as person\n",
    "    return False\n",
    "\n",
    "def person_is_seller(name):\n",
    "    \"\"\"checks whether the person's name ends with the letter m \n",
    "    if it does, they're a mango seller\"\"\"\n",
    "    return name[-1] == 'm'\n",
    "\n",
    "search(\"You\")\n",
    "    "
   ]
  },
  {
   "cell_type": "code",
   "execution_count": null,
   "id": "b9561a8d-ff5d-4242-a649-a57c36aae5d5",
   "metadata": {},
   "outputs": [],
   "source": [
    "# directory search algorithm using BFS \n",
    "from os import listdir\n",
    "from os.path import isfile, join\n",
    "from collections import deque\n",
    "\n",
    "def printnames(start_dir):\n",
    "    # we use a queue to kepp track of folders to search\n",
    "    search_queue = deque()\n",
    "    search_queue.append(start_dir)\n",
    "    # While the queue is not empty, pop off a folder to look through\n",
    "    while search_queue:\n",
    "        dir = search_queue.popleft()\n",
    "        # loop through every file and folder in this folder\n",
    "        for file in sorted(listdir(dir)):\n",
    "            fullpath = join(dir, file)\n",
    "            if isfile(fullpath):\n",
    "                # if it is a file, print out the name \n",
    "                print(file)\n",
    "            else:\n",
    "                # if it is a folder, add it to the queue of folders to search\n",
    "                search_queue.append(fullpath)\n",
    "\n",
    "printnames(\"/Users/briankimanzi/Documents/PythonProgramming/Algorithms/\")\n"
   ]
  },
  {
   "cell_type": "code",
   "execution_count": null,
   "id": "6c6c5a51-8dd6-4808-b40e-a3f5ef06efdd",
   "metadata": {},
   "outputs": [],
   "source": [
    "# Traverse file directory using recursively \n",
    "from os import listdir\n",
    "from os.path import isfile, join\n",
    "\n",
    "def printnames(dir):\n",
    "    # Loop through every file and folder in the current folder\n",
    "    for file in sorted(listdir(dir)):\n",
    "        fullpath = join(dir, file)\n",
    "        if isfile(fullpath):\n",
    "            # if it is a file, print out the name\n",
    "            print(file)\n",
    "        else:\n",
    "            # if it is a folder, call this function recursively on it\n",
    "            # to look for files and folder\n",
    "            printnames(fullpath)\n",
    "\n",
    "printnames(\"/Users/briankimanzi/Documents/My_Tableau_Repository/\")"
   ]
  },
  {
   "cell_type": "code",
   "execution_count": 7,
   "id": "75c75ae2-bbc0-4a71-bf4a-77e23712b6ec",
   "metadata": {},
   "outputs": [
    {
     "ename": "SyntaxError",
     "evalue": "invalid syntax (3029891749.py, line 1)",
     "output_type": "error",
     "traceback": [
      "\u001b[0;36m  Cell \u001b[0;32mIn[7], line 1\u001b[0;36m\u001b[0m\n\u001b[0;31m    brew list | grep pluggy\u001b[0m\n\u001b[0m         ^\u001b[0m\n\u001b[0;31mSyntaxError\u001b[0m\u001b[0;31m:\u001b[0m invalid syntax\n"
     ]
    }
   ],
   "source": []
  },
  {
   "cell_type": "code",
   "execution_count": null,
   "id": "120e0c44-f2c3-4a5a-98a0-d909565fa1f1",
   "metadata": {},
   "outputs": [],
   "source": []
  }
 ],
 "metadata": {
  "kernelspec": {
   "display_name": "Python 3 (ipykernel)",
   "language": "python",
   "name": "python3"
  },
  "language_info": {
   "codemirror_mode": {
    "name": "ipython",
    "version": 3
   },
   "file_extension": ".py",
   "mimetype": "text/x-python",
   "name": "python",
   "nbconvert_exporter": "python",
   "pygments_lexer": "ipython3",
   "version": "3.12.4"
  }
 },
 "nbformat": 4,
 "nbformat_minor": 5
}
