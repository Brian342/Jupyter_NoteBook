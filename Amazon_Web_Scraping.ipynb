{
 "cells": [
  {
   "cell_type": "markdown",
   "id": "a3c3142e-f6a5-4ace-8777-8f53d408a32f",
   "metadata": {},
   "source": [
    "# Amazon Web Scraping project"
   ]
  },
  {
   "cell_type": "code",
   "execution_count": 2,
   "id": "919db36d-3ecd-4eb6-ab2c-d39d3094013b",
   "metadata": {},
   "outputs": [],
   "source": [
    "# Import libraries\n",
    "import pandas as pd\n",
    "import numpy as np\n",
    "from bs4 import BeautifulSoup\n",
    "import requests\n",
    "import time, datetime\n",
    "import smtplib # sending emails to yourself"
   ]
  },
  {
   "cell_type": "code",
   "execution_count": 79,
   "id": "526584e8-17ce-40b8-8993-c2d91f696a66",
   "metadata": {},
   "outputs": [
    {
     "name": "stdout",
     "output_type": "stream",
     "text": [
      "$16.99$16.99\n",
      "\n",
      "                    Funny Got Data MIS Data Systems Business Analyst T-Shirt\n",
      "                   \n"
     ]
    }
   ],
   "source": [
    "url = 'https://www.amazon.com/Funny-Data-Systems-Business-Analyst/dp/B07FNW9FGJ/ref=sr_1_14?crid=3ACJDJG65EK7N&dib=eyJ2IjoiMSJ9.7re9JZr8V5MQIB5qK-9-CnfWY9Ljk7FHOOq43qtUswj7QN5ugOEn4ISAkS8edsoa4nUnbBMwjbyabtegK01iNwAIlnuMovMfSQOPaQln36ih7lEmwVw-LxKiL3TTMzEHPnIzQpFdY2QDQxKABe2z38twsv8YSS3A01oGBv5PdHCwZ6TTfPwAyBzZyuDbd6DfwONNL_7HVJFGOw6ngYyevJz9iLXf13lhLda0oKBA51BSjWL8Q5uUTVf1vhW0EeX3jh9Q6m8Coka-vy88JXZwd5HmfQ33Un1f5XOc1kDcJQk.zxWfP6xBw2HAxSDrgAva7jlJtWS--O267vuPLeoBs7c&dib_tag=se&keywords=data%2Banalyst%2Bshirt&qid=1728891516&sprefix=data%2Banalyst%2Bshir%2Caps%2C514&sr=8-14&customId=B07535YC9M&customizationToken=MC_Assembly_1%23B07535YC9M&th=1&psc=1'\n",
    "\n",
    "headers = {\"User-Agent\": \"Mozilla/5.0 (Macintosh; Intel Mac OS X 10_15_7) AppleWebKit/537.36 (KHTML, like Gecko) Chrome/129.0.0.0 Safari/537.36\",}\n",
    "\n",
    "page = requests.get(url, headers=headers)\n",
    "\n",
    "soup1 = BeautifulSoup(page.content, \"html.parser\")\n",
    "\n",
    "soup2 = BeautifulSoup(soup1.prettify(), \"html.parser\")\n",
    "\n",
    "title = soup2.find(id='productTitle').getText()\n",
    "\n",
    "price = soup2.find(id='corePriceDisplay_desktop_feature_div').get_text(strip=True)\n",
    "\n",
    "\n",
    "\n",
    "# product_title = soup2.find(id='productTitle')\n",
    "# # print(product_title)\n",
    "# if product_title is not None:\n",
    "#     title = product_title.get_text(strip=True)\n",
    "# else:\n",
    "#     title = \"Not found\"\n",
    "\n",
    "\n",
    "\n",
    "\n",
    "\n",
    "\n",
    "\n",
    "\n",
    "\n",
    "\n",
    "\n",
    "\n"
   ]
  },
  {
   "cell_type": "code",
   "execution_count": 83,
   "id": "68d246ac-1455-4880-8429-bbce21398e86",
   "metadata": {},
   "outputs": [
    {
     "name": "stdout",
     "output_type": "stream",
     "text": [
      "$16.99\n",
      "Funny Got Data MIS Data Systems Business Analyst T-Shirt\n"
     ]
    }
   ],
   "source": [
    "price = price.strip()[6:]\n",
    "title = title.strip()\n",
    "\n",
    "print(price)\n",
    "print(title)"
   ]
  },
  {
   "cell_type": "code",
   "execution_count": 90,
   "id": "619c3de9-3838-4e16-95d1-04063a66341e",
   "metadata": {},
   "outputs": [
    {
     "name": "stdout",
     "output_type": "stream",
     "text": [
      "2024-10-18\n"
     ]
    }
   ],
   "source": [
    "import datetime\n",
    "today  = datetime.date.today()\n",
    "print(today)"
   ]
  },
  {
   "cell_type": "code",
   "execution_count": 98,
   "id": "718029cf-be2b-41ec-a7fa-4e1d3d335bd3",
   "metadata": {},
   "outputs": [],
   "source": [
    "# import csv\n",
    "# header = ['Title', 'Price', 'Date']\n",
    "# data = [title, price, today]\n",
    "\n",
    "# with open('AmazonWebScrapingDataset.csv', 'w', newline='', encoding='UTF8') as f:\n",
    "#     writer = csv.writer(f)\n",
    "#     writer.writerow(header)\n",
    "#     writer.writerow(data)\n",
    "\n",
    "\n",
    "\n",
    "# this code is for appending the data automatically\n",
    "#import csv\n",
    "\n",
    "#with open('AmazonWebScrapingDataset.csv', 'a+', newline='', encoding='UTF8') as f:\n",
    "    #writer = csv.writer(f)\n",
    "    #writer.writerow(data)\n",
    "\n",
    "\n",
    "\n"
   ]
  },
  {
   "cell_type": "code",
   "execution_count": 99,
   "id": "64e52940-3008-4331-9d18-6e114c61e475",
   "metadata": {},
   "outputs": [
    {
     "data": {
      "text/html": [
       "<div>\n",
       "<style scoped>\n",
       "    .dataframe tbody tr th:only-of-type {\n",
       "        vertical-align: middle;\n",
       "    }\n",
       "\n",
       "    .dataframe tbody tr th {\n",
       "        vertical-align: top;\n",
       "    }\n",
       "\n",
       "    .dataframe thead th {\n",
       "        text-align: right;\n",
       "    }\n",
       "</style>\n",
       "<table border=\"1\" class=\"dataframe\">\n",
       "  <thead>\n",
       "    <tr style=\"text-align: right;\">\n",
       "      <th></th>\n",
       "      <th>Title</th>\n",
       "      <th>Price</th>\n",
       "      <th>Date</th>\n",
       "    </tr>\n",
       "  </thead>\n",
       "  <tbody>\n",
       "    <tr>\n",
       "      <th>0</th>\n",
       "      <td>Funny Got Data MIS Data Systems Business Analy...</td>\n",
       "      <td>$16.99</td>\n",
       "      <td>2024-10-18</td>\n",
       "    </tr>\n",
       "    <tr>\n",
       "      <th>1</th>\n",
       "      <td>Funny Got Data MIS Data Systems Business Analy...</td>\n",
       "      <td>$16.99</td>\n",
       "      <td>2024-10-18</td>\n",
       "    </tr>\n",
       "    <tr>\n",
       "      <th>2</th>\n",
       "      <td>Funny Got Data MIS Data Systems Business Analy...</td>\n",
       "      <td>$16.99</td>\n",
       "      <td>2024-10-18</td>\n",
       "    </tr>\n",
       "  </tbody>\n",
       "</table>\n",
       "</div>"
      ],
      "text/plain": [
       "                                               Title   Price        Date\n",
       "0  Funny Got Data MIS Data Systems Business Analy...  $16.99  2024-10-18\n",
       "1  Funny Got Data MIS Data Systems Business Analy...  $16.99  2024-10-18\n",
       "2  Funny Got Data MIS Data Systems Business Analy...  $16.99  2024-10-18"
      ]
     },
     "execution_count": 99,
     "metadata": {},
     "output_type": "execute_result"
    }
   ],
   "source": [
    "import pandas as pd\n",
    "\n",
    "df = pd.read_csv('/Users/briankimanzi/Documents/programming Languages/PythonProgramming/Jupyter_NoteBook/AmazonWebScrapingDataset.csv')\n",
    "df"
   ]
  },
  {
   "cell_type": "code",
   "execution_count": 145,
   "id": "3812ea3f-211e-4076-8c41-92de0bedd215",
   "metadata": {},
   "outputs": [],
   "source": [
    "def check_price():\n",
    "    \"\"\"This function performs data \n",
    "    Updation to the excel file automatically\"\"\"\n",
    "    \n",
    "    url = 'https://www.amazon.com/Funny-Data-Systems-Business-Analyst/dp/B07FNW9FGJ/ref=sr_1_14?crid=3ACJDJG65EK7N&dib=eyJ2IjoiMSJ9.7re9JZr8V5MQIB5qK-9-CnfWY9Ljk7FHOOq43qtUswj7QN5ugOEn4ISAkS8edsoa4nUnbBMwjbyabtegK01iNwAIlnuMovMfSQOPaQln36ih7lEmwVw-LxKiL3TTMzEHPnIzQpFdY2QDQxKABe2z38twsv8YSS3A01oGBv5PdHCwZ6TTfPwAyBzZyuDbd6DfwONNL_7HVJFGOw6ngYyevJz9iLXf13lhLda0oKBA51BSjWL8Q5uUTVf1vhW0EeX3jh9Q6m8Coka-vy88JXZwd5HmfQ33Un1f5XOc1kDcJQk.zxWfP6xBw2HAxSDrgAva7jlJtWS--O267vuPLeoBs7c&dib_tag=se&keywords=data%2Banalyst%2Bshirt&qid=1728891516&sprefix=data%2Banalyst%2Bshir%2Caps%2C514&sr=8-14&customId=B07535YC9M&customizationToken=MC_Assembly_1%23B07535YC9M&th=1&psc=1'\n",
    "    \n",
    "    headers = {\"User-Agent\": \"Mozilla/5.0 (Macintosh; Intel Mac OS X 10_15_7) AppleWebKit/537.36 (KHTML, like Gecko) Chrome/129.0.0.0 Safari/537.36\",}\n",
    "    \n",
    "    page = requests.get(url, headers=headers)\n",
    "\n",
    "    soup1 = BeautifulSoup(page.content, \"html.parser\")\n",
    "\n",
    "    soup2 = BeautifulSoup(soup1.prettify(), \"html.parser\")\n",
    "\n",
    "    title = soup2.find(id='productTitle').getText(strip=True)\n",
    "\n",
    "    price = soup2.find(id='corePriceDisplay_desktop_feature_div').getText(strip=True)\n",
    "\n",
    "    price = price.strip()[6:]\n",
    "    \n",
    "    title = title.strip()\n",
    "\n",
    "    import datetime\n",
    "    today  = datetime.date.today()\n",
    "\n",
    "    import csv\n",
    "    header = ['Title', 'Price', 'Date']\n",
    "    data = [title, price, today]\n",
    "\n",
    "    with open('AmazonWebScrapingDataset.csv', 'a+', newline='', encoding='UTF8') as f:\n",
    "        writer = csv.writer(f)\n",
    "        writer.writerow(data)\n",
    "\n",
    "    if(price <= 16):\n",
    "        send_mail()\n"
   ]
  },
  {
   "cell_type": "code",
   "execution_count": 146,
   "id": "e4f83587-00b9-48cb-84c0-c5bf23e05e34",
   "metadata": {},
   "outputs": [
    {
     "ename": "AttributeError",
     "evalue": "'NoneType' object has no attribute 'getText'",
     "output_type": "error",
     "traceback": [
      "\u001b[0;31m---------------------------------------------------------------------------\u001b[0m",
      "\u001b[0;31mAttributeError\u001b[0m                            Traceback (most recent call last)",
      "Cell \u001b[0;32mIn[146], line 2\u001b[0m\n\u001b[1;32m      1\u001b[0m \u001b[38;5;28;01mwhile\u001b[39;00m(\u001b[38;5;28;01mTrue\u001b[39;00m):\n\u001b[0;32m----> 2\u001b[0m     \u001b[43mcheck_price\u001b[49m\u001b[43m(\u001b[49m\u001b[43m)\u001b[49m\n\u001b[1;32m      3\u001b[0m     time\u001b[38;5;241m.\u001b[39msleep(\u001b[38;5;241m5\u001b[39m)\n\u001b[1;32m      4\u001b[0m     \u001b[38;5;124m'\u001b[39m\u001b[38;5;124m86400\u001b[39m\u001b[38;5;124m'\u001b[39m\n",
      "Cell \u001b[0;32mIn[145], line 15\u001b[0m, in \u001b[0;36mcheck_price\u001b[0;34m()\u001b[0m\n\u001b[1;32m     11\u001b[0m soup1 \u001b[38;5;241m=\u001b[39m BeautifulSoup(page\u001b[38;5;241m.\u001b[39mcontent, \u001b[38;5;124m\"\u001b[39m\u001b[38;5;124mhtml.parser\u001b[39m\u001b[38;5;124m\"\u001b[39m)\n\u001b[1;32m     13\u001b[0m soup2 \u001b[38;5;241m=\u001b[39m BeautifulSoup(soup1\u001b[38;5;241m.\u001b[39mprettify(), \u001b[38;5;124m\"\u001b[39m\u001b[38;5;124mhtml.parser\u001b[39m\u001b[38;5;124m\"\u001b[39m)\n\u001b[0;32m---> 15\u001b[0m title \u001b[38;5;241m=\u001b[39m \u001b[43msoup2\u001b[49m\u001b[38;5;241;43m.\u001b[39;49m\u001b[43mfind\u001b[49m\u001b[43m(\u001b[49m\u001b[38;5;28;43mid\u001b[39;49m\u001b[38;5;241;43m=\u001b[39;49m\u001b[38;5;124;43m'\u001b[39;49m\u001b[38;5;124;43mproductTitle\u001b[39;49m\u001b[38;5;124;43m'\u001b[39;49m\u001b[43m)\u001b[49m\u001b[38;5;241;43m.\u001b[39;49m\u001b[43mgetText\u001b[49m(strip\u001b[38;5;241m=\u001b[39m\u001b[38;5;28;01mTrue\u001b[39;00m)\n\u001b[1;32m     17\u001b[0m price \u001b[38;5;241m=\u001b[39m soup2\u001b[38;5;241m.\u001b[39mfind(\u001b[38;5;28mid\u001b[39m\u001b[38;5;241m=\u001b[39m\u001b[38;5;124m'\u001b[39m\u001b[38;5;124mcorePriceDisplay_desktop_feature_div\u001b[39m\u001b[38;5;124m'\u001b[39m)\u001b[38;5;241m.\u001b[39mgetText(strip\u001b[38;5;241m=\u001b[39m\u001b[38;5;28;01mTrue\u001b[39;00m)\n\u001b[1;32m     19\u001b[0m price \u001b[38;5;241m=\u001b[39m price\u001b[38;5;241m.\u001b[39mstrip()[\u001b[38;5;241m6\u001b[39m:]\n",
      "\u001b[0;31mAttributeError\u001b[0m: 'NoneType' object has no attribute 'getText'"
     ]
    }
   ],
   "source": [
    "while(True):\n",
    "    check_price()\n",
    "    time.sleep(5)\n",
    "    '86400'"
   ]
  },
  {
   "cell_type": "code",
   "execution_count": 142,
   "id": "48038a5f-c6ef-4162-bd2f-58bc08d8b64a",
   "metadata": {},
   "outputs": [
    {
     "data": {
      "text/html": [
       "<div>\n",
       "<style scoped>\n",
       "    .dataframe tbody tr th:only-of-type {\n",
       "        vertical-align: middle;\n",
       "    }\n",
       "\n",
       "    .dataframe tbody tr th {\n",
       "        vertical-align: top;\n",
       "    }\n",
       "\n",
       "    .dataframe thead th {\n",
       "        text-align: right;\n",
       "    }\n",
       "</style>\n",
       "<table border=\"1\" class=\"dataframe\">\n",
       "  <thead>\n",
       "    <tr style=\"text-align: right;\">\n",
       "      <th></th>\n",
       "      <th>Title</th>\n",
       "      <th>Price</th>\n",
       "      <th>Date</th>\n",
       "    </tr>\n",
       "  </thead>\n",
       "  <tbody>\n",
       "    <tr>\n",
       "      <th>0</th>\n",
       "      <td>Funny Got Data MIS Data Systems Business Analy...</td>\n",
       "      <td>$16.99</td>\n",
       "      <td>2024-10-18</td>\n",
       "    </tr>\n",
       "    <tr>\n",
       "      <th>1</th>\n",
       "      <td>Funny Got Data MIS Data Systems Business Analy...</td>\n",
       "      <td>$16.99</td>\n",
       "      <td>2024-10-18</td>\n",
       "    </tr>\n",
       "    <tr>\n",
       "      <th>2</th>\n",
       "      <td>Funny Got Data MIS Data Systems Business Analy...</td>\n",
       "      <td>$16.99</td>\n",
       "      <td>2024-10-18</td>\n",
       "    </tr>\n",
       "    <tr>\n",
       "      <th>3</th>\n",
       "      <td>Funny Got Data MIS Data Systems Business Analy...</td>\n",
       "      <td>$16.99</td>\n",
       "      <td>2024-10-18</td>\n",
       "    </tr>\n",
       "  </tbody>\n",
       "</table>\n",
       "</div>"
      ],
      "text/plain": [
       "                                               Title   Price        Date\n",
       "0  Funny Got Data MIS Data Systems Business Analy...  $16.99  2024-10-18\n",
       "1  Funny Got Data MIS Data Systems Business Analy...  $16.99  2024-10-18\n",
       "2  Funny Got Data MIS Data Systems Business Analy...  $16.99  2024-10-18\n",
       "3  Funny Got Data MIS Data Systems Business Analy...  $16.99  2024-10-18"
      ]
     },
     "execution_count": 142,
     "metadata": {},
     "output_type": "execute_result"
    }
   ],
   "source": [
    "import pandas as pd\n",
    "\n",
    "df = pd.read_csv('/Users/briankimanzi/Documents/programming Languages/PythonProgramming/Jupyter_NoteBook/AmazonWebScrapingDataset.csv')\n",
    "df"
   ]
  },
  {
   "cell_type": "code",
   "execution_count": 143,
   "id": "2b4169f7-bfd3-47b3-8b7a-2dffde10f02a",
   "metadata": {},
   "outputs": [],
   "source": [
    "def send_mail():\n",
    "    server = smtplib.SMTP_SSL('smtp.gmail.com', 465)\n",
    "    server.ehlo()\n",
    "    # server.start()\n",
    "    server.ehlo()\n",
    "    server.login('migelbrian3@gmail.com', 'password')\n",
    "\n",
    "    subject = 'The shirt you want is below $15! Now is your chance to buy!'\n",
    "    body = \"Brian, This is the moment we have been waiting for. Now is your chance to pick up the shirt of your dream. Don't miss\"\n",
    "    msg = f'subject: {subject}\\n\\n{body}'\n",
    "\n",
    "    server.sendmail(\n",
    "        'migelbrian3@gmail.com',\n",
    "        msg\n",
    "    )"
   ]
  },
  {
   "cell_type": "code",
   "execution_count": null,
   "id": "8f1d5451-d2a4-485a-8685-ca6499448b02",
   "metadata": {},
   "outputs": [],
   "source": []
  },
  {
   "cell_type": "code",
   "execution_count": null,
   "id": "6bcfbcfe-58fb-45b7-88d7-2d78ef85c77f",
   "metadata": {},
   "outputs": [],
   "source": []
  },
  {
   "cell_type": "code",
   "execution_count": null,
   "id": "ca269861-1d45-4d79-a3c6-5b47622933e5",
   "metadata": {},
   "outputs": [],
   "source": []
  },
  {
   "cell_type": "code",
   "execution_count": null,
   "id": "1be8b83b-4614-45e8-960a-8a393e373e31",
   "metadata": {},
   "outputs": [],
   "source": []
  },
  {
   "cell_type": "code",
   "execution_count": null,
   "id": "a78bd4d2-7d57-4c1c-9979-156c0f3e371f",
   "metadata": {},
   "outputs": [],
   "source": []
  },
  {
   "cell_type": "code",
   "execution_count": null,
   "id": "785629e5-5538-4fa8-84af-a32444d7bd13",
   "metadata": {},
   "outputs": [],
   "source": []
  },
  {
   "cell_type": "code",
   "execution_count": null,
   "id": "2560259d-0f08-4ccf-a151-32f0ffb0bf91",
   "metadata": {},
   "outputs": [],
   "source": []
  },
  {
   "cell_type": "code",
   "execution_count": null,
   "id": "9fcb845f-fa16-471a-b80a-43b9a41f5b04",
   "metadata": {},
   "outputs": [],
   "source": []
  },
  {
   "cell_type": "code",
   "execution_count": null,
   "id": "38da7ec1-b62f-4c5a-8461-e8a8ec0ac463",
   "metadata": {},
   "outputs": [],
   "source": []
  },
  {
   "cell_type": "code",
   "execution_count": null,
   "id": "1e883468-00ca-403e-bb0e-7125e0d4b2eb",
   "metadata": {},
   "outputs": [],
   "source": []
  },
  {
   "cell_type": "code",
   "execution_count": null,
   "id": "d15eea2c-17fe-4031-97a6-d9b03cdca103",
   "metadata": {},
   "outputs": [],
   "source": []
  },
  {
   "cell_type": "code",
   "execution_count": null,
   "id": "32c573a9-f168-4d54-a82d-e89ec2eb5058",
   "metadata": {},
   "outputs": [],
   "source": []
  },
  {
   "cell_type": "code",
   "execution_count": null,
   "id": "fdf1ce07-393a-43d5-8a32-4117860b90a4",
   "metadata": {},
   "outputs": [],
   "source": []
  },
  {
   "cell_type": "code",
   "execution_count": null,
   "id": "6df1d6fa-4853-4282-9cda-93bab8b6df23",
   "metadata": {},
   "outputs": [],
   "source": []
  },
  {
   "cell_type": "code",
   "execution_count": null,
   "id": "b9b656ed-b893-46dc-affa-003f0b015d55",
   "metadata": {},
   "outputs": [],
   "source": []
  },
  {
   "cell_type": "code",
   "execution_count": null,
   "id": "c5d99364-be7a-4f28-85a6-83e7798796de",
   "metadata": {},
   "outputs": [],
   "source": []
  },
  {
   "cell_type": "code",
   "execution_count": null,
   "id": "e06700c3-507d-4fec-8232-3fd680d5e94f",
   "metadata": {},
   "outputs": [],
   "source": []
  }
 ],
 "metadata": {
  "kernelspec": {
   "display_name": "Python 3 (ipykernel)",
   "language": "python",
   "name": "python3"
  },
  "language_info": {
   "codemirror_mode": {
    "name": "ipython",
    "version": 3
   },
   "file_extension": ".py",
   "mimetype": "text/x-python",
   "name": "python",
   "nbconvert_exporter": "python",
   "pygments_lexer": "ipython3",
   "version": "3.12.6"
  }
 },
 "nbformat": 4,
 "nbformat_minor": 5
}
