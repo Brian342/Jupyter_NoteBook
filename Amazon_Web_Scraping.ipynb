{
 "cells": [
  {
   "cell_type": "markdown",
   "id": "a3c3142e-f6a5-4ace-8777-8f53d408a32f",
   "metadata": {},
   "source": [
    "# Amazon Web Scraping project"
   ]
  },
  {
   "cell_type": "code",
   "execution_count": null,
   "id": "919db36d-3ecd-4eb6-ab2c-d39d3094013b",
   "metadata": {},
   "outputs": [],
   "source": [
    "import pandas as pd\n",
    "import numpy as np\n",
    "from bs4 import BeautifulSoup\n",
    "import requests"
   ]
  }
 ],
 "metadata": {
  "kernelspec": {
   "display_name": "Python 3 (ipykernel)",
   "language": "python",
   "name": "python3"
  },
  "language_info": {
   "codemirror_mode": {
    "name": "ipython",
    "version": 3
   },
   "file_extension": ".py",
   "mimetype": "text/x-python",
   "name": "python",
   "nbconvert_exporter": "python",
   "pygments_lexer": "ipython3",
   "version": "3.12.6"
  }
 },
 "nbformat": 4,
 "nbformat_minor": 5
}
