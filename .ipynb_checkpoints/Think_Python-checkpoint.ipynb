{
 "cells": [
  {
   "cell_type": "code",
   "execution_count": 1,
   "id": "81aa129c-6f8b-4d25-94e0-f70fa0a8e030",
   "metadata": {},
   "outputs": [
    {
     "data": {
      "text/plain": [
       "42.0"
      ]
     },
     "execution_count": 1,
     "metadata": {},
     "output_type": "execute_result"
    }
   ],
   "source": [
    "int('126')/3"
   ]
  },
  {
   "cell_type": "code",
   "execution_count": 2,
   "id": "21c479a4-ccb9-4b98-aa98-4713a33caa6e",
   "metadata": {},
   "outputs": [
    {
     "data": {
      "text/plain": [
       "2562"
      ]
     },
     "execution_count": 2,
     "metadata": {},
     "output_type": "execute_result"
    }
   ],
   "source": [
    "# Number of seconds in 42:42\n",
    "(42*60) + 42"
   ]
  },
  {
   "cell_type": "code",
   "execution_count": 3,
   "id": "972a4b59-c2a3-4676-8726-30a3358f4525",
   "metadata": {},
   "outputs": [
    {
     "name": "stdout",
     "output_type": "stream",
     "text": [
      "6.211180124223602\n"
     ]
    }
   ],
   "source": [
    "# a program to determine how many kilometres are there in miles\n",
    "miles = 10/1.61\n",
    "print(miles)"
   ]
  },
  {
   "cell_type": "code",
   "execution_count": 4,
   "id": "839458bd-c8ae-4cfe-8585-20145103c72c",
   "metadata": {},
   "outputs": [],
   "source": [
    "# A module is a collection of variables and function \n",
    "import math\n"
   ]
  },
  {
   "cell_type": "code",
   "execution_count": 5,
   "id": "9e8b1488-95be-4556-a120-b9749f86ab60",
   "metadata": {},
   "outputs": [
    {
     "ename": "NameError",
     "evalue": "name 'n' is not defined",
     "output_type": "error",
     "traceback": [
      "\u001b[0;31m---------------------------------------------------------------------------\u001b[0m",
      "\u001b[0;31mNameError\u001b[0m                                 Traceback (most recent call last)",
      "Cell \u001b[0;32mIn[5], line 1\u001b[0m\n\u001b[0;32m----> 1\u001b[0m \u001b[43mn\u001b[49m\n",
      "\u001b[0;31mNameError\u001b[0m: name 'n' is not defined"
     ]
    }
   ],
   "source": [
    "n\n"
   ]
  },
  {
   "cell_type": "code",
   "execution_count": null,
   "id": "48049bf2-898c-4cd8-bf4c-a4db3bb124c2",
   "metadata": {},
   "outputs": [],
   "source": [
    "print(f'The value of pi is approximately {math.pi}')"
   ]
  },
  {
   "cell_type": "code",
   "execution_count": null,
   "id": "022b4260-8383-496f-9e85-fcfc2faebb6a",
   "metadata": {},
   "outputs": [],
   "source": [
    "# Argument is an Expression in parentheses\n",
    "int('101', 2) # The sequence of digit 101 in base 2 represents the number 5 in base 10\n"
   ]
  },
  {
   "cell_type": "code",
   "execution_count": 3,
   "id": "07f03698-3067-4f90-8d85-7594294414e5",
   "metadata": {},
   "outputs": [
    {
     "name": "stdout",
     "output_type": "stream",
     "text": [
      "523.5987755982989\n"
     ]
    }
   ],
   "source": [
    "# The volume of a sphere with radius r is 4/3pir3. what is the volume \n",
    "# of a sphere with radius 5? start with a variable named radius and then assign the result to a \n",
    "# variable named volume. Display the result. Add comments to indicate that radius is in \n",
    "# centimeters and volume is in cubic centimeters\n",
    "import math\n",
    "radius = r = 5 # centimeters\n",
    "volume = (4/3 * math.pi * (math.pow(r,3))) # cubic centimeters\n",
    "print(volume)"
   ]
  },
  {
   "cell_type": "code",
   "execution_count": 4,
   "id": "4669493a-94ff-45e9-800b-d389624a4f95",
   "metadata": {},
   "outputs": [
    {
     "name": "stdin",
     "output_type": "stream",
     "text": [
      "Enter any value!  3\n"
     ]
    },
    {
     "name": "stdout",
     "output_type": "stream",
     "text": [
      "0.9999999999999999\n"
     ]
    }
   ],
   "source": [
    "# A rule of trigometry says that any value of x, (cos x)2 + (sin x)2 = 1. \n",
    "# let's see if it's true for a specific value of x like 42 create a variable named x with \n",
    "# this value. then use math.cos and math.sin to compute the sine and cosine of x, \n",
    "# and the sum of their squires the result should be close to 1. it \n",
    "import cmath # complex math\n",
    "x = int(input(\"Enter any value! \"))\n",
    "output = math.pow(math.cos (x), 2) + math.pow(math.sin (x), 2)\n",
    "print(output)\n"
   ]
  },
  {
   "cell_type": "code",
   "execution_count": 5,
   "id": "4a83c7b8-116e-4098-b002-a2dd832455f9",
   "metadata": {},
   "outputs": [
    {
     "name": "stdin",
     "output_type": "stream",
     "text": [
      "Enter a value  4\n"
     ]
    },
    {
     "name": "stdout",
     "output_type": "stream",
     "text": [
      "54.598150033144236\n"
     ]
    }
   ],
   "source": [
    "# uses of math.e\n",
    "# import math\n",
    "# test1 = math.e ** 2\n",
    "# test2 = math.pow (math.e, 2)\n",
    "\n",
    "# print(test2)\n",
    "x = int(input(\"Enter a value \"))\n",
    "test3 = math.exp(x)\n",
    "print(test3)"
   ]
  },
  {
   "cell_type": "code",
   "execution_count": 7,
   "id": "b6f8343a-8365-473f-b4e1-6d7ecec2ff70",
   "metadata": {},
   "outputs": [
    {
     "name": "stdout",
     "output_type": "stream",
     "text": [
      "Spam, Spam, Spam, Spam, \n",
      "Spam, Spam, Spam, Spam, \n",
      "Spam, Spam, \n",
      "(Lovely spam, Wonderful spam!)\n",
      "Spam, Spam, \n",
      "\n",
      "Spam, Spam, Spam, Spam, \n",
      "Spam, Spam, Spam, Spam, \n",
      "Spam, Spam, \n",
      "(Lovely spam, Wonderful spam!)\n",
      "Spam, Spam, \n",
      "\n",
      "Spam, Spam, Spam, Spam, \n",
      "Spam, Spam, Spam, Spam, \n",
      "Spam, Spam, \n",
      "(Lovely spam, Wonderful spam!)\n",
      "Spam, Spam, \n",
      "\n",
      "Spam, Spam, Spam, Spam, \n",
      "Spam, Spam, Spam, Spam, \n",
      "Spam, Spam, \n",
      "(Lovely spam, Wonderful spam!)\n",
      "Spam, Spam, \n",
      "\n",
      "Spam, Spam, Spam, Spam, \n",
      "Spam, Spam, Spam, Spam, \n",
      "Spam, Spam, \n",
      "(Lovely spam, Wonderful spam!)\n",
      "Spam, Spam, \n",
      "\n"
     ]
    }
   ],
   "source": [
    "# functions definition - specifies the name of a new function and the sequence of statement\n",
    "# that run when the function is called\n",
    "\n",
    "# def print_twice(string):\n",
    "#     print(string)\n",
    "#     print(string)\n",
    "\n",
    "# print_twice(string='hello')\n",
    "def repeat(word, n):\n",
    "    \"\"\"A function that prints the lyrics of a song spam, The first line.\"\"\"\n",
    "    print(word * n)\n",
    "    \n",
    "def print_first_2_lines():\n",
    "    \"\"\"This function prints the 2 lines of the song spam.\"\"\"\n",
    "    repeat(word = 'Spam, ', n = 4)\n",
    "    repeat(word = 'Spam, ', n = 4)\n",
    "def last_3_lines():\n",
    "    \"This function prints the last 3 lines of the song spam\"\n",
    "    repeat(word = 'Spam, ', n = 2)\n",
    "    print('(Lovely spam, Wonderful spam!)')\n",
    "    repeat(word = 'Spam, ', n = 2)\n",
    "def print_verse():\n",
    "    \"\"\"This function prints the whole verse of the song spam\"\"\"\n",
    "    print_first_2_lines()\n",
    "    last_3_lines()\n",
    "\n",
    "# for i in range(2):\n",
    "#     print(\"Verse\", i)\n",
    "#     print_verse()\n",
    "#     print() # this creates a space between the first verse and the second one\n",
    "\n",
    "def print_n_verses(n):\n",
    "    \"\"\"This function prints a specified number of versers specified on the function argument\"\"\"\n",
    "    for i in range(n):\n",
    "        print_verse()\n",
    "        print() # this creates a space between the first verse and the second one\n",
    "\n",
    "print_n_verses(5)\n"
   ]
  },
  {
   "cell_type": "code",
   "execution_count": 9,
   "id": "46ef85f4-7bf5-45d2-b9a9-f63f3aa4bb3b",
   "metadata": {},
   "outputs": [
    {
     "name": "stdout",
     "output_type": "stream",
     "text": [
      "Always look on the bright side of life.\n",
      "Always look on the bright side of life.\n"
     ]
    }
   ],
   "source": [
    "# Variables and parameters are local when you create a variable inside a function, \n",
    "# it is local, which means that it only exists inside the function\n",
    "def cat_twice(part1, part2):\n",
    "    cat = part1 + part2\n",
    "    print_twice(cat)\n",
    "\n",
    "line1 = 'Always look on the '\n",
    "line2 = 'bright side of life.'\n",
    "cat_twice(line1, line2)\n",
    "\n"
   ]
  },
  {
   "cell_type": "code",
   "execution_count": 19,
   "id": "26f12596-90a9-4ac8-8949-a92c3ff94f51",
   "metadata": {},
   "outputs": [
    {
     "name": "stdout",
     "output_type": "stream",
     "text": [
      "Hey \n",
      "Hey \n",
      "Hey \n",
      "Hey \n",
      "\n"
     ]
    }
   ],
   "source": [
    "# A frame is a box with the name of a function on the outside \n",
    "# and the parameters and local variables of the function on the inside\n",
    "\n",
    "# Write a function called repeat that takes a string and an integer \n",
    "# and prints the string the given number of times\n",
    "\n",
    "# def repeat(n):\n",
    "#     \"\"\"Using 4 loop\"\"\"\n",
    "#     for i in range(n):\n",
    "#         print(\"Hello\")\n",
    "\n",
    "# repeat(4)\n",
    "\n",
    "# def repeat(n):\n",
    "#     print(\"Hey \\n\" * n)\n",
    "\n",
    "# repeat(4)\n",
    "\n",
    "# Write a function named print_right that takes a string named text as a \n",
    "# parameter and prints the string with enough leading spaces that the last letter\n",
    "# of the string is in the 40th column of the display\n",
    "def print_right(text):\n",
    "    print(text=\" \")\n",
    "    "
   ]
  },
  {
   "cell_type": "code",
   "execution_count": null,
   "id": "ccb91bf0-c05e-42e2-a8cc-93c681775aef",
   "metadata": {},
   "outputs": [],
   "source": [
    "pip install --force jupyturtle"
   ]
  },
  {
   "cell_type": "code",
   "execution_count": 32,
   "id": "6da61dca-5a9b-49f9-aa0d-eced9ec9b934",
   "metadata": {},
   "outputs": [
    {
     "ename": "SyntaxError",
     "evalue": "invalid syntax (2206971396.py, line 1)",
     "output_type": "error",
     "traceback": [
      "\u001b[0;36m  Cell \u001b[0;32mIn[32], line 1\u001b[0;36m\u001b[0m\n\u001b[0;31m    brew uninstall --force jupyturtle\u001b[0m\n\u001b[0m         ^\u001b[0m\n\u001b[0;31mSyntaxError\u001b[0m\u001b[0;31m:\u001b[0m invalid syntax\n"
     ]
    }
   ],
   "source": [
    " uninstall --force jupyturtle"
   ]
  },
  {
   "cell_type": "code",
   "execution_count": 2,
   "id": "c0b41306-8458-49c9-a682-f28148314a67",
   "metadata": {},
   "outputs": [
    {
     "data": {
      "text/html": [
       "<svg width=\"300\" height=\"150\" style=\"fill:none; stroke-linecap:round;\">\n",
       "    <rect width=\"100%\" height=\"100%\" fill=\"#F3F3F7\" />\n",
       "\n",
       "\n",
       "<path stroke=\"#663399\" stroke-width=\"2\" d=\"M 150,75 250,75\" />'\n",
       "\n",
       "<g transform=\"rotate(-90.0,250.0,75.0) translate(250.0, 75.0)\">\n",
       "    <circle stroke=\"#63A375\" stroke-width=\"2\" fill=\"transparent\" r=\"5.5\" cx=\"0\" cy=\"0\"/>\n",
       "    <polygon points=\"0,12 2,9 -2,9\" style=\"fill:#63A375;stroke:#63A375;stroke-width:2\"/>\n",
       "</g>\n",
       "\n",
       "</svg>"
      ],
      "text/plain": [
       "<IPython.core.display.HTML object>"
      ]
     },
     "metadata": {},
     "output_type": "display_data"
    }
   ],
   "source": [
    "import jupyturtle\n",
    "jupyturtle.make_turtle()\n",
    "jupyturtle.forward(100)"
   ]
  },
  {
   "cell_type": "code",
   "execution_count": null,
   "id": "496cab17-4292-4cea-a854-f7ae141f840c",
   "metadata": {},
   "outputs": [],
   "source": [
    "pip install --upgrade pip"
   ]
  },
  {
   "cell_type": "code",
   "execution_count": null,
   "id": "07d506e0-8c47-40d9-996d-9fe492f9eb92",
   "metadata": {},
   "outputs": [],
   "source": []
  }
 ],
 "metadata": {
  "kernelspec": {
   "display_name": "Python 3 (ipykernel)",
   "language": "python",
   "name": "python3"
  },
  "language_info": {
   "codemirror_mode": {
    "name": "ipython",
    "version": 3
   },
   "file_extension": ".py",
   "mimetype": "text/x-python",
   "name": "python",
   "nbconvert_exporter": "python",
   "pygments_lexer": "ipython3",
   "version": "3.12.4"
  }
 },
 "nbformat": 4,
 "nbformat_minor": 5
}
