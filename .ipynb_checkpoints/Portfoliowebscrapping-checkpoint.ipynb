{
 "cells": [
  {
   "cell_type": "code",
   "execution_count": null,
   "id": "3fff2d54-3042-4ee8-b5c4-a4ba58c359c3",
   "metadata": {},
   "outputs": [],
   "source": [
    "def checkAllArgs(**kwaargs):\n",
    "    for x in kwaargs:\n",
    "        if not(isinstance(x,(int,float))):\n",
    "            return False\n",
    "        return True\n",
    "\n",
    "def addAllNumerics(**kwaargs):\n",
    "    s =0\n",
    "    for x in kwaargs:\n",
    "        s+=x\n",
    "    return s\n",
    "\n",
    "myName =\"Brian \""
   ]
  }
 ],
 "metadata": {
  "kernelspec": {
   "display_name": "Python 3 (ipykernel)",
   "language": "python",
   "name": "python3"
  },
  "language_info": {
   "codemirror_mode": {
    "name": "ipython",
    "version": 3
   },
   "file_extension": ".py",
   "mimetype": "text/x-python",
   "name": "python",
   "nbconvert_exporter": "python",
   "pygments_lexer": "ipython3",
   "version": "3.12.2"
  }
 },
 "nbformat": 4,
 "nbformat_minor": 5
}
