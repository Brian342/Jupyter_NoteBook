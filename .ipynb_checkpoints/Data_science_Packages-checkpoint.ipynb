{
 "cells": [
  {
   "cell_type": "markdown",
   "id": "0c5435fc-202b-48ab-b524-cea64d0fe07c",
   "metadata": {},
   "source": [
    "# What is numpy a library for the python programming language,adding support for large, multi-dimensional arrays and matrices, along with a large collection of high-level mathematical functions to operate on these arrays"
   ]
  },
  {
   "cell_type": "code",
   "execution_count": 2,
   "id": "8ab4a598-ae64-4ddd-9a96-ba8cfeaceb63",
   "metadata": {},
   "outputs": [],
   "source": [
    "import numpy as np"
   ]
  },
  {
   "cell_type": "code",
   "execution_count": 3,
   "id": "53b1f4d0-bc7c-4750-8dc2-deb7688e2c45",
   "metadata": {},
   "outputs": [
    {
     "name": "stdout",
     "output_type": "stream",
     "text": [
      "The type of a is<class 'numpy.ndarray'> the values are [1 2 3 5 7]\n",
      "The type of a is<class 'numpy.ndarray'> the values are [2. 3. 5.]\n"
     ]
    }
   ],
   "source": [
    "# dtype - a property of numpy that stores the information of the data type in numpy\n",
    "a = np.array([1,2,3,5,7],dtype='i') # list the i is for integer\n",
    "b = np.array((2,3,5),dtype='f') # tuple the f is for float\n",
    "print(f\"The type of a is{type(a)} the values are {a}\")\n",
    "print(f\"The type of a is{type(b)} the values are {b}\")"
   ]
  },
  {
   "cell_type": "code",
   "execution_count": 4,
   "id": "f982f0d2-4370-4d9d-8bb2-7394043b0ed3",
   "metadata": {},
   "outputs": [
    {
     "name": "stdout",
     "output_type": "stream",
     "text": [
      "a is int32\n",
      "b is float32\n"
     ]
    }
   ],
   "source": [
    "print(f\"a is {a.dtype}\")\n",
    "print(f\"b is {b.dtype}\")"
   ]
  },
  {
   "cell_type": "code",
   "execution_count": 9,
   "id": "16082f10-9e45-41a8-84b9-523614b3b17c",
   "metadata": {},
   "outputs": [
    {
     "name": "stdout",
     "output_type": "stream",
     "text": [
      "The numpy array contains a 2 dimensional array\n"
     ]
    }
   ],
   "source": [
    "# Numpy(Dimensions)\n",
    "# ndim - tells the dimensions of an array\n",
    "a  = np.array([[1,2,3],[4,5,6]])\n",
    "print(f\"The numpy array contains a {a.ndim} dimensional array\")"
   ]
  },
  {
   "cell_type": "code",
   "execution_count": 10,
   "id": "8b5ea7f6-f292-4f48-82e8-123d15631dd2",
   "metadata": {},
   "outputs": [
    {
     "data": {
      "text/plain": [
       "3"
      ]
     },
     "execution_count": 10,
     "metadata": {},
     "output_type": "execute_result"
    }
   ],
   "source": [
    "a[0,2]"
   ]
  },
  {
   "cell_type": "code",
   "execution_count": 16,
   "id": "7e445718-b12a-4c9a-a0ca-d53a30195a0a",
   "metadata": {},
   "outputs": [
    {
     "name": "stdout",
     "output_type": "stream",
     "text": [
      "The numpy array contains a 2 dimensional array\n"
     ]
    }
   ],
   "source": [
    "b = np.array([[1,2,3,-1],[2,4,5,9]])\n",
    "print(f\"The numpy array contains a {b.ndim} dimensional array\")"
   ]
  },
  {
   "cell_type": "code",
   "execution_count": 17,
   "id": "2f165253-cc40-4cce-a3f3-c01300ac3263",
   "metadata": {},
   "outputs": [
    {
     "data": {
      "text/plain": [
       "5"
      ]
     },
     "execution_count": 17,
     "metadata": {},
     "output_type": "execute_result"
    }
   ],
   "source": [
    "b[1,2]"
   ]
  },
  {
   "cell_type": "code",
   "execution_count": 21,
   "id": "14649603-644e-41e2-9d1e-030dc3feebef",
   "metadata": {},
   "outputs": [
    {
     "name": "stdout",
     "output_type": "stream",
     "text": [
      "The numpy array contains a 3 dimensional array\n"
     ]
    }
   ],
   "source": [
    "c = np.array([[[1,2,3],[4,5,6],[0,0,-1]],[[-1,-2,-3],[-4,-5,-6],[0,0,1]]])\n",
    "print(f\"The numpy array contains a {c.ndim} dimensional array\")"
   ]
  },
  {
   "cell_type": "code",
   "execution_count": 23,
   "id": "1600a019-2076-4803-baef-86da026acd07",
   "metadata": {},
   "outputs": [
    {
     "data": {
      "text/plain": [
       "-3"
      ]
     },
     "execution_count": 23,
     "metadata": {},
     "output_type": "execute_result"
    }
   ],
   "source": [
    "c[1,0,2] # []"
   ]
  },
  {
   "cell_type": "code",
   "execution_count": 29,
   "id": "25b7f061-ae2d-4052-bb68-a479842dbc22",
   "metadata": {},
   "outputs": [
    {
     "name": "stdout",
     "output_type": "stream",
     "text": [
      "In each 2 dimensional array how many one dimensional arrays are there? 3\n",
      "In each one dimensional array how many elemants are there 3\n"
     ]
    }
   ],
   "source": [
    "# shape - returns a tuple array eg c.shape(2,3,3) \n",
    "# 2 - how many dimensional arrays are there\n",
    "# 3 - in each 2 darray how many 1 dimensional arrays are there\n",
    "# 3 - in each 1 darray how many elements are 3\n",
    "# print(f\"Tell's the total number of the dimensional arrays in  our case is = {c.shape[0]}\")\n",
    "# print(f\"In each {c.shape[0]} dimensional array how many one dimensional arrays are there? {c.shape[1]}\")\n",
    "print(f\"In each one dimensional array how many elemants are there {c.shape[2]}\")\n"
   ]
  },
  {
   "cell_type": "code",
   "execution_count": 34,
   "id": "b95cc3d8-c0ae-49a8-a188-69d838569752",
   "metadata": {},
   "outputs": [
    {
     "name": "stdout",
     "output_type": "stream",
     "text": [
      " This is a 1 dimensional array\n"
     ]
    }
   ],
   "source": [
    "A = np.array([2])\n",
    "print(f\" This is a {A.ndim} dimensional array\")"
   ]
  },
  {
   "cell_type": "code",
   "execution_count": 35,
   "id": "4724ab48-4b13-40e2-89bf-ef9996445134",
   "metadata": {},
   "outputs": [
    {
     "name": "stdout",
     "output_type": "stream",
     "text": [
      " This is a 0 dimensional array\n"
     ]
    }
   ],
   "source": [
    "B = np.array(2)\n",
    "print(f\" This is a {B.ndim} dimensional array\")"
   ]
  },
  {
   "cell_type": "code",
   "execution_count": 39,
   "id": "0a152387-9502-4688-bcc2-478daae502d9",
   "metadata": {},
   "outputs": [
    {
     "name": "stdout",
     "output_type": "stream",
     "text": [
      "Total number of elements on the arrray is 18\n"
     ]
    }
   ],
   "source": [
    "print(f\"Total number of elements on the arrray is {c.size}\") # returns the total number of elements on the array"
   ]
  },
  {
   "cell_type": "code",
   "execution_count": 44,
   "id": "6eef3a92-5e27-4617-aba4-8ed8202d435d",
   "metadata": {},
   "outputs": [
    {
     "name": "stdout",
     "output_type": "stream",
     "text": [
      "Total number of bytes in the memory is 144\n"
     ]
    }
   ],
   "source": [
    "print(f\"Total number of bytes in the memory is {c.nbytes}\") # tells the number of bytes that being taken in the memory\n"
   ]
  },
  {
   "cell_type": "code",
   "execution_count": 52,
   "id": "c6a808c8-644e-425f-bc20-6ac9a205a78a",
   "metadata": {},
   "outputs": [
    {
     "name": "stdout",
     "output_type": "stream",
     "text": [
      "[20 22 24 26 28 30 32 34 36 38 40 42 44 46 48 50 52 54 56 58 60 62 64 66\n",
      " 68 70 72 74 76 78 80 82 84 86 88 90 92 94 96 98]\n"
     ]
    }
   ],
   "source": [
    "# Numpy(np.arange,reshape,random)\n",
    "# np.arange - \n",
    "# d = np.arange(100) # creates a one darray that start from 0 - 99\n",
    "# print(d)\n",
    "# d = np.arange(20,100) # creates an array that starts from 20 and end at 99\n",
    "# print(d)\n",
    "d = np.arange(20,100,2) # for i in range(20,100,2)\n",
    "# creates an array that starts from 20 and end at 99 and skips 2\n",
    "print(d)"
   ]
  },
  {
   "cell_type": "code",
   "execution_count": 53,
   "id": "db36aeb5-b392-4ba2-9830-8b97262da5de",
   "metadata": {},
   "outputs": [
    {
     "name": "stdout",
     "output_type": "stream",
     "text": [
      "[0, 1, 2, 3, 4, 5, 6, 7, 8, 9]\n"
     ]
    }
   ],
   "source": [
    "# print(range(10)) # does not return an iterable elements\n",
    "print(list(range(10))) # returns an iterable list of elements"
   ]
  },
  {
   "cell_type": "code",
   "execution_count": 58,
   "id": "4cfaa169-5a37-493c-8581-1639a3df7006",
   "metadata": {},
   "outputs": [
    {
     "name": "stdout",
     "output_type": "stream",
     "text": [
      "[1 5 6 9 3 7 2 8 4 0]\n"
     ]
    }
   ],
   "source": [
    "e = np.random.permutation(np.arange(10)) # returns a shuffle array of elements of 0 -19\n",
    "print(e)"
   ]
  },
  {
   "cell_type": "code",
   "execution_count": 77,
   "id": "748fa38c-8f07-4e57-9ae4-87ed06d59907",
   "metadata": {},
   "outputs": [
    {
     "name": "stdout",
     "output_type": "stream",
     "text": [
      "21\n",
      "<class 'int'>\n"
     ]
    }
   ],
   "source": [
    "# np.random.randint \n",
    "f = np.random.randint(20,30) # creates a random integer on the range of numbers\n",
    "print(v)\n",
    "print(type(v))"
   ]
  },
  {
   "cell_type": "code",
   "execution_count": 4,
   "id": "4ec67f5d-d5dd-48b1-86ca-c4129ea47d04",
   "metadata": {},
   "outputs": [
    {
     "data": {
      "text/plain": [
       "array([9.91784359e-01, 2.91623292e-01, 9.19033980e-01, 8.62156948e-01,\n",
       "       4.89245630e-01, 5.71504348e-01, 7.46773612e-01, 4.47303776e-01,\n",
       "       9.52921354e-03, 6.88664376e-01, 9.26746920e-01, 4.86149858e-01,\n",
       "       5.89237860e-02, 1.84633156e-02, 8.54819127e-03, 2.24514281e-01,\n",
       "       7.68242273e-01, 6.36785109e-01, 2.04135128e-01, 8.42536338e-03,\n",
       "       1.35253887e-01, 5.68235564e-01, 4.39656274e-01, 7.25121996e-01,\n",
       "       1.49623700e-03, 6.53110117e-01, 7.02239215e-01, 4.23602474e-01,\n",
       "       6.94602970e-01, 4.55192499e-01, 3.38259034e-01, 8.30476441e-01,\n",
       "       3.43376064e-01, 1.41753122e-01, 2.78074933e-01, 9.99067450e-01,\n",
       "       6.00225279e-01, 2.17146607e-01, 6.47470407e-01, 5.21103746e-02,\n",
       "       5.19949874e-03, 2.12732855e-01, 3.70062075e-01, 5.80123542e-01,\n",
       "       7.33741937e-01, 9.07369101e-01, 5.77533755e-01, 4.79516009e-01,\n",
       "       5.48693060e-01, 6.70391833e-01, 5.73149131e-01, 3.61206659e-01,\n",
       "       4.30473405e-01, 2.52473095e-01, 7.57463821e-01, 2.76703580e-01,\n",
       "       7.89835154e-01, 4.78051142e-01, 7.64941288e-01, 8.16962196e-01,\n",
       "       5.76944959e-01, 2.40930562e-01, 2.91957892e-02, 7.89092264e-01,\n",
       "       1.91037357e-01, 5.54596693e-02, 6.19117159e-01, 6.87568667e-01,\n",
       "       1.12969834e-01, 1.20116980e-01, 7.45752836e-01, 2.17195714e-01,\n",
       "       4.23655250e-01, 4.49465999e-01, 1.80535473e-01, 9.21376455e-01,\n",
       "       8.29628115e-01, 6.19163649e-01, 1.54763367e-01, 7.70072793e-01,\n",
       "       5.76004906e-01, 1.33947657e-01, 3.76245878e-01, 9.32160036e-01,\n",
       "       5.00157896e-01, 1.31782286e-01, 3.45880180e-01, 6.34347552e-01,\n",
       "       7.08001980e-01, 4.43178723e-01, 9.56154180e-01, 3.05849285e-01,\n",
       "       5.68224161e-01, 9.88339330e-01, 2.20548187e-01, 9.36341931e-01,\n",
       "       3.55965789e-03, 2.12014141e-01, 6.10596709e-01, 7.63148048e-01,\n",
       "       3.99849796e-01, 3.85464603e-01, 4.32137387e-01, 1.45310103e-02,\n",
       "       1.53423932e-01, 2.22774199e-01, 7.45419250e-01, 6.52321670e-01,\n",
       "       1.09419604e-01, 4.60613429e-01, 2.66248204e-01, 4.28083770e-01,\n",
       "       7.74946123e-01, 1.39856734e-01, 2.78118315e-01, 2.09965924e-01,\n",
       "       9.59113112e-01, 5.86270345e-01, 5.63270444e-01, 2.99807616e-01,\n",
       "       5.52116290e-01, 5.56206015e-01, 2.56766353e-02, 1.83111513e-01,\n",
       "       5.72729057e-01, 5.63042666e-01, 9.21630491e-02, 4.77010566e-01,\n",
       "       3.73061238e-01, 3.45072795e-01, 6.59264770e-01, 4.99100904e-01,\n",
       "       2.41231262e-01, 9.35598589e-01, 5.13860391e-01, 1.61024232e-01,\n",
       "       8.04307976e-01, 2.73844086e-01, 5.43297341e-01, 9.37649165e-01,\n",
       "       8.93274425e-01, 5.08604973e-01, 7.90045139e-01, 3.68424341e-01,\n",
       "       5.21580323e-01, 7.30968039e-01, 7.05164505e-01, 1.35974498e-02,\n",
       "       9.68857410e-01, 7.56260993e-01, 9.24751216e-01, 2.53424902e-01,\n",
       "       6.59136854e-01, 3.97478222e-01, 1.69336355e-01, 3.37445888e-01,\n",
       "       2.34266279e-01, 5.39725958e-01, 9.63917133e-01, 1.65998951e-01,\n",
       "       9.38668544e-01, 2.58547574e-02, 4.46902971e-01, 6.65789128e-01,\n",
       "       1.08333711e-01, 4.68770712e-01, 8.25491962e-01, 9.99244221e-01,\n",
       "       5.69491927e-01, 7.23360412e-01, 3.35882148e-04, 2.48962011e-02,\n",
       "       6.34746964e-01, 5.22732689e-01, 3.08180465e-01, 2.39124751e-01,\n",
       "       2.41520012e-01, 6.03279439e-01, 7.47449902e-01, 8.82884015e-01,\n",
       "       3.96885897e-01, 6.71991528e-01, 6.86809335e-01, 6.28967071e-01,\n",
       "       9.51584710e-01, 7.02865739e-01, 7.08514650e-01, 3.87718065e-01,\n",
       "       4.85596580e-01, 5.79136040e-01, 4.40628004e-02, 5.44535394e-02,\n",
       "       5.11418549e-01, 8.14754846e-01, 3.92490104e-01, 2.82718994e-01,\n",
       "       3.23160948e-01, 7.52700693e-01, 7.09212655e-03, 9.06193831e-01,\n",
       "       9.26144147e-01, 4.61331109e-01, 1.75866028e-01, 3.31366022e-01,\n",
       "       9.84719915e-01, 4.56754405e-01, 8.37789255e-01, 4.84752567e-01,\n",
       "       4.21283808e-01, 7.97290250e-01, 4.67574734e-01, 5.74847673e-01,\n",
       "       8.29308972e-01, 2.05515284e-01, 3.55371250e-01, 3.55427397e-01,\n",
       "       3.04948209e-02, 3.41654842e-01, 7.97939603e-01, 8.80953020e-01,\n",
       "       2.69758640e-01, 9.51689093e-01, 2.42947662e-01, 4.30533263e-01,\n",
       "       7.55312156e-01, 8.06653553e-02, 9.64203081e-01, 7.32900716e-01,\n",
       "       9.02750353e-02, 6.70926102e-01, 2.89960494e-01, 3.22302622e-01,\n",
       "       8.62908443e-01, 6.21806499e-01, 4.48006438e-01, 6.63418824e-01,\n",
       "       4.93647123e-01, 4.74295634e-01, 4.44646301e-01, 4.20650308e-01,\n",
       "       6.16985746e-01, 8.65469910e-01, 7.75201464e-01, 4.54699940e-01,\n",
       "       6.36131018e-01, 1.63703346e-01, 6.00072081e-01, 4.08428277e-01,\n",
       "       9.98636451e-01, 7.94876049e-01, 1.90754932e-01, 5.05891744e-01,\n",
       "       6.66171533e-02, 2.44224306e-01, 6.90386187e-01, 6.55265591e-01,\n",
       "       7.32607946e-01, 6.62519474e-01, 9.54661648e-01, 6.37286644e-01,\n",
       "       4.74080640e-01, 6.64909433e-01, 9.02272473e-01, 1.09962337e-01,\n",
       "       9.30592101e-01, 3.68379425e-01, 2.56977562e-01, 3.90341591e-01,\n",
       "       4.56735934e-01, 6.97951735e-01, 8.05393639e-01, 4.82735938e-01,\n",
       "       8.42592178e-01, 7.47313866e-02, 7.35137755e-03, 4.89678941e-01,\n",
       "       3.21056372e-01, 3.15892706e-01, 2.32983342e-01, 5.32514415e-01,\n",
       "       4.79234763e-01, 7.93613803e-01, 3.13856541e-01, 5.63551444e-01,\n",
       "       9.79469149e-01, 1.31620248e-01, 7.76250092e-01, 4.52802247e-01,\n",
       "       7.23708165e-01, 6.04917205e-01, 4.42893850e-01, 9.87885408e-01,\n",
       "       6.45729148e-01, 7.23990310e-02, 8.35837752e-01, 2.92924536e-01,\n",
       "       5.06798727e-01, 3.91581377e-01, 2.82075966e-01, 4.86025471e-01,\n",
       "       9.78055043e-01, 5.55738660e-01, 3.61117844e-01, 7.05328555e-01,\n",
       "       9.11299388e-01, 4.00235572e-01, 5.32729384e-01, 7.39600671e-01,\n",
       "       4.39379437e-01, 9.85728642e-01, 7.02055898e-01, 1.78117121e-01,\n",
       "       9.86964301e-01, 4.53253187e-01, 2.82981328e-01, 4.58150209e-02,\n",
       "       5.11356428e-01, 5.71828204e-01, 9.96826255e-01, 6.45866972e-01,\n",
       "       1.61789168e-01, 7.11068433e-01, 3.08469891e-02, 4.37785325e-01,\n",
       "       8.16617989e-01, 8.69538872e-02, 1.51289480e-01, 4.34526872e-01,\n",
       "       2.48168654e-01, 4.85134033e-01, 3.96943779e-01, 3.19846286e-01,\n",
       "       5.98291047e-01, 1.95493736e-01, 7.32074899e-01, 7.24338455e-01,\n",
       "       3.03668188e-01, 6.51145215e-02, 2.91612518e-01, 6.63680728e-01,\n",
       "       5.95714876e-01, 3.41244076e-01, 3.35827630e-01, 7.00615195e-01,\n",
       "       8.52106489e-01, 4.51653931e-01, 5.32160624e-01, 1.69927821e-01,\n",
       "       3.53886402e-01, 8.44476734e-01, 7.80075294e-01, 2.99398533e-01,\n",
       "       6.76102860e-01, 7.65807809e-01, 4.53533192e-01, 3.65973634e-01,\n",
       "       7.88072751e-01, 7.90738321e-01, 5.45722020e-01, 7.33448915e-01,\n",
       "       3.30534515e-03, 7.99200491e-01, 6.44797597e-01, 6.99373421e-01,\n",
       "       1.44117116e-01, 2.75365903e-01, 5.77514868e-01, 9.93568330e-01,\n",
       "       9.02312914e-01, 8.29939776e-01, 3.16861466e-01, 9.82016149e-01,\n",
       "       6.90094470e-01, 9.24196969e-01, 2.02418418e-01, 4.14948861e-01,\n",
       "       5.97895606e-01, 1.70062092e-01, 9.83000129e-01, 2.40861946e-01,\n",
       "       7.01838337e-01, 5.64271139e-02, 9.41052974e-02, 7.54211288e-02,\n",
       "       4.13124849e-01, 5.34629502e-01, 2.88078634e-01, 7.40732609e-01,\n",
       "       9.04241757e-01, 4.20703687e-01, 7.59834170e-01, 8.53669415e-01,\n",
       "       5.37359619e-01, 8.00110485e-01, 9.21344608e-01, 5.85524070e-01,\n",
       "       7.51922644e-01, 3.53671291e-01, 3.13427871e-01, 9.14572177e-01,\n",
       "       6.32375815e-02, 6.68610298e-01, 8.43396147e-01, 6.03211897e-01,\n",
       "       3.38656340e-01, 6.90937531e-01, 4.36390611e-01, 4.21828707e-01,\n",
       "       4.71723354e-02, 2.24684045e-01, 3.81137257e-01, 1.74232777e-01,\n",
       "       6.91220271e-01, 6.63190145e-01, 7.01368052e-01, 2.99641488e-01,\n",
       "       2.17503302e-01, 8.38586803e-01, 1.02970968e-01, 8.08192541e-01,\n",
       "       5.60464395e-01, 1.78346197e-01, 4.59552936e-01, 9.39989518e-01,\n",
       "       8.70540988e-01, 9.21241955e-01, 4.33666175e-01, 4.76649870e-01,\n",
       "       2.09702610e-01, 8.89093184e-01, 1.20839513e-01, 6.32982491e-01,\n",
       "       6.14336835e-01, 3.90581953e-01, 4.99794599e-01, 3.92869537e-01,\n",
       "       4.37159406e-01, 9.14286415e-01, 6.55035618e-02, 7.90126114e-02,\n",
       "       8.42498194e-01, 8.17262162e-01, 4.92043921e-01, 8.19907310e-01,\n",
       "       7.10306572e-01, 9.24602151e-02, 9.44942908e-02, 4.70091974e-01,\n",
       "       4.31020019e-01, 7.96061605e-01, 5.62299836e-01, 7.22039441e-01,\n",
       "       2.40825636e-01, 1.48902772e-01, 8.76219247e-01, 9.26132711e-01,\n",
       "       3.72203144e-01, 8.49410292e-01, 8.46866521e-01, 6.49469789e-01,\n",
       "       9.52735187e-01, 7.63306591e-01, 6.98246198e-01, 7.32522180e-01,\n",
       "       7.65424772e-01, 6.71873237e-01, 9.08900502e-01, 2.65842648e-01,\n",
       "       2.40494428e-01, 9.44756685e-01, 7.39849521e-01, 6.96939482e-01,\n",
       "       3.17877647e-01, 4.53418687e-01, 3.23246143e-01, 8.53549357e-01,\n",
       "       5.22922065e-01, 9.00944746e-01, 7.44739586e-01, 3.65912712e-01,\n",
       "       4.10412605e-01, 8.77879767e-02, 8.82946958e-01, 1.20307900e-01,\n",
       "       2.08647920e-02, 8.06188747e-01, 6.35198912e-01, 6.67798284e-02,\n",
       "       5.35738643e-01, 9.46041640e-01, 7.75429932e-01, 5.82285445e-01,\n",
       "       2.25390578e-01, 4.33473035e-01, 7.40894404e-01, 7.99317110e-01,\n",
       "       8.43790790e-01, 8.41871195e-01, 8.71282612e-01, 5.87026431e-01,\n",
       "       9.53654605e-01, 6.40785171e-01, 4.81257640e-01, 1.77182387e-01,\n",
       "       3.29751054e-01, 9.02836743e-01, 3.24205657e-01, 4.85738449e-01,\n",
       "       4.67439071e-01, 6.26661104e-02, 9.78275266e-01, 6.46908741e-02,\n",
       "       3.69725827e-01, 3.59591493e-01, 3.14581318e-02, 7.41624568e-01,\n",
       "       8.00208816e-02, 6.67522817e-01, 8.95806328e-01, 3.70276502e-01,\n",
       "       7.69941181e-01, 9.37765417e-01, 5.24744426e-01, 9.03120580e-01,\n",
       "       2.28267976e-02, 9.01451512e-02, 8.96426161e-01, 4.95201035e-01,\n",
       "       4.18594576e-01, 4.00721506e-01, 5.77818604e-01, 7.01218719e-01,\n",
       "       7.31182347e-02, 5.98102040e-01, 2.39763889e-01, 7.81216772e-01,\n",
       "       6.55995043e-01, 9.29116569e-01, 7.06304180e-01, 3.55960298e-01,\n",
       "       2.98195548e-01, 8.97614703e-01, 4.16796026e-02, 6.55658285e-01,\n",
       "       5.15733640e-01, 8.12136275e-01, 5.62700347e-01, 4.87947811e-01,\n",
       "       9.97796578e-01, 5.77752417e-01, 2.39286322e-01, 2.99629246e-01,\n",
       "       5.50019782e-01, 7.29282615e-01, 3.91785167e-01, 1.94600248e-01,\n",
       "       2.85547179e-01, 4.01167944e-01, 9.40151471e-01, 2.70132478e-01,\n",
       "       8.58073596e-02, 1.88369271e-01, 8.17397779e-01, 2.46443548e-02,\n",
       "       4.07350505e-01, 8.30698897e-01, 2.85139746e-01, 7.80510531e-01,\n",
       "       1.09492372e-01, 9.04048728e-01, 7.25582904e-02, 5.93738986e-01,\n",
       "       9.01036945e-01, 4.40067163e-01, 4.74323317e-01, 2.14754285e-01,\n",
       "       2.92228148e-01, 4.74166248e-01, 9.29766545e-02, 1.95109146e-01,\n",
       "       6.68476742e-01, 8.67942426e-01, 1.62238877e-01, 7.93581362e-02,\n",
       "       7.61480843e-03, 9.57195741e-01, 6.68336283e-01, 1.69772010e-01,\n",
       "       7.38094706e-02, 7.62981339e-02, 6.84558963e-01, 6.91557257e-01,\n",
       "       9.85880263e-01, 4.79070929e-02, 8.58545891e-01, 9.76753988e-01,\n",
       "       3.77524404e-01, 1.27784669e-01, 3.91534243e-01, 7.60937479e-01,\n",
       "       8.91873948e-01, 8.07806672e-01, 6.12810896e-01, 9.49532197e-01,\n",
       "       9.65130147e-01, 6.95378384e-02, 7.37304879e-01, 2.06515467e-01,\n",
       "       8.33159115e-01, 1.09143546e-02, 1.86551203e-02, 2.49485883e-01,\n",
       "       6.10773525e-01, 2.12240554e-01, 2.36984294e-01, 3.54800530e-01,\n",
       "       3.41094872e-01, 9.78634354e-01, 8.15986946e-01, 2.08844869e-01,\n",
       "       7.53047531e-01, 8.50358138e-01, 2.46397669e-01, 5.23563018e-01,\n",
       "       4.51581878e-01, 2.55621733e-02, 4.18671068e-01, 9.76904958e-01,\n",
       "       8.72788972e-02, 9.30410683e-01, 5.65797501e-02, 3.51129050e-01,\n",
       "       6.52669662e-01, 3.02948581e-01, 1.99576608e-02, 4.37264938e-01,\n",
       "       7.96116055e-01, 7.59625001e-01, 5.46097767e-01, 9.43309607e-02,\n",
       "       7.58377354e-01, 7.27231801e-02, 1.26106600e-01, 1.58819868e-01,\n",
       "       6.19010027e-01, 9.21969701e-01, 1.18513226e-01, 7.92419266e-02,\n",
       "       5.96027225e-01, 9.31733908e-01, 8.06654716e-01, 6.33230642e-01,\n",
       "       3.91432598e-01, 5.10045796e-01, 1.60016813e-02, 2.55086190e-01,\n",
       "       3.07122158e-01, 6.56399953e-01, 8.76764776e-02, 3.53565323e-01,\n",
       "       2.88044222e-01, 6.53317522e-01, 4.74056150e-02, 7.57148156e-01,\n",
       "       4.48136645e-02, 2.60296448e-01, 7.41774453e-01, 6.59851815e-01,\n",
       "       6.73603386e-01, 4.84775660e-01, 5.77606672e-01, 1.89779281e-01,\n",
       "       1.79950557e-02, 6.40675796e-01, 9.60167795e-01, 4.32837409e-01,\n",
       "       2.12796507e-01, 7.64205425e-01, 2.98606775e-01, 9.06096960e-01,\n",
       "       9.00980242e-01, 4.10496423e-01, 3.36170151e-01, 3.08128657e-01,\n",
       "       8.64968689e-01, 4.17691271e-01, 9.72650100e-01, 8.60410656e-01,\n",
       "       5.27025299e-01, 7.74105553e-01, 3.65967627e-01, 8.03872872e-01,\n",
       "       7.48510038e-01, 3.03167939e-01, 5.51367708e-01, 6.64666154e-01,\n",
       "       2.58528706e-01, 9.40470450e-01, 2.40754486e-01, 4.11503560e-01,\n",
       "       4.11845717e-02, 2.71438154e-01, 8.49196636e-01, 8.33410941e-01,\n",
       "       6.00743941e-01, 9.74485656e-01, 7.89857695e-01, 4.03065045e-01,\n",
       "       9.30464942e-01, 1.91978689e-01, 2.34227755e-01, 5.78231443e-01,\n",
       "       9.24777963e-01, 5.52204856e-01, 3.35772101e-01, 9.65785301e-01,\n",
       "       9.13248693e-01, 3.95885507e-01, 2.13037268e-01, 9.32014685e-01,\n",
       "       1.73060008e-01, 2.13648069e-01, 8.41555233e-01, 1.11594622e-01,\n",
       "       6.68801414e-02, 9.74114376e-01, 8.29309455e-01, 3.66236677e-01,\n",
       "       9.11343513e-01, 2.69341578e-01, 4.63973090e-02, 8.40996420e-01,\n",
       "       1.68148999e-01, 8.91364050e-01, 2.02396048e-01, 3.60705564e-01,\n",
       "       6.64789871e-01, 3.16581366e-01, 8.25614883e-01, 4.98971880e-01,\n",
       "       3.24063604e-01, 9.28856034e-01, 7.00871679e-01, 5.32788148e-01,\n",
       "       5.71238991e-01, 6.44380704e-01, 1.24339555e-01, 9.55323796e-01,\n",
       "       3.70333603e-01, 7.85866924e-01, 1.33885524e-01, 1.11516048e-01,\n",
       "       3.00532429e-01, 5.74380669e-01, 6.54823747e-01, 2.31915894e-01,\n",
       "       7.85527381e-01, 9.04009924e-01, 3.20230415e-01, 2.31559497e-01,\n",
       "       2.13579666e-01, 7.18066623e-01, 9.91488873e-01, 9.48659906e-01,\n",
       "       5.97480145e-01, 3.58633828e-01, 5.33745775e-01, 9.39971746e-01,\n",
       "       6.26441085e-01, 9.86141699e-01, 4.44291245e-01, 1.28287673e-01,\n",
       "       7.83850384e-01, 6.24595606e-01, 4.19096848e-01, 1.98405161e-01,\n",
       "       5.21380991e-03, 8.41800922e-01, 6.92585717e-01, 1.13274579e-01,\n",
       "       9.41389492e-02, 8.52271527e-01, 2.97252159e-01, 8.52128977e-01,\n",
       "       7.73422366e-01, 4.16236783e-01, 5.48043673e-01, 2.92564296e-02,\n",
       "       8.56210616e-01, 1.87287660e-01, 2.19472116e-01, 9.78167608e-01,\n",
       "       1.00232183e-01, 1.47661618e-01, 4.10511383e-01, 1.81489882e-01,\n",
       "       6.60146097e-01, 6.65178786e-01, 8.03524736e-01, 4.47165913e-01,\n",
       "       6.92886265e-01, 5.68883095e-01, 1.68327550e-01, 4.16818807e-01,\n",
       "       6.17055898e-01, 8.87074217e-01, 6.99362556e-01, 8.26828736e-01,\n",
       "       3.02700029e-02, 9.11500025e-01, 6.70325301e-01, 4.22223411e-01,\n",
       "       2.01800865e-01, 7.43408803e-02, 8.70493070e-01, 9.46781733e-01,\n",
       "       8.80517881e-01, 2.39470866e-01, 3.25794701e-01, 8.01823288e-01,\n",
       "       9.81486682e-01, 9.39919131e-01, 1.39712170e-01, 6.34120143e-01,\n",
       "       5.80226015e-01, 9.44057940e-01, 4.46353105e-01, 8.19022948e-01,\n",
       "       2.26908005e-01, 4.50412973e-02, 7.74569875e-01, 1.88513605e-01,\n",
       "       1.27702942e-02, 3.98029336e-01, 2.69899855e-01, 3.10336234e-01,\n",
       "       2.36842565e-01, 4.33565166e-01, 5.01203549e-01, 7.98268357e-01,\n",
       "       3.11554348e-01, 9.53011930e-01, 7.22324780e-01, 1.95309483e-01,\n",
       "       4.98025118e-01, 5.07151116e-01, 5.35124796e-01, 4.38156398e-01,\n",
       "       9.91514117e-01, 2.91521809e-01, 7.90002286e-02, 6.69089279e-01,\n",
       "       4.24821560e-01, 8.74656734e-01, 1.32523537e-01, 5.35709343e-01,\n",
       "       1.12953113e-01, 2.95106981e-01, 1.66339525e-01, 7.35951350e-03,\n",
       "       5.06895828e-01, 9.51299642e-01, 5.36331668e-01, 9.85918259e-01,\n",
       "       5.31872634e-01, 8.59908508e-01, 7.85125169e-01, 9.25438060e-01,\n",
       "       4.98915588e-01, 6.11102561e-01, 5.13827133e-01, 4.67284792e-01,\n",
       "       8.83259332e-01, 1.06573218e-01, 5.62459319e-01, 2.88974685e-01,\n",
       "       7.10461502e-01, 8.35456122e-01, 1.82281576e-02, 1.93526281e-01,\n",
       "       3.13176108e-01, 4.90719516e-01, 4.68847199e-01, 5.67228697e-01,\n",
       "       3.02005969e-01, 5.32620007e-01, 8.08882263e-02, 8.96795813e-01,\n",
       "       1.92336388e-01, 3.97312717e-01, 6.16647990e-01, 8.58023194e-01,\n",
       "       3.25965472e-01, 6.34184664e-01, 5.36692656e-02, 5.58766516e-03,\n",
       "       6.58531793e-01, 5.13952958e-01, 5.66628395e-01, 6.87921439e-01,\n",
       "       6.88168907e-01, 6.92821161e-01, 3.59528623e-01, 2.55597837e-01,\n",
       "       3.60822102e-01, 6.92439206e-01, 8.56515676e-01, 9.06299280e-01,\n",
       "       9.13109949e-01, 8.83493302e-01, 2.79524393e-02, 6.90547282e-01,\n",
       "       2.24665999e-01, 3.33380765e-01, 8.82879174e-01, 5.19431376e-02,\n",
       "       7.96209800e-01, 6.89547659e-01, 1.59847102e-01, 7.44940245e-01,\n",
       "       4.02307029e-01, 8.03316773e-01, 2.88566301e-01, 1.22105685e-03,\n",
       "       1.66327376e-01, 1.65222968e-01, 8.53575298e-01, 5.03071118e-01,\n",
       "       9.12886987e-01, 1.08115164e-01, 6.02861457e-01, 5.75211795e-01,\n",
       "       9.10369880e-01, 3.49621478e-01, 6.17839619e-01, 6.67031249e-01,\n",
       "       6.00984701e-02, 8.15814017e-02, 2.04756879e-01, 5.49701619e-01,\n",
       "       8.49033610e-01, 8.80470844e-01, 2.12587444e-01, 8.02104275e-01,\n",
       "       6.72822805e-01, 3.05517532e-01, 7.82809819e-01, 7.88291902e-01,\n",
       "       6.95600911e-01, 7.55051546e-01, 5.86354561e-01, 7.85508323e-01,\n",
       "       8.56647120e-01, 9.65707274e-01, 8.53483926e-02, 9.99746650e-01,\n",
       "       7.59851351e-01, 3.25254968e-01, 3.89639801e-01, 6.78882086e-01,\n",
       "       3.11647206e-01, 2.40808623e-01, 5.93199679e-01, 2.65426554e-01,\n",
       "       2.32182762e-01, 9.40910371e-01, 7.30164219e-01, 9.31172589e-01,\n",
       "       7.63865706e-01, 8.91688002e-01, 1.47923536e-02, 8.83751152e-02,\n",
       "       6.61911548e-02, 8.62115087e-01, 7.56223452e-01, 1.77456088e-02,\n",
       "       8.24542124e-01, 5.98324536e-01, 2.66414968e-01, 6.05484843e-01,\n",
       "       9.25649691e-01, 2.57482940e-01, 7.84396281e-01, 9.86224060e-01,\n",
       "       4.71070672e-01, 4.71482732e-01, 3.04083938e-01, 2.42752342e-01,\n",
       "       6.08977288e-01, 7.18291596e-01, 2.46514972e-01, 8.53707675e-01,\n",
       "       2.87805408e-01, 2.43740846e-01, 3.94303839e-01, 4.97829666e-01,\n",
       "       8.74699603e-01, 7.21511943e-01, 9.95540947e-02, 6.34140682e-01])"
      ]
     },
     "execution_count": 4,
     "metadata": {},
     "output_type": "execute_result"
    }
   ],
   "source": [
    "# np.reshape  - makes a dimensional array\n",
    "# np.random.rand?\n",
    "import numpy as np\n",
    "g = np.random.rand(1000)\n",
    "g"
   ]
  },
  {
   "cell_type": "code",
   "execution_count": 5,
   "id": "059be0ff-e5d5-4d63-84a1-b2eacafa94f4",
   "metadata": {},
   "outputs": [
    {
     "data": {
      "text/plain": [
       "(array([15., 12., 11.,  3., 10.,  9., 10., 14., 12.,  9.,  7.,  7.,  6.,\n",
       "         8.,  4.,  5., 14.,  6.,  7., 10., 10., 13.,  7., 12., 16.,  7.,\n",
       "         9.,  6., 11., 13., 11., 11., 11.,  8.,  7., 11., 12.,  6.,  4.,\n",
       "        16.,  7., 12.,  9., 17., 10., 11.,  7., 12., 12., 10.,  8.,  7.,\n",
       "         6., 14.,  6.,  6., 13., 17.,  7.,  9.,  9., 12.,  4., 11.,  8.,\n",
       "        13., 16.,  9.,  7., 17., 13.,  5.,  8., 11., 11., 13.,  9.,  9.,\n",
       "        15., 12., 12.,  8.,  8.,  9., 13., 13.,  8.,  6., 10.,  8., 15.,\n",
       "        10., 14., 12., 12., 11.,  7., 10., 12., 10.]),\n",
       " array([3.35882148e-04, 1.03299898e-02, 2.03240975e-02, 3.03182052e-02,\n",
       "        4.03123128e-02, 5.03064205e-02, 6.03005282e-02, 7.02946359e-02,\n",
       "        8.02887435e-02, 9.02828512e-02, 1.00276959e-01, 1.10271067e-01,\n",
       "        1.20265174e-01, 1.30259282e-01, 1.40253390e-01, 1.50247497e-01,\n",
       "        1.60241605e-01, 1.70235713e-01, 1.80229820e-01, 1.90223928e-01,\n",
       "        2.00218036e-01, 2.10212143e-01, 2.20206251e-01, 2.30200359e-01,\n",
       "        2.40194466e-01, 2.50188574e-01, 2.60182682e-01, 2.70176789e-01,\n",
       "        2.80170897e-01, 2.90165005e-01, 3.00159112e-01, 3.10153220e-01,\n",
       "        3.20147328e-01, 3.30141435e-01, 3.40135543e-01, 3.50129651e-01,\n",
       "        3.60123758e-01, 3.70117866e-01, 3.80111974e-01, 3.90106081e-01,\n",
       "        4.00100189e-01, 4.10094297e-01, 4.20088404e-01, 4.30082512e-01,\n",
       "        4.40076620e-01, 4.50070728e-01, 4.60064835e-01, 4.70058943e-01,\n",
       "        4.80053051e-01, 4.90047158e-01, 5.00041266e-01, 5.10035374e-01,\n",
       "        5.20029481e-01, 5.30023589e-01, 5.40017697e-01, 5.50011804e-01,\n",
       "        5.60005912e-01, 5.70000020e-01, 5.79994127e-01, 5.89988235e-01,\n",
       "        5.99982343e-01, 6.09976450e-01, 6.19970558e-01, 6.29964666e-01,\n",
       "        6.39958773e-01, 6.49952881e-01, 6.59946989e-01, 6.69941096e-01,\n",
       "        6.79935204e-01, 6.89929312e-01, 6.99923419e-01, 7.09917527e-01,\n",
       "        7.19911635e-01, 7.29905742e-01, 7.39899850e-01, 7.49893958e-01,\n",
       "        7.59888065e-01, 7.69882173e-01, 7.79876281e-01, 7.89870388e-01,\n",
       "        7.99864496e-01, 8.09858604e-01, 8.19852711e-01, 8.29846819e-01,\n",
       "        8.39840927e-01, 8.49835034e-01, 8.59829142e-01, 8.69823250e-01,\n",
       "        8.79817358e-01, 8.89811465e-01, 8.99805573e-01, 9.09799681e-01,\n",
       "        9.19793788e-01, 9.29787896e-01, 9.39782004e-01, 9.49776111e-01,\n",
       "        9.59770219e-01, 9.69764327e-01, 9.79758434e-01, 9.89752542e-01,\n",
       "        9.99746650e-01]),\n",
       " <BarContainer object of 100 artists>)"
      ]
     },
     "execution_count": 5,
     "metadata": {},
     "output_type": "execute_result"
    },
    {
     "data": {
      "image/png": "[encoded data removed]",
      "text/plain": [
       "<Figure size 640x480 with 1 Axes>"
      ]
     },
     "metadata": {},
     "output_type": "display_data"
    }
   ],
   "source": [
    "import matplotlib.pyplot as plt\n",
    "plt.hist(g,bins=100)"
   ]
  },
  {
   "cell_type": "code",
   "execution_count": null,
   "id": "f0051294-8477-4726-af68-d4b0e5aea301",
   "metadata": {},
   "outputs": [],
   "source": [
    "pip install matplotlib"
   ]
  },
  {
   "cell_type": "code",
   "execution_count": 6,
   "id": "a4525ac5-a4ad-4508-9d35-bf3ca8cac591",
   "metadata": {},
   "outputs": [
    {
     "data": {
      "text/plain": [
       "(array([1.000e+00, 0.000e+00, 0.000e+00, 0.000e+00, 0.000e+00, 0.000e+00,\n",
       "        0.000e+00, 1.000e+00, 1.000e+00, 0.000e+00, 0.000e+00, 2.000e+00,\n",
       "        1.000e+00, 3.000e+00, 0.000e+00, 5.000e+00, 3.000e+00, 2.000e+00,\n",
       "        8.000e+00, 2.000e+00, 3.000e+00, 6.000e+00, 6.000e+00, 1.000e+01,\n",
       "        1.100e+01, 2.000e+01, 1.100e+01, 1.400e+01, 2.500e+01, 2.000e+01,\n",
       "        1.400e+01, 2.700e+01, 2.800e+01, 2.700e+01, 4.600e+01, 4.600e+01,\n",
       "        5.300e+01, 5.800e+01, 6.200e+01, 7.100e+01, 6.600e+01, 8.400e+01,\n",
       "        1.090e+02, 1.040e+02, 1.190e+02, 1.160e+02, 1.350e+02, 1.600e+02,\n",
       "        1.720e+02, 1.940e+02, 1.970e+02, 2.260e+02, 2.440e+02, 2.580e+02,\n",
       "        2.330e+02, 3.290e+02, 3.480e+02, 3.870e+02, 3.840e+02, 4.170e+02,\n",
       "        4.480e+02, 5.010e+02, 5.430e+02, 5.620e+02, 5.660e+02, 6.030e+02,\n",
       "        6.530e+02, 7.530e+02, 7.590e+02, 8.340e+02, 8.290e+02, 9.150e+02,\n",
       "        9.490e+02, 1.016e+03, 1.032e+03, 1.066e+03, 1.084e+03, 1.188e+03,\n",
       "        1.200e+03, 1.270e+03, 1.297e+03, 1.363e+03, 1.396e+03, 1.452e+03,\n",
       "        1.452e+03, 1.531e+03, 1.564e+03, 1.631e+03, 1.626e+03, 1.654e+03,\n",
       "        1.666e+03, 1.694e+03, 1.838e+03, 1.667e+03, 1.639e+03, 1.725e+03,\n",
       "        1.752e+03, 1.724e+03, 1.802e+03, 1.736e+03, 1.753e+03, 1.718e+03,\n",
       "        1.724e+03, 1.768e+03, 1.713e+03, 1.600e+03, 1.622e+03, 1.599e+03,\n",
       "        1.546e+03, 1.544e+03, 1.506e+03, 1.492e+03, 1.408e+03, 1.320e+03,\n",
       "        1.348e+03, 1.282e+03, 1.237e+03, 1.152e+03, 1.184e+03, 1.156e+03,\n",
       "        9.800e+02, 1.064e+03, 9.540e+02, 9.220e+02, 8.590e+02, 8.420e+02,\n",
       "        7.590e+02, 7.780e+02, 6.980e+02, 7.220e+02, 6.290e+02, 5.780e+02,\n",
       "        5.880e+02, 5.420e+02, 4.750e+02, 4.150e+02, 4.250e+02, 3.800e+02,\n",
       "        3.500e+02, 3.390e+02, 2.990e+02, 2.840e+02, 2.310e+02, 2.390e+02,\n",
       "        2.020e+02, 1.750e+02, 1.750e+02, 1.730e+02, 1.530e+02, 1.290e+02,\n",
       "        1.330e+02, 1.160e+02, 9.600e+01, 8.400e+01, 8.100e+01, 8.200e+01,\n",
       "        5.100e+01, 5.900e+01, 4.800e+01, 4.700e+01, 4.200e+01, 4.600e+01,\n",
       "        4.100e+01, 3.400e+01, 1.900e+01, 2.200e+01, 1.600e+01, 1.400e+01,\n",
       "        1.100e+01, 1.800e+01, 1.200e+01, 1.200e+01, 5.000e+00, 6.000e+00,\n",
       "        4.000e+00, 4.000e+00, 0.000e+00, 2.000e+00, 4.000e+00, 2.000e+00,\n",
       "        1.000e+00, 1.000e+00, 3.000e+00, 2.000e+00, 0.000e+00, 1.000e+00,\n",
       "        0.000e+00, 0.000e+00, 0.000e+00, 0.000e+00, 0.000e+00, 0.000e+00,\n",
       "        0.000e+00, 0.000e+00, 0.000e+00, 0.000e+00, 0.000e+00, 0.000e+00,\n",
       "        0.000e+00, 1.000e+00]),\n",
       " array([-4.29555872, -4.25162526, -4.20769179, -4.16375833, -4.11982486,\n",
       "        -4.07589139, -4.03195793, -3.98802446, -3.94409099, -3.90015753,\n",
       "        -3.85622406, -3.81229059, -3.76835713, -3.72442366, -3.6804902 ,\n",
       "        -3.63655673, -3.59262326, -3.5486898 , -3.50475633, -3.46082286,\n",
       "        -3.4168894 , -3.37295593, -3.32902247, -3.285089  , -3.24115553,\n",
       "        -3.19722207, -3.1532886 , -3.10935513, -3.06542167, -3.0214882 ,\n",
       "        -2.97755474, -2.93362127, -2.8896878 , -2.84575434, -2.80182087,\n",
       "        -2.7578874 , -2.71395394, -2.67002047, -2.62608701, -2.58215354,\n",
       "        -2.53822007, -2.49428661, -2.45035314, -2.40641967, -2.36248621,\n",
       "        -2.31855274, -2.27461928, -2.23068581, -2.18675234, -2.14281888,\n",
       "        -2.09888541, -2.05495194, -2.01101848, -1.96708501, -1.92315155,\n",
       "        -1.87921808, -1.83528461, -1.79135115, -1.74741768, -1.70348421,\n",
       "        -1.65955075, -1.61561728, -1.57168381, -1.52775035, -1.48381688,\n",
       "        -1.43988342, -1.39594995, -1.35201648, -1.30808302, -1.26414955,\n",
       "        -1.22021608, -1.17628262, -1.13234915, -1.08841569, -1.04448222,\n",
       "        -1.00054875, -0.95661529, -0.91268182, -0.86874835, -0.82481489,\n",
       "        -0.78088142, -0.73694796, -0.69301449, -0.64908102, -0.60514756,\n",
       "        -0.56121409, -0.51728062, -0.47334716, -0.42941369, -0.38548023,\n",
       "        -0.34154676, -0.29761329, -0.25367983, -0.20974636, -0.16581289,\n",
       "        -0.12187943, -0.07794596, -0.0340125 ,  0.00992097,  0.05385444,\n",
       "         0.0977879 ,  0.14172137,  0.18565484,  0.2295883 ,  0.27352177,\n",
       "         0.31745523,  0.3613887 ,  0.40532217,  0.44925563,  0.4931891 ,\n",
       "         0.53712257,  0.58105603,  0.6249895 ,  0.66892297,  0.71285643,\n",
       "         0.7567899 ,  0.80072336,  0.84465683,  0.8885903 ,  0.93252376,\n",
       "         0.97645723,  1.0203907 ,  1.06432416,  1.10825763,  1.15219109,\n",
       "         1.19612456,  1.24005803,  1.28399149,  1.32792496,  1.37185843,\n",
       "         1.41579189,  1.45972536,  1.50365882,  1.54759229,  1.59152576,\n",
       "         1.63545922,  1.67939269,  1.72332616,  1.76725962,  1.81119309,\n",
       "         1.85512655,  1.89906002,  1.94299349,  1.98692695,  2.03086042,\n",
       "         2.07479389,  2.11872735,  2.16266082,  2.20659428,  2.25052775,\n",
       "         2.29446122,  2.33839468,  2.38232815,  2.42626162,  2.47019508,\n",
       "         2.51412855,  2.55806201,  2.60199548,  2.64592895,  2.68986241,\n",
       "         2.73379588,  2.77772935,  2.82166281,  2.86559628,  2.90952975,\n",
       "         2.95346321,  2.99739668,  3.04133014,  3.08526361,  3.12919708,\n",
       "         3.17313054,  3.21706401,  3.26099748,  3.30493094,  3.34886441,\n",
       "         3.39279787,  3.43673134,  3.48066481,  3.52459827,  3.56853174,\n",
       "         3.61246521,  3.65639867,  3.70033214,  3.7442656 ,  3.78819907,\n",
       "         3.83213254,  3.876066  ,  3.91999947,  3.96393294,  4.0078664 ,\n",
       "         4.05179987,  4.09573333,  4.1396668 ,  4.18360027,  4.22753373,\n",
       "         4.2714672 ,  4.31540067,  4.35933413,  4.4032676 ,  4.44720106,\n",
       "         4.49113453]),\n",
       " <BarContainer object of 200 artists>)"
      ]
     },
     "execution_count": 6,
     "metadata": {},
     "output_type": "execute_result"
    },
    {
     "data": {
      "image/png": "[encoded data removed]",
      "text/plain": [
       "<Figure size 640x480 with 1 Axes>"
      ]
     },
     "metadata": {},
     "output_type": "display_data"
    }
   ],
   "source": [
    "h = np.random.randn(100000)\n",
    "plt.hist(h,bins=200)"
   ]
  },
  {
   "cell_type": "code",
   "execution_count": 98,
   "id": "5bbd685b-b321-49ec-8be2-c0aee144f50d",
   "metadata": {},
   "outputs": [
    {
     "name": "stdout",
     "output_type": "stream",
     "text": [
      "[[[[0.75333885 0.36260516]\n",
      "   [0.54730524 0.9834652 ]\n",
      "   [0.83497599 0.38740632]\n",
      "   [0.05584905 0.68675807]]\n",
      "\n",
      "  [[0.03656717 0.33515233]\n",
      "   [0.05620265 0.34289188]\n",
      "   [0.13268458 0.50189834]\n",
      "   [0.21107279 0.29003884]]\n",
      "\n",
      "  [[0.96451237 0.31157859]\n",
      "   [0.58915169 0.65534427]\n",
      "   [0.58438227 0.8693606 ]\n",
      "   [0.41105513 0.07492838]]]\n",
      "\n",
      "\n",
      " [[[0.15607346 0.6148239 ]\n",
      "   [0.66948964 0.25304059]\n",
      "   [0.33023204 0.01803297]\n",
      "   [0.42945981 0.91200575]]\n",
      "\n",
      "  [[0.86983911 0.51966837]\n",
      "   [0.66065411 0.96501629]\n",
      "   [0.0657473  0.73590332]\n",
      "   [0.32665806 0.40793474]]\n",
      "\n",
      "  [[0.98347395 0.3749785 ]\n",
      "   [0.09291715 0.38476232]\n",
      "   [0.71655757 0.8474563 ]\n",
      "   [0.90891389 0.50295672]]]]\n"
     ]
    }
   ],
   "source": [
    "# i = np.random.rand(2,3) # returns a 2 dimensional array\n",
    "i = np.random.rand(2,3,4,2) # returns a 4 dimensional array\n",
    "i.ndim\n",
    "print(i)"
   ]
  },
  {
   "cell_type": "code",
   "execution_count": 101,
   "id": "57c54344-3516-4552-9883-1858e0207d41",
   "metadata": {},
   "outputs": [
    {
     "data": {
      "text/plain": [
       "(4, 5, 5)"
      ]
     },
     "execution_count": 101,
     "metadata": {},
     "output_type": "execute_result"
    }
   ],
   "source": [
    "# j = np.arange(100).reshape(4,25)\n",
    "j = np.arange(100).reshape(4,5,5)\n",
    "j.shape"
   ]
  },
  {
   "cell_type": "code",
   "execution_count": 103,
   "id": "969ec206-b5e1-4387-b744-6a451bcab53f",
   "metadata": {},
   "outputs": [
    {
     "data": {
      "text/plain": [
       "\u001b[0;31mSignature:\u001b[0m \u001b[0mnp\u001b[0m\u001b[0;34m.\u001b[0m\u001b[0mones\u001b[0m\u001b[0;34m(\u001b[0m\u001b[0mshape\u001b[0m\u001b[0;34m,\u001b[0m \u001b[0mdtype\u001b[0m\u001b[0;34m=\u001b[0m\u001b[0;32mNone\u001b[0m\u001b[0;34m,\u001b[0m \u001b[0morder\u001b[0m\u001b[0;34m=\u001b[0m\u001b[0;34m'C'\u001b[0m\u001b[0;34m,\u001b[0m \u001b[0;34m*\u001b[0m\u001b[0;34m,\u001b[0m \u001b[0mlike\u001b[0m\u001b[0;34m=\u001b[0m\u001b[0;32mNone\u001b[0m\u001b[0;34m)\u001b[0m\u001b[0;34m\u001b[0m\u001b[0;34m\u001b[0m\u001b[0m\n",
       "\u001b[0;31mDocstring:\u001b[0m\n",
       "Return a new array of given shape and type, filled with ones.\n",
       "\n",
       "Parameters\n",
       "----------\n",
       "shape : int or sequence of ints\n",
       "    Shape of the new array, e.g., ``(2, 3)`` or ``2``.\n",
       "dtype : data-type, optional\n",
       "    The desired data-type for the array, e.g., `numpy.int8`.  Default is\n",
       "    `numpy.float64`.\n",
       "order : {'C', 'F'}, optional, default: C\n",
       "    Whether to store multi-dimensional data in row-major\n",
       "    (C-style) or column-major (Fortran-style) order in\n",
       "    memory.\n",
       "like : array_like, optional\n",
       "    Reference object to allow the creation of arrays which are not\n",
       "    NumPy arrays. If an array-like passed in as ``like`` supports\n",
       "    the ``__array_function__`` protocol, the result will be defined\n",
       "    by it. In this case, it ensures the creation of an array object\n",
       "    compatible with that passed in via this argument.\n",
       "\n",
       "    .. versionadded:: 1.20.0\n",
       "\n",
       "Returns\n",
       "-------\n",
       "out : ndarray\n",
       "    Array of ones with the given shape, dtype, and order.\n",
       "\n",
       "See Also\n",
       "--------\n",
       "ones_like : Return an array of ones with shape and type of input.\n",
       "empty : Return a new uninitialized array.\n",
       "zeros : Return a new array setting values to zero.\n",
       "full : Return a new array of given shape filled with value.\n",
       "\n",
       "\n",
       "Examples\n",
       "--------\n",
       ">>> np.ones(5)\n",
       "array([1., 1., 1., 1., 1.])\n",
       "\n",
       ">>> np.ones((5,), dtype=int)\n",
       "array([1, 1, 1, 1, 1])\n",
       "\n",
       ">>> np.ones((2, 1))\n",
       "array([[1.],\n",
       "       [1.]])\n",
       "\n",
       ">>> s = (2,2)\n",
       ">>> np.ones(s)\n",
       "array([[1.,  1.],\n",
       "       [1.,  1.]])\n",
       "\u001b[0;31mFile:\u001b[0m      /usr/local/lib/python3.12/site-packages/numpy/core/numeric.py\n",
       "\u001b[0;31mType:\u001b[0m      function"
      ]
     },
     "metadata": {},
     "output_type": "display_data"
    }
   ],
   "source": [
    "# np.zeros? # returns an array of given shape and type, filled with zeros\n",
    "np.ones? # Return an array of given shape and type, filled with ones."
   ]
  },
  {
   "cell_type": "code",
   "execution_count": 104,
   "id": "d9394c39-e9ac-49c6-9c5e-273cccb66b4b",
   "metadata": {},
   "outputs": [],
   "source": [
    "# Numpy (slicing) A[start:end:step]\n",
    "# a[1:5] index 1 till 5 but not 5\n",
    "# a[:5]  index 0 till 5 but not 5\n",
    "# a[2:]  index 2 till end including last element\n",
    "# a[::-1] from end till start (reverse the array)\n",
    "# a[::2]  from start till end every other element\n",
    "a = np.arange(100)"
   ]
  },
  {
   "cell_type": "code",
   "execution_count": 105,
   "id": "e44a190c-90d9-487a-aa71-628120b7ec7d",
   "metadata": {},
   "outputs": [
    {
     "name": "stdout",
     "output_type": "stream",
     "text": [
      "[3 4 5 6 7 8 9]\n"
     ]
    }
   ],
   "source": [
    "b = a[3:10]\n",
    "print(b)"
   ]
  },
  {
   "cell_type": "code",
   "execution_count": 106,
   "id": "175b16ca-0f6c-4e16-9aeb-fb9357dd551c",
   "metadata": {},
   "outputs": [],
   "source": [
    "b[0] = -1200"
   ]
  },
  {
   "cell_type": "code",
   "execution_count": 107,
   "id": "8f13a85c-c7ca-49cd-a091-0f21a92f20b6",
   "metadata": {},
   "outputs": [
    {
     "data": {
      "text/plain": [
       "array([-1200,     4,     5,     6,     7,     8,     9])"
      ]
     },
     "execution_count": 107,
     "metadata": {},
     "output_type": "execute_result"
    }
   ],
   "source": [
    "b"
   ]
  },
  {
   "cell_type": "code",
   "execution_count": 108,
   "id": "a75bb49e-1aa5-4404-939e-67ce6ebbac6b",
   "metadata": {},
   "outputs": [
    {
     "data": {
      "text/plain": [
       "array([    0,     1,     2, -1200,     4,     5,     6,     7,     8,\n",
       "           9,    10,    11,    12,    13,    14,    15,    16,    17,\n",
       "          18,    19,    20,    21,    22,    23,    24,    25,    26,\n",
       "          27,    28,    29,    30,    31,    32,    33,    34,    35,\n",
       "          36,    37,    38,    39,    40,    41,    42,    43,    44,\n",
       "          45,    46,    47,    48,    49,    50,    51,    52,    53,\n",
       "          54,    55,    56,    57,    58,    59,    60,    61,    62,\n",
       "          63,    64,    65,    66,    67,    68,    69,    70,    71,\n",
       "          72,    73,    74,    75,    76,    77,    78,    79,    80,\n",
       "          81,    82,    83,    84,    85,    86,    87,    88,    89,\n",
       "          90,    91,    92,    93,    94,    95,    96,    97,    98,\n",
       "          99])"
      ]
     },
     "execution_count": 108,
     "metadata": {},
     "output_type": "execute_result"
    }
   ],
   "source": [
    "a"
   ]
  },
  {
   "cell_type": "code",
   "execution_count": 109,
   "id": "1c3cc8f7-711e-4876-b7aa-3bc2a4c25e46",
   "metadata": {},
   "outputs": [],
   "source": [
    "b = a[3:10].copy()"
   ]
  },
  {
   "cell_type": "code",
   "execution_count": 110,
   "id": "bd0cb7b9-0027-4af0-9f5d-4dcffdcbfc92",
   "metadata": {},
   "outputs": [
    {
     "data": {
      "text/plain": [
       "array([-1200,     4,     5,     6,     7,     8,     9])"
      ]
     },
     "execution_count": 110,
     "metadata": {},
     "output_type": "execute_result"
    }
   ],
   "source": []
  },
  {
   "cell_type": "code",
   "execution_count": 114,
   "id": "feded098-2d42-4730-8173-88d240a21d9a",
   "metadata": {},
   "outputs": [
    {
     "data": {
      "text/plain": [
       "array([99, 94, 89, 84, 79, 74, 69, 64, 59, 54, 49, 44, 39, 34, 29, 24, 19,\n",
       "       14,  9,  4])"
      ]
     },
     "execution_count": 114,
     "metadata": {},
     "output_type": "execute_result"
    }
   ],
   "source": [
    "a[::5] # returns elements arranged by skipping a step 5\n",
    "a[::-5] # returns a reverse array of elements of step 5"
   ]
  },
  {
   "cell_type": "code",
   "execution_count": 120,
   "id": "c8d12711-7790-44e5-aa5d-981dba9235d4",
   "metadata": {},
   "outputs": [
    {
     "name": "stdout",
     "output_type": "stream",
     "text": [
      "3\n"
     ]
    }
   ],
   "source": [
    "# finds the index of a particular element in an array\n",
    "idx = np.argwhere(a==-1200)[0][0]\n",
    "print(idx)"
   ]
  },
  {
   "cell_type": "code",
   "execution_count": 122,
   "id": "fb711770-7d8d-4a89-9893-3b4be0a22f58",
   "metadata": {},
   "outputs": [
    {
     "name": "stdout",
     "output_type": "stream",
     "text": [
      "[ 0  1  2  3  4  5  6  7  8  9 10 11 12 13 14 15 16 17 18 19 20 21 22 23\n",
      " 24 25 26 27 28 29 30 31 32 33 34 35 36 37 38 39 40 41 42 43 44 45 46 47\n",
      " 48 49 50 51 52 53 54 55 56 57 58 59 60 61 62 63 64 65 66 67 68 69 70 71\n",
      " 72 73 74 75 76 77 78 79 80 81 82 83 84 85 86 87 88 89 90 91 92 93 94 95\n",
      " 96 97 98 99]\n"
     ]
    }
   ],
   "source": [
    "a[idx] = 3 # changes the element in the specified index to 3\n",
    "print(a)"
   ]
  },
  {
   "cell_type": "code",
   "execution_count": 125,
   "id": "54a75c31-b10d-44d8-a552-46b1ea300f24",
   "metadata": {},
   "outputs": [
    {
     "name": "stdout",
     "output_type": "stream",
     "text": [
      "[[ 2.  2.  1.  4.]\n",
      " [ 1.  9.  9.  3.]\n",
      " [10.  1. 10.  2.]\n",
      " [ 7.  4. 10.  7.]\n",
      " [10.  5.  7. 10.]]\n"
     ]
    }
   ],
   "source": [
    "a = np.round(10*np.random.rand(5,4))\n",
    "print(a)"
   ]
  },
  {
   "cell_type": "code",
   "execution_count": 126,
   "id": "cb7dfaa1-e729-42fb-8e2b-480e20880d6f",
   "metadata": {},
   "outputs": [
    {
     "data": {
      "text/plain": [
       "9.0"
      ]
     },
     "execution_count": 126,
     "metadata": {},
     "output_type": "execute_result"
    }
   ],
   "source": [
    "a[1,2] # returns the element in the 1st row on the 2nd column"
   ]
  },
  {
   "cell_type": "code",
   "execution_count": 130,
   "id": "a1743473-5351-480e-84b1-9afed4e67318",
   "metadata": {},
   "outputs": [
    {
     "data": {
      "text/plain": [
       "array([1., 9., 9., 3.])"
      ]
     },
     "execution_count": 130,
     "metadata": {},
     "output_type": "execute_result"
    }
   ],
   "source": [
    "a[1,:] # accessing the whole 1st row in an array"
   ]
  },
  {
   "cell_type": "code",
   "execution_count": 131,
   "id": "b583f327-21ed-42d5-84de-5aa5680b597e",
   "metadata": {},
   "outputs": [
    {
     "data": {
      "text/plain": [
       "array([2., 9., 1., 4., 5.])"
      ]
     },
     "execution_count": 131,
     "metadata": {},
     "output_type": "execute_result"
    }
   ],
   "source": [
    "a[:,1] # accessing the whole 1st column in an array "
   ]
  },
  {
   "cell_type": "code",
   "execution_count": 132,
   "id": "4c18deba-cdeb-48b5-8b5c-5c499012596a",
   "metadata": {},
   "outputs": [
    {
     "data": {
      "text/plain": [
       "array([[ 9.,  3.],\n",
       "       [10.,  2.]])"
      ]
     },
     "execution_count": 132,
     "metadata": {},
     "output_type": "execute_result"
    }
   ],
   "source": [
    "# accessing a sub metrics\n",
    "a[1:3,2:4] # picks row 2 and row 3, then picks column 2 and 4 "
   ]
  },
  {
   "cell_type": "code",
   "execution_count": 135,
   "id": "7340986c-3fc6-48ac-8578-d3122444f0ee",
   "metadata": {},
   "outputs": [
    {
     "data": {
      "text/plain": [
       "array([[ 2.,  1., 10.,  7., 10.],\n",
       "       [ 2.,  9.,  1.,  4.,  5.],\n",
       "       [ 1.,  9., 10., 10.,  7.],\n",
       "       [ 4.,  3.,  2.,  7., 10.]])"
      ]
     },
     "execution_count": 135,
     "metadata": {},
     "output_type": "execute_result"
    }
   ],
   "source": [
    "a.T # transpose"
   ]
  },
  {
   "cell_type": "code",
   "execution_count": 136,
   "id": "40d8a3ec-6c5f-4b91-bfd5-db53aee60819",
   "metadata": {},
   "outputs": [],
   "source": [
    "import numpy.linalg as la"
   ]
  },
  {
   "cell_type": "code",
   "execution_count": 137,
   "id": "8b1d8601-42c0-4047-be10-016af05ec5f4",
   "metadata": {},
   "outputs": [
    {
     "data": {
      "text/plain": [
       "array([[ 2.02394497,  1.43220628, -1.91661096],\n",
       "       [ 0.33655511, -0.88717336,  0.984093  ],\n",
       "       [-3.80820346,  0.01083726,  2.89084265]])"
      ]
     },
     "execution_count": 137,
     "metadata": {},
     "output_type": "execute_result"
    }
   ],
   "source": [
    "la.inv(np.random.rand(3,3))"
   ]
  },
  {
   "cell_type": "code",
   "execution_count": 140,
   "id": "d0690df0-17dc-4bfd-8cb2-94146e2b60de",
   "metadata": {},
   "outputs": [
    {
     "name": "stdout",
     "output_type": "stream",
     "text": [
      "[[ 1.  1.  1.  2.]\n",
      " [ 2.  2.  7.  3.]\n",
      " [ 7.  4.  9.  4.]\n",
      " [10.  5. 10.  7.]\n",
      " [10.  9. 10. 10.]]\n"
     ]
    }
   ],
   "source": [
    "# to sort the array\n",
    "a.sort(axis=0) # sorts the columns individually\n",
    "print(a)\n"
   ]
  },
  {
   "cell_type": "code",
   "execution_count": 142,
   "id": "f2105d36-90d5-4766-8d2e-b9d0266f7f62",
   "metadata": {},
   "outputs": [
    {
     "name": "stdout",
     "output_type": "stream",
     "text": [
      "[[ 1.  1.  1.  2.]\n",
      " [ 2.  2.  3.  7.]\n",
      " [ 4.  4.  7.  9.]\n",
      " [ 5.  7. 10. 10.]\n",
      " [ 9. 10. 10. 10.]]\n"
     ]
    }
   ],
   "source": [
    "a.sort(axis=1) # sorts the rows individually\n",
    "print(a)"
   ]
  },
  {
   "cell_type": "code",
   "execution_count": 145,
   "id": "cda25e81-6a27-4563-92df-a69a70f531ef",
   "metadata": {},
   "outputs": [],
   "source": [
    "# a[index_array]\n",
    "a = np.arange(100)\n",
    "b = a[[3,5,6]]"
   ]
  },
  {
   "cell_type": "code",
   "execution_count": 146,
   "id": "80e5a5ee-3cc4-4666-b320-10c6f7d3bfbb",
   "metadata": {},
   "outputs": [
    {
     "data": {
      "text/plain": [
       "array([3, 5, 6])"
      ]
     },
     "execution_count": 146,
     "metadata": {},
     "output_type": "execute_result"
    }
   ],
   "source": [
    "b"
   ]
  },
  {
   "cell_type": "code",
   "execution_count": 148,
   "id": "983e880c-3cae-4450-bfa7-de9842b04ef1",
   "metadata": {},
   "outputs": [
    {
     "data": {
      "text/plain": [
       "array([-4,  5,  6])"
      ]
     },
     "execution_count": 148,
     "metadata": {},
     "output_type": "execute_result"
    }
   ],
   "source": [
    "b[0] = -4\n",
    "b"
   ]
  },
  {
   "cell_type": "code",
   "execution_count": 149,
   "id": "ae1dab00-981d-4f8d-b14a-97f0b261b060",
   "metadata": {},
   "outputs": [
    {
     "data": {
      "text/plain": [
       "array([ 0,  1,  2,  3,  4,  5,  6,  7,  8,  9, 10, 11, 12, 13, 14, 15, 16,\n",
       "       17, 18, 19, 20, 21, 22, 23, 24, 25, 26, 27, 28, 29, 30, 31, 32, 33,\n",
       "       34, 35, 36, 37, 38, 39, 40, 41, 42, 43, 44, 45, 46, 47, 48, 49, 50,\n",
       "       51, 52, 53, 54, 55, 56, 57, 58, 59, 60, 61, 62, 63, 64, 65, 66, 67,\n",
       "       68, 69, 70, 71, 72, 73, 74, 75, 76, 77, 78, 79, 80, 81, 82, 83, 84,\n",
       "       85, 86, 87, 88, 89, 90, 91, 92, 93, 94, 95, 96, 97, 98, 99])"
      ]
     },
     "execution_count": 149,
     "metadata": {},
     "output_type": "execute_result"
    }
   ],
   "source": [
    "a"
   ]
  },
  {
   "cell_type": "code",
   "execution_count": 150,
   "id": "e62e8f4e-3917-43cd-817e-187968e773c9",
   "metadata": {},
   "outputs": [
    {
     "data": {
      "text/plain": [
       "array([ 0,  1,  2,  3,  4,  5,  6,  7,  8,  9, 10, 11, 12, 13, 14, 15, 16,\n",
       "       17, 18, 19, 20, 21, 22, 23, 24, 25, 26, 27, 28, 29, 30, 31, 32, 33,\n",
       "       34, 35, 36, 37, 38, 39])"
      ]
     },
     "execution_count": 150,
     "metadata": {},
     "output_type": "execute_result"
    }
   ],
   "source": [
    "# accesses all the elements less than 40\n",
    "b = a[a<40]\n",
    "b"
   ]
  },
  {
   "cell_type": "code",
   "execution_count": 152,
   "id": "d078939f-3743-4d8d-bcc9-62ff11bddf9b",
   "metadata": {},
   "outputs": [
    {
     "data": {
      "text/plain": [
       "array([31, 32, 33, 34, 35, 36, 37, 38, 39])"
      ]
     },
     "execution_count": 152,
     "metadata": {},
     "output_type": "execute_result"
    }
   ],
   "source": [
    "b = a[(a<40) & (a>30)] # contains all the elements between 40 and 30\n",
    "b"
   ]
  },
  {
   "cell_type": "code",
   "execution_count": null,
   "id": "78ae4b16-16b1-4204-a5e3-a25541d53349",
   "metadata": {},
   "outputs": [],
   "source": [
    "# and - used when both side of the array condition\n",
    "# is one object and has a true value or false used for single objects\n",
    "# & sign used when left side and right side can be arrays, \n",
    "# and each element of array is true or false used for array\n",
    "# &, and\n",
    "# /, or\n",
    "# ~, not"
   ]
  },
  {
   "cell_type": "code",
   "execution_count": 175,
   "id": "da11d90e-153e-460b-b8ff-9dc444e00b9d",
   "metadata": {},
   "outputs": [
    {
     "data": {
      "text/plain": [
       "array([[7., 9., 9.],\n",
       "       [7., 4., 6.]])"
      ]
     },
     "execution_count": 175,
     "metadata": {},
     "output_type": "execute_result"
    }
   ],
   "source": [
    "# Numpy(Broadcasting)\n",
    "a = np.round(10*np.random.rand(2,3))\n",
    "a"
   ]
  },
  {
   "cell_type": "code",
   "execution_count": 176,
   "id": "f286004a-2c36-422b-bfde-0e7f509a6bb1",
   "metadata": {},
   "outputs": [
    {
     "data": {
      "text/plain": [
       "array([[10., 12., 12.],\n",
       "       [10.,  7.,  9.]])"
      ]
     },
     "execution_count": 176,
     "metadata": {},
     "output_type": "execute_result"
    }
   ],
   "source": [
    "a+3 # used to add all the elements on the array with 3 as broadcasting"
   ]
  },
  {
   "cell_type": "code",
   "execution_count": 177,
   "id": "1c63a9ec-45aa-48c9-af7e-d00f70ca0d71",
   "metadata": {},
   "outputs": [
    {
     "data": {
      "text/plain": [
       "array([[7., 9., 9.],\n",
       "       [8., 5., 7.]])"
      ]
     },
     "execution_count": 177,
     "metadata": {},
     "output_type": "execute_result"
    }
   ],
   "source": [
    "a+(np.arange(2).reshape(2,1))"
   ]
  },
  {
   "cell_type": "code",
   "execution_count": 178,
   "id": "d995b8f9-0378-4372-8b34-48a1179e5302",
   "metadata": {},
   "outputs": [],
   "source": [
    "b = np.round(10*np.random.rand(2,2))"
   ]
  },
  {
   "cell_type": "code",
   "execution_count": 185,
   "id": "90ff4bfb-216d-4548-9167-e46f12ef40eb",
   "metadata": {},
   "outputs": [
    {
     "data": {
      "text/plain": [
       "array([[7., 9., 9.],\n",
       "       [7., 4., 6.]])"
      ]
     },
     "execution_count": 185,
     "metadata": {},
     "output_type": "execute_result"
    }
   ],
   "source": [
    "a"
   ]
  },
  {
   "cell_type": "code",
   "execution_count": 184,
   "id": "d672edff-e184-407c-8154-1621caa10669",
   "metadata": {},
   "outputs": [
    {
     "data": {
      "text/plain": [
       "array([[9., 1.],\n",
       "       [5., 5.]])"
      ]
     },
     "execution_count": 184,
     "metadata": {},
     "output_type": "execute_result"
    }
   ],
   "source": [
    "b"
   ]
  },
  {
   "cell_type": "code",
   "execution_count": 187,
   "id": "3075b18b-8c8a-457f-8f60-5c37f88526fe",
   "metadata": {},
   "outputs": [
    {
     "data": {
      "text/plain": [
       "array([[7., 9., 9., 9., 1.],\n",
       "       [7., 4., 6., 5., 5.]])"
      ]
     },
     "execution_count": 187,
     "metadata": {},
     "output_type": "execute_result"
    }
   ],
   "source": [
    "# Numpy(hstack,vstack,sort(axis=0))\n",
    "c = np.hstack((a,b)) # used to concatinate the arrays horizontal\n",
    "c\n",
    "# c = np.vstack((a,b)) # used to # used to concatinate the arrays vertical\n",
    "# c"
   ]
  },
  {
   "cell_type": "code",
   "execution_count": 188,
   "id": "889d9e29-cd1c-443a-b2cf-007147a9dad1",
   "metadata": {},
   "outputs": [
    {
     "data": {
      "text/plain": [
       "array([1, 8, 3, 9, 5, 6, 7, 2, 0, 4])"
      ]
     },
     "execution_count": 188,
     "metadata": {},
     "output_type": "execute_result"
    }
   ],
   "source": [
    "a = np.random.permutation(np.arange(10))\n",
    "a"
   ]
  },
  {
   "cell_type": "code",
   "execution_count": 191,
   "id": "faf88832-86a8-4d40-8116-5f97cc01ece4",
   "metadata": {},
   "outputs": [
    {
     "data": {
      "text/plain": [
       "array([0, 1, 2, 3, 4, 5, 6, 7, 8, 9])"
      ]
     },
     "execution_count": 191,
     "metadata": {},
     "output_type": "execute_result"
    }
   ],
   "source": [
    "# a.sort()\n",
    "# a # used to sort array values \n",
    "# a universal function\n",
    "np.sort(a)"
   ]
  },
  {
   "cell_type": "code",
   "execution_count": 192,
   "id": "3b81b854-0a4d-412e-9cf2-7f69260ab1d2",
   "metadata": {},
   "outputs": [
    {
     "data": {
      "text/plain": [
       "array([9, 8, 7, 6, 5, 4, 3, 2, 1, 0])"
      ]
     },
     "execution_count": 192,
     "metadata": {},
     "output_type": "execute_result"
    }
   ],
   "source": [
    "# sorting in descending \n",
    "a = a[::-1]\n",
    "a"
   ]
  },
  {
   "cell_type": "code",
   "execution_count": 193,
   "id": "e6bf7812-ec42-4974-9bfd-ed8c8f78e3e4",
   "metadata": {},
   "outputs": [],
   "source": [
    "a = np.array([\"abc\",'howare you','u765','13er'])"
   ]
  },
  {
   "cell_type": "code",
   "execution_count": 195,
   "id": "c59d0216-c1be-48bf-8c18-b869e16f8807",
   "metadata": {},
   "outputs": [
    {
     "data": {
      "text/plain": [
       "array(['13er', 'abc', 'howare you', 'u765'], dtype='<U10')"
      ]
     },
     "execution_count": 195,
     "metadata": {},
     "output_type": "execute_result"
    }
   ],
   "source": [
    "a.sort() # sorts the array in alphabetical order\n",
    "a"
   ]
  },
  {
   "cell_type": "code",
   "execution_count": 197,
   "id": "71b2d085-f09d-45e0-a262-d72a3726cefc",
   "metadata": {},
   "outputs": [
    {
     "name": "stdout",
     "output_type": "stream",
     "text": [
      "110 ms ± 6.95 ms per loop (mean ± std. dev. of 7 runs, 10 loops each)\n",
      "662 µs ± 48.3 µs per loop (mean ± std. dev. of 7 runs, 1,000 loops each)\n"
     ]
    }
   ],
   "source": [
    "# numpy(speed:universalfunctions)\n",
    "b = np.random.rand(1000000)\n",
    "%timeit sum(b) # uses inbuilt function in python\n",
    "%timeit np.sum(b) #b.sum uses the universal function in numpy"
   ]
  },
  {
   "cell_type": "code",
   "execution_count": 198,
   "id": "458eca59-3ad4-4b51-a03b-e823cb7d0746",
   "metadata": {},
   "outputs": [],
   "source": [
    "def mysum(g):\n",
    "    s = 0\n",
    "    for x in g:\n",
    "        s += x\n",
    "    return s"
   ]
  },
  {
   "cell_type": "code",
   "execution_count": 199,
   "id": "1cdb1486-dce6-42cc-a56a-459ce275aba2",
   "metadata": {},
   "outputs": [
    {
     "name": "stdout",
     "output_type": "stream",
     "text": [
      "142 ms ± 7.42 ms per loop (mean ± std. dev. of 7 runs, 10 loops each)\n"
     ]
    }
   ],
   "source": [
    "%timeit mysum(b)"
   ]
  },
  {
   "cell_type": "code",
   "execution_count": 1,
   "id": "c9250321-b5c1-40e3-a627-47aa9b73c21c",
   "metadata": {},
   "outputs": [
    {
     "name": "stdout",
     "output_type": "stream",
     "text": [
      "2.2.2\n"
     ]
    }
   ],
   "source": [
    "# pandas - science package used in managing data\n",
    "import pandas as pd\n",
    "print(pd.__version__)"
   ]
  },
  {
   "cell_type": "code",
   "execution_count": 4,
   "id": "3ca30c58-d483-4858-bda5-22e82a518692",
   "metadata": {},
   "outputs": [],
   "source": [
    "a = pd.Series([2,3,4,5],index=['a','b','c','d'])\n",
    "# series handles one dimensional arrays"
   ]
  },
  {
   "cell_type": "code",
   "execution_count": 10,
   "id": "b4e0cace-a1a1-4fc6-a247-aea5ab8155d9",
   "metadata": {},
   "outputs": [
    {
     "data": {
      "text/plain": [
       "array([2, 3, 4, 5])"
      ]
     },
     "execution_count": 10,
     "metadata": {},
     "output_type": "execute_result"
    }
   ],
   "source": [
    "a.values"
   ]
  },
  {
   "cell_type": "code",
   "execution_count": 9,
   "id": "33ff40d0-3364-4037-829f-b820468c364b",
   "metadata": {},
   "outputs": [
    {
     "data": {
      "text/plain": [
       "pandas.core.series.Series"
      ]
     },
     "execution_count": 9,
     "metadata": {},
     "output_type": "execute_result"
    }
   ],
   "source": [
    "type(a.values)\n"
   ]
  },
  {
   "cell_type": "code",
   "execution_count": 11,
   "id": "662820ce-0d63-4561-b7b9-f8170866adca",
   "metadata": {},
   "outputs": [
    {
     "data": {
      "text/plain": [
       "pandas.core.series.Series"
      ]
     },
     "execution_count": 11,
     "metadata": {},
     "output_type": "execute_result"
    }
   ],
   "source": [
    "type(a)"
   ]
  },
  {
   "cell_type": "code",
   "execution_count": 12,
   "id": "614070a9-9c34-438d-b9ca-e2cb5771bfcf",
   "metadata": {},
   "outputs": [
    {
     "data": {
      "text/plain": [
       "Index(['a', 'b', 'c', 'd'], dtype='object')"
      ]
     },
     "execution_count": 12,
     "metadata": {},
     "output_type": "execute_result"
    }
   ],
   "source": [
    "a.index"
   ]
  },
  {
   "cell_type": "code",
   "execution_count": 14,
   "id": "72bc3df1-4c1d-48ba-ac4f-cb01e640988f",
   "metadata": {},
   "outputs": [
    {
     "data": {
      "text/plain": [
       "a    2\n",
       "b    3\n",
       "c    4\n",
       "dtype: int64"
      ]
     },
     "execution_count": 14,
     "metadata": {},
     "output_type": "execute_result"
    }
   ],
   "source": [
    "# a['a']\n",
    "a['a':'c'] #slicing"
   ]
  },
  {
   "cell_type": "code",
   "execution_count": 15,
   "id": "18a35c36-dae8-4728-a221-ec464a776f79",
   "metadata": {},
   "outputs": [],
   "source": [
    "# pandas(series)\n",
    "grade_dict = {'A':4,'B':3.5,'C':3,'D':2.5}\n",
    "grades = pd.Series(grade_dict)"
   ]
  },
  {
   "cell_type": "code",
   "execution_count": 16,
   "id": "9db0b629-940b-40be-b882-a312cfcfa8b5",
   "metadata": {},
   "outputs": [
    {
     "data": {
      "text/plain": [
       "array([4. , 3.5, 3. , 2.5])"
      ]
     },
     "execution_count": 16,
     "metadata": {},
     "output_type": "execute_result"
    }
   ],
   "source": [
    "grades.values"
   ]
  },
  {
   "cell_type": "code",
   "execution_count": 17,
   "id": "500fd398-1c1e-437c-8a9b-f2a478aacf27",
   "metadata": {},
   "outputs": [
    {
     "data": {
      "text/plain": [
       "Index(['A', 'B', 'C', 'D'], dtype='object')"
      ]
     },
     "execution_count": 17,
     "metadata": {},
     "output_type": "execute_result"
    }
   ],
   "source": [
    "grades.index"
   ]
  },
  {
   "cell_type": "code",
   "execution_count": 18,
   "id": "4562d2a7-9a15-4924-920f-a12e6679e953",
   "metadata": {},
   "outputs": [],
   "source": [
    "marks_dict = {'A':85,'B':75,'C':65,'D':55}\n",
    "marks = pd.Series(marks_dict)"
   ]
  },
  {
   "cell_type": "code",
   "execution_count": 19,
   "id": "42883aa0-e728-44b6-acc2-5acd81fb1c23",
   "metadata": {},
   "outputs": [
    {
     "data": {
      "text/plain": [
       "A    85\n",
       "B    75\n",
       "C    65\n",
       "D    55\n",
       "dtype: int64"
      ]
     },
     "execution_count": 19,
     "metadata": {},
     "output_type": "execute_result"
    }
   ],
   "source": [
    "marks"
   ]
  },
  {
   "cell_type": "code",
   "execution_count": 20,
   "id": "d6c34a01-e1ec-49a9-adcb-96ae86062312",
   "metadata": {},
   "outputs": [
    {
     "data": {
      "text/plain": [
       "85"
      ]
     },
     "execution_count": 20,
     "metadata": {},
     "output_type": "execute_result"
    }
   ],
   "source": [
    "marks['A']# slicing using explicit indeces"
   ]
  },
  {
   "cell_type": "code",
   "execution_count": 21,
   "id": "d48bf7f6-7ad8-449d-b111-2288e79bc034",
   "metadata": {},
   "outputs": [
    {
     "data": {
      "text/plain": [
       "A    85\n",
       "B    75\n",
       "dtype: int64"
      ]
     },
     "execution_count": 21,
     "metadata": {},
     "output_type": "execute_result"
    }
   ],
   "source": [
    "marks[0:2]# slicing using implicit indeces"
   ]
  },
  {
   "cell_type": "code",
   "execution_count": 22,
   "id": "389cf5fc-a74b-4fc5-b002-bec9e38d8630",
   "metadata": {},
   "outputs": [
    {
     "data": {
      "text/plain": [
       "A    85\n",
       "B    75\n",
       "C    65\n",
       "D    55\n",
       "dtype: int64"
      ]
     },
     "execution_count": 22,
     "metadata": {},
     "output_type": "execute_result"
    }
   ],
   "source": [
    "# pandas(DataFrame)\n",
    "marks"
   ]
  },
  {
   "cell_type": "code",
   "execution_count": 23,
   "id": "939e2a5e-adc1-4892-9060-d5767d522382",
   "metadata": {},
   "outputs": [
    {
     "data": {
      "text/plain": [
       "A    4.0\n",
       "B    3.5\n",
       "C    3.0\n",
       "D    2.5\n",
       "dtype: float64"
      ]
     },
     "execution_count": 23,
     "metadata": {},
     "output_type": "execute_result"
    }
   ],
   "source": [
    "grades"
   ]
  },
  {
   "cell_type": "code",
   "execution_count": 27,
   "id": "afd0aa13-0ef9-4c5f-8467-3f14cc754d15",
   "metadata": {},
   "outputs": [],
   "source": [
    "d = pd.DataFrame({'Marks':marks,'Grades':grades})"
   ]
  },
  {
   "cell_type": "code",
   "execution_count": 28,
   "id": "152c6573-bf78-48e4-984e-6ef4455981fc",
   "metadata": {},
   "outputs": [
    {
     "data": {
      "text/html": [
       "<div>\n",
       "<style scoped>\n",
       "    .dataframe tbody tr th:only-of-type {\n",
       "        vertical-align: middle;\n",
       "    }\n",
       "\n",
       "    .dataframe tbody tr th {\n",
       "        vertical-align: top;\n",
       "    }\n",
       "\n",
       "    .dataframe thead th {\n",
       "        text-align: right;\n",
       "    }\n",
       "</style>\n",
       "<table border=\"1\" class=\"dataframe\">\n",
       "  <thead>\n",
       "    <tr style=\"text-align: right;\">\n",
       "      <th></th>\n",
       "      <th>Marks</th>\n",
       "      <th>Grades</th>\n",
       "    </tr>\n",
       "  </thead>\n",
       "  <tbody>\n",
       "    <tr>\n",
       "      <th>A</th>\n",
       "      <td>85</td>\n",
       "      <td>4.0</td>\n",
       "    </tr>\n",
       "    <tr>\n",
       "      <th>B</th>\n",
       "      <td>75</td>\n",
       "      <td>3.5</td>\n",
       "    </tr>\n",
       "    <tr>\n",
       "      <th>C</th>\n",
       "      <td>65</td>\n",
       "      <td>3.0</td>\n",
       "    </tr>\n",
       "    <tr>\n",
       "      <th>D</th>\n",
       "      <td>55</td>\n",
       "      <td>2.5</td>\n",
       "    </tr>\n",
       "  </tbody>\n",
       "</table>\n",
       "</div>"
      ],
      "text/plain": [
       "   Marks  Grades\n",
       "A     85     4.0\n",
       "B     75     3.5\n",
       "C     65     3.0\n",
       "D     55     2.5"
      ]
     },
     "execution_count": 28,
     "metadata": {},
     "output_type": "execute_result"
    }
   ],
   "source": [
    "d"
   ]
  },
  {
   "cell_type": "code",
   "execution_count": 29,
   "id": "3f35cf9f-33fc-493f-a60c-fe7c18c3f24b",
   "metadata": {},
   "outputs": [
    {
     "data": {
      "text/html": [
       "<div>\n",
       "<style scoped>\n",
       "    .dataframe tbody tr th:only-of-type {\n",
       "        vertical-align: middle;\n",
       "    }\n",
       "\n",
       "    .dataframe tbody tr th {\n",
       "        vertical-align: top;\n",
       "    }\n",
       "\n",
       "    .dataframe thead th {\n",
       "        text-align: right;\n",
       "    }\n",
       "</style>\n",
       "<table border=\"1\" class=\"dataframe\">\n",
       "  <thead>\n",
       "    <tr style=\"text-align: right;\">\n",
       "      <th></th>\n",
       "      <th>A</th>\n",
       "      <th>B</th>\n",
       "      <th>C</th>\n",
       "      <th>D</th>\n",
       "    </tr>\n",
       "  </thead>\n",
       "  <tbody>\n",
       "    <tr>\n",
       "      <th>Marks</th>\n",
       "      <td>85.0</td>\n",
       "      <td>75.0</td>\n",
       "      <td>65.0</td>\n",
       "      <td>55.0</td>\n",
       "    </tr>\n",
       "    <tr>\n",
       "      <th>Grades</th>\n",
       "      <td>4.0</td>\n",
       "      <td>3.5</td>\n",
       "      <td>3.0</td>\n",
       "      <td>2.5</td>\n",
       "    </tr>\n",
       "  </tbody>\n",
       "</table>\n",
       "</div>"
      ],
      "text/plain": [
       "           A     B     C     D\n",
       "Marks   85.0  75.0  65.0  55.0\n",
       "Grades   4.0   3.5   3.0   2.5"
      ]
     },
     "execution_count": 29,
     "metadata": {},
     "output_type": "execute_result"
    }
   ],
   "source": [
    "d.T"
   ]
  },
  {
   "cell_type": "code",
   "execution_count": 34,
   "id": "239258af-ed05-40f4-b05a-78a0194c956d",
   "metadata": {},
   "outputs": [
    {
     "data": {
      "text/html": [
       "<div>\n",
       "<style scoped>\n",
       "    .dataframe tbody tr th:only-of-type {\n",
       "        vertical-align: middle;\n",
       "    }\n",
       "\n",
       "    .dataframe tbody tr th {\n",
       "        vertical-align: top;\n",
       "    }\n",
       "\n",
       "    .dataframe thead th {\n",
       "        text-align: right;\n",
       "    }\n",
       "</style>\n",
       "<table border=\"1\" class=\"dataframe\">\n",
       "  <thead>\n",
       "    <tr style=\"text-align: right;\">\n",
       "      <th></th>\n",
       "      <th>Marks</th>\n",
       "      <th>Grades</th>\n",
       "    </tr>\n",
       "  </thead>\n",
       "  <tbody>\n",
       "    <tr>\n",
       "      <th>A</th>\n",
       "      <td>85</td>\n",
       "      <td>4.0</td>\n",
       "    </tr>\n",
       "    <tr>\n",
       "      <th>B</th>\n",
       "      <td>75</td>\n",
       "      <td>3.5</td>\n",
       "    </tr>\n",
       "    <tr>\n",
       "      <th>C</th>\n",
       "      <td>65</td>\n",
       "      <td>3.0</td>\n",
       "    </tr>\n",
       "    <tr>\n",
       "      <th>D</th>\n",
       "      <td>55</td>\n",
       "      <td>2.5</td>\n",
       "    </tr>\n",
       "  </tbody>\n",
       "</table>\n",
       "</div>"
      ],
      "text/plain": [
       "   Marks  Grades\n",
       "A     85     4.0\n",
       "B     75     3.5\n",
       "C     65     3.0\n",
       "D     55     2.5"
      ]
     },
     "execution_count": 34,
     "metadata": {},
     "output_type": "execute_result"
    }
   ],
   "source": [
    "# d.values\n",
    "d"
   ]
  },
  {
   "cell_type": "code",
   "execution_count": 36,
   "id": "eec30b98-f3ab-4521-a2e4-8d7e0a0dc2d9",
   "metadata": {},
   "outputs": [
    {
     "data": {
      "text/plain": [
       "65.0"
      ]
     },
     "execution_count": 36,
     "metadata": {},
     "output_type": "execute_result"
    }
   ],
   "source": [
    "d.values[2,0] # row 2 and column 0"
   ]
  },
  {
   "cell_type": "code",
   "execution_count": 37,
   "id": "bf165af5-7bdd-47eb-a33a-1d4c12ceb137",
   "metadata": {},
   "outputs": [
    {
     "data": {
      "text/plain": [
       "Index(['Marks', 'Grades'], dtype='object')"
      ]
     },
     "execution_count": 37,
     "metadata": {},
     "output_type": "execute_result"
    }
   ],
   "source": [
    "d.columns"
   ]
  },
  {
   "cell_type": "code",
   "execution_count": 38,
   "id": "f3e46a94-b4ea-497b-a46d-868400b6b315",
   "metadata": {},
   "outputs": [],
   "source": [
    "# adding another column\n",
    "d['ScaledMarks'] = 100*(d['Marks']/90)"
   ]
  },
  {
   "cell_type": "code",
   "execution_count": 39,
   "id": "be647dac-1fb2-4c9f-9962-3a2d59055a0a",
   "metadata": {},
   "outputs": [
    {
     "data": {
      "text/html": [
       "<div>\n",
       "<style scoped>\n",
       "    .dataframe tbody tr th:only-of-type {\n",
       "        vertical-align: middle;\n",
       "    }\n",
       "\n",
       "    .dataframe tbody tr th {\n",
       "        vertical-align: top;\n",
       "    }\n",
       "\n",
       "    .dataframe thead th {\n",
       "        text-align: right;\n",
       "    }\n",
       "</style>\n",
       "<table border=\"1\" class=\"dataframe\">\n",
       "  <thead>\n",
       "    <tr style=\"text-align: right;\">\n",
       "      <th></th>\n",
       "      <th>Marks</th>\n",
       "      <th>Grades</th>\n",
       "      <th>ScaledMarks</th>\n",
       "    </tr>\n",
       "  </thead>\n",
       "  <tbody>\n",
       "    <tr>\n",
       "      <th>A</th>\n",
       "      <td>85</td>\n",
       "      <td>4.0</td>\n",
       "      <td>94.444444</td>\n",
       "    </tr>\n",
       "    <tr>\n",
       "      <th>B</th>\n",
       "      <td>75</td>\n",
       "      <td>3.5</td>\n",
       "      <td>83.333333</td>\n",
       "    </tr>\n",
       "    <tr>\n",
       "      <th>C</th>\n",
       "      <td>65</td>\n",
       "      <td>3.0</td>\n",
       "      <td>72.222222</td>\n",
       "    </tr>\n",
       "    <tr>\n",
       "      <th>D</th>\n",
       "      <td>55</td>\n",
       "      <td>2.5</td>\n",
       "      <td>61.111111</td>\n",
       "    </tr>\n",
       "  </tbody>\n",
       "</table>\n",
       "</div>"
      ],
      "text/plain": [
       "   Marks  Grades  ScaledMarks\n",
       "A     85     4.0    94.444444\n",
       "B     75     3.5    83.333333\n",
       "C     65     3.0    72.222222\n",
       "D     55     2.5    61.111111"
      ]
     },
     "execution_count": 39,
     "metadata": {},
     "output_type": "execute_result"
    }
   ],
   "source": [
    "d"
   ]
  },
  {
   "cell_type": "code",
   "execution_count": 56,
   "id": "03667077-72f4-4a6a-a892-3518016b5aed",
   "metadata": {},
   "outputs": [],
   "source": [
    "# del d['ScaledMarks'] # will delete the named column"
   ]
  },
  {
   "cell_type": "code",
   "execution_count": 43,
   "id": "92cd2f1f-a084-4dd0-ab58-8920b3ec1d48",
   "metadata": {},
   "outputs": [
    {
     "name": "stdout",
     "output_type": "stream",
     "text": [
      "   Marks  Grades  ScaledMarks\n",
      "A     85     4.0    94.444444\n",
      "B     75     3.5    83.333333\n"
     ]
    }
   ],
   "source": [
    "g = d[d['Marks']>70] # picking all the data that are greater than 70\n",
    "print(g)"
   ]
  },
  {
   "cell_type": "code",
   "execution_count": 42,
   "id": "e79cc824-aa41-40ec-918e-9be799ec541f",
   "metadata": {},
   "outputs": [
    {
     "data": {
      "text/html": [
       "<div>\n",
       "<style scoped>\n",
       "    .dataframe tbody tr th:only-of-type {\n",
       "        vertical-align: middle;\n",
       "    }\n",
       "\n",
       "    .dataframe tbody tr th {\n",
       "        vertical-align: top;\n",
       "    }\n",
       "\n",
       "    .dataframe thead th {\n",
       "        text-align: right;\n",
       "    }\n",
       "</style>\n",
       "<table border=\"1\" class=\"dataframe\">\n",
       "  <thead>\n",
       "    <tr style=\"text-align: right;\">\n",
       "      <th></th>\n",
       "      <th>Marks</th>\n",
       "      <th>Grades</th>\n",
       "      <th>ScaledMarks</th>\n",
       "    </tr>\n",
       "  </thead>\n",
       "  <tbody>\n",
       "    <tr>\n",
       "      <th>A</th>\n",
       "      <td>85</td>\n",
       "      <td>4.0</td>\n",
       "      <td>94.444444</td>\n",
       "    </tr>\n",
       "    <tr>\n",
       "      <th>B</th>\n",
       "      <td>75</td>\n",
       "      <td>3.5</td>\n",
       "      <td>83.333333</td>\n",
       "    </tr>\n",
       "  </tbody>\n",
       "</table>\n",
       "</div>"
      ],
      "text/plain": [
       "   Marks  Grades  ScaledMarks\n",
       "A     85     4.0    94.444444\n",
       "B     75     3.5    83.333333"
      ]
     },
     "execution_count": 42,
     "metadata": {},
     "output_type": "execute_result"
    }
   ],
   "source": []
  },
  {
   "cell_type": "code",
   "execution_count": 47,
   "id": "df3499f1-c53a-43fa-852b-f3342d26a3e1",
   "metadata": {},
   "outputs": [
    {
     "data": {
      "text/html": [
       "<div>\n",
       "<style scoped>\n",
       "    .dataframe tbody tr th:only-of-type {\n",
       "        vertical-align: middle;\n",
       "    }\n",
       "\n",
       "    .dataframe tbody tr th {\n",
       "        vertical-align: top;\n",
       "    }\n",
       "\n",
       "    .dataframe thead th {\n",
       "        text-align: right;\n",
       "    }\n",
       "</style>\n",
       "<table border=\"1\" class=\"dataframe\">\n",
       "  <thead>\n",
       "    <tr style=\"text-align: right;\">\n",
       "      <th></th>\n",
       "      <th>A</th>\n",
       "      <th>B</th>\n",
       "      <th>C</th>\n",
       "    </tr>\n",
       "  </thead>\n",
       "  <tbody>\n",
       "    <tr>\n",
       "      <th>0</th>\n",
       "      <td>1.0</td>\n",
       "      <td>4</td>\n",
       "      <td>NaN</td>\n",
       "    </tr>\n",
       "    <tr>\n",
       "      <th>1</th>\n",
       "      <td>NaN</td>\n",
       "      <td>-3</td>\n",
       "      <td>9.0</td>\n",
       "    </tr>\n",
       "  </tbody>\n",
       "</table>\n",
       "</div>"
      ],
      "text/plain": [
       "     A  B    C\n",
       "0  1.0  4  NaN\n",
       "1  NaN -3  9.0"
      ]
     },
     "execution_count": 47,
     "metadata": {},
     "output_type": "execute_result"
    }
   ],
   "source": [
    "# how to handle mising data in pandas\n",
    "#pandas(NaN)None\n",
    "a = pd.DataFrame([{'A':1,'B':4},{'B':-3,'C':9}])\n",
    "a"
   ]
  },
  {
   "cell_type": "code",
   "execution_count": 48,
   "id": "77646e6f-4db3-4a9d-8dbb-398c4439ddc8",
   "metadata": {},
   "outputs": [
    {
     "data": {
      "text/html": [
       "<div>\n",
       "<style scoped>\n",
       "    .dataframe tbody tr th:only-of-type {\n",
       "        vertical-align: middle;\n",
       "    }\n",
       "\n",
       "    .dataframe tbody tr th {\n",
       "        vertical-align: top;\n",
       "    }\n",
       "\n",
       "    .dataframe thead th {\n",
       "        text-align: right;\n",
       "    }\n",
       "</style>\n",
       "<table border=\"1\" class=\"dataframe\">\n",
       "  <thead>\n",
       "    <tr style=\"text-align: right;\">\n",
       "      <th></th>\n",
       "      <th>A</th>\n",
       "      <th>B</th>\n",
       "      <th>C</th>\n",
       "    </tr>\n",
       "  </thead>\n",
       "  <tbody>\n",
       "    <tr>\n",
       "      <th>0</th>\n",
       "      <td>1.0</td>\n",
       "      <td>4</td>\n",
       "      <td>0.0</td>\n",
       "    </tr>\n",
       "    <tr>\n",
       "      <th>1</th>\n",
       "      <td>0.0</td>\n",
       "      <td>-3</td>\n",
       "      <td>9.0</td>\n",
       "    </tr>\n",
       "  </tbody>\n",
       "</table>\n",
       "</div>"
      ],
      "text/plain": [
       "     A  B    C\n",
       "0  1.0  4  0.0\n",
       "1  0.0 -3  9.0"
      ]
     },
     "execution_count": 48,
     "metadata": {},
     "output_type": "execute_result"
    }
   ],
   "source": [
    "a.fillna(0) # fill all None values with 0"
   ]
  },
  {
   "cell_type": "code",
   "execution_count": 49,
   "id": "13e10bd0-f97d-4a76-8375-8e784e11e615",
   "metadata": {},
   "outputs": [
    {
     "data": {
      "text/plain": [
       "\u001b[0;31mSignature:\u001b[0m\n",
       "\u001b[0ma\u001b[0m\u001b[0;34m.\u001b[0m\u001b[0mdropna\u001b[0m\u001b[0;34m(\u001b[0m\u001b[0;34m\u001b[0m\n",
       "\u001b[0;34m\u001b[0m    \u001b[0;34m*\u001b[0m\u001b[0;34m,\u001b[0m\u001b[0;34m\u001b[0m\n",
       "\u001b[0;34m\u001b[0m    \u001b[0maxis\u001b[0m\u001b[0;34m:\u001b[0m \u001b[0;34m'Axis'\u001b[0m \u001b[0;34m=\u001b[0m \u001b[0;36m0\u001b[0m\u001b[0;34m,\u001b[0m\u001b[0;34m\u001b[0m\n",
       "\u001b[0;34m\u001b[0m    \u001b[0mhow\u001b[0m\u001b[0;34m:\u001b[0m \u001b[0;34m'AnyAll | lib.NoDefault'\u001b[0m \u001b[0;34m=\u001b[0m \u001b[0;34m<\u001b[0m\u001b[0mno_default\u001b[0m\u001b[0;34m>\u001b[0m\u001b[0;34m,\u001b[0m\u001b[0;34m\u001b[0m\n",
       "\u001b[0;34m\u001b[0m    \u001b[0mthresh\u001b[0m\u001b[0;34m:\u001b[0m \u001b[0;34m'int | lib.NoDefault'\u001b[0m \u001b[0;34m=\u001b[0m \u001b[0;34m<\u001b[0m\u001b[0mno_default\u001b[0m\u001b[0;34m>\u001b[0m\u001b[0;34m,\u001b[0m\u001b[0;34m\u001b[0m\n",
       "\u001b[0;34m\u001b[0m    \u001b[0msubset\u001b[0m\u001b[0;34m:\u001b[0m \u001b[0;34m'IndexLabel | None'\u001b[0m \u001b[0;34m=\u001b[0m \u001b[0;32mNone\u001b[0m\u001b[0;34m,\u001b[0m\u001b[0;34m\u001b[0m\n",
       "\u001b[0;34m\u001b[0m    \u001b[0minplace\u001b[0m\u001b[0;34m:\u001b[0m \u001b[0;34m'bool'\u001b[0m \u001b[0;34m=\u001b[0m \u001b[0;32mFalse\u001b[0m\u001b[0;34m,\u001b[0m\u001b[0;34m\u001b[0m\n",
       "\u001b[0;34m\u001b[0m    \u001b[0mignore_index\u001b[0m\u001b[0;34m:\u001b[0m \u001b[0;34m'bool'\u001b[0m \u001b[0;34m=\u001b[0m \u001b[0;32mFalse\u001b[0m\u001b[0;34m,\u001b[0m\u001b[0;34m\u001b[0m\n",
       "\u001b[0;34m\u001b[0m\u001b[0;34m)\u001b[0m \u001b[0;34m->\u001b[0m \u001b[0;34m'DataFrame | None'\u001b[0m\u001b[0;34m\u001b[0m\u001b[0;34m\u001b[0m\u001b[0m\n",
       "\u001b[0;31mDocstring:\u001b[0m\n",
       "Remove missing values.\n",
       "\n",
       "See the :ref:`User Guide <missing_data>` for more on which values are\n",
       "considered missing, and how to work with missing data.\n",
       "\n",
       "Parameters\n",
       "----------\n",
       "axis : {0 or 'index', 1 or 'columns'}, default 0\n",
       "    Determine if rows or columns which contain missing values are\n",
       "    removed.\n",
       "\n",
       "    * 0, or 'index' : Drop rows which contain missing values.\n",
       "    * 1, or 'columns' : Drop columns which contain missing value.\n",
       "\n",
       "    Only a single axis is allowed.\n",
       "\n",
       "how : {'any', 'all'}, default 'any'\n",
       "    Determine if row or column is removed from DataFrame, when we have\n",
       "    at least one NA or all NA.\n",
       "\n",
       "    * 'any' : If any NA values are present, drop that row or column.\n",
       "    * 'all' : If all values are NA, drop that row or column.\n",
       "\n",
       "thresh : int, optional\n",
       "    Require that many non-NA values. Cannot be combined with how.\n",
       "subset : column label or sequence of labels, optional\n",
       "    Labels along other axis to consider, e.g. if you are dropping rows\n",
       "    these would be a list of columns to include.\n",
       "inplace : bool, default False\n",
       "    Whether to modify the DataFrame rather than creating a new one.\n",
       "ignore_index : bool, default ``False``\n",
       "    If ``True``, the resulting axis will be labeled 0, 1, …, n - 1.\n",
       "\n",
       "    .. versionadded:: 2.0.0\n",
       "\n",
       "Returns\n",
       "-------\n",
       "DataFrame or None\n",
       "    DataFrame with NA entries dropped from it or None if ``inplace=True``.\n",
       "\n",
       "See Also\n",
       "--------\n",
       "DataFrame.isna: Indicate missing values.\n",
       "DataFrame.notna : Indicate existing (non-missing) values.\n",
       "DataFrame.fillna : Replace missing values.\n",
       "Series.dropna : Drop missing values.\n",
       "Index.dropna : Drop missing indices.\n",
       "\n",
       "Examples\n",
       "--------\n",
       ">>> df = pd.DataFrame({\"name\": ['Alfred', 'Batman', 'Catwoman'],\n",
       "...                    \"toy\": [np.nan, 'Batmobile', 'Bullwhip'],\n",
       "...                    \"born\": [pd.NaT, pd.Timestamp(\"1940-04-25\"),\n",
       "...                             pd.NaT]})\n",
       ">>> df\n",
       "       name        toy       born\n",
       "0    Alfred        NaN        NaT\n",
       "1    Batman  Batmobile 1940-04-25\n",
       "2  Catwoman   Bullwhip        NaT\n",
       "\n",
       "Drop the rows where at least one element is missing.\n",
       "\n",
       ">>> df.dropna()\n",
       "     name        toy       born\n",
       "1  Batman  Batmobile 1940-04-25\n",
       "\n",
       "Drop the columns where at least one element is missing.\n",
       "\n",
       ">>> df.dropna(axis='columns')\n",
       "       name\n",
       "0    Alfred\n",
       "1    Batman\n",
       "2  Catwoman\n",
       "\n",
       "Drop the rows where all elements are missing.\n",
       "\n",
       ">>> df.dropna(how='all')\n",
       "       name        toy       born\n",
       "0    Alfred        NaN        NaT\n",
       "1    Batman  Batmobile 1940-04-25\n",
       "2  Catwoman   Bullwhip        NaT\n",
       "\n",
       "Keep only the rows with at least 2 non-NA values.\n",
       "\n",
       ">>> df.dropna(thresh=2)\n",
       "       name        toy       born\n",
       "1    Batman  Batmobile 1940-04-25\n",
       "2  Catwoman   Bullwhip        NaT\n",
       "\n",
       "Define in which columns to look for missing values.\n",
       "\n",
       ">>> df.dropna(subset=['name', 'toy'])\n",
       "       name        toy       born\n",
       "1    Batman  Batmobile 1940-04-25\n",
       "2  Catwoman   Bullwhip        NaT\n",
       "\u001b[0;31mFile:\u001b[0m      /usr/local/Cellar/jupyterlab/4.1.5/libexec/lib/python3.12/site-packages/pandas/core/frame.py\n",
       "\u001b[0;31mType:\u001b[0m      method"
      ]
     },
     "metadata": {},
     "output_type": "display_data"
    }
   ],
   "source": [
    "a.dropna? # removes all the misiing values"
   ]
  },
  {
   "cell_type": "code",
   "execution_count": 50,
   "id": "22fc915d-2153-4414-9cde-e930719cfe19",
   "metadata": {},
   "outputs": [
    {
     "data": {
      "text/plain": [
       "1    a\n",
       "3    b\n",
       "5    c\n",
       "dtype: object"
      ]
     },
     "execution_count": 50,
     "metadata": {},
     "output_type": "execute_result"
    }
   ],
   "source": [
    "# pandas(indexing) \n",
    "# loc you are using explicit index(Uses values,either numeric or non-numeric,as the index)\n",
    "#iloc you are using implicit index(null-index an index that does not have a name)\n",
    "a = pd.Series(['a','b','c'],index=[1,3,5])\n",
    "a"
   ]
  },
  {
   "cell_type": "code",
   "execution_count": 51,
   "id": "6bc7f648-33ed-4aad-b630-d2a636cd3d3b",
   "metadata": {},
   "outputs": [
    {
     "data": {
      "text/plain": [
       "'a'"
      ]
     },
     "execution_count": 51,
     "metadata": {},
     "output_type": "execute_result"
    }
   ],
   "source": [
    "a[1]"
   ]
  },
  {
   "cell_type": "code",
   "execution_count": 52,
   "id": "e9a2b262-8194-41a6-9401-286a8fca45e6",
   "metadata": {},
   "outputs": [
    {
     "data": {
      "text/plain": [
       "3    b\n",
       "5    c\n",
       "dtype: object"
      ]
     },
     "execution_count": 52,
     "metadata": {},
     "output_type": "execute_result"
    }
   ],
   "source": [
    "a[1:3]"
   ]
  },
  {
   "cell_type": "code",
   "execution_count": 53,
   "id": "14b6e829-890c-4164-a3d4-61f701022802",
   "metadata": {},
   "outputs": [
    {
     "data": {
      "text/plain": [
       "1    a\n",
       "3    b\n",
       "dtype: object"
      ]
     },
     "execution_count": 53,
     "metadata": {},
     "output_type": "execute_result"
    }
   ],
   "source": [
    "a.loc[1:3]"
   ]
  },
  {
   "cell_type": "code",
   "execution_count": 54,
   "id": "757e4ab3-2144-497a-8d0f-07f5fd55a23e",
   "metadata": {},
   "outputs": [
    {
     "data": {
      "text/plain": [
       "3    b\n",
       "5    c\n",
       "dtype: object"
      ]
     },
     "execution_count": 54,
     "metadata": {},
     "output_type": "execute_result"
    }
   ],
   "source": [
    "a.iloc[1:3]"
   ]
  },
  {
   "cell_type": "code",
   "execution_count": 57,
   "id": "a1d734ac-0bfd-46bd-bd1c-04b894d17cf9",
   "metadata": {},
   "outputs": [
    {
     "data": {
      "text/html": [
       "<div>\n",
       "<style scoped>\n",
       "    .dataframe tbody tr th:only-of-type {\n",
       "        vertical-align: middle;\n",
       "    }\n",
       "\n",
       "    .dataframe tbody tr th {\n",
       "        vertical-align: top;\n",
       "    }\n",
       "\n",
       "    .dataframe thead th {\n",
       "        text-align: right;\n",
       "    }\n",
       "</style>\n",
       "<table border=\"1\" class=\"dataframe\">\n",
       "  <thead>\n",
       "    <tr style=\"text-align: right;\">\n",
       "      <th></th>\n",
       "      <th>Marks</th>\n",
       "      <th>Grades</th>\n",
       "    </tr>\n",
       "  </thead>\n",
       "  <tbody>\n",
       "    <tr>\n",
       "      <th>A</th>\n",
       "      <td>85</td>\n",
       "      <td>4.0</td>\n",
       "    </tr>\n",
       "    <tr>\n",
       "      <th>B</th>\n",
       "      <td>75</td>\n",
       "      <td>3.5</td>\n",
       "    </tr>\n",
       "    <tr>\n",
       "      <th>C</th>\n",
       "      <td>65</td>\n",
       "      <td>3.0</td>\n",
       "    </tr>\n",
       "    <tr>\n",
       "      <th>D</th>\n",
       "      <td>55</td>\n",
       "      <td>2.5</td>\n",
       "    </tr>\n",
       "  </tbody>\n",
       "</table>\n",
       "</div>"
      ],
      "text/plain": [
       "   Marks  Grades\n",
       "A     85     4.0\n",
       "B     75     3.5\n",
       "C     65     3.0\n",
       "D     55     2.5"
      ]
     },
     "execution_count": 57,
     "metadata": {},
     "output_type": "execute_result"
    }
   ],
   "source": [
    "d"
   ]
  },
  {
   "cell_type": "code",
   "execution_count": 58,
   "id": "11e8733c-ce20-4037-b2da-022ce44aecb2",
   "metadata": {},
   "outputs": [
    {
     "data": {
      "text/plain": [
       "Marks     65.0\n",
       "Grades     3.0\n",
       "Name: C, dtype: float64"
      ]
     },
     "execution_count": 58,
     "metadata": {},
     "output_type": "execute_result"
    }
   ],
   "source": [
    "d.iloc[2,:]"
   ]
  },
  {
   "cell_type": "code",
   "execution_count": 59,
   "id": "c2f045ed-cf56-4478-a21f-286c5094a638",
   "metadata": {},
   "outputs": [
    {
     "data": {
      "text/html": [
       "<div>\n",
       "<style scoped>\n",
       "    .dataframe tbody tr th:only-of-type {\n",
       "        vertical-align: middle;\n",
       "    }\n",
       "\n",
       "    .dataframe tbody tr th {\n",
       "        vertical-align: top;\n",
       "    }\n",
       "\n",
       "    .dataframe thead th {\n",
       "        text-align: right;\n",
       "    }\n",
       "</style>\n",
       "<table border=\"1\" class=\"dataframe\">\n",
       "  <thead>\n",
       "    <tr style=\"text-align: right;\">\n",
       "      <th></th>\n",
       "      <th>Marks</th>\n",
       "      <th>Grades</th>\n",
       "    </tr>\n",
       "  </thead>\n",
       "  <tbody>\n",
       "    <tr>\n",
       "      <th>D</th>\n",
       "      <td>55</td>\n",
       "      <td>2.5</td>\n",
       "    </tr>\n",
       "    <tr>\n",
       "      <th>C</th>\n",
       "      <td>65</td>\n",
       "      <td>3.0</td>\n",
       "    </tr>\n",
       "    <tr>\n",
       "      <th>B</th>\n",
       "      <td>75</td>\n",
       "      <td>3.5</td>\n",
       "    </tr>\n",
       "    <tr>\n",
       "      <th>A</th>\n",
       "      <td>85</td>\n",
       "      <td>4.0</td>\n",
       "    </tr>\n",
       "  </tbody>\n",
       "</table>\n",
       "</div>"
      ],
      "text/plain": [
       "   Marks  Grades\n",
       "D     55     2.5\n",
       "C     65     3.0\n",
       "B     75     3.5\n",
       "A     85     4.0"
      ]
     },
     "execution_count": 59,
     "metadata": {},
     "output_type": "execute_result"
    }
   ],
   "source": [
    "d.iloc[::-1,:]"
   ]
  },
  {
   "cell_type": "code",
   "execution_count": 60,
   "id": "62fcf811-5b7c-481a-a2d4-6759def94b50",
   "metadata": {},
   "outputs": [],
   "source": [
    "import pandas as pd\n",
    "import numpy as np\n",
    "from sklearn.impute import SimpleImputer"
   ]
  },
  {
   "cell_type": "code",
   "execution_count": 63,
   "id": "a382564d-1dbe-4951-a2a3-a0bce144e688",
   "metadata": {},
   "outputs": [],
   "source": [
    "df = pd.read_csv('covid_19_data.csv')"
   ]
  },
  {
   "cell_type": "code",
   "execution_count": 65,
   "id": "e675fb67-eb3e-4f4d-82d3-36041d4a4292",
   "metadata": {},
   "outputs": [
    {
     "data": {
      "text/html": [
       "<div>\n",
       "<style scoped>\n",
       "    .dataframe tbody tr th:only-of-type {\n",
       "        vertical-align: middle;\n",
       "    }\n",
       "\n",
       "    .dataframe tbody tr th {\n",
       "        vertical-align: top;\n",
       "    }\n",
       "\n",
       "    .dataframe thead th {\n",
       "        text-align: right;\n",
       "    }\n",
       "</style>\n",
       "<table border=\"1\" class=\"dataframe\">\n",
       "  <thead>\n",
       "    <tr style=\"text-align: right;\">\n",
       "      <th></th>\n",
       "      <th>Date</th>\n",
       "      <th>State</th>\n",
       "      <th>Region</th>\n",
       "      <th>Confirmed</th>\n",
       "      <th>Deaths</th>\n",
       "      <th>Recovered</th>\n",
       "    </tr>\n",
       "  </thead>\n",
       "  <tbody>\n",
       "    <tr>\n",
       "      <th>0</th>\n",
       "      <td>4/29/2020</td>\n",
       "      <td>NaN</td>\n",
       "      <td>Afghanistan</td>\n",
       "      <td>1939</td>\n",
       "      <td>60</td>\n",
       "      <td>252</td>\n",
       "    </tr>\n",
       "    <tr>\n",
       "      <th>1</th>\n",
       "      <td>4/29/2020</td>\n",
       "      <td>NaN</td>\n",
       "      <td>Albania</td>\n",
       "      <td>766</td>\n",
       "      <td>30</td>\n",
       "      <td>455</td>\n",
       "    </tr>\n",
       "    <tr>\n",
       "      <th>2</th>\n",
       "      <td>4/29/2020</td>\n",
       "      <td>NaN</td>\n",
       "      <td>Algeria</td>\n",
       "      <td>3848</td>\n",
       "      <td>444</td>\n",
       "      <td>1702</td>\n",
       "    </tr>\n",
       "    <tr>\n",
       "      <th>3</th>\n",
       "      <td>4/29/2020</td>\n",
       "      <td>NaN</td>\n",
       "      <td>Andorra</td>\n",
       "      <td>743</td>\n",
       "      <td>42</td>\n",
       "      <td>423</td>\n",
       "    </tr>\n",
       "    <tr>\n",
       "      <th>4</th>\n",
       "      <td>4/29/2020</td>\n",
       "      <td>NaN</td>\n",
       "      <td>Angola</td>\n",
       "      <td>27</td>\n",
       "      <td>2</td>\n",
       "      <td>7</td>\n",
       "    </tr>\n",
       "    <tr>\n",
       "      <th>5</th>\n",
       "      <td>4/29/2020</td>\n",
       "      <td>NaN</td>\n",
       "      <td>Antigua and Barbuda</td>\n",
       "      <td>24</td>\n",
       "      <td>3</td>\n",
       "      <td>11</td>\n",
       "    </tr>\n",
       "    <tr>\n",
       "      <th>6</th>\n",
       "      <td>4/29/2020</td>\n",
       "      <td>NaN</td>\n",
       "      <td>Argentina</td>\n",
       "      <td>4285</td>\n",
       "      <td>214</td>\n",
       "      <td>1192</td>\n",
       "    </tr>\n",
       "    <tr>\n",
       "      <th>7</th>\n",
       "      <td>4/29/2020</td>\n",
       "      <td>NaN</td>\n",
       "      <td>Armenia</td>\n",
       "      <td>1932</td>\n",
       "      <td>30</td>\n",
       "      <td>900</td>\n",
       "    </tr>\n",
       "    <tr>\n",
       "      <th>8</th>\n",
       "      <td>4/29/2020</td>\n",
       "      <td>NaN</td>\n",
       "      <td>Austria</td>\n",
       "      <td>15402</td>\n",
       "      <td>580</td>\n",
       "      <td>12779</td>\n",
       "    </tr>\n",
       "    <tr>\n",
       "      <th>9</th>\n",
       "      <td>4/29/2020</td>\n",
       "      <td>NaN</td>\n",
       "      <td>Azerbaijan</td>\n",
       "      <td>1766</td>\n",
       "      <td>23</td>\n",
       "      <td>1267</td>\n",
       "    </tr>\n",
       "  </tbody>\n",
       "</table>\n",
       "</div>"
      ],
      "text/plain": [
       "        Date State               Region  Confirmed  Deaths  Recovered\n",
       "0  4/29/2020   NaN          Afghanistan       1939      60        252\n",
       "1  4/29/2020   NaN              Albania        766      30        455\n",
       "2  4/29/2020   NaN              Algeria       3848     444       1702\n",
       "3  4/29/2020   NaN              Andorra        743      42        423\n",
       "4  4/29/2020   NaN               Angola         27       2          7\n",
       "5  4/29/2020   NaN  Antigua and Barbuda         24       3         11\n",
       "6  4/29/2020   NaN            Argentina       4285     214       1192\n",
       "7  4/29/2020   NaN              Armenia       1932      30        900\n",
       "8  4/29/2020   NaN              Austria      15402     580      12779\n",
       "9  4/29/2020   NaN           Azerbaijan       1766      23       1267"
      ]
     },
     "execution_count": 65,
     "metadata": {},
     "output_type": "execute_result"
    }
   ],
   "source": [
    "df.head(10)"
   ]
  },
  {
   "cell_type": "code",
   "execution_count": 101,
   "id": "4dd79878-00ed-4ba1-98db-c4569e825723",
   "metadata": {},
   "outputs": [],
   "source": [
    "df = df.fillna('NA')\n",
    "# df.drop(['columnname','columnname'],axis=1,inplace=True) removes a specific column"
   ]
  },
  {
   "cell_type": "code",
   "execution_count": 102,
   "id": "03ff94d9-b69f-4cb1-a037-868ee5c6a0c6",
   "metadata": {},
   "outputs": [
    {
     "data": {
      "text/html": [
       "<div>\n",
       "<style scoped>\n",
       "    .dataframe tbody tr th:only-of-type {\n",
       "        vertical-align: middle;\n",
       "    }\n",
       "\n",
       "    .dataframe tbody tr th {\n",
       "        vertical-align: top;\n",
       "    }\n",
       "\n",
       "    .dataframe thead th {\n",
       "        text-align: right;\n",
       "    }\n",
       "</style>\n",
       "<table border=\"1\" class=\"dataframe\">\n",
       "  <thead>\n",
       "    <tr style=\"text-align: right;\">\n",
       "      <th></th>\n",
       "      <th>Dates</th>\n",
       "      <th>Province</th>\n",
       "      <th>Country</th>\n",
       "      <th>Confirmed</th>\n",
       "      <th>Deaths</th>\n",
       "      <th>Recovered</th>\n",
       "    </tr>\n",
       "  </thead>\n",
       "  <tbody>\n",
       "    <tr>\n",
       "      <th>0</th>\n",
       "      <td>2020-04-29</td>\n",
       "      <td>NA</td>\n",
       "      <td>Afghanistan</td>\n",
       "      <td>1939</td>\n",
       "      <td>60</td>\n",
       "      <td>252</td>\n",
       "    </tr>\n",
       "    <tr>\n",
       "      <th>1</th>\n",
       "      <td>2020-04-29</td>\n",
       "      <td>NA</td>\n",
       "      <td>Albania</td>\n",
       "      <td>766</td>\n",
       "      <td>30</td>\n",
       "      <td>455</td>\n",
       "    </tr>\n",
       "    <tr>\n",
       "      <th>2</th>\n",
       "      <td>2020-04-29</td>\n",
       "      <td>NA</td>\n",
       "      <td>Algeria</td>\n",
       "      <td>3848</td>\n",
       "      <td>444</td>\n",
       "      <td>1702</td>\n",
       "    </tr>\n",
       "    <tr>\n",
       "      <th>3</th>\n",
       "      <td>2020-04-29</td>\n",
       "      <td>NA</td>\n",
       "      <td>Andorra</td>\n",
       "      <td>743</td>\n",
       "      <td>42</td>\n",
       "      <td>423</td>\n",
       "    </tr>\n",
       "    <tr>\n",
       "      <th>4</th>\n",
       "      <td>2020-04-29</td>\n",
       "      <td>NA</td>\n",
       "      <td>Angola</td>\n",
       "      <td>27</td>\n",
       "      <td>2</td>\n",
       "      <td>7</td>\n",
       "    </tr>\n",
       "  </tbody>\n",
       "</table>\n",
       "</div>"
      ],
      "text/plain": [
       "       Dates Province      Country  Confirmed  Deaths  Recovered\n",
       "0 2020-04-29       NA  Afghanistan       1939      60        252\n",
       "1 2020-04-29       NA      Albania        766      30        455\n",
       "2 2020-04-29       NA      Algeria       3848     444       1702\n",
       "3 2020-04-29       NA      Andorra        743      42        423\n",
       "4 2020-04-29       NA       Angola         27       2          7"
      ]
     },
     "execution_count": 102,
     "metadata": {},
     "output_type": "execute_result"
    }
   ],
   "source": [
    "df.head()"
   ]
  },
  {
   "cell_type": "code",
   "execution_count": 91,
   "id": "f8557765-7f53-4c16-9626-ba47e06c85b1",
   "metadata": {},
   "outputs": [],
   "source": [
    "# rename columns\n",
    "df.rename(columns={'Date':'Dates','State':'Province','Region':'Country'},inplace=True)"
   ]
  },
  {
   "cell_type": "code",
   "execution_count": 103,
   "id": "227da596-957f-467d-8516-def2a894c7b8",
   "metadata": {},
   "outputs": [
    {
     "data": {
      "text/html": [
       "<div>\n",
       "<style scoped>\n",
       "    .dataframe tbody tr th:only-of-type {\n",
       "        vertical-align: middle;\n",
       "    }\n",
       "\n",
       "    .dataframe tbody tr th {\n",
       "        vertical-align: top;\n",
       "    }\n",
       "\n",
       "    .dataframe thead th {\n",
       "        text-align: right;\n",
       "    }\n",
       "</style>\n",
       "<table border=\"1\" class=\"dataframe\">\n",
       "  <thead>\n",
       "    <tr style=\"text-align: right;\">\n",
       "      <th></th>\n",
       "      <th>Dates</th>\n",
       "      <th>Province</th>\n",
       "      <th>Country</th>\n",
       "      <th>Confirmed</th>\n",
       "      <th>Deaths</th>\n",
       "      <th>Recovered</th>\n",
       "    </tr>\n",
       "  </thead>\n",
       "  <tbody>\n",
       "    <tr>\n",
       "      <th>0</th>\n",
       "      <td>2020-04-29</td>\n",
       "      <td>NA</td>\n",
       "      <td>Afghanistan</td>\n",
       "      <td>1939</td>\n",
       "      <td>60</td>\n",
       "      <td>252</td>\n",
       "    </tr>\n",
       "    <tr>\n",
       "      <th>1</th>\n",
       "      <td>2020-04-29</td>\n",
       "      <td>NA</td>\n",
       "      <td>Albania</td>\n",
       "      <td>766</td>\n",
       "      <td>30</td>\n",
       "      <td>455</td>\n",
       "    </tr>\n",
       "    <tr>\n",
       "      <th>2</th>\n",
       "      <td>2020-04-29</td>\n",
       "      <td>NA</td>\n",
       "      <td>Algeria</td>\n",
       "      <td>3848</td>\n",
       "      <td>444</td>\n",
       "      <td>1702</td>\n",
       "    </tr>\n",
       "    <tr>\n",
       "      <th>3</th>\n",
       "      <td>2020-04-29</td>\n",
       "      <td>NA</td>\n",
       "      <td>Andorra</td>\n",
       "      <td>743</td>\n",
       "      <td>42</td>\n",
       "      <td>423</td>\n",
       "    </tr>\n",
       "    <tr>\n",
       "      <th>4</th>\n",
       "      <td>2020-04-29</td>\n",
       "      <td>NA</td>\n",
       "      <td>Angola</td>\n",
       "      <td>27</td>\n",
       "      <td>2</td>\n",
       "      <td>7</td>\n",
       "    </tr>\n",
       "  </tbody>\n",
       "</table>\n",
       "</div>"
      ],
      "text/plain": [
       "       Dates Province      Country  Confirmed  Deaths  Recovered\n",
       "0 2020-04-29       NA  Afghanistan       1939      60        252\n",
       "1 2020-04-29       NA      Albania        766      30        455\n",
       "2 2020-04-29       NA      Algeria       3848     444       1702\n",
       "3 2020-04-29       NA      Andorra        743      42        423\n",
       "4 2020-04-29       NA       Angola         27       2          7"
      ]
     },
     "execution_count": 103,
     "metadata": {},
     "output_type": "execute_result"
    }
   ],
   "source": [
    "df.head()"
   ]
  },
  {
   "cell_type": "code",
   "execution_count": 74,
   "id": "b446fc51-0a64-4e2c-9ada-f44dd0530558",
   "metadata": {},
   "outputs": [],
   "source": [
    "#Convert datetime\n",
    "df['Dates'] = pd.to_datetime(df['Dates'])"
   ]
  },
  {
   "cell_type": "code",
   "execution_count": 104,
   "id": "ce3799e0-bb27-42be-a159-07c6721dbe36",
   "metadata": {},
   "outputs": [
    {
     "data": {
      "text/html": [
       "<div>\n",
       "<style scoped>\n",
       "    .dataframe tbody tr th:only-of-type {\n",
       "        vertical-align: middle;\n",
       "    }\n",
       "\n",
       "    .dataframe tbody tr th {\n",
       "        vertical-align: top;\n",
       "    }\n",
       "\n",
       "    .dataframe thead th {\n",
       "        text-align: right;\n",
       "    }\n",
       "</style>\n",
       "<table border=\"1\" class=\"dataframe\">\n",
       "  <thead>\n",
       "    <tr style=\"text-align: right;\">\n",
       "      <th></th>\n",
       "      <th>Dates</th>\n",
       "      <th>Province</th>\n",
       "      <th>Country</th>\n",
       "      <th>Confirmed</th>\n",
       "      <th>Deaths</th>\n",
       "      <th>Recovered</th>\n",
       "    </tr>\n",
       "  </thead>\n",
       "  <tbody>\n",
       "    <tr>\n",
       "      <th>0</th>\n",
       "      <td>2020-04-29</td>\n",
       "      <td>NA</td>\n",
       "      <td>Afghanistan</td>\n",
       "      <td>1939</td>\n",
       "      <td>60</td>\n",
       "      <td>252</td>\n",
       "    </tr>\n",
       "    <tr>\n",
       "      <th>1</th>\n",
       "      <td>2020-04-29</td>\n",
       "      <td>NA</td>\n",
       "      <td>Albania</td>\n",
       "      <td>766</td>\n",
       "      <td>30</td>\n",
       "      <td>455</td>\n",
       "    </tr>\n",
       "    <tr>\n",
       "      <th>2</th>\n",
       "      <td>2020-04-29</td>\n",
       "      <td>NA</td>\n",
       "      <td>Algeria</td>\n",
       "      <td>3848</td>\n",
       "      <td>444</td>\n",
       "      <td>1702</td>\n",
       "    </tr>\n",
       "    <tr>\n",
       "      <th>3</th>\n",
       "      <td>2020-04-29</td>\n",
       "      <td>NA</td>\n",
       "      <td>Andorra</td>\n",
       "      <td>743</td>\n",
       "      <td>42</td>\n",
       "      <td>423</td>\n",
       "    </tr>\n",
       "    <tr>\n",
       "      <th>4</th>\n",
       "      <td>2020-04-29</td>\n",
       "      <td>NA</td>\n",
       "      <td>Angola</td>\n",
       "      <td>27</td>\n",
       "      <td>2</td>\n",
       "      <td>7</td>\n",
       "    </tr>\n",
       "  </tbody>\n",
       "</table>\n",
       "</div>"
      ],
      "text/plain": [
       "       Dates Province      Country  Confirmed  Deaths  Recovered\n",
       "0 2020-04-29       NA  Afghanistan       1939      60        252\n",
       "1 2020-04-29       NA      Albania        766      30        455\n",
       "2 2020-04-29       NA      Algeria       3848     444       1702\n",
       "3 2020-04-29       NA      Andorra        743      42        423\n",
       "4 2020-04-29       NA       Angola         27       2          7"
      ]
     },
     "execution_count": 104,
     "metadata": {},
     "output_type": "execute_result"
    }
   ],
   "source": [
    "df.head()"
   ]
  },
  {
   "cell_type": "code",
   "execution_count": 105,
   "id": "2258b278-1509-49c1-a20c-f68119ba079f",
   "metadata": {},
   "outputs": [
    {
     "data": {
      "text/html": [
       "<div>\n",
       "<style scoped>\n",
       "    .dataframe tbody tr th:only-of-type {\n",
       "        vertical-align: middle;\n",
       "    }\n",
       "\n",
       "    .dataframe tbody tr th {\n",
       "        vertical-align: top;\n",
       "    }\n",
       "\n",
       "    .dataframe thead th {\n",
       "        text-align: right;\n",
       "    }\n",
       "</style>\n",
       "<table border=\"1\" class=\"dataframe\">\n",
       "  <thead>\n",
       "    <tr style=\"text-align: right;\">\n",
       "      <th></th>\n",
       "      <th>Dates</th>\n",
       "      <th>Confirmed</th>\n",
       "      <th>Deaths</th>\n",
       "      <th>Recovered</th>\n",
       "    </tr>\n",
       "  </thead>\n",
       "  <tbody>\n",
       "    <tr>\n",
       "      <th>count</th>\n",
       "      <td>321</td>\n",
       "      <td>321.000000</td>\n",
       "      <td>321.000000</td>\n",
       "      <td>321.000000</td>\n",
       "    </tr>\n",
       "    <tr>\n",
       "      <th>mean</th>\n",
       "      <td>2020-04-29 00:00:00</td>\n",
       "      <td>9949.800623</td>\n",
       "      <td>709.152648</td>\n",
       "      <td>3030.277259</td>\n",
       "    </tr>\n",
       "    <tr>\n",
       "      <th>min</th>\n",
       "      <td>2020-04-29 00:00:00</td>\n",
       "      <td>0.000000</td>\n",
       "      <td>0.000000</td>\n",
       "      <td>0.000000</td>\n",
       "    </tr>\n",
       "    <tr>\n",
       "      <th>25%</th>\n",
       "      <td>2020-04-29 00:00:00</td>\n",
       "      <td>104.000000</td>\n",
       "      <td>2.000000</td>\n",
       "      <td>2.000000</td>\n",
       "    </tr>\n",
       "    <tr>\n",
       "      <th>50%</th>\n",
       "      <td>2020-04-29 00:00:00</td>\n",
       "      <td>653.000000</td>\n",
       "      <td>12.000000</td>\n",
       "      <td>73.000000</td>\n",
       "    </tr>\n",
       "    <tr>\n",
       "      <th>75%</th>\n",
       "      <td>2020-04-29 00:00:00</td>\n",
       "      <td>4655.000000</td>\n",
       "      <td>144.000000</td>\n",
       "      <td>587.000000</td>\n",
       "    </tr>\n",
       "    <tr>\n",
       "      <th>max</th>\n",
       "      <td>2020-04-29 00:00:00</td>\n",
       "      <td>299691.000000</td>\n",
       "      <td>27682.000000</td>\n",
       "      <td>132929.000000</td>\n",
       "    </tr>\n",
       "    <tr>\n",
       "      <th>std</th>\n",
       "      <td>NaN</td>\n",
       "      <td>31923.853086</td>\n",
       "      <td>3236.162817</td>\n",
       "      <td>14364.870365</td>\n",
       "    </tr>\n",
       "  </tbody>\n",
       "</table>\n",
       "</div>"
      ],
      "text/plain": [
       "                     Dates      Confirmed        Deaths      Recovered\n",
       "count                  321     321.000000    321.000000     321.000000\n",
       "mean   2020-04-29 00:00:00    9949.800623    709.152648    3030.277259\n",
       "min    2020-04-29 00:00:00       0.000000      0.000000       0.000000\n",
       "25%    2020-04-29 00:00:00     104.000000      2.000000       2.000000\n",
       "50%    2020-04-29 00:00:00     653.000000     12.000000      73.000000\n",
       "75%    2020-04-29 00:00:00    4655.000000    144.000000     587.000000\n",
       "max    2020-04-29 00:00:00  299691.000000  27682.000000  132929.000000\n",
       "std                    NaN   31923.853086   3236.162817   14364.870365"
      ]
     },
     "execution_count": 105,
     "metadata": {},
     "output_type": "execute_result"
    }
   ],
   "source": [
    "# used to Generate Descriptive Statistics of the data\n",
    "df.describe()"
   ]
  },
  {
   "cell_type": "code",
   "execution_count": 107,
   "id": "cf42f7a1-048d-47b1-8c7f-4380d77eb323",
   "metadata": {},
   "outputs": [
    {
     "name": "stdout",
     "output_type": "stream",
     "text": [
      "<class 'pandas.core.frame.DataFrame'>\n",
      "RangeIndex: 321 entries, 0 to 320\n",
      "Data columns (total 6 columns):\n",
      " #   Column     Non-Null Count  Dtype         \n",
      "---  ------     --------------  -----         \n",
      " 0   Dates      321 non-null    datetime64[ns]\n",
      " 1   Province   321 non-null    object        \n",
      " 2   Country    321 non-null    object        \n",
      " 3   Confirmed  321 non-null    int64         \n",
      " 4   Deaths     321 non-null    int64         \n",
      " 5   Recovered  321 non-null    int64         \n",
      "dtypes: datetime64[ns](1), int64(3), object(2)\n",
      "memory usage: 15.2+ KB\n"
     ]
    }
   ],
   "source": [
    "# prints a concise summary of a DataFrame \n",
    "# The method prints information about a DataFrame \n",
    "# Including The index dtype and columns, non-null values and memory usage\n",
    "df.info()"
   ]
  },
  {
   "cell_type": "code",
   "execution_count": 108,
   "id": "5c723960-2fc6-4dbd-b33f-2efa04f5da6e",
   "metadata": {},
   "outputs": [],
   "source": [
    "# way 2 for removing Null values\n",
    "# imputer = SimpleImputer(strategy='constant')\n",
    "# df2 = pd.DataFrame(imputer.fit_transform(df),columns=df.columns)"
   ]
  },
  {
   "cell_type": "code",
   "execution_count": 109,
   "id": "46b94e00-f77e-499b-ac09-29b7d519b44c",
   "metadata": {},
   "outputs": [
    {
     "data": {
      "text/html": [
       "<div>\n",
       "<style scoped>\n",
       "    .dataframe tbody tr th:only-of-type {\n",
       "        vertical-align: middle;\n",
       "    }\n",
       "\n",
       "    .dataframe tbody tr th {\n",
       "        vertical-align: top;\n",
       "    }\n",
       "\n",
       "    .dataframe thead th {\n",
       "        text-align: right;\n",
       "    }\n",
       "</style>\n",
       "<table border=\"1\" class=\"dataframe\">\n",
       "  <thead>\n",
       "    <tr style=\"text-align: right;\">\n",
       "      <th></th>\n",
       "      <th>Dates</th>\n",
       "      <th>Province</th>\n",
       "      <th>Country</th>\n",
       "      <th>Confirmed</th>\n",
       "      <th>Deaths</th>\n",
       "      <th>Recovered</th>\n",
       "    </tr>\n",
       "  </thead>\n",
       "  <tbody>\n",
       "    <tr>\n",
       "      <th>0</th>\n",
       "      <td>2020-04-29</td>\n",
       "      <td>NA</td>\n",
       "      <td>Afghanistan</td>\n",
       "      <td>1939</td>\n",
       "      <td>60</td>\n",
       "      <td>252</td>\n",
       "    </tr>\n",
       "    <tr>\n",
       "      <th>1</th>\n",
       "      <td>2020-04-29</td>\n",
       "      <td>NA</td>\n",
       "      <td>Albania</td>\n",
       "      <td>766</td>\n",
       "      <td>30</td>\n",
       "      <td>455</td>\n",
       "    </tr>\n",
       "    <tr>\n",
       "      <th>2</th>\n",
       "      <td>2020-04-29</td>\n",
       "      <td>NA</td>\n",
       "      <td>Algeria</td>\n",
       "      <td>3848</td>\n",
       "      <td>444</td>\n",
       "      <td>1702</td>\n",
       "    </tr>\n",
       "    <tr>\n",
       "      <th>3</th>\n",
       "      <td>2020-04-29</td>\n",
       "      <td>NA</td>\n",
       "      <td>Andorra</td>\n",
       "      <td>743</td>\n",
       "      <td>42</td>\n",
       "      <td>423</td>\n",
       "    </tr>\n",
       "    <tr>\n",
       "      <th>4</th>\n",
       "      <td>2020-04-29</td>\n",
       "      <td>NA</td>\n",
       "      <td>Angola</td>\n",
       "      <td>27</td>\n",
       "      <td>2</td>\n",
       "      <td>7</td>\n",
       "    </tr>\n",
       "  </tbody>\n",
       "</table>\n",
       "</div>"
      ],
      "text/plain": [
       "       Dates Province      Country  Confirmed  Deaths  Recovered\n",
       "0 2020-04-29       NA  Afghanistan       1939      60        252\n",
       "1 2020-04-29       NA      Albania        766      30        455\n",
       "2 2020-04-29       NA      Algeria       3848     444       1702\n",
       "3 2020-04-29       NA      Andorra        743      42        423\n",
       "4 2020-04-29       NA       Angola         27       2          7"
      ]
     },
     "execution_count": 109,
     "metadata": {},
     "output_type": "execute_result"
    }
   ],
   "source": [
    "df.head()"
   ]
  },
  {
   "cell_type": "code",
   "execution_count": null,
   "id": "f90df968-e1c4-428b-8910-c2ef9fb69be5",
   "metadata": {},
   "outputs": [],
   "source": []
  }
 ],
 "metadata": {
  "kernelspec": {
   "display_name": "Python 3 (ipykernel)",
   "language": "python",
   "name": "python3"
  },
  "language_info": {
   "codemirror_mode": {
    "name": "ipython",
    "version": 3
   },
   "file_extension": ".py",
   "mimetype": "text/x-python",
   "name": "python",
   "nbconvert_exporter": "python",
   "pygments_lexer": "ipython3",
   "version": "3.12.2"
  }
 },
 "nbformat": 4,
 "nbformat_minor": 5
}
